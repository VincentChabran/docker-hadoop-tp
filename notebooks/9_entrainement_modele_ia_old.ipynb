{
 "cells": [
  {
   "cell_type": "code",
   "execution_count": 1,
   "id": "3149a03b-06e4-4d96-b64d-dc1806e19527",
   "metadata": {},
   "outputs": [],
   "source": [
    "from pyspark.sql import SparkSession\n",
    "from pyspark.sql.functions import col, when, isnull\n",
    "from pyspark.ml.feature import VectorAssembler, StandardScaler\n",
    "from pyspark.ml.clustering import KMeans\n",
    "from pyspark.sql.functions import when\n"
   ]
  },
  {
   "cell_type": "markdown",
   "id": "9b275f25-78d1-4242-ad8d-02b2b99c618c",
   "metadata": {},
   "source": [
    "# Utilisation de la base de données Hive, et charge les données de la table"
   ]
  },
  {
   "cell_type": "code",
   "execution_count": 2,
   "id": "ae337e47-ebe4-4828-8897-dbbbd2965e3f",
   "metadata": {},
   "outputs": [],
   "source": [
    "spark = SparkSession.builder \\\n",
    "    .appName(\"Categorie\") \\\n",
    "    .config(\"spark.hadoop.hive.metastore.uris\", \"thrift://hive-metastore:9083\") \\\n",
    "    .enableHiveSupport() \\\n",
    "    .getOrCreate()\n"
   ]
  },
  {
   "cell_type": "code",
   "execution_count": 3,
   "id": "cfced7d0-560d-4d30-8e09-042077c2e412",
   "metadata": {},
   "outputs": [],
   "source": [
    "spark.sql(\"USE concessionnaire\")\n",
    "client_immat_df = spark.sql(\"SELECT * FROM client_immatriculation_categorie\")"
   ]
  },
  {
   "cell_type": "markdown",
   "id": "90b33c69-3c70-4192-91d8-0f3753b1ca6d",
   "metadata": {},
   "source": [
    "# Afficher un aperçu des données"
   ]
  },
  {
   "cell_type": "code",
   "execution_count": 4,
   "id": "2907a463-a557-46de-99b3-f5d8f5418444",
   "metadata": {},
   "outputs": [
    {
     "name": "stdout",
     "output_type": "stream",
     "text": [
      "+---------------+---+-----+----+-------------------+---------------+---------------+----------+---------+-----------+--------+--------+-------+--------+--------+-------+---------+\n",
      "|immatriculation|age|sexe |taux|situationfamilliale|nbenfantacharge|deuxiemevoiture|marque    |puissance|longueur   |nbplaces|nbportes|couleur|occasion|prix    |modele |categorie|\n",
      "+---------------+---+-----+----+-------------------+---------------+---------------+----------+---------+-----------+--------+--------+-------+--------+--------+-------+---------+\n",
      "|0 NQ 98        |50 |Femme|243 |En Couple          |0              |true           |Volkswagen|55       |courte     |5       |3       |blanc  |true    |8540.0  |Polo   |citadine |\n",
      "|0 PW 98        |58 |Homme|502 |Célibataire        |0              |false          |Peugeot   |75       |courte     |5       |5       |noir   |false   |13750.0 |1007   |citadine |\n",
      "|1 AK 80        |35 |Homme|1127|Célibataire        |0              |false          |Audi      |75       |courte     |5       |5       |noir   |false   |18310.0 |A2     |citadine |\n",
      "|1000 KN 59     |24 |Homme|1332|Célibataire        |0              |false          |Audi      |75       |courte     |5       |5       |bleu   |false   |18310.0 |A2     |citadine |\n",
      "|1001 CT 14     |68 |Homme|529 |En Couple          |2              |false          |Saab      |150      |longue     |5       |5       |gris   |true    |27020.0 |9.3    |familiale|\n",
      "|1001 CV 83     |53 |Homme|569 |En Couple          |3              |false          |Renault   |245      |très longue|5       |5       |gris   |false   |49200.0 |Vel    |sportive |\n",
      "|1001 WZ 27     |32 |Homme|509 |En Couple          |0              |false          |Jaguar    |197      |longue     |5       |5       |bleu   |true    |25970.0 |X-Type |familiale|\n",
      "|1002 ZR 59     |32 |Homme|1184|Célibataire        |0              |false          |Audi      |75       |courte     |5       |5       |noir   |false   |18310.0 |A2     |citadine |\n",
      "|1003 UB 97     |25 |Homme|1098|En Couple          |3              |false          |BMW       |507      |très longue|5       |5       |gris   |false   |94800.0 |M5     |sportive |\n",
      "|1004 UV 66     |19 |Homme|203 |En Couple          |4              |false          |Skoda     |193      |très longue|5       |5       |rouge  |false   |31790.0 |Superb |autre    |\n",
      "|1005 GD 55     |79 |Homme|1065|En Couple          |3              |false          |Mercedes  |306      |très longue|5       |5       |rouge  |false   |101300.0|S500   |sportive |\n",
      "|1005 GR 95     |28 |Homme|523 |En Couple          |1              |false          |Jaguar    |197      |longue     |5       |5       |noir   |true    |25970.0 |X-Type |familiale|\n",
      "|1005 NT 69     |25 |Homme|1039|Célibataire        |0              |false          |Audi      |75       |courte     |5       |5       |bleu   |false   |18310.0 |A2     |citadine |\n",
      "|1005 SV 78     |55 |Homme|576 |En Couple          |3              |false          |Renault   |245      |très longue|5       |5       |noir   |false   |49200.0 |Vel    |sportive |\n",
      "|1006 BG 75     |20 |Homme|486 |En Couple          |0              |true           |Volkswagen|55       |courte     |5       |3       |rouge  |false   |12200.0 |Polo   |citadine |\n",
      "|1006 TF 31     |22 |Femme|486 |En Couple          |0              |false          |Renault   |170      |longue     |5       |5       |noir   |false   |27300.0 |Laguna |familiale|\n",
      "|1008 YE 32     |45 |Femme|539 |En Couple          |3              |false          |BMW       |507      |très longue|5       |5       |rouge  |true    |66360.0 |M5     |sportive |\n",
      "|101 JW 35      |26 |Femme|234 |Célibataire        |0              |false          |Lancia    |90       |courte     |5       |3       |rouge  |true    |9450.0  |Ypsilon|citadine |\n",
      "|101 RZ 17      |32 |Homme|228 |En Couple          |4              |false          |Skoda     |193      |très longue|5       |5       |blanc  |false   |31790.0 |Superb |autre    |\n",
      "|1011 UA 39     |22 |Homme|151 |Célibataire        |0              |false          |Volkswagen|150      |moyenne    |5       |5       |rouge  |true    |16029.0 |Golf   |familiale|\n",
      "+---------------+---+-----+----+-------------------+---------------+---------------+----------+---------+-----------+--------+--------+-------+--------+--------+-------+---------+\n",
      "only showing top 20 rows\n",
      "\n"
     ]
    }
   ],
   "source": [
    "client_immat_df.show(20, truncate=False)"
   ]
  },
  {
   "cell_type": "code",
   "execution_count": 5,
   "id": "21b4e01d-256d-481b-9ddf-9926f5617549",
   "metadata": {},
   "outputs": [
    {
     "name": "stdout",
     "output_type": "stream",
     "text": [
      "+-------+---------------+------------------+-----+-----------------+-------------------+------------------+---------------+------+------------------+-----------+--------+-------------------+-------+------------------+-----------------+---------+\n",
      "|summary|immatriculation|               age| sexe|             taux|situationfamilliale|   nbenfantacharge|deuxiemevoiture|marque|         puissance|   longueur|nbplaces|           nbportes|couleur|              prix|           modele|categorie|\n",
      "+-------+---------------+------------------+-----+-----------------+-------------------+------------------+---------------+------+------------------+-----------+--------+-------------------+-------+------------------+-----------------+---------+\n",
      "|  count|          98816|             98816|98816|            98816|              98816|             98816|          98816| 98816|             98816|      98816|   98816|              98816|  98816|             98816|            98816|    98816|\n",
      "|   mean|           NULL|43.717555861398964| NULL|609.6563005990932|               NULL| 1.255586139896373|           NULL|  NULL|199.72490284974094|       NULL|     5.0|  4.867653011658031|   NULL|35901.402070514894|538.6918367346932|     NULL|\n",
      "| stddev|           NULL|18.240659014690376| NULL|335.0424157786088|               NULL|1.3908677669999154|           NULL|  NULL|137.91335609356412|       NULL|     0.0|0.49717275949627543|   NULL| 25868.49447286118| 497.942396840988|     NULL|\n",
      "|    min|        0 AX 62|                18|Femme|              150|        Célibataire|                 0|          false|  Audi|                55|     courte|       5|                  3|  blanc|            7500.0|             1007|    autre|\n",
      "|    max|     9999 ZU 23|                84|Homme|             1399|           Marié(e)|                 4|           true| Volvo|               507|très longue|       5|                  5|  rouge|          101300.0|          Ypsilon| sportive|\n",
      "+-------+---------------+------------------+-----+-----------------+-------------------+------------------+---------------+------+------------------+-----------+--------+-------------------+-------+------------------+-----------------+---------+\n",
      "\n"
     ]
    }
   ],
   "source": [
    "client_immat_df.describe().show()"
   ]
  },
  {
   "cell_type": "code",
   "execution_count": 6,
   "id": "59f7083f-42c6-410e-aca3-8c56dc2da1ee",
   "metadata": {},
   "outputs": [
    {
     "name": "stdout",
     "output_type": "stream",
     "text": [
      "++\n",
      "||\n",
      "++\n",
      "||\n",
      "++\n",
      "\n"
     ]
    }
   ],
   "source": [
    "\n",
    "# Vérification des valeurs manquantes\n",
    "missing_counts = client_immat_df.select([isnull(col(c)).alias(c) for c in client_immat_df.columns]).groupby().sum().show()\n"
   ]
  },
  {
   "cell_type": "markdown",
   "id": "23b43051-8621-4520-af52-ace2b7af63c1",
   "metadata": {},
   "source": [
    "# Préparation des données"
   ]
  },
  {
   "cell_type": "code",
   "execution_count": 7,
   "id": "780fac4a-2da0-4ed0-9288-ecfeb0bdf275",
   "metadata": {},
   "outputs": [],
   "source": [
    "from pyspark.ml.feature import StringIndexer, VectorAssembler\n",
    "from pyspark.ml import Pipeline\n",
    "\n",
    "# Sélection des colonnes nécessaires\n",
    "df_reduit = client_immat_df.select(\"age\", \"sexe\", \"taux\", \"situationfamilliale\", \"nbenfantacharge\", \"deuxiemevoiture\", \"categorie\")\n",
    "\n",
    "# Encodage des colonnes catégoriques\n",
    "indexers = [\n",
    "    StringIndexer(inputCol=\"sexe\", outputCol=\"sexe_index\"),\n",
    "    StringIndexer(inputCol=\"situationfamilliale\", outputCol=\"situation_index\"),\n",
    "    StringIndexer(inputCol=\"deuxiemevoiture\", outputCol=\"deuxiemevoiture_num\"),\n",
    "    StringIndexer(inputCol=\"categorie\", outputCol=\"categorie_index\")\n",
    "    # nbenfantacharge\n",
    "]\n",
    "\n",
    "# Nomaliser ou rendre categorielle age et taux"
   ]
  },
  {
   "cell_type": "code",
   "execution_count": 8,
   "id": "cee7bac8-7fec-4363-a224-a6e139f5e4fb",
   "metadata": {},
   "outputs": [
    {
     "name": "stdout",
     "output_type": "stream",
     "text": [
      "root\n",
      " |-- age: integer (nullable = true)\n",
      " |-- sexe: string (nullable = true)\n",
      " |-- taux: integer (nullable = true)\n",
      " |-- situationfamilliale: string (nullable = true)\n",
      " |-- nbenfantacharge: integer (nullable = true)\n",
      " |-- deuxiemevoiture: string (nullable = true)\n",
      " |-- categorie: string (nullable = true)\n",
      " |-- sexe_index: double (nullable = false)\n",
      " |-- situation_index: double (nullable = false)\n",
      " |-- deuxiemevoiture_num: double (nullable = false)\n",
      " |-- categorie_index: double (nullable = false)\n",
      " |-- features: vector (nullable = true)\n",
      "\n"
     ]
    }
   ],
   "source": [
    "\n",
    "pipeline = Pipeline(stages=indexers)\n",
    "df_indexed = pipeline.fit(df_reduit).transform(df_reduit)\n",
    "\n",
    "# Création de la colonne `features`\n",
    "assembler = VectorAssembler(\n",
    "    inputCols=[\"age\", \"sexe_index\", \"taux\", \"situation_index\", \"nbenfantacharge\", \"deuxiemevoiture_num\"],\n",
    "    outputCol=\"features\"\n",
    ")\n",
    "\n",
    "df_final = assembler.transform(df_indexed)\n",
    "df_final.printSchema()\n"
   ]
  },
  {
   "cell_type": "code",
   "execution_count": 9,
   "id": "2cb9518f-82d2-40a6-b7b0-8ac5e11a150f",
   "metadata": {},
   "outputs": [],
   "source": [
    "from pyspark.ml.classification import RandomForestClassifier\n",
    "from pyspark.ml.evaluation import MulticlassClassificationEvaluator\n",
    "\n",
    "# Division des données\n",
    "train_data, test_data = df_final.randomSplit([0.8, 0.2], seed=42)"
   ]
  },
  {
   "cell_type": "code",
   "execution_count": 10,
   "id": "d1c03349-39b9-45bf-91ee-a8b56c26c345",
   "metadata": {},
   "outputs": [],
   "source": [
    "\n",
    "# Création du modèle Random Forest\n",
    "rf = RandomForestClassifier(\n",
    "    labelCol=\"categorie_index\",  # La cible encodée\n",
    "    featuresCol=\"features\",  # Les vecteurs\n",
    "    numTrees=20,  # Nombre d'arbres\n",
    "    maxDepth=5,  # Profondeur maximale\n",
    "    seed=42\n",
    ")\n"
   ]
  },
  {
   "cell_type": "code",
   "execution_count": 11,
   "id": "96f91551-a72a-4a66-888f-cd40d22547be",
   "metadata": {},
   "outputs": [],
   "source": [
    "# Entraînement\n",
    "rf_model = rf.fit(train_data)"
   ]
  },
  {
   "cell_type": "code",
   "execution_count": 12,
   "id": "359c706e-2795-47f4-b92c-d145988f1045",
   "metadata": {},
   "outputs": [],
   "source": [
    "# Prédiction sur l'ensemble de test\n",
    "predictions = rf_model.transform(test_data)"
   ]
  },
  {
   "cell_type": "code",
   "execution_count": null,
   "id": "fbf92977-0282-4b3c-b702-3d78c3fcd7bf",
   "metadata": {},
   "outputs": [
    {
     "name": "stdout",
     "output_type": "stream",
     "text": [
      "Test Accuracy: 0.7228330350294042\n"
     ]
    }
   ],
   "source": [
    "# Évaluation\n",
    "evaluator = MulticlassClassificationEvaluator(\n",
    "    labelCol=\"categorie_index\", \n",
    "    predictionCol=\"prediction\", \n",
    "    metricName=\"accuracy\"\n",
    ")\n",
    "accuracy = evaluator.evaluate(predictions)\n",
    "print(f\"Test Accuracy: {accuracy}\")"
   ]
  }
 ],
 "metadata": {
  "kernelspec": {
   "display_name": "Python 3 (ipykernel)",
   "language": "python",
   "name": "python3"
  },
  "language_info": {
   "codemirror_mode": {
    "name": "ipython",
    "version": 3
   },
   "file_extension": ".py",
   "mimetype": "text/x-python",
   "name": "python",
   "nbconvert_exporter": "python",
   "pygments_lexer": "ipython3",
   "version": "3.11.6"
  }
 },
 "nbformat": 4,
 "nbformat_minor": 5
}
