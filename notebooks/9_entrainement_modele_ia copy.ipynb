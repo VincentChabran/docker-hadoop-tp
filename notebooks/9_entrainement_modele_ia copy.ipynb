{
 "cells": [
  {
   "cell_type": "code",
   "execution_count": 1,
   "id": "3149a03b-06e4-4d96-b64d-dc1806e19527",
   "metadata": {},
   "outputs": [],
   "source": [
    "from pyspark.sql import SparkSession\n",
    "from pyspark.sql.functions import col, when, isnull, expr\n",
    "from pyspark.ml.feature import VectorAssembler, StandardScaler\n",
    "from pyspark.ml.clustering import KMeans\n",
    "from pyspark.sql.functions import when\n",
    "from pyspark.ml.stat import Correlation\n",
    "from pyspark.ml.linalg import Vectors\n",
    "from pyspark.ml.feature import StringIndexer, VectorAssembler\n",
    "from pyspark.ml import Pipeline\n",
    "from pyspark.ml.classification import RandomForestClassifier\n",
    "from pyspark.ml.evaluation import MulticlassClassificationEvaluator\n",
    "from pyspark.sql import functions as F\n"
   ]
  },
  {
   "cell_type": "markdown",
   "id": "9b275f25-78d1-4242-ad8d-02b2b99c618c",
   "metadata": {},
   "source": [
    "# Utilisation de la base de données Hive, et charge les données de la table"
   ]
  },
  {
   "cell_type": "code",
   "execution_count": 2,
   "id": "ae337e47-ebe4-4828-8897-dbbbd2965e3f",
   "metadata": {},
   "outputs": [],
   "source": [
    "spark = SparkSession.builder \\\n",
    "    .appName(\"Categorie\") \\\n",
    "    .config(\"spark.hadoop.hive.metastore.uris\", \"thrift://hive-metastore:9083\") \\\n",
    "    .enableHiveSupport() \\\n",
    "    .getOrCreate()\n"
   ]
  },
  {
   "cell_type": "code",
   "execution_count": 3,
   "id": "cfced7d0-560d-4d30-8e09-042077c2e412",
   "metadata": {},
   "outputs": [],
   "source": [
    "spark.sql(\"USE concessionnaire\")\n",
    "client_immat_df = spark.sql(\"SELECT * FROM client_vehicules_clusters_cleaned\")"
   ]
  },
  {
   "cell_type": "markdown",
   "id": "90b33c69-3c70-4192-91d8-0f3753b1ca6d",
   "metadata": {},
   "source": [
    "# Afficher un aperçu des données"
   ]
  },
  {
   "cell_type": "code",
   "execution_count": 4,
   "id": "2907a463-a557-46de-99b3-f5d8f5418444",
   "metadata": {},
   "outputs": [
    {
     "name": "stdout",
     "output_type": "stream",
     "text": [
      "+---------------+---------+--------+--------+-------+----+---------------+-------------------+---------------+--------+\n",
      "|immatriculation|puissance|longueur|nbPortes|   prix| age|nbenfantacharge|situationfamilliale|deuxiemevoiture|category|\n",
      "+---------------+---------+--------+--------+-------+----+---------------+-------------------+---------------+--------+\n",
      "|        0 NQ 98|     55.0|     1.0|     3.0| 8540.0|50.0|            0.0|                1.0|              1|       1|\n",
      "|        0 PW 98|     75.0|     1.0|     5.0|13750.0|58.0|            0.0|                0.0|              0|       0|\n",
      "|        1 AK 80|     75.0|     1.0|     5.0|18310.0|35.0|            0.0|                0.0|              0|       7|\n",
      "|     1000 KN 59|     75.0|     1.0|     5.0|18310.0|24.0|            0.0|                0.0|              0|       7|\n",
      "|     1001 CT 14|    150.0|     3.0|     5.0|27020.0|68.0|            2.0|                1.0|              0|       5|\n",
      "+---------------+---------+--------+--------+-------+----+---------------+-------------------+---------------+--------+\n",
      "only showing top 5 rows\n",
      "\n",
      "root\n",
      " |-- immatriculation: string (nullable = true)\n",
      " |-- puissance: double (nullable = true)\n",
      " |-- longueur: double (nullable = true)\n",
      " |-- nbPortes: double (nullable = true)\n",
      " |-- prix: double (nullable = true)\n",
      " |-- age: double (nullable = true)\n",
      " |-- nbenfantacharge: double (nullable = true)\n",
      " |-- situationfamilliale: double (nullable = true)\n",
      " |-- deuxiemevoiture: integer (nullable = true)\n",
      " |-- category: integer (nullable = true)\n",
      "\n"
     ]
    }
   ],
   "source": [
    "client_immat_df.show(5)\n",
    "client_immat_df.printSchema()\n"
   ]
  },
  {
   "cell_type": "code",
   "execution_count": 5,
   "id": "59f7083f-42c6-410e-aca3-8c56dc2da1ee",
   "metadata": {},
   "outputs": [
    {
     "name": "stdout",
     "output_type": "stream",
     "text": [
      "++\n",
      "||\n",
      "++\n",
      "||\n",
      "++\n",
      "\n"
     ]
    }
   ],
   "source": [
    "missing_counts = client_immat_df.select([isnull(col(c)).alias(c) for c in client_immat_df.columns]).groupby().sum().show()"
   ]
  },
  {
   "cell_type": "markdown",
   "id": "23b43051-8621-4520-af52-ace2b7af63c1",
   "metadata": {},
   "source": [
    "# Préparation des données"
   ]
  },
  {
   "cell_type": "code",
   "execution_count": 6,
   "id": "7c40c0d1-d735-42a9-95d7-dc67064bdb44",
   "metadata": {},
   "outputs": [],
   "source": [
    "training_data = client_immat_df.drop(\"immatriculation\")"
   ]
  },
  {
   "cell_type": "code",
   "execution_count": 7,
   "id": "780fac4a-2da0-4ed0-9288-ecfeb0bdf275",
   "metadata": {},
   "outputs": [],
   "source": [
    "from pyspark.ml.feature import VectorAssembler\n",
    "\n",
    "assembler = VectorAssembler(\n",
    "    inputCols=[\n",
    "        \"age\", \"nbenfantacharge\", \"situationfamilliale\", \"deuxiemevoiture\"\n",
    "    ], \n",
    "    outputCol=\"features\"\n",
    ")\n",
    "\n",
    "assembled_data = assembler.transform(training_data)"
   ]
  },
  {
   "cell_type": "code",
   "execution_count": 8,
   "id": "fff09b67-d35a-424f-90e9-7ee4460cd7bc",
   "metadata": {},
   "outputs": [],
   "source": [
    "train_data, test_data = assembled_data.randomSplit([0.8, 0.2], seed=42)"
   ]
  },
  {
   "cell_type": "code",
   "execution_count": 9,
   "id": "2cb9518f-82d2-40a6-b7b0-8ac5e11a150f",
   "metadata": {},
   "outputs": [],
   "source": [
    "from pyspark.ml.classification import RandomForestClassifier\n",
    "\n",
    "# Initialiser le modèle\n",
    "rf = RandomForestClassifier(\n",
    "    featuresCol=\"features\", \n",
    "    labelCol=\"category\", \n",
    "    numTrees=100, \n",
    "    maxDepth=10, \n",
    "    seed=42\n",
    ")\n",
    "\n",
    "# Entraîner le modèle\n",
    "rf_model = rf.fit(train_data)\n"
   ]
  },
  {
   "cell_type": "code",
   "execution_count": 10,
   "id": "359c706e-2795-47f4-b92c-d145988f1045",
   "metadata": {},
   "outputs": [],
   "source": [
    "predictions = rf_model.transform(test_data)"
   ]
  },
  {
   "cell_type": "code",
   "execution_count": 11,
   "id": "fbf92977-0282-4b3c-b702-3d78c3fcd7bf",
   "metadata": {},
   "outputs": [
    {
     "name": "stdout",
     "output_type": "stream",
     "text": [
      "Précision du modèle : 0.9894144720020455\n"
     ]
    }
   ],
   "source": [
    "from pyspark.ml.evaluation import MulticlassClassificationEvaluator\n",
    "\n",
    "evaluator = MulticlassClassificationEvaluator(\n",
    "    labelCol=\"category\", \n",
    "    predictionCol=\"prediction\", \n",
    "    metricName=\"accuracy\"\n",
    ")\n",
    "\n",
    "accuracy = evaluator.evaluate(predictions)\n",
    "print(f\"Précision du modèle : {accuracy}\")"
   ]
  }
 ],
 "metadata": {
  "kernelspec": {
   "display_name": "Python 3 (ipykernel)",
   "language": "python",
   "name": "python3"
  },
  "language_info": {
   "codemirror_mode": {
    "name": "ipython",
    "version": 3
   },
   "file_extension": ".py",
   "mimetype": "text/x-python",
   "name": "python",
   "nbconvert_exporter": "python",
   "pygments_lexer": "ipython3",
   "version": "3.11.6"
  }
 },
 "nbformat": 4,
 "nbformat_minor": 5
}
