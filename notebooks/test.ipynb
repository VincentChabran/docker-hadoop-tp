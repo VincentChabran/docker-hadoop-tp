{
 "cells": [
  {
   "cell_type": "code",
   "execution_count": 7,
   "metadata": {},
   "outputs": [
    {
     "name": "stdout",
     "output_type": "stream",
     "text": [
      "Requirement already satisfied: pyhive in /opt/conda/lib/python3.11/site-packages (0.7.0)\n",
      "Requirement already satisfied: pandas in /opt/conda/lib/python3.11/site-packages (2.1.1)\n",
      "Requirement already satisfied: matplotlib in /opt/conda/lib/python3.11/site-packages (3.8.0)\n",
      "Requirement already satisfied: seaborn in /opt/conda/lib/python3.11/site-packages (0.13.0)\n",
      "Requirement already satisfied: thrift in /opt/conda/lib/python3.11/site-packages (0.21.0)\n",
      "Collecting sasl\n",
      "  Downloading sasl-0.3.1.tar.gz (44 kB)\n",
      "\u001b[2K     \u001b[90m━━━━━━━━━━━━━━━━━━━━━━━━━━━━━━━━━━━━━━━\u001b[0m \u001b[32m44.7/44.7 kB\u001b[0m \u001b[31m818.1 kB/s\u001b[0m eta \u001b[36m0:00:00\u001b[0ma \u001b[36m0:00:01\u001b[0m\n",
      "\u001b[?25h  Preparing metadata (setup.py) ... \u001b[?25ldone\n",
      "\u001b[?25hCollecting thrift-sasl\n",
      "  Downloading thrift_sasl-0.4.3-py2.py3-none-any.whl.metadata (1.2 kB)\n",
      "Requirement already satisfied: future in /opt/conda/lib/python3.11/site-packages (from pyhive) (1.0.0)\n",
      "Requirement already satisfied: python-dateutil in /opt/conda/lib/python3.11/site-packages (from pyhive) (2.8.2)\n",
      "Requirement already satisfied: numpy>=1.23.2 in /opt/conda/lib/python3.11/site-packages (from pandas) (1.24.4)\n",
      "Requirement already satisfied: pytz>=2020.1 in /opt/conda/lib/python3.11/site-packages (from pandas) (2023.3.post1)\n",
      "Requirement already satisfied: tzdata>=2022.1 in /opt/conda/lib/python3.11/site-packages (from pandas) (2023.3)\n",
      "Requirement already satisfied: contourpy>=1.0.1 in /opt/conda/lib/python3.11/site-packages (from matplotlib) (1.1.1)\n",
      "Requirement already satisfied: cycler>=0.10 in /opt/conda/lib/python3.11/site-packages (from matplotlib) (0.12.1)\n",
      "Requirement already satisfied: fonttools>=4.22.0 in /opt/conda/lib/python3.11/site-packages (from matplotlib) (4.43.1)\n",
      "Requirement already satisfied: kiwisolver>=1.0.1 in /opt/conda/lib/python3.11/site-packages (from matplotlib) (1.4.5)\n",
      "Requirement already satisfied: packaging>=20.0 in /opt/conda/lib/python3.11/site-packages (from matplotlib) (23.2)\n",
      "Requirement already satisfied: pillow>=6.2.0 in /opt/conda/lib/python3.11/site-packages (from matplotlib) (10.1.0)\n",
      "Requirement already satisfied: pyparsing>=2.3.1 in /opt/conda/lib/python3.11/site-packages (from matplotlib) (3.1.1)\n",
      "Requirement already satisfied: six>=1.7.2 in /opt/conda/lib/python3.11/site-packages (from thrift) (1.16.0)\n",
      "Collecting pure-sasl>=0.6.2 (from thrift-sasl)\n",
      "  Downloading pure-sasl-0.6.2.tar.gz (11 kB)\n",
      "  Preparing metadata (setup.py) ... \u001b[?25ldone\n",
      "\u001b[?25hDownloading thrift_sasl-0.4.3-py2.py3-none-any.whl (8.3 kB)\n",
      "Building wheels for collected packages: sasl, pure-sasl\n",
      "  Building wheel for sasl (setup.py) ... \u001b[?25lerror\n",
      "  \u001b[1;31merror\u001b[0m: \u001b[1msubprocess-exited-with-error\u001b[0m\n",
      "  \n",
      "  \u001b[31m×\u001b[0m \u001b[32mpython setup.py bdist_wheel\u001b[0m did not run successfully.\n",
      "  \u001b[31m│\u001b[0m exit code: \u001b[1;36m1\u001b[0m\n",
      "  \u001b[31m╰─>\u001b[0m \u001b[31m[29 lines of output]\u001b[0m\n",
      "  \u001b[31m   \u001b[0m running bdist_wheel\n",
      "  \u001b[31m   \u001b[0m running build\n",
      "  \u001b[31m   \u001b[0m running build_py\n",
      "  \u001b[31m   \u001b[0m creating build\n",
      "  \u001b[31m   \u001b[0m creating build/lib.linux-aarch64-cpython-311\n",
      "  \u001b[31m   \u001b[0m creating build/lib.linux-aarch64-cpython-311/sasl\n",
      "  \u001b[31m   \u001b[0m copying sasl/__init__.py -> build/lib.linux-aarch64-cpython-311/sasl\n",
      "  \u001b[31m   \u001b[0m running egg_info\n",
      "  \u001b[31m   \u001b[0m writing sasl.egg-info/PKG-INFO\n",
      "  \u001b[31m   \u001b[0m writing dependency_links to sasl.egg-info/dependency_links.txt\n",
      "  \u001b[31m   \u001b[0m writing requirements to sasl.egg-info/requires.txt\n",
      "  \u001b[31m   \u001b[0m writing top-level names to sasl.egg-info/top_level.txt\n",
      "  \u001b[31m   \u001b[0m reading manifest file 'sasl.egg-info/SOURCES.txt'\n",
      "  \u001b[31m   \u001b[0m reading manifest template 'MANIFEST.in'\n",
      "  \u001b[31m   \u001b[0m adding license file 'LICENSE.txt'\n",
      "  \u001b[31m   \u001b[0m writing manifest file 'sasl.egg-info/SOURCES.txt'\n",
      "  \u001b[31m   \u001b[0m copying sasl/saslwrapper.cpp -> build/lib.linux-aarch64-cpython-311/sasl\n",
      "  \u001b[31m   \u001b[0m copying sasl/saslwrapper.h -> build/lib.linux-aarch64-cpython-311/sasl\n",
      "  \u001b[31m   \u001b[0m copying sasl/saslwrapper.pyx -> build/lib.linux-aarch64-cpython-311/sasl\n",
      "  \u001b[31m   \u001b[0m running build_ext\n",
      "  \u001b[31m   \u001b[0m building 'sasl.saslwrapper' extension\n",
      "  \u001b[31m   \u001b[0m creating build/temp.linux-aarch64-cpython-311\n",
      "  \u001b[31m   \u001b[0m creating build/temp.linux-aarch64-cpython-311/sasl\n",
      "  \u001b[31m   \u001b[0m gcc -pthread -B /opt/conda/compiler_compat -Wsign-compare -DNDEBUG -fwrapv -O3 -Wall -fPIC -O3 -isystem /opt/conda/include -fPIC -O3 -isystem /opt/conda/include -fPIC -Isasl -I/opt/conda/include/python3.11 -c sasl/saslwrapper.cpp -o build/temp.linux-aarch64-cpython-311/sasl/saslwrapper.o\n",
      "  \u001b[31m   \u001b[0m sasl/saslwrapper.cpp:196:12: fatal error: longintrepr.h: No such file or directory\n",
      "  \u001b[31m   \u001b[0m   196 |   #include \"longintrepr.h\"\n",
      "  \u001b[31m   \u001b[0m       |            ^~~~~~~~~~~~~~~\n",
      "  \u001b[31m   \u001b[0m compilation terminated.\n",
      "  \u001b[31m   \u001b[0m error: command '/usr/bin/gcc' failed with exit code 1\n",
      "  \u001b[31m   \u001b[0m \u001b[31m[end of output]\u001b[0m\n",
      "  \n",
      "  \u001b[1;35mnote\u001b[0m: This error originates from a subprocess, and is likely not a problem with pip.\n",
      "\u001b[31m  ERROR: Failed building wheel for sasl\u001b[0m\u001b[31m\n",
      "\u001b[0m\u001b[?25h  Running setup.py clean for sasl\n",
      "  Building wheel for pure-sasl (setup.py) ... \u001b[?25ldone\n",
      "\u001b[?25h  Created wheel for pure-sasl: filename=pure_sasl-0.6.2-py3-none-any.whl size=11423 sha256=7380126c8906e41bd30778247712f1f9e298dd8332f8b6765855a9755d3781c9\n",
      "  Stored in directory: /home/jovyan/.cache/pip/wheels/be/bd/15/23761a50b737a712aacac51c718906ce3563705a336d2c4ffc\n",
      "Successfully built pure-sasl\n",
      "Failed to build sasl\n",
      "\u001b[31mERROR: Could not build wheels for sasl, which is required to install pyproject.toml-based projects\u001b[0m\u001b[31m\n",
      "\u001b[0m"
     ]
    },
    {
     "name": "stderr",
     "output_type": "stream",
     "text": [
      "Exception ignored in atexit callback: <bound method InteractiveShell.atexit_operations of <ipykernel.zmqshell.ZMQInteractiveShell object at 0xffff9434d510>>\n",
      "Traceback (most recent call last):\n",
      "  File \"/opt/conda/lib/python3.11/site-packages/IPython/core/interactiveshell.py\", line 3893, in atexit_operations\n",
      "    self._atexit_once()\n",
      "  File \"/opt/conda/lib/python3.11/site-packages/IPython/core/interactiveshell.py\", line 3872, in _atexit_once\n",
      "    self.reset(new_session=False)\n",
      "  File \"/opt/conda/lib/python3.11/site-packages/IPython/core/interactiveshell.py\", line 1375, in reset\n",
      "    self.history_manager.reset(new_session)\n",
      "  File \"/opt/conda/lib/python3.11/site-packages/IPython/core/history.py\", line 607, in reset\n",
      "    self.dir_hist[:] = [Path.cwd()]\n",
      "                        ^^^^^^^^^^\n",
      "  File \"/opt/conda/lib/python3.11/pathlib.py\", line 907, in cwd\n",
      "    return cls(os.getcwd())\n",
      "               ^^^^^^^^^^^\n",
      "FileNotFoundError: [Errno 2] No such file or directory\n"
     ]
    }
   ],
   "source": [
    "!pip install pyhive pandas matplotlib seaborn thrift sasl thrift-sasl\n"
   ]
  },
  {
   "cell_type": "code",
   "execution_count": 3,
   "metadata": {},
   "outputs": [
    {
     "name": "stdout",
     "output_type": "stream",
     "text": [
      "hello world\n"
     ]
    }
   ],
   "source": [
    "print(\"hello world\")"
   ]
  },
  {
   "cell_type": "code",
   "execution_count": 6,
   "metadata": {},
   "outputs": [
    {
     "ename": "ModuleNotFoundError",
     "evalue": "No module named 'thrift_sasl'",
     "output_type": "error",
     "traceback": [
      "\u001b[0;31m---------------------------------------------------------------------------\u001b[0m",
      "\u001b[0;31mModuleNotFoundError\u001b[0m                       Traceback (most recent call last)",
      "Cell \u001b[0;32mIn[6], line 7\u001b[0m\n\u001b[1;32m      4\u001b[0m \u001b[38;5;28;01mimport\u001b[39;00m \u001b[38;5;21;01mseaborn\u001b[39;00m \u001b[38;5;28;01mas\u001b[39;00m \u001b[38;5;21;01msns\u001b[39;00m\n\u001b[1;32m      6\u001b[0m \u001b[38;5;66;03m# Connexion au serveur Hive\u001b[39;00m\n\u001b[0;32m----> 7\u001b[0m conn \u001b[38;5;241m=\u001b[39m \u001b[43mhive\u001b[49m\u001b[38;5;241;43m.\u001b[39;49m\u001b[43mConnection\u001b[49m\u001b[43m(\u001b[49m\u001b[43mhost\u001b[49m\u001b[38;5;241;43m=\u001b[39;49m\u001b[38;5;124;43m'\u001b[39;49m\u001b[38;5;124;43mlocalhost\u001b[39;49m\u001b[38;5;124;43m'\u001b[39;49m\u001b[43m,\u001b[49m\u001b[43m \u001b[49m\u001b[43mport\u001b[49m\u001b[38;5;241;43m=\u001b[39;49m\u001b[38;5;241;43m10000\u001b[39;49m\u001b[43m,\u001b[49m\u001b[43m \u001b[49m\u001b[43musername\u001b[49m\u001b[38;5;241;43m=\u001b[39;49m\u001b[38;5;124;43m'\u001b[39;49m\u001b[38;5;124;43mhadoop\u001b[39;49m\u001b[38;5;124;43m'\u001b[39;49m\u001b[43m)\u001b[49m\n\u001b[1;32m      9\u001b[0m \u001b[38;5;66;03m# Requête Hive pour récupérer les données\u001b[39;00m\n\u001b[1;32m     10\u001b[0m query \u001b[38;5;241m=\u001b[39m \u001b[38;5;124m\"\"\"\u001b[39m\n\u001b[1;32m     11\u001b[0m \u001b[38;5;124mSELECT * FROM votre_table;  -- Remplacez \u001b[39m\u001b[38;5;124m'\u001b[39m\u001b[38;5;124mvotre_table\u001b[39m\u001b[38;5;124m'\u001b[39m\u001b[38;5;124m par le nom de votre table Hive\u001b[39m\n\u001b[1;32m     12\u001b[0m \u001b[38;5;124m\"\"\"\u001b[39m\n",
      "File \u001b[0;32m/opt/conda/lib/python3.11/site-packages/pyhive/hive.py:242\u001b[0m, in \u001b[0;36mConnection.__init__\u001b[0;34m(self, host, port, scheme, username, database, auth, configuration, kerberos_service_name, password, check_hostname, ssl_cert, thrift_transport)\u001b[0m\n\u001b[1;32m    239\u001b[0m     \u001b[38;5;28mself\u001b[39m\u001b[38;5;241m.\u001b[39m_transport \u001b[38;5;241m=\u001b[39m thrift\u001b[38;5;241m.\u001b[39mtransport\u001b[38;5;241m.\u001b[39mTTransport\u001b[38;5;241m.\u001b[39mTBufferedTransport(socket)\n\u001b[1;32m    240\u001b[0m \u001b[38;5;28;01melif\u001b[39;00m auth \u001b[38;5;129;01min\u001b[39;00m (\u001b[38;5;124m'\u001b[39m\u001b[38;5;124mLDAP\u001b[39m\u001b[38;5;124m'\u001b[39m, \u001b[38;5;124m'\u001b[39m\u001b[38;5;124mKERBEROS\u001b[39m\u001b[38;5;124m'\u001b[39m, \u001b[38;5;124m'\u001b[39m\u001b[38;5;124mNONE\u001b[39m\u001b[38;5;124m'\u001b[39m, \u001b[38;5;124m'\u001b[39m\u001b[38;5;124mCUSTOM\u001b[39m\u001b[38;5;124m'\u001b[39m):\n\u001b[1;32m    241\u001b[0m     \u001b[38;5;66;03m# Defer import so package dependency is optional\u001b[39;00m\n\u001b[0;32m--> 242\u001b[0m     \u001b[38;5;28;01mimport\u001b[39;00m \u001b[38;5;21;01mthrift_sasl\u001b[39;00m\n\u001b[1;32m    244\u001b[0m     \u001b[38;5;28;01mif\u001b[39;00m auth \u001b[38;5;241m==\u001b[39m \u001b[38;5;124m'\u001b[39m\u001b[38;5;124mKERBEROS\u001b[39m\u001b[38;5;124m'\u001b[39m:\n\u001b[1;32m    245\u001b[0m         \u001b[38;5;66;03m# KERBEROS mode in hive.server2.authentication is GSSAPI in sasl library\u001b[39;00m\n\u001b[1;32m    246\u001b[0m         sasl_auth \u001b[38;5;241m=\u001b[39m \u001b[38;5;124m'\u001b[39m\u001b[38;5;124mGSSAPI\u001b[39m\u001b[38;5;124m'\u001b[39m\n",
      "\u001b[0;31mModuleNotFoundError\u001b[0m: No module named 'thrift_sasl'"
     ]
    }
   ],
   "source": [
    "from pyhive import hive\n",
    "import pandas as pd\n",
    "import matplotlib.pyplot as plt\n",
    "import seaborn as sns\n",
    "\n",
    "# Connexion au serveur Hive\n",
    "conn = hive.Connection(host='localhost', port=10000, username='hadoop')\n",
    "\n",
    "# Requête Hive pour récupérer les données\n",
    "query = \"\"\"\n",
    "SELECT * FROM votre_table;  -- Remplacez 'votre_table' par le nom de votre table Hive\n",
    "\"\"\"\n",
    "data = pd.read_sql(query, conn)\n",
    "\n",
    "# Fermer la connexion\n",
    "conn.close()\n",
    "\n",
    "# Affichage des premières lignes\n",
    "print(data.head())\n"
   ]
  },
  {
   "cell_type": "code",
   "execution_count": null,
   "metadata": {},
   "outputs": [],
   "source": []
  }
 ],
 "metadata": {
  "kernelspec": {
   "display_name": "Python 3 (ipykernel)",
   "language": "python",
   "name": "python3"
  },
  "language_info": {
   "codemirror_mode": {
    "name": "ipython",
    "version": 3
   },
   "file_extension": ".py",
   "mimetype": "text/x-python",
   "name": "python",
   "nbconvert_exporter": "python",
   "pygments_lexer": "ipython3",
   "version": "3.11.6"
  }
 },
 "nbformat": 4,
 "nbformat_minor": 4
}
