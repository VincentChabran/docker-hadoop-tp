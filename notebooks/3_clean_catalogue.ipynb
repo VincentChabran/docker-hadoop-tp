{
 "cells": [
  {
   "cell_type": "markdown",
   "id": "69c6465db9c50f19",
   "metadata": {
    "collapsed": false
   },
   "source": [
    "# **Importer les Bibliothèques et Initialiser Spark**"
   ]
  },
  {
   "cell_type": "code",
   "execution_count": 9,
   "id": "5f210ec0a85f4a5e",
   "metadata": {
    "collapsed": false,
    "ExecuteTime": {
     "end_time": "2024-11-22T14:58:00.154603900Z",
     "start_time": "2024-11-22T14:58:00.079551300Z"
    }
   },
   "outputs": [],
   "source": [
    "import sys\n",
    "from pyspark.sql import SparkSession\n",
    "import matplotlib.pyplot as plt\n",
    "from pyspark.sql import functions as F\n",
    "from pyspark.sql.functions import when, col, lit\n"
   ]
  },
  {
   "cell_type": "code",
   "execution_count": 10,
   "id": "ed694828fef13ca",
   "metadata": {
    "collapsed": false,
    "ExecuteTime": {
     "end_time": "2024-11-22T14:58:00.166117800Z",
     "start_time": "2024-11-22T14:58:00.085362Z"
    }
   },
   "outputs": [
    {
     "name": "stdout",
     "output_type": "stream",
     "text": [
      "Session Spark initialisée avec succès.\n"
     ]
    }
   ],
   "source": [
    "spark = SparkSession.builder \\\n",
    "    .appName(\"Data Processing dans catalogue csv\") \\\n",
    "    .config(\"spark.hadoop.hive.metastore.uris\", \"thrift://hive-metastore:9083\") \\\n",
    "    .enableHiveSupport() \\\n",
    "    .getOrCreate()\n",
    "print(\"Session Spark initialisée avec succès.\")\n"
   ]
  },
  {
   "cell_type": "markdown",
   "id": "c03bafe077272f7",
   "metadata": {
    "collapsed": false
   },
   "source": [
    "# **Charger les données depuis le fichier Hive**"
   ]
  },
  {
   "cell_type": "code",
   "execution_count": 11,
   "id": "6289e15870a3c7d7",
   "metadata": {
    "collapsed": false,
    "ExecuteTime": {
     "end_time": "2024-11-22T14:58:00.311256300Z",
     "start_time": "2024-11-22T14:58:00.094975800Z"
    }
   },
   "outputs": [
    {
     "name": "stdout",
     "output_type": "stream",
     "text": [
      "+--------------------+-------+-----------+----------+--------+--------+---------------+--------+-------+---------+\n",
      "|                  id|couleur|   longueur|    marque|nbplaces|nbportes|            nom|occasion|   prix|puissance|\n",
      "+--------------------+-------+-----------+----------+--------+--------+---------------+--------+-------+---------+\n",
      "|8237d08d-0cdd-498...|  rouge|     longue|      Fiat|       5|       5|      Croma 2.2|    true|17346.0|      147|\n",
      "|6fa76537-f570-49e...|   bleu|    moyenne|Volkswagen|       5|       5|   Golf 2.0 FSI|    true|16029.0|      150|\n",
      "|f5618811-6b08-431...|   gris|     courte|   Peugeot|       5|       5|       1007 1.4|    true| 9625.0|       75|\n",
      "|3d87f69c-a29e-4a3...|   bleu|     courte|      Mini|       5|       5| Copper 1.6 16V|    true|12740.0|      115|\n",
      "|dc90072f-3d27-425...|   bleu|     longue|    Jaguar|       5|       5|  X-Type 2.5 V6|   false|37100.0|      197|\n",
      "|ba847a1c-04a8-48d...|   noir|    moyenne|      Audi|       5|       5|     A3 2.0 FSI|    true|19950.0|      150|\n",
      "|692b948e-be16-4d4...|   noir|     longue|      Fiat|       5|       5|      Croma 2.2|    true|17346.0|      147|\n",
      "|018708fb-69f3-421...|  blanc|très longue|    Nissan|       5|       5|  Maxima 3.0 V6|   false|30000.0|      200|\n",
      "|8869247e-4646-44c...|  rouge|     longue|      Saab|       5|       5|       9.3 1.8T|   false|38600.0|      150|\n",
      "|724d4349-5c64-4be...|   bleu|    moyenne|   Renault|       5|       5| Megane 2.0 16V|   false|22350.0|      135|\n",
      "|1e680105-26ec-422...|   noir|très longue|     Skoda|       5|       5|  Superb 2.8 V6|   false|31790.0|      193|\n",
      "|2a28cdf1-95e8-484...|   bleu|    moyenne|    Nissan|       5|       5|     Almera 1.8|   false|16450.0|      115|\n",
      "|0f3f8251-5158-427...|  rouge|très longue|     Skoda|       5|       5|  Superb 2.8 V6|   false|31790.0|      193|\n",
      "|93b558bd-0213-4dc...|  rouge|     courte|      Mini|       5|       5| Copper 1.6 16V|   false|18200.0|      115|\n",
      "|26d9f891-7ff5-4d4...|   gris|     longue|   Renault|       5|       5|    Laguna 2.0T|    true|19110.0|      170|\n",
      "|322bdb93-f020-4f3...|   bleu|     courte|   Peugeot|       5|       5|       1007 1.4|    true| 9625.0|       75|\n",
      "|5e96b6d1-f056-42a...|  rouge|    moyenne|     Dacia|       5|       5|  Logan 1.6 MPI|   false| 7500.0|       90|\n",
      "|66f7c3e9-fd5a-4cd...|   bleu|     courte|    Lancia|       5|       3|Ypsilon 1.4 16V|   false|13500.0|       90|\n",
      "|d0930a43-c686-4f6...|  blanc|     courte|      Audi|       5|       5|         A2 1.4|   false|18310.0|       75|\n",
      "|bc8d75cf-0f1a-4b3...|   bleu|     longue|      Ford|       5|       5|     Mondeo 1.8|    true|16730.0|      125|\n",
      "+--------------------+-------+-----------+----------+--------+--------+---------------+--------+-------+---------+\n"
     ]
    }
   ],
   "source": [
    "spark.sql(\"USE concessionnaire\")\n",
    "catalogue_df = spark.sql(\"SELECT * FROM catalogue_table\")\n",
    "catalogue_df.show(20)"
   ]
  },
  {
   "cell_type": "markdown",
   "id": "c5d7bf572e1ff8d2",
   "metadata": {
    "collapsed": false
   },
   "source": [
    "# **Renommer et Créer les Colonnes Nécessaires**"
   ]
  },
  {
   "cell_type": "code",
   "execution_count": 12,
   "id": "20e07d45f8523743",
   "metadata": {
    "collapsed": false,
    "ExecuteTime": {
     "end_time": "2024-11-22T14:58:00.452808400Z",
     "start_time": "2024-11-22T14:58:00.287009300Z"
    }
   },
   "outputs": [
    {
     "name": "stdout",
     "output_type": "stream",
     "text": [
      "+--------------------+-------+--------+----------+--------+--------+--------------+--------+-------+-------------------+------+-------------+\n",
      "|                  id|couleur|longueur|    marque|nbplaces|nbportes|    modele_old|occasion|   prix|unified_horse_power|modele|modele_detail|\n",
      "+--------------------+-------+--------+----------+--------+--------+--------------+--------+-------+-------------------+------+-------------+\n",
      "|8237d08d-0cdd-498...|  rouge|  longue|      Fiat|       5|       5|     Croma 2.2|    true|17346.0|                147|  NULL|         NULL|\n",
      "|6fa76537-f570-49e...|   bleu| moyenne|Volkswagen|       5|       5|  Golf 2.0 FSI|    true|16029.0|                150|  NULL|         NULL|\n",
      "|f5618811-6b08-431...|   gris|  courte|   Peugeot|       5|       5|      1007 1.4|    true| 9625.0|                 75|  NULL|         NULL|\n",
      "|3d87f69c-a29e-4a3...|   bleu|  courte|      Mini|       5|       5|Copper 1.6 16V|    true|12740.0|                115|  NULL|         NULL|\n",
      "|dc90072f-3d27-425...|   bleu|  longue|    Jaguar|       5|       5| X-Type 2.5 V6|   false|37100.0|                197|  NULL|         NULL|\n",
      "+--------------------+-------+--------+----------+--------+--------+--------------+--------+-------+-------------------+------+-------------+\n"
     ]
    }
   ],
   "source": [
    "# Renommer la colonne 'nom' en 'modele_old' et créer les colonnes manquantes\n",
    "catalogue_df = catalogue_df.withColumnRenamed(\"nom\", \"modele_old\") \\\n",
    "    .withColumnRenamed(\"puissance\", \"unified_horse_power\") \\\n",
    "    .withColumnRenamed(\"nbPlaces\", \"nbplaces\") \\\n",
    "    .withColumnRenamed(\"nbPortes\", \"nbportes\") \\\n",
    "    .withColumn(\"modele\", F.lit(None)) \\\n",
    "    .withColumn(\"modele_detail\", F.lit(None))\n",
    "\n",
    "catalogue_df.show(5)\n"
   ]
  },
  {
   "cell_type": "markdown",
   "id": "6579b96f25175f9",
   "metadata": {
    "collapsed": false
   },
   "source": [
    "# **Nettoyer l'Encodage**"
   ]
  },
  {
   "cell_type": "code",
   "execution_count": 13,
   "id": "a1486e9ea5016464",
   "metadata": {
    "collapsed": false,
    "ExecuteTime": {
     "end_time": "2024-11-22T14:58:00.589611500Z",
     "start_time": "2024-11-22T14:58:00.417049200Z"
    }
   },
   "outputs": [
    {
     "name": "stdout",
     "output_type": "stream",
     "text": [
      "+--------------------+-------+--------+----------+--------+--------+--------------+--------+-------+-------------------+------+-------------+\n",
      "|                  id|couleur|longueur|    marque|nbplaces|nbportes|    modele_old|occasion|   prix|unified_horse_power|modele|modele_detail|\n",
      "+--------------------+-------+--------+----------+--------+--------+--------------+--------+-------+-------------------+------+-------------+\n",
      "|8237d08d-0cdd-498...|  rouge|  longue|      Fiat|       5|       5|     Croma 2.2|    true|17346.0|                147|  NULL|         NULL|\n",
      "|6fa76537-f570-49e...|   bleu| moyenne|Volkswagen|       5|       5|  Golf 2.0 FSI|    true|16029.0|                150|  NULL|         NULL|\n",
      "|f5618811-6b08-431...|   gris|  courte|   Peugeot|       5|       5|      1007 1.4|    true| 9625.0|                 75|  NULL|         NULL|\n",
      "|3d87f69c-a29e-4a3...|   bleu|  courte|      Mini|       5|       5|Copper 1.6 16V|    true|12740.0|                115|  NULL|         NULL|\n",
      "|dc90072f-3d27-425...|   bleu|  longue|    Jaguar|       5|       5| X-Type 2.5 V6|   false|37100.0|                197|  NULL|         NULL|\n",
      "+--------------------+-------+--------+----------+--------+--------+--------------+--------+-------+-------------------+------+-------------+\n"
     ]
    }
   ],
   "source": [
    "# Nettoyer l'encodage dans les colonnes 'marque' et 'modele_old'\n",
    "catalogue_df = catalogue_df.withColumn(\"marque\", F.regexp_replace(F.col(\"marque\"), \"Ã©\", \"é\")) \\\n",
    "                           .withColumn(\"modele_old\", F.regexp_replace(F.col(\"modele_old\"), \"Ã©\", \"é\"))\n",
    "\n",
    "catalogue_df.show(5)"
   ]
  },
  {
   "cell_type": "markdown",
   "id": "68c90d3fea80c649",
   "metadata": {
    "collapsed": false
   },
   "source": [
    "# **Séparer 'modele' et 'modele_detail'**"
   ]
  },
  {
   "cell_type": "code",
   "execution_count": 14,
   "id": "1f195c845a7d5f5e",
   "metadata": {
    "collapsed": false,
    "ExecuteTime": {
     "end_time": "2024-11-22T14:58:00.736896900Z",
     "start_time": "2024-11-22T14:58:00.537227800Z"
    }
   },
   "outputs": [
    {
     "name": "stdout",
     "output_type": "stream",
     "text": [
      "+--------------------+-------+--------+----------+--------+--------+--------------+--------+-------+-------------------+------+-------------+\n",
      "|                  id|couleur|longueur|    marque|nbplaces|nbportes|    modele_old|occasion|   prix|unified_horse_power|modele|modele_detail|\n",
      "+--------------------+-------+--------+----------+--------+--------+--------------+--------+-------+-------------------+------+-------------+\n",
      "|8237d08d-0cdd-498...|  rouge|  longue|      Fiat|       5|       5|     Croma 2.2|    true|17346.0|                147| Croma|          2.2|\n",
      "|6fa76537-f570-49e...|   bleu| moyenne|Volkswagen|       5|       5|  Golf 2.0 FSI|    true|16029.0|                150|  Golf|      2.0 FSI|\n",
      "|f5618811-6b08-431...|   gris|  courte|   Peugeot|       5|       5|      1007 1.4|    true| 9625.0|                 75|  1007|          1.4|\n",
      "|3d87f69c-a29e-4a3...|   bleu|  courte|      Mini|       5|       5|Copper 1.6 16V|    true|12740.0|                115|Copper|      1.6 16V|\n",
      "|dc90072f-3d27-425...|   bleu|  longue|    Jaguar|       5|       5| X-Type 2.5 V6|   false|37100.0|                197|X-Type|       2.5 V6|\n",
      "+--------------------+-------+--------+----------+--------+--------+--------------+--------+-------+-------------------+------+-------------+\n"
     ]
    }
   ],
   "source": [
    "# Séparer les colonnes 'modele' et 'modele_detail' à partir de 'modele_old'\n",
    "catalogue_df = catalogue_df.withColumn(\n",
    "    \"modele\",\n",
    "    F.when(F.col(\"modele_old\").rlike(r\"^\\S+\\s+\\d\"),\n",
    "           F.regexp_extract(F.col(\"modele_old\"), r\"^(\\S+)\", 1))\n",
    "    .otherwise(F.regexp_extract(F.col(\"modele_old\"), r\"^(\\S+\\s\\S+)\", 1))\n",
    ")\n",
    "catalogue_df = catalogue_df.withColumn(\n",
    "    \"modele_detail\",\n",
    "    F.when(F.col(\"modele_old\").rlike(r\"^\\S+\\s+\\d\"),\n",
    "           F.regexp_extract(F.col(\"modele_old\"), r\"^\\S+\\s+(.*)\", 1))\n",
    "    .otherwise(F.regexp_extract(F.col(\"modele_old\"), r\"^\\S+\\s+\\S+\\s+(.*)\", 1))\n",
    ")\n",
    "catalogue_df = catalogue_df.withColumn(\"modele\", F.when(F.col(\"modele\") == \"\", F.col(\"modele_old\")).otherwise(F.col(\"modele\")))\n",
    "\n",
    "catalogue_df.show(5)\n"
   ]
  },
  {
   "cell_type": "markdown",
   "id": "48e57a894e5f4324",
   "metadata": {
    "collapsed": false
   },
   "source": [
    "# **Réorganiser les Colonnes et Enregistrer**"
   ]
  },
  {
   "cell_type": "code",
   "execution_count": 15,
   "id": "81f5e798c406aabc",
   "metadata": {
    "collapsed": false,
    "ExecuteTime": {
     "end_time": "2024-11-22T14:58:02.340399200Z",
     "start_time": "2024-11-22T14:58:00.723376400Z"
    }
   },
   "outputs": [
    {
     "name": "stdout",
     "output_type": "stream",
     "text": [
      "Enregistrement dans Hive effectué avec succès.\n",
      "+----------+-------+-------------+-------------------+-----------+--------+--------+-------+--------+-------+\n",
      "|    marque| modele|modele_detail|unified_horse_power|   longueur|nbplaces|nbportes|couleur|occasion|   prix|\n",
      "+----------+-------+-------------+-------------------+-----------+--------+--------+-------+--------+-------+\n",
      "|      Fiat|  Croma|          2.2|                147|     longue|       5|       5|  rouge|    true|17346.0|\n",
      "|Volkswagen|   Golf|      2.0 FSI|                150|    moyenne|       5|       5|   bleu|    true|16029.0|\n",
      "|   Peugeot|   1007|          1.4|                 75|     courte|       5|       5|   gris|    true| 9625.0|\n",
      "|      Mini| Copper|      1.6 16V|                115|     courte|       5|       5|   bleu|    true|12740.0|\n",
      "|    Jaguar| X-Type|       2.5 V6|                197|     longue|       5|       5|   bleu|   false|37100.0|\n",
      "|      Audi|     A3|      2.0 FSI|                150|    moyenne|       5|       5|   noir|    true|19950.0|\n",
      "|      Fiat|  Croma|          2.2|                147|     longue|       5|       5|   noir|    true|17346.0|\n",
      "|    Nissan| Maxima|       3.0 V6|                200|très longue|       5|       5|  blanc|   false|30000.0|\n",
      "|      Saab|    9.3|         1.8T|                150|     longue|       5|       5|  rouge|   false|38600.0|\n",
      "|   Renault| Megane|      2.0 16V|                135|    moyenne|       5|       5|   bleu|   false|22350.0|\n",
      "|     Skoda| Superb|       2.8 V6|                193|très longue|       5|       5|   noir|   false|31790.0|\n",
      "|    Nissan| Almera|          1.8|                115|    moyenne|       5|       5|   bleu|   false|16450.0|\n",
      "|     Skoda| Superb|       2.8 V6|                193|très longue|       5|       5|  rouge|   false|31790.0|\n",
      "|      Mini| Copper|      1.6 16V|                115|     courte|       5|       5|  rouge|   false|18200.0|\n",
      "|   Renault| Laguna|         2.0T|                170|     longue|       5|       5|   gris|    true|19110.0|\n",
      "|   Peugeot|   1007|          1.4|                 75|     courte|       5|       5|   bleu|    true| 9625.0|\n",
      "|     Dacia|  Logan|      1.6 MPI|                 90|    moyenne|       5|       5|  rouge|   false| 7500.0|\n",
      "|    Lancia|Ypsilon|      1.4 16V|                 90|     courte|       5|       3|   bleu|   false|13500.0|\n",
      "|      Audi|     A2|          1.4|                 75|     courte|       5|       5|  blanc|   false|18310.0|\n",
      "|      Ford| Mondeo|          1.8|                125|     longue|       5|       5|   bleu|    true|16730.0|\n",
      "+----------+-------+-------------+-------------------+-----------+--------+--------+-------+--------+-------+\n",
      "only showing top 20 rows\n"
     ]
    }
   ],
   "source": [
    "# Réordonner les colonnes et enregistrer le résultat dans Hive\n",
    "columns_order = [\"marque\", \"modele\", \"modele_detail\", \"unified_horse_power\", \"longueur\", \"nbplaces\",\n",
    "                 \"nbportes\", \"couleur\", \"occasion\", \"prix\"]\n",
    "catalogue_df = catalogue_df.select(columns_order)\n",
    "\n",
    "catalogue_df.write.mode(\"overwrite\").saveAsTable(\"catalogue_table_processed\")\n",
    "print(\"Enregistrement dans Hive effectué avec succès.\")\n",
    "catalogue_df.show(20)"
   ]
  },
  {
   "cell_type": "code",
   "execution_count": 19,
   "outputs": [
    {
     "name": "stdout",
     "output_type": "stream",
     "text": [
      "+----------+-------+-------------+-------------------+-----------+--------+--------+-------+--------+-------+----------------+\n",
      "|    marque| modele|modele_detail|unified_horse_power|   longueur|nbplaces|nbportes|couleur|occasion|   prix|       categorie|\n",
      "+----------+-------+-------------+-------------------+-----------+--------+--------+-------+--------+-------+----------------+\n",
      "|      Fiat|  Croma|          2.2|                147|     longue|       5|       5|  rouge|    true|17346.0|       familiale|\n",
      "|Volkswagen|   Golf|      2.0 FSI|                150|    moyenne|       5|       5|   bleu|    true|16029.0|       familiale|\n",
      "|   Peugeot|   1007|          1.4|                 75|     courte|       5|       5|   gris|    true| 9625.0|        citadine|\n",
      "|      Mini| Copper|      1.6 16V|                115|     courte|       5|       5|   bleu|    true|12740.0|citadine premium|\n",
      "|    Jaguar| X-Type|       2.5 V6|                197|     longue|       5|       5|   bleu|   false|37100.0|       familiale|\n",
      "|      Audi|     A3|      2.0 FSI|                150|    moyenne|       5|       5|   noir|    true|19950.0|       familiale|\n",
      "|      Fiat|  Croma|          2.2|                147|     longue|       5|       5|   noir|    true|17346.0|       familiale|\n",
      "|    Nissan| Maxima|       3.0 V6|                200|très longue|       5|       5|  blanc|   false|30000.0|           autre|\n",
      "|      Saab|    9.3|         1.8T|                150|     longue|       5|       5|  rouge|   false|38600.0|       familiale|\n",
      "|   Renault| Megane|      2.0 16V|                135|    moyenne|       5|       5|   bleu|   false|22350.0|       familiale|\n",
      "|     Skoda| Superb|       2.8 V6|                193|très longue|       5|       5|   noir|   false|31790.0|           autre|\n",
      "|    Nissan| Almera|          1.8|                115|    moyenne|       5|       5|   bleu|   false|16450.0|       familiale|\n",
      "|     Skoda| Superb|       2.8 V6|                193|très longue|       5|       5|  rouge|   false|31790.0|           autre|\n",
      "|      Mini| Copper|      1.6 16V|                115|     courte|       5|       5|  rouge|   false|18200.0|citadine premium|\n",
      "|   Renault| Laguna|         2.0T|                170|     longue|       5|       5|   gris|    true|19110.0|       familiale|\n",
      "|   Peugeot|   1007|          1.4|                 75|     courte|       5|       5|   bleu|    true| 9625.0|        citadine|\n",
      "|     Dacia|  Logan|      1.6 MPI|                 90|    moyenne|       5|       5|  rouge|   false| 7500.0|           autre|\n",
      "|    Lancia|Ypsilon|      1.4 16V|                 90|     courte|       5|       3|   bleu|   false|13500.0|        citadine|\n",
      "|      Audi|     A2|          1.4|                 75|     courte|       5|       5|  blanc|   false|18310.0|        citadine|\n",
      "|      Ford| Mondeo|          1.8|                125|     longue|       5|       5|   bleu|    true|16730.0|       familiale|\n",
      "+----------+-------+-------------+-------------------+-----------+--------+--------+-------+--------+-------+----------------+\n",
      "Enregistrement dans Hive effectué avec succès.\n"
     ]
    }
   ],
   "source": [
    "catalogue_with_cat = catalogue_df.withColumn(\n",
    "    \"categorie\",\n",
    "    when((col(\"unified_horse_power\") <= 100) & (col(\"longueur\") == \"courte\"), \"citadine\")\n",
    "    .when((col(\"unified_horse_power\") > 100) & (col(\"unified_horse_power\") <= 200) & (col(\"longueur\") == \"courte\") & (col(\"prix\") < 30000), \"citadine premium\")\n",
    "    .when((col(\"unified_horse_power\") > 100) & (col(\"unified_horse_power\") <= 200) & (col(\"longueur\").isin(\"moyenne\", \"longue\")), \"familiale\")\n",
    "    .when((col(\"unified_horse_power\") > 200) & (col(\"prix\") > 30000), \"sportive\")\n",
    "    .when((col(\"nbplaces\") >= 7), \"monospace\")\n",
    "    .when((col(\"prix\") > 50000) & col(\"marque\").isin(\"BMW\", \"Mercedes\", \"Jaguar\", \"Audi\", \"Porsche\"), \"luxe\")\n",
    "    .otherwise(\"autre\")\n",
    ")\n",
    "catalogue_with_cat.show(20)\n",
    "\n",
    "catalogue_df.write.mode(\"overwrite\").saveAsTable(\"catalogue_table_processed_with_cat\")\n",
    "print(\"Enregistrement dans Hive effectué avec succès.\")"
   ],
   "metadata": {
    "collapsed": false,
    "ExecuteTime": {
     "end_time": "2024-11-22T14:59:40.978174300Z",
     "start_time": "2024-11-22T14:59:39.886870400Z"
    }
   },
   "id": "4910e82fc7b7c8fe"
  },
  {
   "cell_type": "markdown",
   "id": "ebeaeb819b3cd7ea",
   "metadata": {
    "collapsed": false
   },
   "source": [
    "# **Statistiques de Base sur les Données des Véhicules**"
   ]
  },
  {
   "cell_type": "code",
   "execution_count": null,
   "id": "74ff37f7e4941cb",
   "metadata": {
    "collapsed": false,
    "ExecuteTime": {
     "start_time": "2024-11-22T14:58:02.750916200Z"
    }
   },
   "outputs": [],
   "source": [
    "# Calcul des statistiques de base sur les colonnes pertinentes\n",
    "statistiques_df = catalogue_df.describe().show()"
   ]
  },
  {
   "cell_type": "markdown",
   "id": "1515da7a41123f2b",
   "metadata": {
    "collapsed": false
   },
   "source": [
    "# **Distribution de la Puissance des Véhicules**"
   ]
  },
  {
   "cell_type": "code",
   "execution_count": null,
   "id": "1c5acc7d34bddf21",
   "metadata": {
    "collapsed": false,
    "ExecuteTime": {
     "start_time": "2024-11-22T14:58:02.753073500Z"
    }
   },
   "outputs": [],
   "source": [
    "# Extraire les valeurs de la colonne 'unified_horse_power' pour une visualisation avec Matplotlib\n",
    "horsepower_data = catalogue_df.select(\"unified_horse_power\").rdd.flatMap(lambda x: x).collect()\n",
    "\n",
    "# Visualiser la distribution\n",
    "plt.figure(figsize=(10, 6))\n",
    "plt.hist(horsepower_data, bins=20, color='blue', edgecolor='black')\n",
    "plt.xlabel(\"Puissance (unified_horse_power)\")\n",
    "plt.ylabel(\"Fréquence\")\n",
    "plt.title(\"Distribution de la Puissance des Véhicules\")\n",
    "plt.grid(axis='y', linestyle='--')\n",
    "plt.show()"
   ]
  },
  {
   "cell_type": "markdown",
   "id": "9c542a5deca5a0ab",
   "metadata": {
    "collapsed": false
   },
   "source": [
    "# **Répartition des Véhicules par Nombre de Places**"
   ]
  },
  {
   "cell_type": "code",
   "execution_count": null,
   "id": "91b7b799dad6f0a4",
   "metadata": {
    "collapsed": false,
    "ExecuteTime": {
     "start_time": "2024-11-22T14:58:02.755754900Z"
    }
   },
   "outputs": [],
   "source": [
    "places_df = catalogue_df.groupBy(\"nbplaces\").count()\n",
    "places_df.show()\n",
    "\n",
    "# Visualiser la répartition avec Matplotlib\n",
    "places_data = places_df.rdd.map(lambda row: (row['nbplaces'], row['count'])).collect()\n",
    "places, counts = zip(*places_data)\n",
    "\n",
    "plt.figure(figsize=(8, 5))\n",
    "plt.bar(places, counts, color='green', edgecolor='black')\n",
    "plt.xlabel(\"Nombre de Places\")\n",
    "plt.ylabel(\"Nombre de Véhicules\")\n",
    "plt.title(\"Répartition des Véhicules par Nombre de Places\")\n",
    "plt.grid(axis='y', linestyle='--')\n",
    "plt.show()"
   ]
  },
  {
   "cell_type": "code",
   "execution_count": null,
   "id": "bb574ab116adedc0",
   "metadata": {
    "collapsed": false,
    "ExecuteTime": {
     "start_time": "2024-11-22T14:58:02.758999600Z"
    }
   },
   "outputs": [],
   "source": [
    "# **Analyse des Prix des Véhicules (Boxplot par Marque)**"
   ]
  },
  {
   "cell_type": "code",
   "execution_count": null,
   "id": "24fdfaa23539623a",
   "metadata": {
    "collapsed": false,
    "ExecuteTime": {
     "start_time": "2024-11-22T14:58:02.761921400Z"
    }
   },
   "outputs": [],
   "source": [
    "# Préparer les données pour un boxplot\n",
    "prix_data = catalogue_df.select(\"marque\", \"prix\").groupBy(\"marque\").agg(F.collect_list(\"prix\").alias(\"prix_list\")).toPandas()\n",
    "\n",
    "# Visualisation avec Matplotlib\n",
    "plt.figure(figsize=(12, 8))\n",
    "plt.boxplot(prix_data['prix_list'], labels=prix_data['marque'], showfliers=False)\n",
    "plt.xlabel(\"Marque\")\n",
    "plt.ylabel(\"Prix (en euros)\")\n",
    "plt.title(\"Distribution des Prix des Véhicules par Marque\")\n",
    "plt.xticks(rotation=90)\n",
    "plt.grid(axis='y', linestyle='--')\n",
    "plt.tight_layout()\n",
    "plt.show()"
   ]
  },
  {
   "cell_type": "markdown",
   "id": "6fa7ba2ca05a78b0",
   "metadata": {
    "collapsed": false
   },
   "source": [
    "# **Relation entre la Puissance et le Prix des Véhicules**\n"
   ]
  },
  {
   "cell_type": "code",
   "execution_count": null,
   "id": "91ea03dbcec63f7c",
   "metadata": {
    "collapsed": false,
    "ExecuteTime": {
     "start_time": "2024-11-22T14:58:02.764596700Z"
    }
   },
   "outputs": [],
   "source": [
    "# Extraire les valeurs de 'unified_horse_power' et 'prix'\n",
    "data = catalogue_df.select(\"unified_horse_power\", \"prix\").rdd.map(lambda row: (row['unified_horse_power'], row['prix'])).collect()\n",
    "horsepower, prix = zip(*data)\n",
    "\n",
    "# Visualiser la relation entre la puissance et le prix\n",
    "plt.figure(figsize=(10, 6))\n",
    "plt.scatter(horsepower, prix, alpha=0.6)\n",
    "plt.xlabel(\"Puissance (unified_horse_power)\")\n",
    "plt.ylabel(\"Prix (en euros)\")\n",
    "plt.title(\"Relation entre la Puissance et le Prix des Véhicules\")\n",
    "plt.grid()\n",
    "plt.show()"
   ]
  },
  {
   "cell_type": "markdown",
   "id": "bdb667e57bf54c1d",
   "metadata": {
    "collapsed": false
   },
   "source": [
    "# **Fermer la Session Spark**"
   ]
  },
  {
   "cell_type": "code",
   "execution_count": null,
   "id": "89b81295e7acd264",
   "metadata": {
    "collapsed": false,
    "ExecuteTime": {
     "start_time": "2024-11-22T14:58:02.765142800Z"
    }
   },
   "outputs": [],
   "source": [
    "# # Arrêter la session Spark\n",
    "spark.stop()\n",
    "print(\"Traitement terminé.\")"
   ]
  }
 ],
 "metadata": {
  "kernelspec": {
   "display_name": "Python 3 (ipykernel)",
   "language": "python",
   "name": "python3"
  },
  "language_info": {
   "codemirror_mode": {
    "name": "ipython",
    "version": 3
   },
   "file_extension": ".py",
   "mimetype": "text/x-python",
   "name": "python",
   "nbconvert_exporter": "python",
   "pygments_lexer": "ipython3",
   "version": "3.11.6"
  }
 },
 "nbformat": 4,
 "nbformat_minor": 5
}
