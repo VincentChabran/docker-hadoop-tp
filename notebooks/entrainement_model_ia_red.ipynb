{
 "cells": [
  {
   "cell_type": "code",
   "execution_count": 1,
   "id": "initial_id",
   "metadata": {
    "collapsed": true,
    "ExecuteTime": {
     "end_time": "2024-11-22T10:57:53.085408200Z",
     "start_time": "2024-11-22T10:56:29.271310500Z"
    }
   },
   "outputs": [
    {
     "name": "stdout",
     "output_type": "stream",
     "text": [
      "Accuracy MLPC = 0.3183\n",
      "F1 Score MLPC = 0.2262\n",
      "+---+-----+----+---------------+---------------+\n",
      "|age|sexe |taux|categorie      |mlpc_prediction|\n",
      "+---+-----+----+---------------+---------------+\n",
      "|82 |Homme|833 |Micro Citadines|2.0            |\n",
      "|46 |Homme|837 |Micro Citadines|2.0            |\n",
      "|56 |Homme|994 |Micro Citadines|2.0            |\n",
      "|45 |Femme|570 |Micro Citadines|3.0            |\n",
      "|59 |Homme|577 |Micro Citadines|3.0            |\n",
      "|18 |Femme|1193|Micro Citadines|2.0            |\n",
      "|37 |Homme|836 |Micro Citadines|2.0            |\n",
      "|29 |Homme|1221|Micro Citadines|2.0            |\n",
      "|24 |Femme|987 |Micro Citadines|2.0            |\n",
      "|39 |Homme|857 |Micro Citadines|2.0            |\n",
      "+---+-----+----+---------------+---------------+\n",
      "only showing top 10 rows\n"
     ]
    }
   ],
   "source": [
    "from pyspark.sql import SparkSession\n",
    "from pyspark.sql.functions import col\n",
    "from pyspark.ml import Pipeline\n",
    "from pyspark.ml.feature import StringIndexer, VectorAssembler\n",
    "from pyspark.ml.classification import MultilayerPerceptronClassifier\n",
    "from pyspark.ml.evaluation import MulticlassClassificationEvaluator\n",
    "from pyspark.sql.functions import rand\n",
    "\n",
    "# 1. Initialisation de Spark\n",
    "spark = SparkSession.builder \\\n",
    "    .appName(\"Amélioration MLPC avec classes équilibrées\") \\\n",
    "    .config(\"spark.hadoop.hive.metastore.uris\", \"thrift://hive-metastore:9083\") \\\n",
    "    .enableHiveSupport() \\\n",
    "    .getOrCreate()\n",
    "\n",
    "# 2. Charger les données\n",
    "df_train = spark.sql(\"SELECT * FROM concessionnaire.client_immat_with_catk9\")\n",
    "\n",
    "# 3. Indexer la colonne cible\n",
    "label_indexer = StringIndexer(inputCol=\"categorie\", outputCol=\"indexed_categorie\", handleInvalid=\"keep\")\n",
    "df_train = label_indexer.fit(df_train).transform(df_train)\n",
    "\n",
    "# 4. Rééchantillonnage\n",
    "max_count = df_train.groupBy(\"indexed_categorie\").count().agg({\"count\": \"max\"}).collect()[0][0]\n",
    "balanced_df = df_train.groupBy(\"indexed_categorie\").applyInPandas(\n",
    "    lambda pdf: pdf.sample(n=max_count, replace=True) if len(pdf) < max_count else pdf,\n",
    "    schema=df_train.schema\n",
    ")\n",
    "\n",
    "# 5. Indexer les colonnes catégoriques\n",
    "categorical_cols = [\"sexe\", \"situationfamilliale\", \"deuxiemevoiture\"]\n",
    "indexers = [StringIndexer(inputCol=col, outputCol=col + \"_indexed\", handleInvalid=\"keep\") for col in categorical_cols]\n",
    "\n",
    "# 6. Assembler les features\n",
    "assembler = VectorAssembler(\n",
    "    inputCols=[\"age\", \"taux\", \"nbenfantacharge\"] + [col + \"_indexed\" for col in categorical_cols],\n",
    "    outputCol=\"featuress\"\n",
    ")\n",
    "\n",
    "# 7. Réseau de neurones (MLPC)\n",
    "input_size = len([\"age\", \"taux\", \"nbenfantacharge\"] + [col + \"_indexed\" for col in categorical_cols])\n",
    "num_classes = df_train.select(\"indexed_categorie\").distinct().count()\n",
    "mlpc = MultilayerPerceptronClassifier(\n",
    "    labelCol=\"indexed_categorie\",\n",
    "    featuresCol=\"featuress\",\n",
    "    predictionCol=\"mlpc_prediction\",\n",
    "    layers=[input_size, 32, 16, num_classes],\n",
    "    maxIter=200,\n",
    "    seed=42\n",
    ")\n",
    "\n",
    "# 8. Pipeline\n",
    "pipeline = Pipeline(stages=indexers + [assembler, mlpc])\n",
    "\n",
    "# 9. Séparer les données\n",
    "train_df, test_df = balanced_df.randomSplit([0.8, 0.2], seed=42)\n",
    "\n",
    "# 10. Entraîner le modèle\n",
    "model = pipeline.fit(train_df)\n",
    "\n",
    "# 11. Prédictions et évaluation\n",
    "predictions = model.transform(test_df)\n",
    "evaluator = MulticlassClassificationEvaluator(\n",
    "    labelCol=\"indexed_categorie\", predictionCol=\"mlpc_prediction\", metricName=\"accuracy\"\n",
    ")\n",
    "accuracy = evaluator.evaluate(predictions)\n",
    "print(f\"Accuracy MLPC = {accuracy:.4f}\")\n",
    "\n",
    "evaluator_f1 = MulticlassClassificationEvaluator(\n",
    "    labelCol=\"indexed_categorie\", predictionCol=\"mlpc_prediction\", metricName=\"f1\"\n",
    ")\n",
    "f1_score = evaluator_f1.evaluate(predictions)\n",
    "print(f\"F1 Score MLPC = {f1_score:.4f}\")\n",
    "\n",
    "# 12. Afficher des prédictions\n",
    "predictions.select(\"age\", \"sexe\", \"taux\", \"categorie\", \"mlpc_prediction\").show(10, truncate=False)\n",
    "\n",
    "\n"
   ]
  },
  {
   "cell_type": "code",
   "execution_count": null,
   "outputs": [],
   "source": [],
   "metadata": {
    "collapsed": false
   },
   "id": "40517106c6e0bb09"
  }
 ],
 "metadata": {
  "kernelspec": {
   "display_name": "Python 3",
   "language": "python",
   "name": "python3"
  },
  "language_info": {
   "codemirror_mode": {
    "name": "ipython",
    "version": 2
   },
   "file_extension": ".py",
   "mimetype": "text/x-python",
   "name": "python",
   "nbconvert_exporter": "python",
   "pygments_lexer": "ipython2",
   "version": "2.7.6"
  }
 },
 "nbformat": 4,
 "nbformat_minor": 5
}
