{
 "cells": [
  {
   "cell_type": "code",
   "execution_count": 1,
   "id": "initial_id",
   "metadata": {
    "collapsed": true,
    "ExecuteTime": {
     "end_time": "2024-11-22T14:48:52.414671700Z",
     "start_time": "2024-11-22T14:48:36.417825100Z"
    }
   },
   "outputs": [
    {
     "name": "stdout",
     "output_type": "stream",
     "text": [
      "Initialisation de Spark...\n",
      "Chargement des données d'entraînement...\n",
      "Nombre de lignes initiales : 86303\n",
      "Indexation de la colonne cible...\n",
      "Gestion des classes déséquilibrées (suréchantillonnage)...\n",
      "+-----------------+-----+\n",
      "|indexed_categorie|count|\n",
      "+-----------------+-----+\n",
      "|              0.0|27240|\n",
      "|              1.0|15543|\n",
      "|              4.0|10523|\n",
      "|              3.0|12114|\n",
      "|              2.0|12888|\n",
      "|              6.0| 2858|\n",
      "|              5.0| 5137|\n",
      "+-----------------+-----+\n",
      "Classe 0.0 : 27240 lignes (Max : 27240)\n",
      "Classe 1.0 : 15543 lignes (Max : 27240)\n",
      "Suréchantillonnage de la classe 1.0 avec une fraction de 1.75\n",
      "Classe 4.0 : 10523 lignes (Max : 27240)\n",
      "Suréchantillonnage de la classe 4.0 avec une fraction de 2.59\n",
      "Classe 3.0 : 12114 lignes (Max : 27240)\n",
      "Suréchantillonnage de la classe 3.0 avec une fraction de 2.25\n",
      "Classe 2.0 : 12888 lignes (Max : 27240)\n",
      "Suréchantillonnage de la classe 2.0 avec une fraction de 2.11\n",
      "Classe 6.0 : 2858 lignes (Max : 27240)\n",
      "Suréchantillonnage de la classe 6.0 avec une fraction de 9.53\n",
      "Classe 5.0 : 5137 lignes (Max : 27240)\n",
      "Suréchantillonnage de la classe 5.0 avec une fraction de 5.30\n",
      "Nombre de lignes après équilibrage : 249774\n",
      "Indexation des colonnes catégoriques...\n",
      "Assemblage des features...\n",
      "Configuration du modèle GBT avec One-vs-Rest...\n",
      "Construction du pipeline...\n",
      "Séparation des données en entraînement et test...\n",
      "Nombre de lignes dans l'ensemble d'entraînement : 199993\n",
      "Nombre de lignes dans l'ensemble de test : 49781\n"
     ]
    }
   ],
   "source": [
    "from pyspark.sql import SparkSession\n",
    "from pyspark.sql.functions import col\n",
    "from pyspark.ml import Pipeline\n",
    "from pyspark.ml.feature import StringIndexer, VectorAssembler\n",
    "from pyspark.ml.classification import GBTClassifier, OneVsRest\n",
    "from pyspark.ml.evaluation import MulticlassClassificationEvaluator\n",
    "\n",
    "# 1. Initialisation de Spark\n",
    "print(\"Initialisation de Spark...\")\n",
    "spark = SparkSession.builder \\\n",
    "    .appName(\"Prédiction Catégorie Véhicule avec GBT OVR\") \\\n",
    "    .config(\"spark.hadoop.hive.metastore.uris\", \"thrift://hive-metastore:9083\") \\\n",
    "    .config(\"spark.executor.memory\", \"4g\") \\\n",
    "    .config(\"spark.driver.memory\", \"4g\") \\\n",
    "    .enableHiveSupport() \\\n",
    "    .getOrCreate()\n",
    "\n",
    "# 2. Charger les données d'entraînement\n",
    "print(\"Chargement des données d'entraînement...\")\n",
    "df_train = spark.sql(\"SELECT * FROM concessionnaire.client_immat_with_cat\")\n",
    "print(f\"Nombre de lignes initiales : {df_train.count()}\")\n",
    "\n",
    "# 3. Indexer la colonne cible\n",
    "print(\"Indexation de la colonne cible...\")\n",
    "label_indexer = StringIndexer(inputCol=\"categorie\", outputCol=\"indexed_categorie\", handleInvalid=\"keep\")\n",
    "df_train = label_indexer.fit(df_train).transform(df_train)\n",
    "\n",
    "# 4. Gestion des classes déséquilibrées (suréchantillonnage)\n",
    "print(\"Gestion des classes déséquilibrées (suréchantillonnage)...\")\n",
    "class_counts = df_train.groupBy(\"indexed_categorie\").count()\n",
    "class_counts.show()\n",
    "max_count = class_counts.agg({\"count\": \"max\"}).collect()[0][0]\n",
    "\n",
    "balanced_df = df_train\n",
    "for row in class_counts.collect():\n",
    "    class_id, count = row[\"indexed_categorie\"], row[\"count\"]\n",
    "    print(f\"Classe {class_id} : {count} lignes (Max : {max_count})\")\n",
    "    if count < max_count:\n",
    "        fraction = max_count / count\n",
    "        print(f\"Suréchantillonnage de la classe {class_id} avec une fraction de {fraction:.2f}\")\n",
    "        additional_df = df_train.filter(col(\"indexed_categorie\") == class_id).sample(withReplacement=True, fraction=fraction, seed=42)\n",
    "        balanced_df = balanced_df.union(additional_df)\n",
    "\n",
    "print(f\"Nombre de lignes après équilibrage : {balanced_df.count()}\")\n",
    "\n",
    "# 5. Indexer les colonnes catégoriques\n",
    "print(\"Indexation des colonnes catégoriques...\")\n",
    "categorical_cols = [\"sexe\", \"situationfamilliale\", \"deuxiemevoiture\"]\n",
    "indexers = [StringIndexer(inputCol=col, outputCol=col + \"_indexed\", handleInvalid=\"keep\") for col in categorical_cols]\n",
    "\n",
    "# 6. Assembler les features\n",
    "print(\"Assemblage des features...\")\n",
    "assembler = VectorAssembler(\n",
    "    inputCols=[\"age\", \"taux\", \"nbenfantacharge\"] + [col + \"_indexed\" for col in categorical_cols],\n",
    "    outputCol=\"featuress\"\n",
    ")\n",
    "\n",
    "# 7. Modèle GBT avec One-vs-Rest\n",
    "print(\"Configuration du modèle GBT avec One-vs-Rest...\")\n",
    "gbt = GBTClassifier(\n",
    "    labelCol=\"indexed_categorie\",\n",
    "    featuresCol=\"featuress\",\n",
    "    maxIter=50,\n",
    "    maxDepth=10\n",
    ")\n",
    "\n",
    "ovr = OneVsRest(classifier=gbt, labelCol=\"indexed_categorie\", featuresCol=\"featuress\", predictionCol=\"ovr_prediction\")\n",
    "\n",
    "# 8. Pipeline\n",
    "print(\"Construction du pipeline...\")\n",
    "pipeline = Pipeline(stages=indexers + [assembler, ovr])\n",
    "\n",
    "# 9. Séparer les données en entraînement et test\n",
    "print(\"Séparation des données en entraînement et test...\")\n",
    "train_df, test_df = balanced_df.randomSplit([0.8, 0.2], seed=42)\n",
    "print(f\"Nombre de lignes dans l'ensemble d'entraînement : {train_df.count()}\")\n",
    "print(f\"Nombre de lignes dans l'ensemble de test : {test_df.count()}\")\n"
   ]
  },
  {
   "cell_type": "code",
   "execution_count": null,
   "outputs": [
    {
     "name": "stdout",
     "output_type": "stream",
     "text": [
      "Entraînement du modèle...\n"
     ]
    }
   ],
   "source": [
    "# 10. Entraîner le modèle\n",
    "print(\"Entraînement du modèle...\")\n",
    "model = pipeline.fit(train_df)\n",
    "print(\"Entraînement terminé.\")"
   ],
   "metadata": {
    "collapsed": false,
    "ExecuteTime": {
     "start_time": "2024-11-22T14:48:52.411021600Z"
    }
   },
   "id": "7132b5b53091fdae"
  },
  {
   "cell_type": "code",
   "execution_count": null,
   "outputs": [],
   "source": [
    "model.save(\"hdfs://namenode:9000/models/ovr_gbt_modelk9\")\n",
    "print(\"Modèle GBT avec OVR sauvegardé dans HDFS.\")"
   ],
   "metadata": {
    "collapsed": false
   },
   "id": "fb110209b855dd13"
  },
  {
   "cell_type": "code",
   "execution_count": null,
   "outputs": [],
   "source": [],
   "metadata": {
    "collapsed": false
   },
   "id": "d154d119106cdd6e"
  }
 ],
 "metadata": {
  "kernelspec": {
   "display_name": "Python 3",
   "language": "python",
   "name": "python3"
  },
  "language_info": {
   "codemirror_mode": {
    "name": "ipython",
    "version": 2
   },
   "file_extension": ".py",
   "mimetype": "text/x-python",
   "name": "python",
   "nbconvert_exporter": "python",
   "pygments_lexer": "ipython2",
   "version": "2.7.6"
  }
 },
 "nbformat": 4,
 "nbformat_minor": 5
}
