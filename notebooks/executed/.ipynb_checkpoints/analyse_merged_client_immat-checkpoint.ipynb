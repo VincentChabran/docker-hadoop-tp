{
 "cells": [
  {
   "cell_type": "markdown",
   "id": "43aa9f27",
   "metadata": {
    "tags": [
     "papermill-error-cell-tag"
    ]
   },
   "source": [
    "<span style=\"color:red; font-family:Helvetica Neue, Helvetica, Arial, sans-serif; font-size:2em;\">An Exception was encountered at '<a href=\"#papermill-error-cell\">In [3]</a>'.</span>"
   ]
  },
  {
   "cell_type": "code",
   "execution_count": 1,
   "id": "402a1f24-5800-4c86-802c-8c275e29be04",
   "metadata": {
    "execution": {
     "iopub.execute_input": "2024-11-18T08:50:37.023546Z",
     "iopub.status.busy": "2024-11-18T08:50:37.022772Z",
     "iopub.status.idle": "2024-11-18T08:50:38.337510Z",
     "shell.execute_reply": "2024-11-18T08:50:38.336885Z"
    },
    "papermill": {
     "duration": 1.336443,
     "end_time": "2024-11-18T08:50:38.341759",
     "exception": false,
     "start_time": "2024-11-18T08:50:37.005316",
     "status": "completed"
    },
    "tags": []
   },
   "outputs": [],
   "source": [
    "from pyspark.sql import SparkSession\n",
    "import matplotlib.pyplot as plt\n",
    "from pyspark.sql import functions as F\n",
    "import seaborn as sns"
   ]
  },
  {
   "cell_type": "code",
   "execution_count": 2,
   "id": "ef5ce840-0772-49a7-8f16-0ab9322f1fdc",
   "metadata": {
    "execution": {
     "iopub.execute_input": "2024-11-18T08:50:38.349951Z",
     "iopub.status.busy": "2024-11-18T08:50:38.349781Z",
     "iopub.status.idle": "2024-11-18T08:50:40.446706Z",
     "shell.execute_reply": "2024-11-18T08:50:40.445109Z"
    },
    "papermill": {
     "duration": 2.103702,
     "end_time": "2024-11-18T08:50:40.450594",
     "exception": false,
     "start_time": "2024-11-18T08:50:38.346892",
     "status": "completed"
    },
    "tags": []
   },
   "outputs": [],
   "source": [
    "spark = SparkSession.builder \\\n",
    "    .appName(\"Analyse Immatriculations\") \\\n",
    "    .config(\"spark.hadoop.hive.metastore.uris\", \"thrift://hive-metastore:9083\") \\\n",
    "    .enableHiveSupport() \\\n",
    "    .getOrCreate()"
   ]
  },
  {
   "cell_type": "markdown",
   "id": "ea41119c",
   "metadata": {
    "tags": [
     "papermill-error-cell-tag"
    ]
   },
   "source": [
    "<span id=\"papermill-error-cell\" style=\"color:red; font-family:Helvetica Neue, Helvetica, Arial, sans-serif; font-size:2em;\">Execution using papermill encountered an exception here and stopped:</span>"
   ]
  },
  {
   "cell_type": "code",
   "execution_count": 3,
   "id": "6682dbe3-b3b3-4fb2-a985-9045f8c554b8",
   "metadata": {
    "execution": {
     "iopub.execute_input": "2024-11-18T08:50:40.464183Z",
     "iopub.status.busy": "2024-11-18T08:50:40.463938Z",
     "iopub.status.idle": "2024-11-18T08:50:42.468734Z",
     "shell.execute_reply": "2024-11-18T08:50:42.467798Z"
    },
    "papermill": {
     "duration": 2.010237,
     "end_time": "2024-11-18T08:50:42.470099",
     "exception": true,
     "start_time": "2024-11-18T08:50:40.459862",
     "status": "failed"
    },
    "tags": []
   },
   "outputs": [
    {
     "ename": "AnalysisException",
     "evalue": "[TABLE_OR_VIEW_NOT_FOUND] The table or view `client_immatriculation_merged` cannot be found. Verify the spelling and correctness of the schema and catalog.\nIf you did not qualify the name with a schema, verify the current_schema() output, or qualify the name with the correct schema and catalog.\nTo tolerate the error on drop use DROP VIEW IF EXISTS or DROP TABLE IF EXISTS.; line 1 pos 14;\n'Project [*]\n+- 'UnresolvedRelation [client_immatriculation_merged], [], false\n",
     "output_type": "error",
     "traceback": [
      "\u001b[0;31m---------------------------------------------------------------------------\u001b[0m",
      "\u001b[0;31mAnalysisException\u001b[0m                         Traceback (most recent call last)",
      "Cell \u001b[0;32mIn[3], line 2\u001b[0m\n\u001b[1;32m      1\u001b[0m spark\u001b[38;5;241m.\u001b[39msql(\u001b[38;5;124m\"\u001b[39m\u001b[38;5;124mUSE concessionnaire\u001b[39m\u001b[38;5;124m\"\u001b[39m)\n\u001b[0;32m----> 2\u001b[0m client_immat_df \u001b[38;5;241m=\u001b[39m \u001b[43mspark\u001b[49m\u001b[38;5;241;43m.\u001b[39;49m\u001b[43msql\u001b[49m\u001b[43m(\u001b[49m\u001b[38;5;124;43m\"\u001b[39;49m\u001b[38;5;124;43mSELECT * FROM client_immatriculation_merged\u001b[39;49m\u001b[38;5;124;43m\"\u001b[39;49m\u001b[43m)\u001b[49m\n\u001b[1;32m      4\u001b[0m nombre_total_lignes \u001b[38;5;241m=\u001b[39m client_immat_df\u001b[38;5;241m.\u001b[39mcount()\n\u001b[1;32m      5\u001b[0m \u001b[38;5;28mprint\u001b[39m(nombre_total_lignes)\n",
      "File \u001b[0;32m/opt/conda/lib/python3.11/site-packages/pyspark/sql/session.py:1631\u001b[0m, in \u001b[0;36mSparkSession.sql\u001b[0;34m(self, sqlQuery, args, **kwargs)\u001b[0m\n\u001b[1;32m   1627\u001b[0m         \u001b[38;5;28;01massert\u001b[39;00m \u001b[38;5;28mself\u001b[39m\u001b[38;5;241m.\u001b[39m_jvm \u001b[38;5;129;01mis\u001b[39;00m \u001b[38;5;129;01mnot\u001b[39;00m \u001b[38;5;28;01mNone\u001b[39;00m\n\u001b[1;32m   1628\u001b[0m         litArgs \u001b[38;5;241m=\u001b[39m \u001b[38;5;28mself\u001b[39m\u001b[38;5;241m.\u001b[39m_jvm\u001b[38;5;241m.\u001b[39mPythonUtils\u001b[38;5;241m.\u001b[39mtoArray(\n\u001b[1;32m   1629\u001b[0m             [_to_java_column(lit(v)) \u001b[38;5;28;01mfor\u001b[39;00m v \u001b[38;5;129;01min\u001b[39;00m (args \u001b[38;5;129;01mor\u001b[39;00m [])]\n\u001b[1;32m   1630\u001b[0m         )\n\u001b[0;32m-> 1631\u001b[0m     \u001b[38;5;28;01mreturn\u001b[39;00m DataFrame(\u001b[38;5;28;43mself\u001b[39;49m\u001b[38;5;241;43m.\u001b[39;49m\u001b[43m_jsparkSession\u001b[49m\u001b[38;5;241;43m.\u001b[39;49m\u001b[43msql\u001b[49m\u001b[43m(\u001b[49m\u001b[43msqlQuery\u001b[49m\u001b[43m,\u001b[49m\u001b[43m \u001b[49m\u001b[43mlitArgs\u001b[49m\u001b[43m)\u001b[49m, \u001b[38;5;28mself\u001b[39m)\n\u001b[1;32m   1632\u001b[0m \u001b[38;5;28;01mfinally\u001b[39;00m:\n\u001b[1;32m   1633\u001b[0m     \u001b[38;5;28;01mif\u001b[39;00m \u001b[38;5;28mlen\u001b[39m(kwargs) \u001b[38;5;241m>\u001b[39m \u001b[38;5;241m0\u001b[39m:\n",
      "File \u001b[0;32m/opt/conda/lib/python3.11/site-packages/py4j/java_gateway.py:1322\u001b[0m, in \u001b[0;36mJavaMember.__call__\u001b[0;34m(self, *args)\u001b[0m\n\u001b[1;32m   1316\u001b[0m command \u001b[38;5;241m=\u001b[39m proto\u001b[38;5;241m.\u001b[39mCALL_COMMAND_NAME \u001b[38;5;241m+\u001b[39m\\\n\u001b[1;32m   1317\u001b[0m     \u001b[38;5;28mself\u001b[39m\u001b[38;5;241m.\u001b[39mcommand_header \u001b[38;5;241m+\u001b[39m\\\n\u001b[1;32m   1318\u001b[0m     args_command \u001b[38;5;241m+\u001b[39m\\\n\u001b[1;32m   1319\u001b[0m     proto\u001b[38;5;241m.\u001b[39mEND_COMMAND_PART\n\u001b[1;32m   1321\u001b[0m answer \u001b[38;5;241m=\u001b[39m \u001b[38;5;28mself\u001b[39m\u001b[38;5;241m.\u001b[39mgateway_client\u001b[38;5;241m.\u001b[39msend_command(command)\n\u001b[0;32m-> 1322\u001b[0m return_value \u001b[38;5;241m=\u001b[39m \u001b[43mget_return_value\u001b[49m\u001b[43m(\u001b[49m\n\u001b[1;32m   1323\u001b[0m \u001b[43m    \u001b[49m\u001b[43manswer\u001b[49m\u001b[43m,\u001b[49m\u001b[43m \u001b[49m\u001b[38;5;28;43mself\u001b[39;49m\u001b[38;5;241;43m.\u001b[39;49m\u001b[43mgateway_client\u001b[49m\u001b[43m,\u001b[49m\u001b[43m \u001b[49m\u001b[38;5;28;43mself\u001b[39;49m\u001b[38;5;241;43m.\u001b[39;49m\u001b[43mtarget_id\u001b[49m\u001b[43m,\u001b[49m\u001b[43m \u001b[49m\u001b[38;5;28;43mself\u001b[39;49m\u001b[38;5;241;43m.\u001b[39;49m\u001b[43mname\u001b[49m\u001b[43m)\u001b[49m\n\u001b[1;32m   1325\u001b[0m \u001b[38;5;28;01mfor\u001b[39;00m temp_arg \u001b[38;5;129;01min\u001b[39;00m temp_args:\n\u001b[1;32m   1326\u001b[0m     \u001b[38;5;28;01mif\u001b[39;00m \u001b[38;5;28mhasattr\u001b[39m(temp_arg, \u001b[38;5;124m\"\u001b[39m\u001b[38;5;124m_detach\u001b[39m\u001b[38;5;124m\"\u001b[39m):\n",
      "File \u001b[0;32m/opt/conda/lib/python3.11/site-packages/pyspark/errors/exceptions/captured.py:185\u001b[0m, in \u001b[0;36mcapture_sql_exception.<locals>.deco\u001b[0;34m(*a, **kw)\u001b[0m\n\u001b[1;32m    181\u001b[0m converted \u001b[38;5;241m=\u001b[39m convert_exception(e\u001b[38;5;241m.\u001b[39mjava_exception)\n\u001b[1;32m    182\u001b[0m \u001b[38;5;28;01mif\u001b[39;00m \u001b[38;5;129;01mnot\u001b[39;00m \u001b[38;5;28misinstance\u001b[39m(converted, UnknownException):\n\u001b[1;32m    183\u001b[0m     \u001b[38;5;66;03m# Hide where the exception came from that shows a non-Pythonic\u001b[39;00m\n\u001b[1;32m    184\u001b[0m     \u001b[38;5;66;03m# JVM exception message.\u001b[39;00m\n\u001b[0;32m--> 185\u001b[0m     \u001b[38;5;28;01mraise\u001b[39;00m converted \u001b[38;5;28;01mfrom\u001b[39;00m \u001b[38;5;28;01mNone\u001b[39;00m\n\u001b[1;32m    186\u001b[0m \u001b[38;5;28;01melse\u001b[39;00m:\n\u001b[1;32m    187\u001b[0m     \u001b[38;5;28;01mraise\u001b[39;00m\n",
      "\u001b[0;31mAnalysisException\u001b[0m: [TABLE_OR_VIEW_NOT_FOUND] The table or view `client_immatriculation_merged` cannot be found. Verify the spelling and correctness of the schema and catalog.\nIf you did not qualify the name with a schema, verify the current_schema() output, or qualify the name with the correct schema and catalog.\nTo tolerate the error on drop use DROP VIEW IF EXISTS or DROP TABLE IF EXISTS.; line 1 pos 14;\n'Project [*]\n+- 'UnresolvedRelation [client_immatriculation_merged], [], false\n"
     ]
    }
   ],
   "source": [
    "spark.sql(\"USE concessionnaire\")\n",
    "client_immat_df = spark.sql(\"SELECT * FROM client_immatriculation_merged\")\n",
    "\n",
    "nombre_total_lignes = client_immat_df.count()\n",
    "print(nombre_total_lignes)\n",
    "client_immat_df.show(10)\n",
    "\n",
    "#TODO A CHECK\n",
    "test = spark.sql(\"SELECT * FROM client_processed\")\n",
    "test.select(\"age\").distinct().show(1000)\n",
    "\n",
    "\n"
   ]
  },
  {
   "cell_type": "code",
   "execution_count": null,
   "id": "1f26f0a0-1117-4547-905d-def4b9ae31b2",
   "metadata": {
    "papermill": {
     "duration": null,
     "end_time": null,
     "exception": null,
     "start_time": null,
     "status": "pending"
    },
    "tags": []
   },
   "outputs": [],
   "source": [
    "null_counts = {column: client_immat_df.filter(F.col(column).isNull()).count() for column in client_immat_df.columns}\n",
    "print(null_counts)\n",
    "\n",
    "client_immat_df.describe().show()\n",
    "\n",
    "client_immat_df.select(\"modele_simple\").distinct().show(100)\n",
    "client_immat_df.select(\"longueur\").distinct().show()\n",
    "client_immat_df.select(\"marque\").distinct().show()\n",
    "client_immat_df.describe([\"prix\", \"puissance\"]).show()"
   ]
  },
  {
   "cell_type": "code",
   "execution_count": null,
   "id": "e2b7f320-7436-498b-9a29-ef5d35cfccbc",
   "metadata": {
    "papermill": {
     "duration": null,
     "end_time": null,
     "exception": null,
     "start_time": null,
     "status": "pending"
    },
    "tags": []
   },
   "outputs": [],
   "source": [
    "# Doublon à fix\n",
    "immatriculation_counts = client_immat_df.groupBy(\"Immatriculation\").agg(F.count(\"*\").alias(\"nombre_occurences\"))\n",
    "doublons_immatriculation = immatriculation_counts.filter(F.col(\"nombre_occurences\") > 1)\n",
    "\n",
    "doublons_immatriculation.show(truncate=False)\n",
    "\n",
    "doublons_list = [row[\"Immatriculation\"] for row in doublons_immatriculation.collect()]\n",
    "doublons_lignes = client_immat_df.filter(F.col(\"Immatriculation\").isin(doublons_list))\n",
    "\n",
    "doublons_lignes.show(truncate=False)"
   ]
  },
  {
   "cell_type": "code",
   "execution_count": null,
   "id": "895a8890-70be-4af0-84af-3fecee9781ec",
   "metadata": {
    "papermill": {
     "duration": null,
     "end_time": null,
     "exception": null,
     "start_time": null,
     "status": "pending"
    },
    "tags": []
   },
   "outputs": [],
   "source": [
    "distribution_vehicules = client_immat_df.groupBy(\"situationfamilliale\", \"modele_simple\").agg(F.count(\"*\").alias(\"nombre_vehicules\"))\n",
    "distribution_vehicules.orderBy(F.desc(\"nombre_vehicules\")).show()\n",
    "\n"
   ]
  },
  {
   "cell_type": "code",
   "execution_count": null,
   "id": "96381aeb-5c01-4d65-bec0-6595de9d7af2",
   "metadata": {
    "papermill": {
     "duration": null,
     "end_time": null,
     "exception": null,
     "start_time": null,
     "status": "pending"
    },
    "tags": []
   },
   "outputs": [],
   "source": [
    "distribution_vehicules_pandas = distribution_vehicules.toPandas()\n",
    "top_10_distribution = distribution_vehicules_pandas.head(10)\n",
    "\n",
    "plt.figure(figsize=(12, 6))\n",
    "sns.barplot(data=top_10_distribution, x='situationfamilliale', y='nombre_vehicules', hue='modele_simple')\n",
    "\n",
    "plt.xlabel('Situation Familiale')\n",
    "plt.ylabel('Nombre de Véhicules')\n",
    "plt.title('Modèle par situation familiale')\n",
    "plt.xticks(rotation=45, ha='right')\n",
    "plt.tight_layout()\n",
    "\n",
    "plt.show()"
   ]
  },
  {
   "cell_type": "code",
   "execution_count": null,
   "id": "805eb60f-234a-4a22-9211-80ba2784f83c",
   "metadata": {
    "papermill": {
     "duration": null,
     "end_time": null,
     "exception": null,
     "start_time": null,
     "status": "pending"
    },
    "tags": []
   },
   "outputs": [],
   "source": [
    "# Calculer la puissance moyenne par situation familiale\n",
    "puissance_moyenne_par_situation = client_immat_df.groupBy(\"situationfamilliale\").agg(F.avg(\"puissance\").alias(\"puissance_moyenne\"))\n",
    "puissance_moyenne_par_situation.show()\n"
   ]
  },
  {
   "cell_type": "code",
   "execution_count": null,
   "id": "2d604b8a-1593-46ca-a523-eb7bb564e53f",
   "metadata": {
    "papermill": {
     "duration": null,
     "end_time": null,
     "exception": null,
     "start_time": null,
     "status": "pending"
    },
    "tags": []
   },
   "outputs": [],
   "source": [
    "puissance_moyenne_par_situation_pandas = puissance_moyenne_par_situation.toPandas()\n",
    "\n",
    "plt.figure(figsize=(10, 6))\n",
    "sns.barplot(data=puissance_moyenne_par_situation_pandas, x=\"situationfamilliale\", y=\"puissance_moyenne\")\n",
    "plt.xlabel('Situation Familiale')\n",
    "plt.ylabel('Puissance Moyenne')\n",
    "plt.title('Puissance moyenne par situation familiale')\n",
    "plt.xticks(rotation=45)\n",
    "plt.tight_layout()\n",
    "plt.show()\n"
   ]
  },
  {
   "cell_type": "code",
   "execution_count": null,
   "id": "d50f1fb9-a7a0-4df0-bb91-35b1054442be",
   "metadata": {
    "papermill": {
     "duration": null,
     "end_time": null,
     "exception": null,
     "start_time": null,
     "status": "pending"
    },
    "tags": []
   },
   "outputs": [],
   "source": [
    "# Calculer le prix moyen par tranche d'âge\n",
    "prix_moyen_par_age = client_immat_df.groupBy(\"age\").agg(F.avg(\"prix\").alias(\"prix_moyen\"))\n",
    "prix_moyen_par_age.show(100)\n"
   ]
  }
 ],
 "metadata": {
  "kernelspec": {
   "display_name": "Python 3 (ipykernel)",
   "language": "python",
   "name": "python3"
  },
  "language_info": {
   "codemirror_mode": {
    "name": "ipython",
    "version": 3
   },
   "file_extension": ".py",
   "mimetype": "text/x-python",
   "name": "python",
   "nbconvert_exporter": "python",
   "pygments_lexer": "ipython3",
   "version": "3.11.6"
  },
  "papermill": {
   "default_parameters": {},
   "duration": 9.175721,
   "end_time": "2024-11-18T08:50:45.101476",
   "environment_variables": {},
   "exception": true,
   "input_path": "/home/jovyan/work/analyse_merged_client_immat.ipynb",
   "output_path": "/home/jovyan/work/executed/analyse_merged_client_immat.ipynb",
   "parameters": {},
   "start_time": "2024-11-18T08:50:35.925755",
   "version": "2.6.0"
  }
 },
 "nbformat": 4,
 "nbformat_minor": 5
}