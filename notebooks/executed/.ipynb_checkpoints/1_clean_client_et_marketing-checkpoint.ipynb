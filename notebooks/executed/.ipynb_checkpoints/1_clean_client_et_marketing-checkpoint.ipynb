{
 "cells": [
  {
   "cell_type": "markdown",
   "id": "1997180a",
   "metadata": {
    "tags": [
     "papermill-error-cell-tag"
    ]
   },
   "source": [
    "<span style=\"color:red; font-family:Helvetica Neue, Helvetica, Arial, sans-serif; font-size:2em;\">An Exception was encountered at '<a href=\"#papermill-error-cell\">In [1]</a>'.</span>"
   ]
  },
  {
   "cell_type": "markdown",
   "id": "65790ce0",
   "metadata": {
    "tags": [
     "papermill-error-cell-tag"
    ]
   },
   "source": [
    "<span id=\"papermill-error-cell\" style=\"color:red; font-family:Helvetica Neue, Helvetica, Arial, sans-serif; font-size:2em;\">Execution using papermill encountered an exception here and stopped:</span>"
   ]
  },
  {
   "cell_type": "code",
   "execution_count": 1,
   "id": "9ebfdc49-04c7-4a84-b1be-1ac1e087d2fd",
   "metadata": {
    "execution": {
     "iopub.execute_input": "2024-11-18T08:45:04.055206Z",
     "iopub.status.busy": "2024-11-18T08:45:04.055063Z",
     "iopub.status.idle": "2024-11-18T08:45:04.182316Z",
     "shell.execute_reply": "2024-11-18T08:45:04.181849Z"
    },
    "papermill": {
     "duration": 0.132735,
     "end_time": "2024-11-18T08:45:04.182987",
     "exception": true,
     "start_time": "2024-11-18T08:45:04.050252",
     "status": "failed"
    },
    "tags": []
   },
   "outputs": [
    {
     "ename": "ModuleNotFoundError",
     "evalue": "No module named 'pyspark'",
     "output_type": "error",
     "traceback": [
      "\u001b[0;31m---------------------------------------------------------------------------\u001b[0m",
      "\u001b[0;31mModuleNotFoundError\u001b[0m                       Traceback (most recent call last)",
      "Cell \u001b[0;32mIn[1], line 1\u001b[0m\n\u001b[0;32m----> 1\u001b[0m \u001b[38;5;28;01mfrom\u001b[39;00m \u001b[38;5;21;01mpyspark\u001b[39;00m\u001b[38;5;21;01m.\u001b[39;00m\u001b[38;5;21;01msql\u001b[39;00m \u001b[38;5;28;01mimport\u001b[39;00m SparkSession\n\u001b[1;32m      2\u001b[0m \u001b[38;5;28;01mimport\u001b[39;00m \u001b[38;5;21;01mmatplotlib\u001b[39;00m\u001b[38;5;21;01m.\u001b[39;00m\u001b[38;5;21;01mpyplot\u001b[39;00m \u001b[38;5;28;01mas\u001b[39;00m \u001b[38;5;21;01mplt\u001b[39;00m\n\u001b[1;32m      3\u001b[0m \u001b[38;5;28;01mfrom\u001b[39;00m \u001b[38;5;21;01mpyspark\u001b[39;00m\u001b[38;5;21;01m.\u001b[39;00m\u001b[38;5;21;01msql\u001b[39;00m \u001b[38;5;28;01mimport\u001b[39;00m SparkSession\n",
      "\u001b[0;31mModuleNotFoundError\u001b[0m: No module named 'pyspark'"
     ]
    }
   ],
   "source": [
    "from pyspark.sql import SparkSession\n",
    "import matplotlib.pyplot as plt\n",
    "from pyspark.sql import SparkSession\n",
    "from pyspark.sql.functions import regexp_replace, col, when\n",
    "\n"
   ]
  },
  {
   "cell_type": "code",
   "execution_count": null,
   "id": "b00f3c3f-9289-424f-aab7-3f0b1168f0b3",
   "metadata": {
    "papermill": {
     "duration": null,
     "end_time": null,
     "exception": null,
     "start_time": null,
     "status": "pending"
    },
    "tags": []
   },
   "outputs": [],
   "source": [
    "spark = SparkSession.builder \\\n",
    "    .appName(\"DataCleaningWithHive\") \\\n",
    "    .config(\"spark.hadoop.hive.metastore.uris\", \"thrift://hive-metastore:9083\") \\\n",
    "    .enableHiveSupport() \\\n",
    "    .getOrCreate()\n"
   ]
  },
  {
   "cell_type": "code",
   "execution_count": null,
   "id": "dc76a926-dee5-4a5b-8541-770799535ebd",
   "metadata": {
    "papermill": {
     "duration": null,
     "end_time": null,
     "exception": null,
     "start_time": null,
     "status": "pending"
    },
    "tags": []
   },
   "outputs": [],
   "source": [
    "spark.sql(\"USE concessionnaire\")\n",
    "df_client = spark.sql(\"SELECT * FROM client_data\")"
   ]
  },
  {
   "cell_type": "code",
   "execution_count": null,
   "id": "16005548-19a2-4155-9909-170eb65d11ac",
   "metadata": {
    "papermill": {
     "duration": null,
     "end_time": null,
     "exception": null,
     "start_time": null,
     "status": "pending"
    },
    "tags": []
   },
   "outputs": [],
   "source": [
    "\n",
    "# zipWithIndex pour ajouter un index à chaque ligne, puis filtrer la première ligne\n",
    "df_client = df_client.rdd.zipWithIndex().filter(lambda row_index: row_index[1] > 0).map(lambda row_index: row_index[0]).toDF(df_client.schema)\n"
   ]
  },
  {
   "cell_type": "markdown",
   "id": "c071dce2-dee8-482f-b3a1-64aed2e6e952",
   "metadata": {
    "papermill": {
     "duration": null,
     "end_time": null,
     "exception": null,
     "start_time": null,
     "status": "pending"
    },
    "tags": []
   },
   "source": [
    "# Affichage des colonnes du df Client"
   ]
  },
  {
   "cell_type": "code",
   "execution_count": null,
   "id": "f5f147db-7aa3-4299-8c64-05f993687e12",
   "metadata": {
    "papermill": {
     "duration": null,
     "end_time": null,
     "exception": null,
     "start_time": null,
     "status": "pending"
    },
    "tags": []
   },
   "outputs": [],
   "source": [
    "\n",
    "# truncate=False : Empêche les colonnes d’être coupées si leur contenu est trop long.\n",
    "df_client.show(n=10, truncate=False)\n"
   ]
  },
  {
   "cell_type": "markdown",
   "id": "327f1236-c48b-4ff8-bdce-894d2d6c452f",
   "metadata": {
    "papermill": {
     "duration": null,
     "end_time": null,
     "exception": null,
     "start_time": null,
     "status": "pending"
    },
    "tags": []
   },
   "source": [
    "# Traitement col age, taux, nbenfantacharge"
   ]
  },
  {
   "cell_type": "code",
   "execution_count": null,
   "id": "56157488-fe64-44fc-90f6-b4b30d371e32",
   "metadata": {
    "papermill": {
     "duration": null,
     "end_time": null,
     "exception": null,
     "start_time": null,
     "status": "pending"
    },
    "tags": []
   },
   "outputs": [],
   "source": [
    "# Remplace les valeurs nulles par la moyenne pour chaque colonne spécifiée\n",
    "for col_name in [\"age\", \"taux\", \"nbenfantacharge\"]:\n",
    "    mean_value = df_client.agg({col_name: \"mean\"}).first()[0] \n",
    "    df_client = df_client.na.fill({col_name: mean_value})"
   ]
  },
  {
   "cell_type": "markdown",
   "id": "3796e960-d41f-42fd-8cd3-4d8788493aa6",
   "metadata": {
    "papermill": {
     "duration": null,
     "end_time": null,
     "exception": null,
     "start_time": null,
     "status": "pending"
    },
    "tags": []
   },
   "source": [
    "# Traitement col situationfamiliale"
   ]
  },
  {
   "cell_type": "code",
   "execution_count": null,
   "id": "8fdee64a-672b-43ec-99c0-967a059fe00b",
   "metadata": {
    "papermill": {
     "duration": null,
     "end_time": null,
     "exception": null,
     "start_time": null,
     "status": "pending"
    },
    "tags": []
   },
   "outputs": [],
   "source": [
    "\n",
    "# Affiche les valeurs uniques dans la colonne 'situationfamiliale'\n",
    "df_client.select(\"situationfamilliale\").distinct().show(truncate=False)\n"
   ]
  },
  {
   "cell_type": "code",
   "execution_count": null,
   "id": "5c33ce95-e8b2-41f5-9d2d-d590849ea3c3",
   "metadata": {
    "papermill": {
     "duration": null,
     "end_time": null,
     "exception": null,
     "start_time": null,
     "status": "pending"
    },
    "tags": []
   },
   "outputs": [],
   "source": [
    "# Remplace les caractères spéciaux par 'é' dans la colonne 'situationfamilliale'\n",
    "df_client = df_client.withColumn(\"situationfamilliale\", regexp_replace(\"situationfamilliale\", \"�\", \"é\"))\n",
    "df_client = df_client.withColumn(\"situationfamilliale\", regexp_replace(\"situationfamilliale\", \"^(?i)seul(e)?$\", \"Célibataire\"))\n",
    "df_client = df_client.withColumn(\n",
    "    \"situationfamilliale\",\n",
    "    when((col(\"situationfamilliale\").isin(\"N/D\", \"\", \" \",\"?\")), \"Inconnu\")\n",
    "    .otherwise(col(\"situationfamilliale\")) \n",
    ")"
   ]
  },
  {
   "cell_type": "code",
   "execution_count": null,
   "id": "45ccf9a0-277c-4c3c-93bc-1aa5196fd7e0",
   "metadata": {
    "papermill": {
     "duration": null,
     "end_time": null,
     "exception": null,
     "start_time": null,
     "status": "pending"
    },
    "tags": []
   },
   "outputs": [],
   "source": [
    "df_client.select(\"situationfamilliale\").distinct().show(truncate=False)\n"
   ]
  },
  {
   "cell_type": "code",
   "execution_count": null,
   "id": "cb049077-be0f-4538-b257-b8351e4c50d6",
   "metadata": {
    "papermill": {
     "duration": null,
     "end_time": null,
     "exception": null,
     "start_time": null,
     "status": "pending"
    },
    "tags": []
   },
   "outputs": [],
   "source": [
    "import matplotlib.pyplot as plt\n",
    "\n",
    "# Étape 1 : Agréger les données et convertir en Pandas\n",
    "situation_counts = df_client.groupBy(\"situationfamilliale\").count()\n",
    "situation_counts_pd = situation_counts.toPandas()\n",
    "\n",
    "# Étape 2 : Calcul des pourcentages\n",
    "total_count = situation_counts_pd[\"count\"].sum()\n",
    "situation_counts_pd[\"percentage\"] = (situation_counts_pd[\"count\"] / total_count) * 100\n",
    "\n",
    "# Étape 3 : Création du diagramme circulaire\n",
    "plt.figure(figsize=(6, 6))\n",
    "wedges, texts, autotexts = plt.pie(\n",
    "    situation_counts_pd[\"percentage\"],\n",
    "    labels=situation_counts_pd[\"situationfamilliale\"],\n",
    "    autopct='%1.1f%%',\n",
    "    startangle=90,\n",
    "    colors=plt.cm.Paired.colors,\n",
    "    wedgeprops={'linewidth': 1, 'edgecolor': 'white'},\n",
    "    pctdistance=0.85  # Ajuste la position des pourcentages\n",
    ")\n",
    "\n",
    "# Amélioration de la lisibilité\n",
    "for text in texts:\n",
    "    text.set_fontsize(12)\n",
    "for autotext in autotexts:\n",
    "    autotext.set_fontsize(10)\n",
    "    autotext.set_color(\"black\")\n",
    "\n",
    "# Génération de labels avec pourcentages pour la légende\n",
    "legend_labels = [f\"{row['situationfamilliale']} ({row['percentage']:.1f}%)\" for _, row in situation_counts_pd.iterrows()]\n",
    "\n",
    "# Ajoute la légende avec les pourcentages\n",
    "plt.legend(wedges, legend_labels, title=\"Situation Familiale\", loc=\"center left\", bbox_to_anchor=(1, 0, 0.5, 1))\n",
    "\n",
    "# Ajoute un titre\n",
    "plt.title(\"Répartition des clients par situation familiale (%)\", fontsize=14)\n",
    "\n",
    "# Affiche le graphique\n",
    "plt.tight_layout()\n",
    "plt.show()\n"
   ]
  },
  {
   "cell_type": "markdown",
   "id": "e2ae338f-a4ab-4c34-a59e-acb903ecb539",
   "metadata": {
    "papermill": {
     "duration": null,
     "end_time": null,
     "exception": null,
     "start_time": null,
     "status": "pending"
    },
    "tags": []
   },
   "source": [
    "# Traitement col deuxiemevoiture"
   ]
  },
  {
   "cell_type": "code",
   "execution_count": null,
   "id": "15dc6a81-a74f-4df0-8d69-e5b63bae1849",
   "metadata": {
    "papermill": {
     "duration": null,
     "end_time": null,
     "exception": null,
     "start_time": null,
     "status": "pending"
    },
    "tags": []
   },
   "outputs": [],
   "source": [
    "df_client.select(\"deuxiemevoiture\").distinct().show(truncate=False)"
   ]
  },
  {
   "cell_type": "code",
   "execution_count": null,
   "id": "d1e2592c-312f-4cf9-8945-c5a3258b94f5",
   "metadata": {
    "papermill": {
     "duration": null,
     "end_time": null,
     "exception": null,
     "start_time": null,
     "status": "pending"
    },
    "tags": []
   },
   "outputs": [],
   "source": [
    "# Normaliser les valeurs de la colonne 'deuxiemevoiture' \n",
    "df_client = df_client.withColumn(\n",
    "    \"deuxiemevoiture\",\n",
    "    when((col(\"deuxiemevoiture\") == \"true\"), \"true\") \n",
    "    .otherwise(\"false\") # Si ce n'est pas \"true\", elle est définie comme \"false\".\n",
    ")"
   ]
  },
  {
   "cell_type": "code",
   "execution_count": null,
   "id": "6e66524b-e45a-4b41-b644-4a26e9a0fcbf",
   "metadata": {
    "papermill": {
     "duration": null,
     "end_time": null,
     "exception": null,
     "start_time": null,
     "status": "pending"
    },
    "tags": []
   },
   "outputs": [],
   "source": [
    "import matplotlib.pyplot as plt\n",
    "\n",
    "# Étape 1 : Agréger les données et convertir en Pandas\n",
    "deuxiemevoiture_counts = df_client.groupBy(\"deuxiemevoiture\").count()\n",
    "deuxiemevoiture_counts_pd = deuxiemevoiture_counts.toPandas()\n",
    "\n",
    "# Étape 2 : Calcul des pourcentages\n",
    "total_count = deuxiemevoiture_counts_pd[\"count\"].sum()\n",
    "deuxiemevoiture_counts_pd[\"percentage\"] = (deuxiemevoiture_counts_pd[\"count\"] / total_count) * 100\n",
    "\n",
    "# Étape 3 : Création du diagramme circulaire\n",
    "plt.figure(figsize=(5, 5))\n",
    "plt.pie(\n",
    "    deuxiemevoiture_counts_pd[\"percentage\"],\n",
    "    labels=deuxiemevoiture_counts_pd[\"deuxiemevoiture\"],\n",
    "    autopct='%1.1f%%',\n",
    "    startangle=90,\n",
    "    colors=[\"#66c2a5\", \"#fc8d62\"],  # Couleurs pour différencier \"true\" et \"false\"\n",
    "    wedgeprops={'linewidth': 1, 'edgecolor': 'white'}  # Ligne blanche entre les sections\n",
    ")\n",
    "\n",
    "# Ajouter un titre\n",
    "plt.title(\"Répartition des clients par possession d'une deuxième voiture\", fontsize=14)\n",
    "\n",
    "# Afficher le graphique\n",
    "plt.tight_layout()\n",
    "plt.show()\n"
   ]
  },
  {
   "cell_type": "markdown",
   "id": "fa40048d-3561-404a-999a-a7d280e26248",
   "metadata": {
    "papermill": {
     "duration": null,
     "end_time": null,
     "exception": null,
     "start_time": null,
     "status": "pending"
    },
    "tags": []
   },
   "source": [
    "# Traitement col immatriculation"
   ]
  },
  {
   "cell_type": "code",
   "execution_count": null,
   "id": "740075c5-69fa-4f5f-9e90-914db2e5dc63",
   "metadata": {
    "papermill": {
     "duration": null,
     "end_time": null,
     "exception": null,
     "start_time": null,
     "status": "pending"
    },
    "tags": []
   },
   "outputs": [],
   "source": [
    "# Filtrer les lignes avec des valeurs manquantes dans la colonne 'immatriculation'\n",
    "df_client = df_client.na.drop(subset=[\"immatriculation\"])"
   ]
  },
  {
   "cell_type": "markdown",
   "id": "96b584c2-e315-42f2-b5e3-e0d3f6260712",
   "metadata": {
    "papermill": {
     "duration": null,
     "end_time": null,
     "exception": null,
     "start_time": null,
     "status": "pending"
    },
    "tags": []
   },
   "source": [
    "# Traitement col sexe"
   ]
  },
  {
   "cell_type": "code",
   "execution_count": null,
   "id": "7a691b06-9a53-4141-8818-794203470b7f",
   "metadata": {
    "papermill": {
     "duration": null,
     "end_time": null,
     "exception": null,
     "start_time": null,
     "status": "pending"
    },
    "tags": []
   },
   "outputs": [],
   "source": [
    "\n",
    "# Compter les occurrences des valeurs dans la colonne sexe\n",
    "sexe_distribution = df_client.groupBy(\"sexe\").count()\n",
    "sexe_distribution.show()\n"
   ]
  },
  {
   "cell_type": "code",
   "execution_count": null,
   "id": "4ae77c55-b7fc-4753-904d-2e6a776cb988",
   "metadata": {
    "papermill": {
     "duration": null,
     "end_time": null,
     "exception": null,
     "start_time": null,
     "status": "pending"
    },
    "tags": []
   },
   "outputs": [],
   "source": [
    "\n",
    "# Normaliser les valeurs de la colonne 'sexe'\n",
    "df_client = df_client.withColumn(\n",
    "    \"sexe\",\n",
    "    when(col(\"sexe\").isin(\"M\", \"Masculin\", \"Homme\"), \"Homme\")  \n",
    "    .when(col(\"sexe\").isin(\"F\", \"Femme\", \"Féminin\", \"F�minin\"), \"Femme\")  \n",
    "    .otherwise(\"Inconnu\")  \n",
    ")\n",
    "\n",
    "# Filtrer pour supprimer les clients avec sexe 'Inconnu'\n",
    "df_client = df_client.filter(col(\"sexe\") != \"Inconnu\")\n",
    "\n"
   ]
  },
  {
   "cell_type": "code",
   "execution_count": null,
   "id": "83b8c6e9-bea9-47f6-8b06-2c33426c2243",
   "metadata": {
    "papermill": {
     "duration": null,
     "end_time": null,
     "exception": null,
     "start_time": null,
     "status": "pending"
    },
    "tags": []
   },
   "outputs": [],
   "source": [
    "\n",
    "# Étape 2 : Compter les occurrences des valeurs dans la colonne 'sexe'\n",
    "sexe_distribution = df_client.groupBy(\"sexe\").count()\n",
    "sexe_distribution_pd = sexe_distribution.toPandas()\n",
    "\n",
    "# Étape 3 : Calcul des pourcentages\n",
    "total_count = sexe_distribution_pd[\"count\"].sum()\n",
    "sexe_distribution_pd[\"percentage\"] = (sexe_distribution_pd[\"count\"] / total_count) * 100\n",
    "\n",
    "# Étape 4 : Création du diagramme circulaire\n",
    "plt.figure(figsize=(8, 8))\n",
    "plt.pie(\n",
    "    sexe_distribution_pd[\"percentage\"],\n",
    "    labels=sexe_distribution_pd[\"sexe\"],\n",
    "    autopct='%1.1f%%',\n",
    "    startangle=90,\n",
    "    colors=[\"#66c2a5\", \"#fc8d62\", \"#8da0cb\"],  # Couleurs pour \"Homme\", \"Femme\", et \"Inconnu\"\n",
    "    wedgeprops={'linewidth': 1, 'edgecolor': 'white'}  # Bordure blanche pour séparer les sections\n",
    ")\n",
    "\n",
    "# Ajouter un titre\n",
    "plt.title(\"Répartition des clients par sexe après normalisation (%)\", fontsize=14)\n",
    "\n",
    "# Afficher le graphique\n",
    "plt.tight_layout()\n",
    "plt.show()"
   ]
  },
  {
   "cell_type": "code",
   "execution_count": null,
   "id": "13d2af5a-8e7f-42f1-bd62-28ee8a59557a",
   "metadata": {
    "papermill": {
     "duration": null,
     "end_time": null,
     "exception": null,
     "start_time": null,
     "status": "pending"
    },
    "tags": []
   },
   "outputs": [],
   "source": [
    "df_client.show()"
   ]
  },
  {
   "cell_type": "code",
   "execution_count": null,
   "id": "23c79bcf-d8ea-4385-9121-41c72e10dd5b",
   "metadata": {
    "papermill": {
     "duration": null,
     "end_time": null,
     "exception": null,
     "start_time": null,
     "status": "pending"
    },
    "tags": []
   },
   "outputs": [],
   "source": [
    "df_client.write.mode(\"overwrite\").saveAsTable(\"client_processed\")"
   ]
  },
  {
   "cell_type": "code",
   "execution_count": null,
   "id": "63c48bd9-9ffd-46f5-a942-f782ff53fc4c",
   "metadata": {
    "papermill": {
     "duration": null,
     "end_time": null,
     "exception": null,
     "start_time": null,
     "status": "pending"
    },
    "tags": []
   },
   "outputs": [],
   "source": [
    "print(\"Hello world\")"
   ]
  }
 ],
 "metadata": {
  "kernelspec": {
   "display_name": "Python 3 (ipykernel)",
   "language": "python",
   "name": "python3"
  },
  "language_info": {
   "codemirror_mode": {
    "name": "ipython",
    "version": 3
   },
   "file_extension": ".py",
   "mimetype": "text/x-python",
   "name": "python",
   "nbconvert_exporter": "python",
   "pygments_lexer": "ipython3",
   "version": "3.11.6"
  },
  "papermill": {
   "default_parameters": {},
   "duration": 1.186909,
   "end_time": "2024-11-18T08:45:04.300896",
   "environment_variables": {},
   "exception": true,
   "input_path": "/home/jovyan/work/1_clean_client_et_marketing.ipynb",
   "output_path": "/home/jovyan/work/executed/1_clean_client_et_marketing.ipynb",
   "parameters": {},
   "start_time": "2024-11-18T08:45:03.113987",
   "version": "2.6.0"
  }
 },
 "nbformat": 4,
 "nbformat_minor": 5
}