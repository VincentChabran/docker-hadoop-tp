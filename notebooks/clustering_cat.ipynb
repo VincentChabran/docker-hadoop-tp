{
 "cells": [
  {
   "cell_type": "code",
   "execution_count": 66,
   "id": "6165d637ebbdf5c",
   "metadata": {
    "collapsed": false,
    "ExecuteTime": {
     "end_time": "2024-11-22T12:47:09.390573900Z",
     "start_time": "2024-11-22T12:47:09.251524200Z"
    }
   },
   "outputs": [],
   "source": [
    "from pyspark.sql import SparkSession\n",
    "from pyspark.sql import functions as F\n",
    "from pyspark.sql.functions import when, col, lit\n",
    "from pyspark.ml.feature import VectorAssembler, MinMaxScaler, PCA\n",
    "from pyspark.ml.clustering import KMeans\n",
    "from pyspark.ml.evaluation import ClusteringEvaluator\n",
    "import matplotlib.pyplot as plt"
   ]
  },
  {
   "cell_type": "code",
   "execution_count": 67,
   "outputs": [
    {
     "name": "stdout",
     "output_type": "stream",
     "text": [
      "Session Spark initialisée avec succès.\n",
      "Nombre de lignes dans le DataFrame initial : 275\n",
      "+----------+-------+-------------+-------------------+--------+--------+--------+-------+--------+-------+-----------+----------+------------+----------------+\n",
      "|marque    |modele |modele_detail|unified_horse_power|longueur|nbplaces|nbportes|couleur|occasion|prix   |bonus_malus|rejets_co2|cout_energie|rejets_co2_group|\n",
      "+----------+-------+-------------+-------------------+--------+--------+--------+-------+--------+-------+-----------+----------+------------+----------------+\n",
      "|renault   |laguna |2.0T         |170.0              |longue  |5       |5       |gris   |true    |19110.0|-6000.0    |0.0       |206.0       |0               |\n",
      "|kia       |picanto|1.1          |65.0               |courte  |5       |5       |bleu   |false   |8990.0 |-6000.0    |15.5      |132.8       |15              |\n",
      "|peugeot   |1007   |1.4          |75.0               |courte  |5       |5       |bleu   |true    |9625.0 |-6000.0    |12.8      |159.6       |10              |\n",
      "|volkswagen|polo   |1.2 6V       |55.0               |courte  |5       |3       |bleu   |false   |12200.0|-6000.0    |13.3      |149.3       |10              |\n",
      "|mercedes  |a200   |             |136.0              |moyenne |5       |5       |blanc  |true    |18130.0|7772.1     |171.2     |686.3       |170             |\n",
      "+----------+-------+-------------+-------------------+--------+--------+--------+-------+--------+-------+-----------+----------+------------+----------------+\n",
      "only showing top 5 rows\n"
     ]
    }
   ],
   "source": [
    "\n",
    "# Initialisation de la session Spark\n",
    "spark = SparkSession.builder \\\n",
    "    .appName(\"Clustering Véhicules\") \\\n",
    "    .enableHiveSupport() \\\n",
    "    .config(\"spark.hadoop.hive.metastore.uris\", \"thrift://hive-metastore:9083\") \\\n",
    "    .getOrCreate()\n",
    "print(\"Session Spark initialisée avec succès.\")\n",
    "spark.sql(\"USE concessionnaire\")\n",
    "\n",
    "# Charger les données\n",
    "catalogue_df = spark.sql(\"SELECT * FROM catalogue_co2_merge_processed\")\n",
    "print(f\"Nombre de lignes dans le DataFrame initial : {catalogue_df.count()}\")\n",
    "catalogue_df.show(5, truncate=False)"
   ],
   "metadata": {
    "collapsed": false,
    "ExecuteTime": {
     "end_time": "2024-11-22T12:47:09.609954900Z",
     "start_time": "2024-11-22T12:47:09.256310600Z"
    }
   },
   "id": "175a189147b01787"
  },
  {
   "cell_type": "code",
   "execution_count": 68,
   "outputs": [
    {
     "name": "stdout",
     "output_type": "stream",
     "text": [
      "Données normalisées prêtes pour le clustering :\n",
      "+--------------------------------------------------------------------------+\n",
      "|features                                                                  |\n",
      "+--------------------------------------------------------------------------+\n",
      "|[0.12377398720682303,0.25442477876106195,0.0,0.0,0.0,1.0]                 |\n",
      "|[0.015884861407249467,0.022123893805309734,0.0905373831775701,0.0,0.0,1.0]|\n",
      "|[0.0226545842217484,0.04424778761061947,0.07476635514018692,0.0,0.0,1.0]  |\n",
      "|(6,[0,2],[0.050106609808102345,0.07768691588785048])                      |\n",
      "|[0.11332622601279317,0.17920353982300885,1.0,0.9999999999999999,0.0,1.0]  |\n",
      "+--------------------------------------------------------------------------+\n",
      "only showing top 5 rows\n"
     ]
    }
   ],
   "source": [
    "\n",
    "# Étape 1 : Préparation des données pour le clustering\n",
    "numerical_cols = ['prix', 'unified_horse_power', 'rejets_co2', 'bonus_malus', 'nbplaces', 'nbportes']\n",
    "clustering_df = catalogue_df.select(\n",
    "    *[col(c).cast('double').alias(c) for c in numerical_cols],\n",
    "    'marque', 'modele'\n",
    ").fillna({c: 0 for c in numerical_cols})\n",
    "\n",
    "assembler = VectorAssembler(inputCols=numerical_cols, outputCol='features_raw')\n",
    "assembled_df = assembler.transform(clustering_df)\n",
    "\n",
    "scaler = MinMaxScaler(inputCol='features_raw', outputCol='features')\n",
    "scaled_df = scaler.fit(assembled_df).transform(assembled_df)\n",
    "\n",
    "print(\"Données normalisées prêtes pour le clustering :\")\n",
    "scaled_df.select(\"features\").show(5, truncate=False)"
   ],
   "metadata": {
    "collapsed": false,
    "ExecuteTime": {
     "end_time": "2024-11-22T12:47:09.846464200Z",
     "start_time": "2024-11-22T12:47:09.588116600Z"
    }
   },
   "id": "9f0046140ae6268d"
  },
  {
   "cell_type": "code",
   "execution_count": 69,
   "outputs": [],
   "source": [
    "\n",
    "# Étape 2 : Clustering avec K-Means\n",
    "k = 9\n",
    "kmeans = KMeans(featuresCol='features', k=k, seed=1)\n",
    "model = kmeans.fit(scaled_df)\n",
    "clustered_df = model.transform(scaled_df)"
   ],
   "metadata": {
    "collapsed": false,
    "ExecuteTime": {
     "end_time": "2024-11-22T12:47:10.416585300Z",
     "start_time": "2024-11-22T12:47:09.821776800Z"
    }
   },
   "id": "537fa7f8c1a8196e"
  },
  {
   "cell_type": "code",
   "execution_count": 70,
   "outputs": [
    {
     "name": "stdout",
     "output_type": "stream",
     "text": [
      "Score de silhouette pour k=9: 0.8405\n"
     ]
    }
   ],
   "source": [
    "\n",
    "# Calcul du score de silhouette\n",
    "evaluator = ClusteringEvaluator(featuresCol='features', metricName='silhouette')\n",
    "silhouette_score = evaluator.evaluate(clustered_df)\n",
    "print(f\"Score de silhouette pour k={k}: {silhouette_score:.4f}\")"
   ],
   "metadata": {
    "collapsed": false,
    "ExecuteTime": {
     "end_time": "2024-11-22T12:47:10.650121100Z",
     "start_time": "2024-11-22T12:47:10.419254Z"
    }
   },
   "id": "2e4342569353df6c"
  },
  {
   "cell_type": "code",
   "execution_count": 71,
   "outputs": [
    {
     "name": "stdout",
     "output_type": "stream",
     "text": [
      "\n",
      "--- Répartition des clusters ---\n",
      "+----------+-----+\n",
      "|prediction|count|\n",
      "+----------+-----+\n",
      "|         0|   10|\n",
      "|         1|  125|\n",
      "|         2|   25|\n",
      "|         3|   10|\n",
      "|         4|   10|\n",
      "|         5|   25|\n",
      "|         6|   20|\n",
      "|         7|   40|\n",
      "|         8|   10|\n",
      "+----------+-----+\n",
      "\n",
      "\n",
      "--- Statistiques des clusters ---\n",
      "+----------+-----+---------+------------------------+------------------+------------------+-------------+-------------+------------------+--------------------------+------------------+------------------+---------------+---------------+\n",
      "|prediction|count|mean_prix|mean_unified_horse_power|mean_rejets_co2   |mean_bonus_malus  |mean_nbplaces|mean_nbportes|stddev_prix       |stddev_unified_horse_power|stddev_rejets_co2 |stddev_bonus_malus|stddev_nbplaces|stddev_nbportes|\n",
      "+----------+-----+---------+------------------------+------------------+------------------+-------------+-------------+------------------+--------------------------+------------------+------------------+---------------+---------------+\n",
      "|1         |125  |23305.44 |143.8                   |18.371999999999993|-6000.0           |5.0          |5.0          |9563.971438888291 |49.93140455955873         |15.470641290375905|0.0               |0.0            |0.0            |\n",
      "|6         |20   |24518.25 |157.5                   |6.65              |-6000.0           |7.0          |5.0          |4634.902961284769 |7.694837640638652         |6.822756041366275 |0.0               |0.0            |0.0            |\n",
      "|3         |10   |86105.0  |306.0                   |171.20000000000002|7772.1            |5.0          |5.0          |16016.93634875284 |0.0                       |0.0               |0.0               |0.0            |0.0            |\n",
      "|5         |25   |21826.0  |139.2                   |164.48            |6590.279999999999 |5.0          |5.0          |5324.0906891850245|32.96083534540147         |5.599999999999996 |984.8500000000005 |0.0            |0.0            |\n",
      "|4         |10   |80580.0  |507.0                   |38.699999999999996|-6000.0           |5.0          |5.0          |14989.196109198117|0.0                       |0.0               |0.0               |0.0            |0.0            |\n",
      "|8         |10   |42925.0  |272.0                   |42.10000000000001 |0.0               |5.0          |5.0          |7984.751091925158 |0.0                       |0.0               |0.0               |0.0            |0.0            |\n",
      "|2         |25   |10508.0  |69.6                    |78.22             |-867.18           |5.0          |3.0          |2018.4709559466046|17.03672503740082         |54.1              |4277.35           |0.0            |0.0            |\n",
      "|7         |40   |21844.5  |129.5                   |121.5             |2554.699999999998 |5.0          |5.0          |8632.989603096918 |22.101165997782516        |0.0               |0.0               |0.0            |0.0            |\n",
      "|0         |10   |17755.0  |114.0                   |121.5             |2554.7000000000003|7.0          |5.0          |1892.09613333408  |11.595018087284059        |0.0               |0.0               |0.0            |0.0            |\n",
      "+----------+-----+---------+------------------------+------------------+------------------+-------------+-------------+------------------+--------------------------+------------------+------------------+---------------+---------------+\n"
     ]
    }
   ],
   "source": [
    "\n",
    "# Étape 3 : Analyse des clusters\n",
    "print(\"\\n--- Répartition des clusters ---\")\n",
    "clustered_df.groupBy('prediction').count().orderBy('prediction').show()\n",
    "\n",
    "print(\"\\n--- Statistiques des clusters ---\")\n",
    "cluster_stats = clustered_df.groupBy('prediction').agg(\n",
    "    F.count('*').alias('count'),\n",
    "    *[F.mean(c).alias(f'mean_{c}') for c in numerical_cols],\n",
    "    *[F.stddev(c).alias(f'stddev_{c}') for c in numerical_cols]\n",
    ")\n",
    "cluster_stats.show(truncate=False)"
   ],
   "metadata": {
    "collapsed": false,
    "ExecuteTime": {
     "end_time": "2024-11-22T12:47:10.962822900Z",
     "start_time": "2024-11-22T12:47:10.652274300Z"
    }
   },
   "id": "5d44266f773ec300"
  },
  {
   "cell_type": "code",
   "execution_count": 72,
   "outputs": [
    {
     "name": "stdout",
     "output_type": "stream",
     "text": [
      "\n",
      "--- Réduction de dimensions avec PCA ---\n"
     ]
    },
    {
     "data": {
      "text/plain": "<Figure size 1000x600 with 2 Axes>",
      "image/png": "[encoded data removed]"
     },
     "metadata": {},
     "output_type": "display_data"
    }
   ],
   "source": [
    "\n",
    "# Étape 4 : Réduction de dimensions pour visualisation\n",
    "print(\"\\n--- Réduction de dimensions avec PCA ---\")\n",
    "pca = PCA(k=2, inputCol=\"features\", outputCol=\"pca_features\")\n",
    "pca_model = pca.fit(clustered_df)\n",
    "pca_df = pca_model.transform(clustered_df)\n",
    "\n",
    "# Collecte des données pour Matplotlib\n",
    "pca_data = pca_df.select(\"pca_features\", \"prediction\").rdd.map(\n",
    "    lambda row: (row[\"pca_features\"][0], row[\"pca_features\"][1], row[\"prediction\"])\n",
    ").collect()\n",
    "\n",
    "x_coords = [x[0] for x in pca_data]\n",
    "y_coords = [x[1] for x in pca_data]\n",
    "predictions = [x[2] for x in pca_data]\n",
    "\n",
    "# Visualisation des clusters\n",
    "plt.figure(figsize=(10, 6))\n",
    "scatter = plt.scatter(x_coords, y_coords, c=predictions, cmap=\"tab10\", alpha=0.7)\n",
    "plt.colorbar(scatter, label=\"Cluster\")\n",
    "plt.title(f\"Visualisation des clusters (PCA) - Silhouette Score: {silhouette_score:.4f}\")\n",
    "plt.xlabel(\"Composante principale 1\")\n",
    "plt.ylabel(\"Composante principale 2\")\n",
    "plt.grid(True)\n",
    "plt.show()"
   ],
   "metadata": {
    "collapsed": false,
    "ExecuteTime": {
     "end_time": "2024-11-22T12:47:12.303239900Z",
     "start_time": "2024-11-22T12:47:10.962822900Z"
    }
   },
   "id": "9cc4c0db08991d8b"
  },
  {
   "cell_type": "code",
   "execution_count": 73,
   "outputs": [
    {
     "name": "stdout",
     "output_type": "stream",
     "text": [
      "\n",
      "--- Exemples pour chaque cluster ---\n",
      "\n",
      "--- Exemples pour le cluster 1 ---\n",
      "+----------+----------+-------+-------------------+----------+-----------+--------+--------+\n",
      "|marque    |modele    |prix   |unified_horse_power|rejets_co2|bonus_malus|nbplaces|nbportes|\n",
      "+----------+----------+-------+-------------------+----------+-----------+--------+--------+\n",
      "|renault   |laguna    |19110.0|170.0              |0.0       |-6000.0    |5.0     |5.0     |\n",
      "|kia       |picanto   |8990.0 |65.0               |15.5      |-6000.0    |5.0     |5.0     |\n",
      "|peugeot   |1007      |9625.0 |75.0               |12.8      |-6000.0    |5.0     |5.0     |\n",
      "|renault   |megane    |22350.0|135.0              |0.0       |-6000.0    |5.0     |5.0     |\n",
      "|volkswagen|new beatle|26630.0|110.0              |13.3      |-6000.0    |5.0     |5.0     |\n",
      "+----------+----------+-------+-------------------+----------+-----------+--------+--------+\n",
      "only showing top 5 rows\n",
      "\n",
      "\n",
      "--- Exemples pour le cluster 6 ---\n",
      "+----------+------+-------+-------------------+----------+-----------+--------+--------+\n",
      "|marque    |modele|prix   |unified_horse_power|rejets_co2|bonus_malus|nbplaces|nbportes|\n",
      "+----------+------+-------+-------------------+----------+-----------+--------+--------+\n",
      "|volkswagen|touran|27340.0|150.0              |13.3      |-6000.0    |7.0     |5.0     |\n",
      "|renault   |espace|21245.0|165.0              |0.0       |-6000.0    |7.0     |5.0     |\n",
      "|volkswagen|touran|27340.0|150.0              |13.3      |-6000.0    |7.0     |5.0     |\n",
      "|renault   |espace|30350.0|165.0              |0.0       |-6000.0    |7.0     |5.0     |\n",
      "|renault   |espace|21245.0|165.0              |0.0       |-6000.0    |7.0     |5.0     |\n",
      "+----------+------+-------+-------------------+----------+-----------+--------+--------+\n",
      "only showing top 5 rows\n",
      "\n",
      "\n",
      "--- Exemples pour le cluster 3 ---\n",
      "+--------+------+--------+-------------------+----------+-----------+--------+--------+\n",
      "|marque  |modele|prix    |unified_horse_power|rejets_co2|bonus_malus|nbplaces|nbportes|\n",
      "+--------+------+--------+-------------------+----------+-----------+--------+--------+\n",
      "|mercedes|s500  |70910.0 |306.0              |171.2     |7772.1     |5.0     |5.0     |\n",
      "|mercedes|s500  |101300.0|306.0              |171.2     |7772.1     |5.0     |5.0     |\n",
      "|mercedes|s500  |70910.0 |306.0              |171.2     |7772.1     |5.0     |5.0     |\n",
      "|mercedes|s500  |101300.0|306.0              |171.2     |7772.1     |5.0     |5.0     |\n",
      "|mercedes|s500  |101300.0|306.0              |171.2     |7772.1     |5.0     |5.0     |\n",
      "+--------+------+--------+-------------------+----------+-----------+--------+--------+\n",
      "only showing top 5 rows\n",
      "\n",
      "\n",
      "--- Exemples pour le cluster 5 ---\n",
      "+--------+------+-------+-------------------+----------+-----------+--------+--------+\n",
      "|marque  |modele|prix   |unified_horse_power|rejets_co2|bonus_malus|nbplaces|nbportes|\n",
      "+--------+------+-------+-------------------+----------+-----------+--------+--------+\n",
      "|mercedes|a200  |18130.0|136.0              |171.2     |7772.1     |5.0     |5.0     |\n",
      "|mercedes|a200  |18130.0|136.0              |171.2     |7772.1     |5.0     |5.0     |\n",
      "|mercedes|a200  |25900.0|136.0              |171.2     |7772.1     |5.0     |5.0     |\n",
      "|mercedes|a200  |18130.0|136.0              |171.2     |7772.1     |5.0     |5.0     |\n",
      "|nissan  |maxima|30000.0|200.0              |160.0     |5802.4     |5.0     |5.0     |\n",
      "+--------+------+-------+-------------------+----------+-----------+--------+--------+\n",
      "only showing top 5 rows\n",
      "\n",
      "\n",
      "--- Exemples pour le cluster 4 ---\n",
      "+------+------+-------+-------------------+----------+-----------+--------+--------+\n",
      "|marque|modele|prix   |unified_horse_power|rejets_co2|bonus_malus|nbplaces|nbportes|\n",
      "+------+------+-------+-------------------+----------+-----------+--------+--------+\n",
      "|bmw   |m5    |66360.0|507.0              |38.7      |-6000.0    |5.0     |5.0     |\n",
      "|bmw   |m5    |94800.0|507.0              |38.7      |-6000.0    |5.0     |5.0     |\n",
      "|bmw   |m5    |94800.0|507.0              |38.7      |-6000.0    |5.0     |5.0     |\n",
      "|bmw   |m5    |94800.0|507.0              |38.7      |-6000.0    |5.0     |5.0     |\n",
      "|bmw   |m5    |66360.0|507.0              |38.7      |-6000.0    |5.0     |5.0     |\n",
      "+------+------+-------+-------------------+----------+-----------+--------+--------+\n",
      "only showing top 5 rows\n",
      "\n",
      "\n",
      "--- Exemples pour le cluster 8 ---\n",
      "+------+------+-------+-------------------+----------+-----------+--------+--------+\n",
      "|marque|modele|prix   |unified_horse_power|rejets_co2|bonus_malus|nbplaces|nbportes|\n",
      "+------+------+-------+-------------------+----------+-----------+--------+--------+\n",
      "|volvo |s80 t6|35350.0|272.0              |42.1      |0.0        |5.0     |5.0     |\n",
      "|volvo |s80 t6|50500.0|272.0              |42.1      |0.0        |5.0     |5.0     |\n",
      "|volvo |s80 t6|35350.0|272.0              |42.1      |0.0        |5.0     |5.0     |\n",
      "|volvo |s80 t6|35350.0|272.0              |42.1      |0.0        |5.0     |5.0     |\n",
      "|volvo |s80 t6|35350.0|272.0              |42.1      |0.0        |5.0     |5.0     |\n",
      "+------+------+-------+-------------------+----------+-----------+--------+--------+\n",
      "only showing top 5 rows\n",
      "\n",
      "\n",
      "--- Exemples pour le cluster 2 ---\n",
      "+----------+------+-------+-------------------+----------+-----------+--------+--------+\n",
      "|marque    |modele|prix   |unified_horse_power|rejets_co2|bonus_malus|nbplaces|nbportes|\n",
      "+----------+------+-------+-------------------+----------+-----------+--------+--------+\n",
      "|volkswagen|polo  |12200.0|55.0               |13.3      |-6000.0    |5.0     |3.0     |\n",
      "|volkswagen|polo  |8540.0 |55.0               |13.3      |-6000.0    |5.0     |3.0     |\n",
      "|volkswagen|polo  |12200.0|55.0               |13.3      |-6000.0    |5.0     |3.0     |\n",
      "|volkswagen|polo  |8540.0 |55.0               |13.3      |-6000.0    |5.0     |3.0     |\n",
      "|volkswagen|polo  |8540.0 |55.0               |13.3      |-6000.0    |5.0     |3.0     |\n",
      "+----------+------+-------+-------------------+----------+-----------+--------+--------+\n",
      "only showing top 5 rows\n",
      "\n",
      "\n",
      "--- Exemples pour le cluster 7 ---\n",
      "+------+------+-------+-------------------+----------+-----------+--------+--------+\n",
      "|marque|modele|prix   |unified_horse_power|rejets_co2|bonus_malus|nbplaces|nbportes|\n",
      "+------+------+-------+-------------------+----------+-----------+--------+--------+\n",
      "|ford  |mondeo|16730.0|125.0              |121.5     |2554.7     |5.0     |5.0     |\n",
      "|fiat  |croma |17346.0|147.0              |121.5     |2554.7     |5.0     |5.0     |\n",
      "|saab  |9.3   |27020.0|150.0              |121.5     |2554.7     |5.0     |5.0     |\n",
      "|dacia |logan |7500.0 |90.0               |121.5     |2554.7     |5.0     |5.0     |\n",
      "|saab  |9.3   |38600.0|150.0              |121.5     |2554.7     |5.0     |5.0     |\n",
      "+------+------+-------+-------------------+----------+-----------+--------+--------+\n",
      "only showing top 5 rows\n",
      "\n",
      "\n",
      "--- Exemples pour le cluster 0 ---\n",
      "+-------+------+-------+-------------------+----------+-----------+--------+--------+\n",
      "|marque |modele|prix   |unified_horse_power|rejets_co2|bonus_malus|nbplaces|nbportes|\n",
      "+-------+------+-------+-------------------+----------+-----------+--------+--------+\n",
      "|honda  |fr-v  |19550.0|125.0              |121.5     |2554.7     |7.0     |5.0     |\n",
      "|hyundaï|matrix|15960.0|103.0              |121.5     |2554.7     |7.0     |5.0     |\n",
      "|honda  |fr-v  |19550.0|125.0              |121.5     |2554.7     |7.0     |5.0     |\n",
      "|hyundaï|matrix|15960.0|103.0              |121.5     |2554.7     |7.0     |5.0     |\n",
      "|honda  |fr-v  |19550.0|125.0              |121.5     |2554.7     |7.0     |5.0     |\n",
      "+-------+------+-------+-------------------+----------+-----------+--------+--------+\n",
      "only showing top 5 rows\n"
     ]
    }
   ],
   "source": [
    "# Étape 5 : Vérification des catégories\n",
    "print(\"\\n--- Exemples pour chaque cluster ---\")\n",
    "categories = clustered_df.select(\"prediction\").distinct().rdd.flatMap(lambda x: x).collect()\n",
    "for cluster in categories:\n",
    "    print(f\"\\n--- Exemples pour le cluster {cluster} ---\")\n",
    "    clustered_df.filter(col(\"prediction\") == cluster).select(\n",
    "        \"marque\", \"modele\", \"prix\", \"unified_horse_power\", \"rejets_co2\", \"bonus_malus\",\"nbplaces\", \"nbportes\"\n",
    "    ).show(5, truncate=False)"
   ],
   "metadata": {
    "collapsed": false,
    "ExecuteTime": {
     "end_time": "2024-11-22T12:47:13.237307800Z",
     "start_time": "2024-11-22T12:47:12.304849300Z"
    }
   },
   "id": "c5268fa03ee3a409"
  },
  {
   "cell_type": "code",
   "execution_count": 74,
   "id": "375e641a409020",
   "metadata": {
    "collapsed": false,
    "ExecuteTime": {
     "end_time": "2024-11-22T12:47:13.370135Z",
     "start_time": "2024-11-22T12:47:13.238448700Z"
    }
   },
   "outputs": [
    {
     "name": "stdout",
     "output_type": "stream",
     "text": [
      "+----------+-----+\n",
      "|prediction|count|\n",
      "+----------+-----+\n",
      "|         1|  125|\n",
      "|         6|   20|\n",
      "|         3|   10|\n",
      "|         5|   25|\n",
      "|         4|   10|\n",
      "|         8|   10|\n",
      "|         2|   25|\n",
      "|         7|   40|\n",
      "|         0|   10|\n",
      "+----------+-----+\n"
     ]
    }
   ],
   "source": [
    "clustered_df.groupBy(\"prediction\").count().show()"
   ]
  },
  {
   "cell_type": "code",
   "execution_count": 75,
   "outputs": [
    {
     "name": "stdout",
     "output_type": "stream",
     "text": [
      "Modèle K-Means sauvegardé dans HDFS : hdfs://namenode:9000/models/kmeans_modelk9\n"
     ]
    }
   ],
   "source": [
    "model_path = \"hdfs://namenode:9000/models/kmeans_modelk9\"\n",
    "model.write().overwrite().save(model_path)\n",
    "print(f\"Modèle K-Means sauvegardé dans HDFS : {model_path}\")"
   ],
   "metadata": {
    "collapsed": false,
    "ExecuteTime": {
     "end_time": "2024-11-22T12:47:14.351931900Z",
     "start_time": "2024-11-22T12:47:13.372827100Z"
    }
   },
   "id": "e592d8a93a240b9c"
  },
  {
   "cell_type": "code",
   "execution_count": 76,
   "outputs": [],
   "source": [
    "from pyspark.sql import SparkSession\n",
    "from pyspark.sql import functions as F\n",
    "from pyspark.sql.functions import col, lit, when, lower, trim, coalesce\n",
    "from pyspark.ml.feature import VectorAssembler, MinMaxScaler\n",
    "from pyspark.ml.clustering import KMeansModel\n",
    "from pyspark.ml.evaluation import ClusteringEvaluator\n",
    "import matplotlib.pyplot as plt\n",
    "from sklearn.decomposition import PCA as skPCA"
   ],
   "metadata": {
    "collapsed": false,
    "ExecuteTime": {
     "end_time": "2024-11-22T12:47:14.351931900Z",
     "start_time": "2024-11-22T12:47:14.349226500Z"
    }
   },
   "id": "cc1b7dd04fe05b53"
  },
  {
   "cell_type": "code",
   "execution_count": 77,
   "outputs": [
    {
     "name": "stdout",
     "output_type": "stream",
     "text": [
      "Session Spark initialisée avec succès.\n",
      "Nombre de lignes dans le DataFrame d'entraînement : 275\n",
      "+----------+-------+-------------+-------------------+--------+--------+--------+-------+--------+-------+-----------+----------+------------+----------------+\n",
      "|marque    |modele |modele_detail|unified_horse_power|longueur|nbplaces|nbportes|couleur|occasion|prix   |bonus_malus|rejets_co2|cout_energie|rejets_co2_group|\n",
      "+----------+-------+-------------+-------------------+--------+--------+--------+-------+--------+-------+-----------+----------+------------+----------------+\n",
      "|renault   |laguna |2.0T         |170.0              |longue  |5       |5       |gris   |true    |19110.0|-6000.0    |0.0       |206.0       |0               |\n",
      "|kia       |picanto|1.1          |65.0               |courte  |5       |5       |bleu   |false   |8990.0 |-6000.0    |15.5      |132.8       |15              |\n",
      "|peugeot   |1007   |1.4          |75.0               |courte  |5       |5       |bleu   |true    |9625.0 |-6000.0    |12.8      |159.6       |10              |\n",
      "|volkswagen|polo   |1.2 6V       |55.0               |courte  |5       |3       |bleu   |false   |12200.0|-6000.0    |13.3      |149.3       |10              |\n",
      "|mercedes  |a200   |             |136.0              |moyenne |5       |5       |blanc  |true    |18130.0|7772.1     |171.2     |686.3       |170             |\n",
      "+----------+-------+-------------+-------------------+--------+--------+--------+-------+--------+-------+-----------+----------+------------+----------------+\n",
      "only showing top 5 rows\n",
      "Nombre de lignes dans le DataFrame des nouvelles données : 98816\n",
      "+---------------+---+-----+----+-------------------+---------------+---------------+-------+---------+-----------+--------+--------+-------+--------+-------+------+\n",
      "|immatriculation|age|sexe |taux|situationfamilliale|nbenfantacharge|deuxiemevoiture|marque |puissance|longueur   |nbplaces|nbportes|couleur|occasion|prix   |modele|\n",
      "+---------------+---+-----+----+-------------------+---------------+---------------+-------+---------+-----------+--------+--------+-------+--------+-------+------+\n",
      "|1 RG 91        |26 |Femme|436 |En Couple          |3              |false          |Renault|245      |très longue|5       |5       |gris   |false   |49200.0|Vel   |\n",
      "|1007 VU 35     |25 |Femme|874 |En Couple          |3              |false          |BMW    |507      |très longue|5       |5       |blanc  |false   |94800.0|M5    |\n",
      "|1008 YI 95     |27 |Femme|217 |En Couple          |3              |true           |Skoda  |193      |très longue|5       |5       |noir   |false   |31790.0|Superb|\n",
      "|1010 EP 81     |84 |Femme|461 |En Couple          |1              |false          |Saab   |150      |longue     |5       |5       |bleu   |true    |27020.0|9.3   |\n",
      "|1017 IM 82     |44 |Homme|1042|En Couple          |3              |false          |BMW    |507      |très longue|5       |5       |bleu   |false   |94800.0|M5    |\n",
      "+---------------+---+-----+----+-------------------+---------------+---------------+-------+---------+-----------+--------+--------+-------+--------+-------+------+\n",
      "only showing top 5 rows\n"
     ]
    }
   ],
   "source": [
    "# Initialisation de la session Spark\n",
    "spark = SparkSession.builder \\\n",
    "    .appName(\"Clustering Véhicules\") \\\n",
    "    .enableHiveSupport() \\\n",
    "    .config(\"spark.hadoop.hive.metastore.uris\", \"thrift://hive-metastore:9083\") \\\n",
    "    .getOrCreate()\n",
    "print(\"Session Spark initialisée avec succès.\")\n",
    "spark.sql(\"USE concessionnaire\")\n",
    "\n",
    "# Charger les données d'entraînement et les nouvelles données\n",
    "training_data = spark.sql(\"SELECT * FROM catalogue_co2_merge_processed\")\n",
    "new_data_df = spark.sql(\"SELECT * FROM client_immatriculation_merged\")\n",
    "\n",
    "print(f\"Nombre de lignes dans le DataFrame d'entraînement : {training_data.count()}\")\n",
    "training_data.show(5, truncate=False)\n",
    "\n",
    "print(f\"Nombre de lignes dans le DataFrame des nouvelles données : {new_data_df.count()}\")\n",
    "new_data_df.show(5, truncate=False)"
   ],
   "metadata": {
    "collapsed": false,
    "ExecuteTime": {
     "end_time": "2024-11-22T12:47:14.657192500Z",
     "start_time": "2024-11-22T12:47:14.354083600Z"
    }
   },
   "id": "faf8a463b59d92b"
  },
  {
   "cell_type": "code",
   "execution_count": 78,
   "outputs": [],
   "source": [
    "# Nettoyage des données : lowercase et trim des colonnes 'marque' et 'modele'\n",
    "new_data_df = new_data_df.withColumn(\"marque\", lower(trim(col(\"marque\"))))\n",
    "new_data_df = new_data_df.withColumn(\"modele\", lower(trim(col(\"modele\"))))"
   ],
   "metadata": {
    "collapsed": false,
    "ExecuteTime": {
     "end_time": "2024-11-22T12:47:14.673124200Z",
     "start_time": "2024-11-22T12:47:14.658789700Z"
    }
   },
   "id": "ba775ee1cc41e4a3"
  },
  {
   "cell_type": "code",
   "execution_count": 79,
   "outputs": [
    {
     "name": "stdout",
     "output_type": "stream",
     "text": [
      "Colonne 'puissance' renommée en 'unified_horse_power'.\n",
      "Colonne manquante 'rejets_co2' ajoutée avec des valeurs nulles.\n",
      "Colonne manquante 'bonus_malus' ajoutée avec des valeurs nulles.\n"
     ]
    }
   ],
   "source": [
    "# Renommer 'puissance' en 'unified_horse_power' pour correspondre au modèle entraîné\n",
    "if 'puissance' in new_data_df.columns:\n",
    "    new_data_df = new_data_df.withColumnRenamed(\"puissance\", \"unified_horse_power\")\n",
    "    print(\"Colonne 'puissance' renommée en 'unified_horse_power'.\")\n",
    "else:\n",
    "    new_data_df = new_data_df.withColumn(\"unified_horse_power\", lit(None).cast(\"double\"))\n",
    "    print(\"Colonne 'unified_horse_power' ajoutée avec des valeurs nulles.\")\n",
    "\n",
    "# Ajouter les colonnes manquantes avec des valeurs nulles\n",
    "columns_to_check = [\"prix\", \"rejets_co2\", \"bonus_malus\", \"nbplaces\", \"nbportes\"]\n",
    "for col_name in columns_to_check:\n",
    "    if col_name not in new_data_df.columns:\n",
    "        new_data_df = new_data_df.withColumn(col_name, lit(None).cast(\"double\"))\n",
    "        print(f\"Colonne manquante '{col_name}' ajoutée avec des valeurs nulles.\")"
   ],
   "metadata": {
    "collapsed": false,
    "ExecuteTime": {
     "end_time": "2024-11-22T12:47:14.703453100Z",
     "start_time": "2024-11-22T12:47:14.677417300Z"
    }
   },
   "id": "c59e396a62f009ca"
  },
  {
   "cell_type": "code",
   "execution_count": 80,
   "outputs": [
    {
     "name": "stdout",
     "output_type": "stream",
     "text": [
      "Attention : Certaines marques ou modèles n'ont pas de moyennes disponibles dans les données d'entraînement.\n",
      "+----------+------+\n",
      "|marque    |modele|\n",
      "+----------+------+\n",
      "|volkswagen|new   |\n",
      "|volvo     |s80   |\n",
      "|renault   |vel   |\n",
      "+----------+------+\n",
      "\n",
      "Les lignes avec des moyennes manquantes ont été exclues.\n",
      "Statistiques de 'rejets_co2' et 'bonus_malus' après imputation :\n",
      "+-------+------------------+------------------+\n",
      "|summary|        rejets_co2|       bonus_malus|\n",
      "+-------+------------------+------------------+\n",
      "|  count|             86303|             86303|\n",
      "|   mean| 56.50490481211639|1334.0136275680038|\n",
      "| stddev| 57.74079785270125|2411.6459491211263|\n",
      "|    min|               0.0|               0.0|\n",
      "|    max|171.20000000000002|            7772.1|\n",
      "+-------+------------------+------------------+\n"
     ]
    }
   ],
   "source": [
    "# Calcul des moyennes par modèle et par marque pour l'imputation de 'rejets_co2' et 'bonus_malus'\n",
    "avg_by_model = training_data.groupBy(\"marque\", \"modele\").agg(\n",
    "    F.avg(\"rejets_co2\").alias(\"avg_rejets_co2_model\"),\n",
    "    F.avg(\"bonus_malus\").alias(\"avg_bonus_malus_model\")\n",
    ")\n",
    "\n",
    "avg_by_marque = training_data.groupBy(\"marque\").agg(\n",
    "    F.avg(\"rejets_co2\").alias(\"avg_rejets_co2_marque\"),\n",
    "    F.avg(\"bonus_malus\").alias(\"avg_bonus_malus_marque\")\n",
    ")\n",
    "\n",
    "# Joindre les moyennes par modèle et par marque aux nouvelles données\n",
    "new_data_df = new_data_df.join(avg_by_model, on=[\"marque\", \"modele\"], how=\"left\")\n",
    "new_data_df = new_data_df.join(avg_by_marque, on=\"marque\", how=\"left\")\n",
    "\n",
    "# Vérifiez que toutes les marques et modèles dans new_data_df ont des moyennes dans training_data\n",
    "missing_avg = new_data_df.filter(\n",
    "    (col(\"avg_rejets_co2_model\").isNull()) | \n",
    "    (col(\"avg_bonus_malus_model\").isNull()) |\n",
    "    (col(\"avg_rejets_co2_marque\").isNull()) |\n",
    "    (col(\"avg_bonus_malus_marque\").isNull())\n",
    ").select(\"marque\", \"modele\").distinct()\n",
    "\n",
    "if missing_avg.count() > 0:\n",
    "    print(\"Attention : Certaines marques ou modèles n'ont pas de moyennes disponibles dans les données d'entraînement.\")\n",
    "    missing_avg.show(truncate=False)\n",
    "    # Option : Imputer ces valeurs avec des valeurs spécifiques ou les exclure\n",
    "    # Ici, nous allons les exclure pour éviter des imputations incorrectes\n",
    "    new_data_df = new_data_df.filter(\n",
    "        ~( (col(\"avg_rejets_co2_model\").isNull()) |\n",
    "           (col(\"avg_bonus_malus_model\").isNull()) |\n",
    "           (col(\"avg_rejets_co2_marque\").isNull()) |\n",
    "           (col(\"avg_bonus_malus_marque\").isNull()) )\n",
    "    )\n",
    "    print(\"Les lignes avec des moyennes manquantes ont été exclues.\")\n",
    "else:\n",
    "    print(\"Toutes les marques et modèles ont des moyennes disponibles.\")\n",
    "\n",
    "# Imputation de 'rejets_co2' en utilisant la moyenne par modèle, puis par marque\n",
    "new_data_df = new_data_df.withColumn(\n",
    "    \"rejets_co2\",\n",
    "    when(\n",
    "        (col(\"rejets_co2\").isNotNull()) & (col(\"rejets_co2\") > 0),\n",
    "        col(\"rejets_co2\")\n",
    "    ).otherwise(\n",
    "        when(\n",
    "            (col(\"avg_rejets_co2_model\").isNotNull()) & (col(\"avg_rejets_co2_model\") > 0),\n",
    "            col(\"avg_rejets_co2_model\")\n",
    "        ).otherwise(\n",
    "            when(\n",
    "                (col(\"avg_rejets_co2_marque\").isNotNull()) & (col(\"avg_rejets_co2_marque\") > 0),\n",
    "                col(\"avg_rejets_co2_marque\")\n",
    "            ).otherwise(lit(None))\n",
    "        )\n",
    "    )\n",
    ")\n",
    "\n",
    "# Imputation de 'bonus_malus' en utilisant la moyenne par modèle, puis par marque\n",
    "new_data_df = new_data_df.withColumn(\n",
    "    \"bonus_malus\",\n",
    "    when(\n",
    "        (col(\"bonus_malus\").isNotNull()) & (col(\"bonus_malus\") > 0),\n",
    "        col(\"bonus_malus\")\n",
    "    ).otherwise(\n",
    "        when(\n",
    "            (col(\"avg_bonus_malus_model\").isNotNull()) & (col(\"avg_bonus_malus_model\") > 0),\n",
    "            col(\"avg_bonus_malus_model\")\n",
    "        ).otherwise(\n",
    "            when(\n",
    "                (col(\"avg_bonus_malus_marque\").isNotNull()) & (col(\"avg_bonus_malus_marque\") > 0),\n",
    "                col(\"avg_bonus_malus_marque\")\n",
    "            ).otherwise(lit(None))\n",
    "        )\n",
    "    )\n",
    ")\n",
    "\n",
    "# Assurer que 'rejets_co2' et 'bonus_malus' sont positifs\n",
    "new_data_df = new_data_df.withColumn(\n",
    "    \"rejets_co2\",\n",
    "    when(col(\"rejets_co2\") < 0, lit(None)).otherwise(col(\"rejets_co2\"))\n",
    ").withColumn(\n",
    "    \"bonus_malus\",\n",
    "    when(col(\"bonus_malus\") < 0, lit(None)).otherwise(col(\"bonus_malus\"))\n",
    ")\n",
    "\n",
    "# Remplir les valeurs nulles restantes dans les colonnes numériques avec 0.0\n",
    "new_data_df = new_data_df.fillna({\n",
    "    \"rejets_co2\": 0.0,\n",
    "    \"bonus_malus\": 0.0,\n",
    "    \"prix\": 0.0,\n",
    "    \"nbplaces\": 0.0,\n",
    "    \"nbportes\": 0.0,\n",
    "    \"unified_horse_power\": 0.0\n",
    "})\n",
    "\n",
    "# Suppression des colonnes intermédiaires\n",
    "new_data_df = new_data_df.drop(\"avg_rejets_co2_model\", \"avg_bonus_malus_model\",\n",
    "                               \"avg_rejets_co2_marque\", \"avg_bonus_malus_marque\")\n",
    "\n",
    "# Vérification des valeurs de 'rejets_co2' et 'bonus_malus'\n",
    "print(\"Statistiques de 'rejets_co2' et 'bonus_malus' après imputation :\")\n",
    "new_data_df.select(\"rejets_co2\", \"bonus_malus\").describe().show()"
   ],
   "metadata": {
    "collapsed": false,
    "ExecuteTime": {
     "end_time": "2024-11-22T12:47:16.066498800Z",
     "start_time": "2024-11-22T12:47:14.701744800Z"
    }
   },
   "id": "556639c98bbfd7e1"
  },
  {
   "cell_type": "code",
   "execution_count": 81,
   "outputs": [
    {
     "name": "stdout",
     "output_type": "stream",
     "text": [
      "Toutes les lignes ont une colonne `features_raw` valide.\n",
      "Exemples de données normalisées :\n",
      "+--------------------------------------------------------------------------------------+\n",
      "|features                                                                              |\n",
      "+--------------------------------------------------------------------------------------+\n",
      "|[0.9307036247334755,1.0,0.22605140186915884,0.0,0.5,1.0]                              |\n",
      "|[0.258955223880597,0.3053097345132743,0.1810747663551402,0.0,0.5,1.0]                 |\n",
      "|[0.20810234541577824,0.21017699115044247,0.709696261682243,0.3287013805792514,0.5,1.0]|\n",
      "|[0.9307036247334755,1.0,0.22605140186915884,0.0,0.5,1.0]                              |\n",
      "|[0.06663113006396588,0.04424778761061947,0.07476635514018691,0.0,0.5,1.0]             |\n",
      "+--------------------------------------------------------------------------------------+\n",
      "only showing top 5 rows\n"
     ]
    }
   ],
   "source": [
    "# Assemblage des colonnes pour VectorAssembler\n",
    "numerical_cols = [\"prix\", \"unified_horse_power\", \"rejets_co2\", \"bonus_malus\", \"nbplaces\", \"nbportes\"]\n",
    "assembler = VectorAssembler(\n",
    "    inputCols=numerical_cols,\n",
    "    outputCol=\"features_raw\"\n",
    ")\n",
    "assembled_df = assembler.transform(new_data_df)\n",
    "\n",
    "# Vérification de 'features_raw'\n",
    "if assembled_df.filter(col(\"features_raw\").isNull()).count() > 0:\n",
    "    raise ValueError(\"La colonne `features_raw` contient des valeurs nulles.\")\n",
    "else:\n",
    "    print(\"Toutes les lignes ont une colonne `features_raw` valide.\")\n",
    "\n",
    "# Normalisation des données\n",
    "scaler = MinMaxScaler(inputCol=\"features_raw\", outputCol=\"features\")\n",
    "scaler_model = scaler.fit(assembled_df)\n",
    "normalized_df = scaler_model.transform(assembled_df)\n",
    "\n",
    "# Vérification des données normalisées\n",
    "print(\"Exemples de données normalisées :\")\n",
    "normalized_df.select(\"features\").show(5, truncate=False)"
   ],
   "metadata": {
    "collapsed": false,
    "ExecuteTime": {
     "end_time": "2024-11-22T12:47:17.446724800Z",
     "start_time": "2024-11-22T12:47:16.070245Z"
    }
   },
   "id": "23eda4888490e332"
  },
  {
   "cell_type": "code",
   "execution_count": 82,
   "outputs": [
    {
     "name": "stdout",
     "output_type": "stream",
     "text": [
      "Modèle K-Means chargé avec succès.\n",
      "Prédictions des clusters effectuées avec succès.\n",
      "+----------+\n",
      "|prediction|\n",
      "+----------+\n",
      "|         4|\n",
      "|         1|\n",
      "|         7|\n",
      "|         4|\n",
      "|         1|\n",
      "+----------+\n",
      "only showing top 5 rows\n",
      "\n",
      "Catégories assignées en fonction des prédictions.\n",
      "+----------+--------------------+\n",
      "|prediction|           categorie|\n",
      "+----------+--------------------+\n",
      "|         2|Citadines économi...|\n",
      "|         4|Voitures sportive...|\n",
      "|         1|     Micro Citadines|\n",
      "|         7|           Citadines|\n",
      "|         5|Citadines économi...|\n",
      "|         3|Berlines puisante...|\n",
      "|         6|    Berlines de luxe|\n",
      "|         0|Citadines compact...|\n",
      "+----------+--------------------+\n",
      "\n",
      "--- Exemples pour la catégorie : Berlines puisantes de luxe ---\n",
      "+--------+------+--------+------------------+-----------+--------+--------+-------------------+--------------------------+\n",
      "|marque  |modele|prix    |rejets_co2        |bonus_malus|nbplaces|nbportes|unified_horse_power|categorie                 |\n",
      "+--------+------+--------+------------------+-----------+--------+--------+-------------------+--------------------------+\n",
      "|mercedes|s500  |70910.0 |171.20000000000002|7772.1     |5       |5       |306                |Berlines puisantes de luxe|\n",
      "|mercedes|s500  |70910.0 |171.20000000000002|7772.1     |5       |5       |306                |Berlines puisantes de luxe|\n",
      "|mercedes|s500  |70910.0 |171.20000000000002|7772.1     |5       |5       |306                |Berlines puisantes de luxe|\n",
      "|mercedes|s500  |70910.0 |171.20000000000002|7772.1     |5       |5       |306                |Berlines puisantes de luxe|\n",
      "|mercedes|s500  |101300.0|171.20000000000002|7772.1     |5       |5       |306                |Berlines puisantes de luxe|\n",
      "+--------+------+--------+------------------+-----------+--------+--------+-------------------+--------------------------+\n",
      "only showing top 5 rows\n",
      "\n",
      "\n",
      "--- Exemples pour la catégorie : Citadines ---\n",
      "+------+------+-------+----------+------------------+--------+--------+-------------------+---------+\n",
      "|marque|modele|prix   |rejets_co2|bonus_malus       |nbplaces|nbportes|unified_horse_power|categorie|\n",
      "+------+------+-------+----------+------------------+--------+--------+-------------------+---------+\n",
      "|saab  |9.3   |27020.0|121.5     |2554.7000000000003|5       |5       |150                |Citadines|\n",
      "|fiat  |croma |24780.0|121.5     |2554.7000000000003|5       |5       |147                |Citadines|\n",
      "|saab  |9.3   |38600.0|121.5     |2554.7000000000003|5       |5       |150                |Citadines|\n",
      "|fiat  |croma |24780.0|121.5     |2554.7000000000003|5       |5       |147                |Citadines|\n",
      "|saab  |9.3   |38600.0|121.5     |2554.7000000000003|5       |5       |150                |Citadines|\n",
      "+------+------+-------+----------+------------------+--------+--------+-------------------+---------+\n",
      "only showing top 5 rows\n",
      "\n",
      "\n",
      "--- Exemples pour la catégorie : Citadines compactes puisantes ---\n",
      "+------+------+-------+----------+------------------+--------+--------+-------------------+-----------------------------+\n",
      "|marque|modele|prix   |rejets_co2|bonus_malus       |nbplaces|nbportes|unified_horse_power|categorie                    |\n",
      "+------+------+-------+----------+------------------+--------+--------+-------------------+-----------------------------+\n",
      "|ford  |mondeo|16730.0|121.5     |2554.7000000000003|5       |5       |125                |Citadines compactes puisantes|\n",
      "|seat  |toledo|18880.0|121.5     |2554.7            |5       |5       |102                |Citadines compactes puisantes|\n",
      "|dacia |logan |7500.0 |121.5     |2554.7            |5       |5       |90                 |Citadines compactes puisantes|\n",
      "|ford  |mondeo|16730.0|121.5     |2554.7000000000003|5       |5       |125                |Citadines compactes puisantes|\n",
      "|ford  |mondeo|16730.0|121.5     |2554.7000000000003|5       |5       |125                |Citadines compactes puisantes|\n",
      "+------+------+-------+----------+------------------+--------+--------+-------------------+-----------------------------+\n",
      "only showing top 5 rows\n",
      "\n",
      "\n",
      "--- Exemples pour la catégorie : Citadines économiques ---\n",
      "+----------+------+-------+----------+-----------+--------+--------+-------------------+---------------------+\n",
      "|marque    |modele|prix   |rejets_co2|bonus_malus|nbplaces|nbportes|unified_horse_power|categorie            |\n",
      "+----------+------+-------+----------+-----------+--------+--------+-------------------+---------------------+\n",
      "|nissan    |maxima|30000.0|160.0     |5802.4     |5       |5       |200                |Citadines économiques|\n",
      "|volkswagen|polo  |12200.0|13.3      |0.0        |5       |3       |55                 |Citadines économiques|\n",
      "|volkswagen|polo  |8540.0 |13.3      |0.0        |5       |3       |55                 |Citadines économiques|\n",
      "|volkswagen|polo  |12200.0|13.3      |0.0        |5       |3       |55                 |Citadines économiques|\n",
      "|volkswagen|polo  |12200.0|13.3      |0.0        |5       |3       |55                 |Citadines économiques|\n",
      "+----------+------+-------+----------+-----------+--------+--------+-------------------+---------------------+\n",
      "only showing top 5 rows\n",
      "\n",
      "\n",
      "--- Exemples pour la catégorie : Micro Citadines ---\n",
      "+-------+------+-------+------------------+-----------+--------+--------+-------------------+---------------+\n",
      "|marque |modele|prix   |rejets_co2        |bonus_malus|nbplaces|nbportes|unified_horse_power|categorie      |\n",
      "+-------+------+-------+------------------+-----------+--------+--------+-------------------+---------------+\n",
      "|skoda  |superb|31790.0|31.0              |0.0        |5       |5       |193                |Micro Citadines|\n",
      "|peugeot|1007  |13750.0|12.799999999999999|0.0        |5       |5       |75                 |Micro Citadines|\n",
      "|audi   |a2    |18310.0|24.599999999999998|0.0        |5       |5       |75                 |Micro Citadines|\n",
      "|bmw    |120i  |25060.0|38.699999999999996|0.0        |5       |5       |150                |Micro Citadines|\n",
      "|bmw    |120i  |25060.0|38.699999999999996|0.0        |5       |5       |150                |Micro Citadines|\n",
      "+-------+------+-------+------------------+-----------+--------+--------+-------------------+---------------+\n",
      "only showing top 5 rows\n",
      "\n",
      "\n",
      "--- Exemples pour la catégorie : Voitures sportives haut de gamme ---\n",
      "+------+------+-------+------------------+-----------+--------+--------+-------------------+--------------------------------+\n",
      "|marque|modele|prix   |rejets_co2        |bonus_malus|nbplaces|nbportes|unified_horse_power|categorie                       |\n",
      "+------+------+-------+------------------+-----------+--------+--------+-------------------+--------------------------------+\n",
      "|bmw   |m5    |94800.0|38.699999999999996|0.0        |5       |5       |507                |Voitures sportives haut de gamme|\n",
      "|bmw   |m5    |94800.0|38.699999999999996|0.0        |5       |5       |507                |Voitures sportives haut de gamme|\n",
      "|bmw   |m5    |94800.0|38.699999999999996|0.0        |5       |5       |507                |Voitures sportives haut de gamme|\n",
      "|bmw   |m5    |94800.0|38.699999999999996|0.0        |5       |5       |507                |Voitures sportives haut de gamme|\n",
      "|bmw   |m5    |94800.0|38.699999999999996|0.0        |5       |5       |507                |Voitures sportives haut de gamme|\n",
      "+------+------+-------+------------------+-----------+--------+--------+-------------------+--------------------------------+\n",
      "only showing top 5 rows\n",
      "\n",
      "\n",
      "--- Exemples pour la catégorie : Berlines de luxe ---\n",
      "+-------+------+-------+----------+-----------+--------+--------+-------------------+----------------+\n",
      "|marque |modele|prix   |rejets_co2|bonus_malus|nbplaces|nbportes|unified_horse_power|categorie       |\n",
      "+-------+------+-------+----------+-----------+--------+--------+-------------------+----------------+\n",
      "|jaguar |x-type|25970.0|0.0       |0.0        |5       |5       |197                |Berlines de luxe|\n",
      "|jaguar |x-type|25970.0|0.0       |0.0        |5       |5       |197                |Berlines de luxe|\n",
      "|jaguar |x-type|25970.0|0.0       |0.0        |5       |5       |197                |Berlines de luxe|\n",
      "|renault|laguna|19110.0|0.0       |0.0        |5       |5       |170                |Berlines de luxe|\n",
      "|renault|laguna|27300.0|0.0       |0.0        |5       |5       |170                |Berlines de luxe|\n",
      "+-------+------+-------+----------+-----------+--------+--------+-------------------+----------------+\n",
      "only showing top 5 rows\n"
     ]
    }
   ],
   "source": [
    "\n",
    "# Chargement du modèle K-Means pré-entraîné\n",
    "model_path = \"hdfs://namenode:9000/models/kmeans_modelk9\"\n",
    "try:\n",
    "    kmeans_model = KMeansModel.load(model_path)\n",
    "    print(\"Modèle K-Means chargé avec succès.\")\n",
    "except Exception as e:\n",
    "    raise ValueError(f\"Erreur lors du chargement du modèle K-Means : {e}\")\n",
    "\n",
    "# # Appliquer le modèle pour prédire les clusters\n",
    "predicted_df = kmeans_model.transform(normalized_df)\n",
    "print(\"Prédictions des clusters effectuées avec succès.\")\n",
    "predicted_df.select(\"prediction\").show(5)\n",
    "\n",
    "# Ajouter des catégories basées sur les prédictions\n",
    "predicted_df = predicted_df.withColumn(\n",
    "    \"categorie\",\n",
    "    when(col(\"prediction\") == 0, \"Citadines compactes puisantes\") \n",
    "    .when(col(\"prediction\") == 1, \"Micro Citadines\")\n",
    "    .when(col(\"prediction\") == 2, \"Citadines économiques\")\n",
    "    .when(col(\"prediction\") == 3, \"Berlines puisantes de luxe\")\n",
    "    .when(col(\"prediction\") == 4, \"Voitures sportives haut de gamme\")\n",
    "    .when(col(\"prediction\") == 5, \"Citadines économiques\")\n",
    "    .when(col(\"prediction\") == 6, \"Berlines de luxe\") \n",
    "    .when(col(\"prediction\") == 7, \"Citadines\")\n",
    "    .when(col(\"prediction\") == 8, \"Berlines hybrides haut de gamme\")\n",
    "    .otherwise(\"Autres\")\n",
    ")\n",
    "print(\"Catégories assignées en fonction des prédictions.\")\n",
    "predicted_df.select(\"prediction\", \"categorie\").distinct().show()\n",
    "\n",
    "# Vérification des catégories avec des exemples\n",
    "categories = predicted_df.select(\"categorie\").distinct().rdd.flatMap(lambda x: x).collect()\n",
    "for cat in categories:\n",
    "    print(f\"\\n--- Exemples pour la catégorie : {cat} ---\")\n",
    "    predicted_df.filter(col(\"categorie\") == cat).select(\n",
    "        \"marque\", \"modele\", \"prix\", \"rejets_co2\", \"bonus_malus\",\n",
    "        \"nbplaces\", \"nbportes\", \"unified_horse_power\", \"categorie\"\n",
    "    ).show(5, truncate=False)\n",
    "\n"
   ],
   "metadata": {
    "collapsed": false,
    "ExecuteTime": {
     "end_time": "2024-11-22T12:47:20.796004900Z",
     "start_time": "2024-11-22T12:47:17.448347300Z"
    }
   },
   "id": "8993a2cadfc149ec"
  },
  {
   "cell_type": "code",
   "execution_count": 83,
   "outputs": [
    {
     "name": "stdout",
     "output_type": "stream",
     "text": [
      "+-------+------+-------+-------------------+------------------+------------------+--------+--------+-------------------+----------+--------------------------------+\n",
      "|marque |modele|prix   |unified_horse_power|rejets_co2        |bonus_malus       |nbplaces|nbportes|unified_horse_power|prediction|categorie                       |\n",
      "+-------+------+-------+-------------------+------------------+------------------+--------+--------+-------------------+----------+--------------------------------+\n",
      "|bmw    |m5    |94800.0|507                |38.699999999999996|0.0               |5       |5       |507                |4         |Voitures sportives haut de gamme|\n",
      "|skoda  |superb|31790.0|193                |31.0              |0.0               |5       |5       |193                |1         |Micro Citadines                 |\n",
      "|saab   |9.3   |27020.0|150                |121.5             |2554.7000000000003|5       |5       |150                |7         |Citadines                       |\n",
      "|bmw    |m5    |94800.0|507                |38.699999999999996|0.0               |5       |5       |507                |4         |Voitures sportives haut de gamme|\n",
      "|peugeot|1007  |13750.0|75                 |12.799999999999999|0.0               |5       |5       |75                 |1         |Micro Citadines                 |\n",
      "+-------+------+-------+-------------------+------------------+------------------+--------+--------+-------------------+----------+--------------------------------+\n"
     ]
    }
   ],
   "source": [
    "# Affichage des résultats finaux\n",
    "predicted_df.select(\"marque\", \"modele\", *numerical_cols, \"unified_horse_power\", \"prediction\", \"categorie\").show(5, truncate=False)"
   ],
   "metadata": {
    "collapsed": false,
    "ExecuteTime": {
     "end_time": "2024-11-22T12:47:21.049370400Z",
     "start_time": "2024-11-22T12:47:20.796536700Z"
    }
   },
   "id": "f61355ba248a15e3"
  },
  {
   "cell_type": "code",
   "execution_count": 84,
   "outputs": [
    {
     "name": "stdout",
     "output_type": "stream",
     "text": [
      "Les résultats du clustering ont été sauvegardés dans la table Hive 'client_immat_with_catk9'.\n"
     ]
    }
   ],
   "source": [
    "# Sélectionner les colonnes pertinentes à sauvegarder\n",
    "final_df = predicted_df\n",
    "# Sauvegarder dans une nouvelle table Hive\n",
    "final_df.write.mode(\"overwrite\").saveAsTable(\"client_immat_with_catk9\")\n",
    "print(\"Les résultats du clustering ont été sauvegardés dans la table Hive 'client_immat_with_catk9'.\")\n"
   ],
   "metadata": {
    "collapsed": false,
    "ExecuteTime": {
     "end_time": "2024-11-22T12:47:22.666307100Z",
     "start_time": "2024-11-22T12:47:21.050984700Z"
    }
   },
   "id": "4b66224750caa3ee"
  },
  {
   "cell_type": "code",
   "execution_count": 85,
   "outputs": [
    {
     "name": "stdout",
     "output_type": "stream",
     "text": [
      "+----------+------+---------------+---+-----+----+-------------------+---------------+---------------+-------------------+-----------+--------+--------+-------+--------+--------+------------------+------------------+--------------------------------------------------+--------------------------------------------------------------------------------------+----------+--------------------------------+\n",
      "|marque    |modele|immatriculation|age|sexe |taux|situationfamilliale|nbenfantacharge|deuxiemevoiture|unified_horse_power|longueur   |nbplaces|nbportes|couleur|occasion|prix    |rejets_co2        |bonus_malus       |features_raw                                      |features                                                                              |prediction|categorie                       |\n",
      "+----------+------+---------------+---+-----+----+-------------------+---------------+---------------+-------------------+-----------+--------+--------+-------+--------+--------+------------------+------------------+--------------------------------------------------+--------------------------------------------------------------------------------------+----------+--------------------------------+\n",
      "|saab      |9.3   |1001 CT 14     |68 |Homme|529 |En Couple          |2              |false          |150                |longue     |5       |5       |gris   |true    |27020.0 |121.5             |2554.7000000000003|[27020.0,150.0,121.5,2554.7000000000003,5.0,5.0]  |[0.20810234541577824,0.21017699115044247,0.709696261682243,0.3287013805792514,0.5,1.0]|7         |Citadines                       |\n",
      "|jaguar    |x-type|1001 WZ 27     |32 |Homme|509 |En Couple          |0              |false          |197                |longue     |5       |5       |bleu   |true    |25970.0 |0.0               |0.0               |[25970.0,197.0,0.0,0.0,5.0,5.0]                   |[0.196908315565032,0.3141592920353982,0.0,0.0,0.5,1.0]                                |6         |Berlines de luxe                |\n",
      "|skoda     |superb|1004 UV 66     |19 |Homme|203 |En Couple          |4              |false          |193                |très longue|5       |5       |rouge  |false   |31790.0 |31.0              |0.0               |[31790.0,193.0,31.0,0.0,5.0,5.0]                  |[0.258955223880597,0.3053097345132743,0.1810747663551402,0.0,0.5,1.0]                 |1         |Micro Citadines                 |\n",
      "|mercedes  |s500  |1005 GD 55     |79 |Homme|1065|En Couple          |3              |false          |306                |très longue|5       |5       |rouge  |false   |101300.0|171.20000000000002|7772.1            |[101300.0,306.0,171.20000000000002,7772.1,5.0,5.0]|[1.0,0.5553097345132744,1.0,0.9999999999999999,0.5,1.0]                               |3         |Berlines puisantes de luxe      |\n",
      "|volkswagen|polo  |1006 BG 75     |20 |Homme|486 |En Couple          |0              |true           |55                 |courte     |5       |3       |rouge  |false   |12200.0 |13.3              |0.0               |[12200.0,55.0,13.3,0.0,5.0,3.0]                   |[0.050106609808102345,0.0,0.07768691588785047,0.0,0.5,0.0]                            |2         |Citadines économiques           |\n",
      "|renault   |laguna|1006 TF 31     |22 |Femme|486 |En Couple          |0              |false          |170                |longue     |5       |5       |noir   |false   |27300.0 |0.0               |0.0               |[27300.0,170.0,0.0,0.0,5.0,5.0]                   |[0.21108742004264391,0.25442477876106195,0.0,0.0,0.5,1.0]                             |6         |Berlines de luxe                |\n",
      "|jaguar    |x-type|1012 CF 51     |55 |Homme|1382|En Couple          |1              |false          |197                |longue     |5       |5       |rouge  |false   |37100.0 |0.0               |0.0               |[37100.0,197.0,0.0,0.0,5.0,5.0]                   |[0.31556503198294245,0.3141592920353982,0.0,0.0,0.5,1.0]                              |6         |Berlines de luxe                |\n",
      "|bmw       |120i  |1013 BX 31     |29 |Homme|434 |Célibataire        |0              |false          |150                |moyenne    |5       |5       |rouge  |true    |25060.0 |38.699999999999996|0.0               |[25060.0,150.0,38.699999999999996,0.0,5.0,5.0]    |[0.18720682302771854,0.21017699115044247,0.22605140186915884,0.0,0.5,1.0]             |1         |Micro Citadines                 |\n",
      "|bmw       |m5    |1014 MJ 44     |21 |Homme|584 |En Couple          |1              |false          |507                |très longue|5       |5       |blanc  |true    |66360.0 |38.699999999999996|0.0               |[66360.0,507.0,38.699999999999996,0.0,5.0,5.0]    |[0.6275053304904051,1.0,0.22605140186915884,0.0,0.5,1.0]                              |4         |Voitures sportives haut de gamme|\n",
      "|audi      |a2    |1015 DM 30     |53 |Homme|828 |Célibataire        |0              |false          |75                 |courte     |5       |5       |noir   |false   |18310.0 |24.599999999999998|0.0               |[18310.0,75.0,24.599999999999998,0.0,5.0,5.0]     |[0.11524520255863539,0.04424778761061947,0.1436915887850467,0.0,0.5,1.0]              |1         |Micro Citadines                 |\n",
      "|bmw       |m5    |1016 VG 31     |45 |Homme|1238|En Couple          |4              |false          |507                |très longue|5       |5       |gris   |false   |94800.0 |38.699999999999996|0.0               |[94800.0,507.0,38.699999999999996,0.0,5.0,5.0]    |[0.9307036247334755,1.0,0.22605140186915884,0.0,0.5,1.0]                              |4         |Voitures sportives haut de gamme|\n",
      "|mercedes  |s500  |102 DS 12      |73 |Homme|562 |En Couple          |2              |false          |306                |très longue|5       |5       |blanc  |true    |70910.0 |171.20000000000002|7772.1            |[70910.0,306.0,171.20000000000002,7772.1,5.0,5.0] |[0.6760127931769723,0.5553097345132744,1.0,0.9999999999999999,0.5,1.0]                |3         |Berlines puisantes de luxe      |\n",
      "|renault   |megane|1020 VB 77     |23 |Homme|539 |Célibataire        |0              |false          |135                |moyenne    |5       |5       |bleu   |false   |22350.0 |0.0               |0.0               |[22350.0,135.0,0.0,0.0,5.0,5.0]                   |[0.15831556503198294,0.17699115044247787,0.0,0.0,0.5,1.0]                             |6         |Berlines de luxe                |\n",
      "|mercedes  |a200  |1024 RY 49     |78 |Femme|405 |Célibataire        |0              |false          |136                |moyenne    |5       |5       |gris   |true    |18130.0 |171.20000000000002|7772.1            |[18130.0,136.0,171.20000000000002,7772.1,5.0,5.0] |[0.11332622601279317,0.17920353982300885,1.0,0.9999999999999999,0.5,1.0]              |5         |Citadines économiques           |\n",
      "|peugeot   |1007  |1024 ZK 75     |48 |Homme|565 |En Couple          |1              |true           |75                 |courte     |5       |5       |blanc  |false   |13750.0 |12.799999999999999|0.0               |[13750.0,75.0,12.799999999999999,0.0,5.0,5.0]     |[0.06663113006396588,0.04424778761061947,0.07476635514018691,0.0,0.5,1.0]             |1         |Micro Citadines                 |\n",
      "+----------+------+---------------+---+-----+----+-------------------+---------------+---------------+-------------------+-----------+--------+--------+-------+--------+--------+------------------+------------------+--------------------------------------------------+--------------------------------------------------------------------------------------+----------+--------------------------------+\n"
     ]
    }
   ],
   "source": [
    "spark.sql(\"SELECT * FROM client_immat_with_catk9\").show(15, truncate=False)"
   ],
   "metadata": {
    "collapsed": false,
    "ExecuteTime": {
     "end_time": "2024-11-22T12:47:22.896265500Z",
     "start_time": "2024-11-22T12:47:22.668464400Z"
    }
   },
   "id": "205cd2ec8d174ea3"
  },
  {
   "cell_type": "code",
   "execution_count": 86,
   "outputs": [
    {
     "name": "stdout",
     "output_type": "stream",
     "text": [
      "\n",
      "--- Visualisation des clusters avec PCA ---\n"
     ]
    },
    {
     "data": {
      "text/plain": "<Figure size 1000x600 with 2 Axes>",
      "image/png": "[encoded data removed]"
     },
     "metadata": {},
     "output_type": "display_data"
    },
    {
     "name": "stdout",
     "output_type": "stream",
     "text": [
      "\n",
      "--- Visualisation des centroïdes ---\n"
     ]
    },
    {
     "data": {
      "text/plain": "<Figure size 1000x600 with 1 Axes>",
      "image/png": "[encoded data removed]"
     },
     "metadata": {},
     "output_type": "display_data"
    }
   ],
   "source": [
    "# Visualisation des clusters avec PCA\n",
    "print(\"\\n--- Visualisation des clusters avec PCA ---\")\n",
    "# Conversion du DataFrame Spark en DataFrame Pandas pour PCA\n",
    "pca_data = predicted_df.select(\"features\", \"categorie\").toPandas()\n",
    "\n",
    "# Conversion des vecteurs Spark MLlib en listes pour sklearn PCA\n",
    "pca_data['features'] = pca_data['features'].apply(lambda x: x.toArray())\n",
    "\n",
    "# Application de PCA\n",
    "pca = skPCA(n_components=2)\n",
    "pca_result = pca.fit_transform(pca_data['features'].tolist())\n",
    "\n",
    "# Ajout des composantes principales au DataFrame Pandas\n",
    "pca_data['PC1'] = pca_result[:, 0]\n",
    "pca_data['PC2'] = pca_result[:, 1]\n",
    "\n",
    "# Ajout de la colonne 'categorie'\n",
    "pca_data['categorie'] = predicted_df.select(\"categorie\").toPandas()['categorie']\n",
    "\n",
    "# Tracé des clusters\n",
    "plt.figure(figsize=(10, 6))\n",
    "scatter = plt.scatter(\n",
    "    pca_data['PC1'], pca_data['PC2'],\n",
    "    c=pca_data['categorie'].astype('category').cat.codes,\n",
    "    cmap=\"tab10\", alpha=0.7\n",
    ")\n",
    "plt.colorbar(scatter, label=\"Cluster\")\n",
    "plt.title(\"Visualisation des Clusters via PCA\")\n",
    "plt.xlabel(\"Composante Principale 1\")\n",
    "plt.ylabel(\"Composante Principale 2\")\n",
    "plt.grid(True)\n",
    "plt.show()\n",
    "\n",
    "# Tracé des centroïdes\n",
    "print(\"\\n--- Visualisation des centroïdes ---\")\n",
    "# Récupérer les centroïdes du modèle K-Means\n",
    "centroids = kmeans_model.clusterCenters()\n",
    "\n",
    "# Appliquer PCA sur les centroïdes\n",
    "centroids_pca = pca.transform(centroids)\n",
    "\n",
    "# Tracé des clusters et des centroïdes\n",
    "plt.figure(figsize=(10, 6))\n",
    "plt.scatter(\n",
    "    pca_data['PC1'], pca_data['PC2'],\n",
    "    c=pca_data['categorie'].astype('category').cat.codes,\n",
    "    cmap=\"tab10\", alpha=0.6, label='Clusters'\n",
    ")\n",
    "plt.scatter(\n",
    "    centroids_pca[:, 0], centroids_pca[:, 1],\n",
    "    c='red', marker='X', s=200, label='Centroïdes'\n",
    ")\n",
    "plt.colorbar(scatter, label=\"Cluster\")\n",
    "plt.title(\"Clusters et Centroïdes visualisés en PCA\")\n",
    "plt.xlabel(\"Composante Principale 1\")\n",
    "plt.ylabel(\"Composante Principale 2\")\n",
    "plt.legend()\n",
    "plt.grid(True)\n",
    "plt.show()"
   ],
   "metadata": {
    "collapsed": false,
    "ExecuteTime": {
     "end_time": "2024-11-22T12:47:28.064845400Z",
     "start_time": "2024-11-22T12:47:22.899984700Z"
    }
   },
   "id": "af8e611d4ea247f4"
  },
  {
   "cell_type": "code",
   "execution_count": 87,
   "outputs": [
    {
     "name": "stdout",
     "output_type": "stream",
     "text": [
      "Silhouette Score avec k=9 : 0.7645\n"
     ]
    }
   ],
   "source": [
    "# Calcul du Silhouette Score final\n",
    "evaluator = ClusteringEvaluator(featuresCol='features', metricName='silhouette')\n",
    "silhouette_score = evaluator.evaluate(predicted_df)\n",
    "print(f\"Silhouette Score avec k={kmeans_model.getK()} : {silhouette_score:.4f}\")"
   ],
   "metadata": {
    "collapsed": false,
    "ExecuteTime": {
     "end_time": "2024-11-22T12:47:28.897646500Z",
     "start_time": "2024-11-22T12:47:28.057914600Z"
    }
   },
   "id": "fd528dd4853bb55c"
  },
  {
   "cell_type": "code",
   "execution_count": 88,
   "outputs": [],
   "source": [
    "spark.stop() "
   ],
   "metadata": {
    "collapsed": false,
    "ExecuteTime": {
     "end_time": "2024-11-22T12:47:29.123999300Z",
     "start_time": "2024-11-22T12:47:28.899784900Z"
    }
   },
   "id": "81746caaa523d347"
  }
 ],
 "metadata": {
  "kernelspec": {
   "display_name": "Python 3 (ipykernel)",
   "language": "python",
   "name": "python3"
  },
  "language_info": {
   "codemirror_mode": {
    "name": "ipython",
    "version": 3
   },
   "file_extension": ".py",
   "mimetype": "text/x-python",
   "name": "python",
   "nbconvert_exporter": "python",
   "pygments_lexer": "ipython3",
   "version": "3.11.6"
  }
 },
 "nbformat": 4,
 "nbformat_minor": 5
}
