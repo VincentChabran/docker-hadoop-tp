{
 "cells": [
  {
   "cell_type": "markdown",
   "source": [
    "# **Importer les Bibliothèques et Initialiser Spark**"
   ],
   "metadata": {
    "collapsed": false
   },
   "id": "e7f39b6290ef835e"
  },
  {
   "cell_type": "code",
   "execution_count": 46,
   "id": "initial_id",
   "metadata": {
    "collapsed": true,
    "ExecuteTime": {
     "end_time": "2024-11-19T21:38:02.094626800Z",
     "start_time": "2024-11-19T21:38:01.919623700Z"
    }
   },
   "outputs": [],
   "source": [
    "import sys\n",
    "from pyspark.sql import SparkSession\n",
    "import matplotlib.pyplot as plt\n",
    "from pyspark.sql import functions as F\n",
    "import seaborn as sns\n",
    "from pyspark.sql.types import StructType, StructField, StringType, FloatType, IntegerType, BooleanType"
   ]
  },
  {
   "cell_type": "code",
   "execution_count": 47,
   "outputs": [
    {
     "name": "stdout",
     "output_type": "stream",
     "text": [
      "Session Spark initialisée avec succès.\n"
     ]
    }
   ],
   "source": [
    "spark = SparkSession.builder \\\n",
    "    .appName(\"Data Processing dans catalogue csv\") \\\n",
    "    .config(\"spark.hadoop.hive.metastore.uris\", \"thrift://hive-metastore:9083\") \\\n",
    "    .enableHiveSupport() \\\n",
    "    .getOrCreate()\n",
    "print(\"Session Spark initialisée avec succès.\")\n"
   ],
   "metadata": {
    "collapsed": false,
    "ExecuteTime": {
     "end_time": "2024-11-19T21:38:02.094626800Z",
     "start_time": "2024-11-19T21:38:01.924880500Z"
    }
   },
   "id": "fd5e0f17477ed9d"
  },
  {
   "cell_type": "markdown",
   "source": [
    "# **Charger et normaliser  les données depuis le fichier Hive**\n"
   ],
   "metadata": {
    "collapsed": false
   },
   "id": "88fbd892f445b764"
  },
  {
   "cell_type": "code",
   "execution_count": 48,
   "outputs": [
    {
     "name": "stdout",
     "output_type": "stream",
     "text": [
      "Données Catalogue :\n",
      "+----------+----------+-------------+-------------------+-----------+--------+--------+-------+--------+--------+\n",
      "|    marque|    modele|modele_detail|unified_horse_power|   longueur|nbplaces|nbportes|couleur|occasion|    prix|\n",
      "+----------+----------+-------------+-------------------+-----------+--------+--------+-------+--------+--------+\n",
      "|   renault|    espace|         2.0T|                165|     longue|       7|       5|  rouge|    true| 21245.0|\n",
      "|volkswagen|new beatle|          1.8|                110|    moyenne|       5|       5|   gris|   false| 26630.0|\n",
      "|       bmw|        m5|             |                507|très longue|       5|       5|   bleu|    true| 66360.0|\n",
      "|    nissan|    maxima|       3.0 V6|                200|très longue|       5|       5|  rouge|   false| 30000.0|\n",
      "|  mercedes|      s500|             |                306|très longue|       5|       5|   noir|   false|101300.0|\n",
      "+----------+----------+-------------+-------------------+-----------+--------+--------+-------+--------+--------+\n",
      "only showing top 5 rows\n",
      "\n",
      "Données CO2 :\n",
      "+-----------+---------+--------------------+-----------+-------+-------------------+-----------+------------+----------+\n",
      "|     marque|   modele|       modele_detail|horse_power|   unit|unified_horse_power|bonus_malus|cout_energie|rejets_co2|\n",
      "+-----------+---------+--------------------+-----------+-------+-------------------+-----------+------------+----------+\n",
      "|    peugeot|      ion|          electrique|       67.0|     ch|               67.0|      -6000|         241|         0|\n",
      "|      tesla|    model|                   X|      180.0|     kW|              245.0|      -6000|         293|         0|\n",
      "|   mercedes| sprinter|       Combi 316 CDI|      163.0|     ch|              163.0|       6810|         715|       178|\n",
      "|   mercedes| sprinter|       Combi 314 CDI|      143.0|     ch|              143.0|       8173|         736|       183|\n",
      "|     nissan|    nv400|COMBI 3T5 9PL 2.3...|      170.0|     ch|              170.0|       8753|         810|       200|\n",
      "|   mercedes| sprinter|       Combi 319 CDI|      190.0|     ch|              190.0|       8753|         946|       237|\n",
      "|   mercedes| sprinter|       Combi 316 CDI|      163.0|     ch|              163.0|       7073|         715|       179|\n",
      "|   mercedes| sprinter|       Combi 311 CDI|      114.0|     ch|              114.0|       8753|         799|       200|\n",
      "|   mercedes|     vito|Tourer extra-long...|       85.0|     kW|              116.0|      -6000|         411|         0|\n",
      "|      smart|       eq|              FORTWO|       22.0|     kW|               30.0|      -6000|         175|         0|\n",
      "|   mercedes| sprinter|       Combi 311 CDI|      114.0|     ch|              114.0|       7890|         725|       182|\n",
      "|   mercedes| sprinter|       Combi 316 CDI|      163.0|     ch|              163.0|       6810|         715|       178|\n",
      "|   mercedes| sprinter|       Combi 316 CDI|      163.0|     ch|              163.0|       8753|         789|       197|\n",
      "|   mercedes| sprinter|       Combi 314 CDI|      143.0|     ch|              143.0|       8173|         736|       183|\n",
      "|   mercedes| sprinter|       Combi 314 CDI|      143.0|     ch|              143.0|       8753|         757|       189|\n",
      "|   mercedes| sprinter|       Combi 316 CDI|      163.0|     ch|              163.0|       8753|         799|       200|\n",
      "|   mercedes| sprinter|       Combi 319 CDI|      190.0|     ch|              190.0|       8753|        1020|       255|\n",
      "|   mercedes| sprinter|       Combi 316 CDI|      163.0|     ch|              163.0|       8460|         736|       184|\n",
      "|   mercedes| sprinter|       Combi 314 CDI|      143.0|     ch|              143.0|       8753|         736|       185|\n",
      "|   mercedes| sprinter|       Combi 316 CDI|      163.0|     ch|              163.0|       8753|         736|       185|\n",
      "|   mercedes| sprinter|       Combi 311 CDI|      114.0|     ch|              114.0|       8753|         746|       187|\n",
      "|   mercedes| sprinter|       Combi 311 CDI|      114.0|     ch|              114.0|       8753|         789|       197|\n",
      "|      smart|       eq|             FORFOUR|       22.0|     kW|               30.0|      -6000|         175|         0|\n",
      "| volkswagen|    e-up!|          électrique|       82.0|     ch|               82.0|      -6000|         185|         0|\n",
      "|   mercedes| sprinter|       Combi 311 CDI|      114.0|     ch|              114.0|       8460|         736|       184|\n",
      "|   mercedes| sprinter|       Combi 314 CDI|      143.0|     ch|              143.0|       8753|         789|       197|\n",
      "|   mercedes| sprinter|       Combi 319 CDI|      190.0|     ch|              190.0|       8753|         873|       219|\n",
      "|   mercedes| sprinter|       Combi 316 CDI|      163.0|     ch|              163.0|       7613|         725|       181|\n",
      "|    renault|      zoe|                    |       51.0|     kW|               69.0|      -6000|         206|         0|\n",
      "|   mercedes| sprinter|       Combi 314 CDI|      143.0|     ch|              143.0|       8753|         831|       207|\n",
      "|   mercedes| sprinter|       Combi 316 CDI|      163.0|     ch|              163.0|       8753|         789|       197|\n",
      "|   mercedes| sprinter|       Combi 316 CDI|      163.0|     ch|              163.0|       8753|         841|       210|\n",
      "|   mercedes| sprinter|       Combi 319 CDI|      190.0|     ch|              190.0|       8753|         873|       218|\n",
      "|   mercedes| sprinter|       Combi 319 CDI|      190.0|     ch|              190.0|       8753|         957|       240|\n",
      "|   mercedes| sprinter|       Combi 311 CDI|      114.0|     ch|              114.0|       8753|         746|       187|\n",
      "|   mercedes| sprinter|       Combi 316 CDI|      163.0|     ch|              163.0|       8753|         799|       200|\n",
      "|   mercedes| sprinter|       Combi 311 CDI|      114.0|     ch|              114.0|       8753|         799|       200|\n",
      "|      tesla|    model|                   3|      153.0|     kW|              208.0|      -6000|         202|         0|\n",
      "|   mercedes| sprinter|       Combi 316 CDI|      163.0|     ch|              163.0|       8173|         736|       183|\n",
      "|   mercedes| sprinter|       Combi 316 CDI|      163.0|     ch|              163.0|       8753|         736|       185|\n",
      "|   mercedes| sprinter|       Combi 316 CDI|      163.0|     ch|              163.0|       8753|         757|       189|\n",
      "|   mercedes| sprinter|       Combi 314 CDI|      143.0|     ch|              143.0|       8753|         746|       186|\n",
      "|   mercedes| sprinter|       Combi 314 CDI|      143.0|     ch|              143.0|       8753|         746|       186|\n",
      "|   mercedes| sprinter|       Combi 311 CDI|      114.0|     ch|              114.0|       8753|         799|       200|\n",
      "|      tesla|    model|                   S|      158.0|     kW|              215.0|      -6000|         247|         0|\n",
      "|   mercedes| sprinter|       Combi 311 CDI|      114.0|     ch|              114.0|       8753|         799|       200|\n",
      "|   mercedes| sprinter|       Combi 314 CDI|      143.0|     ch|              143.0|       8753|         799|       200|\n",
      "|   mercedes| sprinter|       Combi 319 CDI|      190.0|     ch|              190.0|       8753|         957|       240|\n",
      "|   mercedes| sprinter|       Combi 311 CDI|      114.0|     ch|              114.0|       7890|         725|       182|\n",
      "|   mercedes| sprinter|       Combi 314 CDI|      143.0|     ch|              143.0|       8753|         841|       210|\n",
      "|   mercedes| sprinter|       Combi 311 CDI|      114.0|     ch|              114.0|       7890|         725|       182|\n",
      "|   mercedes| sprinter|       Combi 319 CDI|      190.0|     ch|              190.0|       8753|         883|       221|\n",
      "|   mercedes| sprinter|       Combi 316 CDI|      163.0|     ch|              163.0|       8753|         757|       189|\n",
      "|   mercedes| sprinter|       Combi 316 CDI|      163.0|     ch|              163.0|       8753|         799|       200|\n",
      "|   mercedes| sprinter|       Combi 314 CDI|      143.0|     ch|              143.0|       7890|         725|       182|\n",
      "|   mercedes| sprinter|       Combi 314 CDI|      143.0|     ch|              143.0|       7340|         725|       180|\n",
      "|   mercedes| sprinter|       Combi 314 CDI|      143.0|     ch|              143.0|       8753|         746|       186|\n",
      "|   mercedes| sprinter|       Combi 316 CDI|      163.0|     ch|              163.0|       8753|         925|       232|\n",
      "|   mercedes| sprinter|       Combi 314 CDI|      143.0|     ch|              143.0|       8753|         746|       187|\n",
      "|   mercedes| sprinter|       Combi 316 CDI|      163.0|     ch|              163.0|       8173|         736|       183|\n",
      "|   mercedes| sprinter|       Combi 316 CDI|      163.0|     ch|              163.0|       8753|         746|       186|\n",
      "|   mercedes| sprinter|       Combi 319 CDI|      190.0|     ch|              190.0|       8753|         873|       217|\n",
      "|     nissan|    nv400|COMBI 3T5 8PL 2.3...|      170.0|     ch|              170.0|       8753|         810|       200|\n",
      "|   mercedes| sprinter|       Combi 314 CDI|      143.0|     ch|              143.0|       8753|         736|       185|\n",
      "|   mercedes| sprinter|       Combi 319 CDI|      190.0|     ch|              190.0|       8753|         988|       249|\n",
      "|   mercedes| sprinter|       Combi 314 CDI|      143.0|     ch|              143.0|       8753|         757|       189|\n",
      "|   mercedes| sprinter|       Combi 319 CDI|      190.0|     ch|              190.0|       8753|         862|       216|\n",
      "|      smart|       eq|              FORTWO|        7.0|     kW|               10.0|      -6000|         201|         0|\n",
      "|   mercedes| sprinter|       Combi 316 CDI|      163.0|     ch|              163.0|       7890|         725|       182|\n",
      "|   mercedes| sprinter|       Combi 314 CDI|      143.0|     ch|              143.0|       8753|         736|       185|\n",
      "|     nissan|    nv400|COMBI 3T3 8PL 2.3...|      170.0|     ch|              170.0|       8753|         810|       200|\n",
      "|      tesla|    model|                   S|      169.0|     kW|              230.0|      -6000|         247|         0|\n",
      "|   mercedes| sprinter|       Combi 316 CDI|      163.0|     ch|              163.0|       6810|         715|       178|\n",
      "|   mercedes| sprinter|       Combi 314 CDI|      143.0|     ch|              143.0|       8173|         736|       183|\n",
      "|   mercedes| sprinter|       Combi 314 CDI|      143.0|     ch|              143.0|       7340|         725|       180|\n",
      "|   mercedes| sprinter|       Combi 319 CDI|      190.0|     ch|              190.0|       8753|        1009|       252|\n",
      "|   mercedes| sprinter|       Combi 316 CDI|      163.0|     ch|              163.0|       6810|         715|       178|\n",
      "|   mercedes| sprinter|       Combi 311 CDI|      114.0|     ch|              114.0|       8753|         746|       187|\n",
      "|   mercedes| sprinter|       Combi 314 CDI|      143.0|     ch|              143.0|       8753|         789|       197|\n",
      "|   mercedes| sprinter|       Combi 314 CDI|      143.0|     ch|              143.0|       8753|         799|       200|\n",
      "|   mercedes| sprinter|       Combi 316 CDI|      163.0|     ch|              163.0|       8753|         915|       229|\n",
      "|   mercedes| sprinter|       Combi 316 CDI|      163.0|     ch|              163.0|       8753|         789|       197|\n",
      "|      tesla|    model|                   S|      177.0|     kW|              241.0|      -6000|         247|         0|\n",
      "|   mercedes| sprinter|       Combi 311 CDI|      114.0|     ch|              114.0|       7073|         715|       179|\n",
      "|   mercedes| sprinter|       Combi 316 CDI|      163.0|     ch|              163.0|       7890|         725|       182|\n",
      "|   mercedes| sprinter|       Combi 316 CDI|      163.0|     ch|              163.0|       8753|         746|       186|\n",
      "|   mercedes| sprinter|       Combi 311 CDI|      114.0|     ch|              114.0|       8753|         789|       197|\n",
      "|   mercedes| sprinter|       Combi 316 CDI|      163.0|     ch|              163.0|       7340|         725|       180|\n",
      "|   mercedes| sprinter|       Combi 314 CDI|      143.0|     ch|              143.0|       8753|         746|       187|\n",
      "|         ds|      ds3|   CROSSBACK E-Tense|      136.0|     ch|              136.0|      -6000|         251|         0|\n",
      "|   mercedes| sprinter|       Combi 311 CDI|      114.0|     ch|              114.0|       7890|         725|       182|\n",
      "|   mercedes| sprinter|       Combi 316 CDI|      163.0|     ch|              163.0|       8753|         757|       189|\n",
      "|        kia|     soul|Moteur électrique...|      150.0|     ch|              150.0|      -6000|         214|         0|\n",
      "|   mercedes| sprinter|       Combi 311 CDI|      114.0|     ch|              114.0|       7890|         725|       182|\n",
      "|       audi|   e-tron|                  50|      313.0|     ch|              313.0|      -6000|         356|         0|\n",
      "|   mercedes| sprinter|       Combi 319 CDI|      190.0|     ch|              190.0|       8753|        1009|       252|\n",
      "|   mercedes| sprinter|       Combi 316 CDI|      163.0|     ch|              163.0|       7890|         725|       182|\n",
      "|   mercedes| sprinter|       Combi 311 CDI|      114.0|     ch|              114.0|       8460|         736|       184|\n",
      "|   mercedes| sprinter|       Combi 311 CDI|      114.0|     ch|              114.0|       8753|         789|       197|\n",
      "|   mercedes| sprinter|       Combi 314 CDI|      143.0|     ch|              143.0|       8460|         736|       184|\n",
      "|   mercedes| sprinter|       Combi 314 CDI|      143.0|     ch|              143.0|       8173|         736|       183|\n",
      "|   mercedes| sprinter|       Combi 316 CDI|      163.0|     ch|              163.0|       7340|         725|       180|\n",
      "|   mercedes| sprinter|       Combi 314 CDI|      143.0|     ch|              143.0|       7073|         715|       179|\n",
      "|   mercedes| sprinter|       Combi 314 CDI|      143.0|     ch|              143.0|       7340|         725|       180|\n",
      "|   mercedes| sprinter|       Combi 316 CDI|      163.0|     ch|              163.0|       8753|         799|       200|\n",
      "| volkswagen|   e-golf|                  5P|      136.0|     ch|              136.0|      -6000|         209|         0|\n",
      "|   mercedes| sprinter|       Combi 311 CDI|      114.0|     ch|              114.0|       7073|         715|       179|\n",
      "|   mercedes| sprinter|       Combi 316 CDI|      163.0|     ch|              163.0|       7890|         725|       182|\n",
      "|   mercedes| sprinter|       Combi 316 CDI|      163.0|     ch|              163.0|       8173|         736|       183|\n",
      "|   mercedes| sprinter|       Combi 316 CDI|      163.0|     ch|              163.0|       7340|         725|       180|\n",
      "|   mercedes| sprinter|       Combi 316 CDI|      163.0|     ch|              163.0|       8753|         757|       189|\n",
      "|   mercedes| sprinter|       Combi 316 CDI|      163.0|     ch|              163.0|       8753|         746|       186|\n",
      "|   mercedes| sprinter|       Combi 314 CDI|      143.0|     ch|              143.0|       8460|         736|       184|\n",
      "|   mercedes| sprinter|       Combi 311 CDI|      114.0|     ch|              114.0|       8460|         736|       184|\n",
      "|   mercedes| sprinter|       Combi 311 CDI|      114.0|     ch|              114.0|       8460|         736|       184|\n",
      "|   mercedes| sprinter|       Combi 314 CDI|      143.0|     ch|              143.0|       8753|         757|       189|\n",
      "|   mercedes| sprinter|       Combi 316 CDI|      163.0|     ch|              163.0|       8173|         736|       183|\n",
      "|   mercedes| sprinter|       Combi 314 CDI|      143.0|     ch|              143.0|       8753|         841|       210|\n",
      "|   mercedes| sprinter|       Combi 316 CDI|      163.0|     ch|              163.0|       8753|         883|       222|\n",
      "|   mercedes| sprinter|       Combi 319 CDI|      190.0|     ch|              190.0|       8753|         988|       249|\n",
      "|   mercedes| sprinter|       Combi 311 CDI|      114.0|     ch|              114.0|       7073|         715|       179|\n",
      "|   mercedes| sprinter|       Combi 316 CDI|      163.0|     ch|              163.0|       7073|         715|       179|\n",
      "|   mercedes| sprinter|       Combi 314 CDI|      143.0|     ch|              143.0|       8753|         789|       197|\n",
      "|   mercedes| sprinter|       Combi 314 CDI|      143.0|     ch|              143.0|       8753|         799|       200|\n",
      "|   mercedes| sprinter|       Combi 314 CDI|      143.0|     ch|              143.0|       8753|         799|       200|\n",
      "|   mercedes| sprinter|       Combi 319 CDI|      190.0|     ch|              190.0|       8753|        1020|       255|\n",
      "|   mercedes| sprinter|       Combi 311 CDI|      114.0|     ch|              114.0|       8753|         789|       197|\n",
      "|   mercedes| sprinter|       Combi 314 CDI|      143.0|     ch|              143.0|       7890|         725|       182|\n",
      "|   mercedes| sprinter|       Combi 316 CDI|      163.0|     ch|              163.0|       7890|         725|       182|\n",
      "|   mercedes| sprinter|       Combi 314 CDI|      143.0|     ch|              143.0|       8753|         831|       207|\n",
      "|   mercedes| sprinter|       Combi 314 CDI|      143.0|     ch|              143.0|       8753|         746|       186|\n",
      "|   mercedes| sprinter|       Combi 319 CDI|      190.0|     ch|              190.0|       8753|         862|       214|\n",
      "|   mercedes| sprinter|       Combi 314 CDI|      143.0|     ch|              143.0|       8173|         736|       183|\n",
      "|   mercedes| sprinter|       Combi 316 CDI|      163.0|     ch|              163.0|       8753|         789|       197|\n",
      "|   mercedes| sprinter|       Combi 314 CDI|      143.0|     ch|              143.0|       8753|         799|       200|\n",
      "|      smart|       eq|              FORTWO|       22.0|     kW|               30.0|      -6000|         201|         0|\n",
      "|   mercedes| sprinter|       Combi 316 CDI|      163.0|     ch|              163.0|       8753|         789|       197|\n",
      "|   mercedes| sprinter|       Combi 316 CDI|      163.0|     ch|              163.0|       8753|         799|       200|\n",
      "|   mercedes| sprinter|       Combi 314 CDI|      143.0|     ch|              143.0|       7890|         725|       182|\n",
      "|   mercedes| sprinter|       Combi 314 CDI|      143.0|     ch|              143.0|       7890|         725|       182|\n",
      "|   mercedes| sprinter|       Combi 314 CDI|      143.0|     ch|              143.0|       8460|         736|       184|\n",
      "|   mercedes| sprinter|       Combi 316 CDI|      163.0|     ch|              163.0|       7613|         725|       181|\n",
      "|   mercedes| sprinter|       Combi 314 CDI|      143.0|     ch|              143.0|       7340|         725|       180|\n",
      "|   mercedes| sprinter|       Combi 311 CDI|      114.0|     ch|              114.0|       8753|         789|       197|\n",
      "|   mercedes| sprinter|       Combi 319 CDI|      190.0|     ch|              190.0|       8753|         978|       243|\n",
      "|   mercedes| sprinter|       Combi 319 CDI|      190.0|     ch|              190.0|       8753|         988|       246|\n",
      "|     nissan|    nv400|COMBI 3T3 8PL 2.3...|      110.0|     ch|              110.0|       8753|         810|       200|\n",
      "|   mercedes| sprinter|       Combi 311 CDI|      114.0|     ch|              114.0|       8753|         789|       197|\n",
      "|   mercedes| sprinter|       Combi 314 CDI|      143.0|     ch|              143.0|       8753|         746|       187|\n",
      "|   mercedes| sprinter|       Combi 311 CDI|      114.0|     ch|              114.0|       8753|         746|       187|\n",
      "|   mercedes| sprinter|       Combi 319 CDI|      190.0|     ch|              190.0|       8753|         862|       214|\n",
      "|   mercedes| sprinter|       Combi 319 CDI|      190.0|     ch|              190.0|       8753|         873|       219|\n",
      "|   mercedes| sprinter|       Combi 316 CDI|      163.0|     ch|              163.0|       8753|         736|       185|\n",
      "|   mercedes| sprinter|       Combi 316 CDI|      163.0|     ch|              163.0|       8753|         746|       186|\n",
      "|   mercedes| sprinter|       Combi 314 CDI|      143.0|     ch|              143.0|       8460|         736|       184|\n",
      "|   mercedes| sprinter|       Combi 316 CDI|      163.0|     ch|              163.0|       8753|         831|       207|\n",
      "|   mercedes| sprinter|       Combi 311 CDI|      114.0|     ch|              114.0|       7073|         715|       179|\n",
      "|   mercedes| sprinter|       Combi 314 CDI|      143.0|     ch|              143.0|       8753|         757|       189|\n",
      "|   mercedes| sprinter|       Combi 319 CDI|      190.0|     ch|              190.0|       8753|         873|       217|\n",
      "|   mercedes| sprinter|       Combi 319 CDI|      190.0|     ch|              190.0|       8753|         957|       240|\n",
      "|   mercedes| sprinter|       Combi 316 CDI|      163.0|     ch|              163.0|       8753|         789|       197|\n",
      "|   mercedes| sprinter|       Combi 319 CDI|      190.0|     ch|              190.0|       8753|         978|       243|\n",
      "|   mercedes| sprinter|       Combi 316 CDI|      163.0|     ch|              163.0|       8753|         736|       185|\n",
      "|   mercedes| sprinter|       Combi 314 CDI|      143.0|     ch|              143.0|       8753|         746|       187|\n",
      "|   mercedes| sprinter|       Combi 316 CDI|      163.0|     ch|              163.0|       8753|         789|       197|\n",
      "|   mercedes| sprinter|       Combi 316 CDI|      163.0|     ch|              163.0|       7613|         725|       181|\n",
      "|   mercedes| sprinter|       Combi 316 CDI|      163.0|     ch|              163.0|       7613|         725|       181|\n",
      "|   mercedes| sprinter|       Combi 316 CDI|      163.0|     ch|              163.0|       7073|         715|       179|\n",
      "|   mercedes| sprinter|       Combi 311 CDI|      114.0|     ch|              114.0|       8460|         736|       184|\n",
      "|   mercedes| sprinter|       Combi 314 CDI|      143.0|     ch|              143.0|       8753|         789|       197|\n",
      "|     nissan|    nv400|COMBI 3T5 8PL 2.3...|      110.0|     ch|              110.0|       8753|         810|       200|\n",
      "|   mercedes| sprinter|       Combi 319 CDI|      190.0|     ch|              190.0|       8753|         946|       237|\n",
      "|    hyundai|     kona|            electric|       39.0|     kW|               53.0|      -6000|         205|         0|\n",
      "|      tesla|    model|                   S|      180.0|     kW|              245.0|      -6000|         247|         0|\n",
      "|   mercedes| sprinter|       Combi 316 CDI|      163.0|     ch|              163.0|       8753|         799|       199|\n",
      "|   mercedes| sprinter|       Combi 311 CDI|      114.0|     ch|              114.0|       7073|         715|       179|\n",
      "|     nissan|    nv400|COMBI 3T5 9PL 2.3...|      110.0|     ch|              110.0|       8753|         810|       200|\n",
      "|   mercedes| sprinter|       Combi 316 CDI|      163.0|     ch|              163.0|       8753|         873|       219|\n",
      "|   mercedes| sprinter|       Combi 319 CDI|      190.0|     ch|              190.0|       8753|        1009|       252|\n",
      "|      tesla|    model|                   3|      155.0|     kW|              211.0|      -6000|         202|         0|\n",
      "|   mercedes| sprinter|       Combi 316 CDI|      163.0|     ch|              163.0|       7890|         725|       182|\n",
      "|   mercedes| sprinter|       Combi 319 CDI|      190.0|     ch|              190.0|       8753|         873|       219|\n",
      "|   mercedes| sprinter|       Combi 316 CDI|      163.0|     ch|              163.0|       8753|         915|       229|\n",
      "|      smart|       eq|              FORTWO|       22.0|     kW|               30.0|      -6000|         201|         0|\n",
      "|   mercedes| sprinter|       Combi 314 CDI|      143.0|     ch|              143.0|       8753|         757|       189|\n",
      "|   mercedes| sprinter|       Combi 316 CDI|      163.0|     ch|              163.0|       8753|         883|       222|\n",
      "|   mercedes| sprinter|       Combi 311 CDI|      114.0|     ch|              114.0|       8460|         736|       184|\n",
      "|   mercedes| sprinter|       Combi 311 CDI|      114.0|     ch|              114.0|       8753|         799|       200|\n",
      "|   mercedes| sprinter|       Combi 316 CDI|      163.0|     ch|              163.0|       7340|         725|       180|\n",
      "|   mercedes| sprinter|       Combi 316 CDI|      163.0|     ch|              163.0|       8753|         746|       187|\n",
      "|   mercedes| sprinter|       Combi 316 CDI|      163.0|     ch|              163.0|       8753|         757|       189|\n",
      "|   mercedes| sprinter|       Combi 316 CDI|      163.0|     ch|              163.0|       8753|         841|       210|\n",
      "|   mercedes|     vito|   Tourer long eVITO|       85.0|     kW|              116.0|      -6000|         411|         0|\n",
      "|   mercedes| sprinter|       Combi 314 CDI|      143.0|     ch|              143.0|       7340|         725|       180|\n",
      "|   mercedes| sprinter|       Combi 311 CDI|      114.0|     ch|              114.0|       8460|         736|       184|\n",
      "| volkswagen|    e-up!|          électrique|       82.0|     ch|               82.0|      -6000|         185|         0|\n",
      "|   mercedes| sprinter|       Combi 316 CDI|      163.0|     ch|              163.0|       8753|         799|       199|\n",
      "|   mercedes| sprinter|       Combi 314 CDI|      143.0|     ch|              143.0|       8173|         736|       183|\n",
      "|   mercedes| sprinter|       Combi 319 CDI|      190.0|     ch|              190.0|       8753|         999|       250|\n",
      "|   mercedes| sprinter|       Combi 316 CDI|      163.0|     ch|              163.0|       8460|         736|       184|\n",
      "|   mercedes| sprinter|       Combi 319 CDI|      190.0|     ch|              190.0|       8753|         862|       216|\n",
      "|   mercedes| sprinter|       Combi 319 CDI|      190.0|     ch|              190.0|       8753|         957|       240|\n",
      "|   mercedes| sprinter|       Combi 319 CDI|      190.0|     ch|              190.0|       8753|         873|       217|\n",
      "|   mercedes| sprinter|       Combi 316 CDI|      163.0|     ch|              163.0|       8753|         831|       207|\n",
      "|   mercedes| sprinter|       Combi 319 CDI|      190.0|     ch|              190.0|       8753|         978|       245|\n",
      "|   mercedes| sprinter|       Combi 316 CDI|      163.0|     ch|              163.0|       8753|         746|       186|\n",
      "|   mercedes| sprinter|       Combi 314 CDI|      143.0|     ch|              143.0|       8753|         789|       197|\n",
      "|   mercedes| sprinter|       Combi 314 CDI|      143.0|     ch|              143.0|       8753|         746|       186|\n",
      "|   mercedes| sprinter|       Combi 314 CDI|      143.0|     ch|              143.0|       8173|         736|       183|\n",
      "|   mercedes| sprinter|       Combi 316 CDI|      163.0|     ch|              163.0|       8753|         925|       232|\n",
      "|   mercedes| sprinter|       Combi 314 CDI|      143.0|     ch|              143.0|       7890|         725|       182|\n",
      "|   mercedes| sprinter|       Combi 319 CDI|      190.0|     ch|              190.0|       8753|         957|       240|\n",
      "|   mercedes| sprinter|       Combi 314 CDI|      143.0|     ch|              143.0|       8753|         746|       187|\n",
      "|   mercedes| sprinter|       Combi 319 CDI|      190.0|     ch|              190.0|       8753|         946|       237|\n",
      "|   mercedes| sprinter|       Combi 311 CDI|      114.0|     ch|              114.0|       8753|         799|       200|\n",
      "|       audi|   e-tron|        SPORTBACK 50|      313.0|     ch|              313.0|      -6000|         356|         0|\n",
      "|   mercedes| sprinter|       Combi 314 CDI|      143.0|     ch|              143.0|       7073|         715|       179|\n",
      "|   mercedes| sprinter|       Combi 314 CDI|      143.0|     ch|              143.0|       8753|         746|       186|\n",
      "|   mercedes| sprinter|       Combi 314 CDI|      143.0|     ch|              143.0|       8753|         736|       185|\n",
      "|      tesla|    model|                   X|      177.0|     kW|              241.0|      -6000|         293|         0|\n",
      "|   mercedes| sprinter|       Combi 316 CDI|      163.0|     ch|              163.0|       8753|         746|       186|\n",
      "|   mercedes| sprinter|       Combi 314 CDI|      143.0|     ch|              143.0|       8753|         789|       197|\n",
      "|      smart|       eq|             FORFOUR|        7.0|     kW|               10.0|      -6000|         213|         0|\n",
      "|   mercedes| sprinter|       Combi 319 CDI|      190.0|     ch|              190.0|       8753|         873|       218|\n",
      "|      tesla|    model|                   3|      100.0|     kW|              136.0|      -6000|         235|         0|\n",
      "|   mercedes| sprinter|       Combi 319 CDI|      190.0|     ch|              190.0|       8753|        1051|       262|\n",
      "|   mercedes| sprinter|       Combi 316 CDI|      163.0|     ch|              163.0|       7890|         725|       182|\n",
      "|       audi|   e-tron|                  55|      408.0|     ch|              408.0|      -6000|         357|         0|\n",
      "|   mercedes| sprinter|       Combi 314 CDI|      143.0|     ch|              143.0|       8753|         799|       199|\n",
      "|     nissan|    nv400|COMBI 3T3 9PL 2.3...|      170.0|     ch|              170.0|       8753|         810|       200|\n",
      "|       audi|   e-tron|        SPORTBACK 55|      408.0|     ch|              408.0|      -6000|         319|         0|\n",
      "|    peugeot|      208|            E- Tense|      136.0|     ch|              136.0|      -6000|         221|         0|\n",
      "|   mercedes| sprinter|       Combi 316 CDI|      163.0|     ch|              163.0|       7340|         725|       180|\n",
      "|   mercedes| sprinter|       Combi 319 CDI|      190.0|     ch|              190.0|       8753|         862|       216|\n",
      "|   mercedes| sprinter|       Combi 319 CDI|      190.0|     ch|              190.0|       8753|        1009|       252|\n",
      "|   mercedes| sprinter|       Combi 314 CDI|      143.0|     ch|              143.0|       7073|         715|       179|\n",
      "| volkswagen|   e-golf|                  5P|      136.0|     ch|              136.0|      -6000|         209|         0|\n",
      "|   mercedes| sprinter|       Combi 316 CDI|      163.0|     ch|              163.0|       8753|         736|       185|\n",
      "|   mercedes| sprinter|       Combi 314 CDI|      143.0|     ch|              143.0|       8753|         789|       197|\n",
      "|   mercedes| sprinter|       Combi 314 CDI|      143.0|     ch|              143.0|       8753|         736|       185|\n",
      "|   mercedes| sprinter|       Combi 311 CDI|      114.0|     ch|              114.0|       8753|         746|       187|\n",
      "|   mercedes| sprinter|       Combi 319 CDI|      190.0|     ch|              190.0|       8753|         999|       250|\n",
      "|   mercedes| sprinter|       Combi 316 CDI|      163.0|     ch|              163.0|       8753|         799|       200|\n",
      "|   mercedes| sprinter|       Combi 319 CDI|      190.0|     ch|              190.0|       8753|        1009|       252|\n",
      "|   mercedes| sprinter|       Combi 314 CDI|      143.0|     ch|              143.0|       8460|         736|       184|\n",
      "|   mercedes| sprinter|       Combi 311 CDI|      114.0|     ch|              114.0|       8753|         746|       187|\n",
      "|   mercedes| sprinter|       Combi 314 CDI|      143.0|     ch|              143.0|       8753|         757|       189|\n",
      "|   mercedes| sprinter|       Combi 314 CDI|      143.0|     ch|              143.0|       8753|         746|       187|\n",
      "|   mercedes| sprinter|       Combi 319 CDI|      190.0|     ch|              190.0|       8753|         988|       246|\n",
      "|   mercedes| sprinter|       Combi 316 CDI|      163.0|     ch|              163.0|       7340|         725|       180|\n",
      "|   mercedes| sprinter|       Combi 314 CDI|      143.0|     ch|              143.0|       7890|         725|       182|\n",
      "|   mercedes| sprinter|       Combi 319 CDI|      190.0|     ch|              190.0|       8753|         978|       243|\n",
      "|   mercedes| sprinter|       Combi 316 CDI|      163.0|     ch|              163.0|       7613|         725|       181|\n",
      "|   mercedes| sprinter|       Combi 319 CDI|      190.0|     ch|              190.0|       8753|         988|       246|\n",
      "|   mercedes| sprinter|       Combi 316 CDI|      163.0|     ch|              163.0|       7613|         725|       181|\n",
      "|   mercedes| sprinter|       Combi 316 CDI|      163.0|     ch|              163.0|       8753|         789|       197|\n",
      "|   mercedes| sprinter|       Combi 319 CDI|      190.0|     ch|              190.0|       8753|         967|       243|\n",
      "|   mercedes| sprinter|       Combi 316 CDI|      163.0|     ch|              163.0|       7613|         725|       181|\n",
      "|   mercedes| sprinter|       Combi 314 CDI|      143.0|     ch|              143.0|       7890|         725|       182|\n",
      "|   mercedes| sprinter|       Combi 314 CDI|      143.0|     ch|              143.0|       8753|         746|       187|\n",
      "|   mercedes| sprinter|       Combi 311 CDI|      114.0|     ch|              114.0|       8753|         799|       200|\n",
      "|    renault|      zoe|                    |       43.0|     kW|               58.0|      -6000|         206|         0|\n",
      "|   mercedes| sprinter|       Combi 311 CDI|      114.0|     ch|              114.0|       7890|         725|       182|\n",
      "|   mercedes| sprinter|       Combi 316 CDI|      163.0|     ch|              163.0|       8753|         873|       219|\n",
      "|   mercedes| sprinter|       Combi 314 CDI|      143.0|     ch|              143.0|       8460|         736|       184|\n",
      "|   mercedes| sprinter|       Combi 316 CDI|      163.0|     ch|              163.0|       8753|         746|       186|\n",
      "|   mercedes| sprinter|       Combi 316 CDI|      163.0|     ch|              163.0|       6810|         715|       178|\n",
      "|   mercedes| sprinter|       Combi 316 CDI|      163.0|     ch|              163.0|       8460|         736|       184|\n",
      "|   mercedes| sprinter|       Combi 316 CDI|      163.0|     ch|              163.0|       8753|         757|       189|\n",
      "|   mercedes| sprinter|       Combi 311 CDI|      114.0|     ch|              114.0|       7073|         715|       179|\n",
      "|   mercedes| sprinter|       Combi 316 CDI|      163.0|     ch|              163.0|       7340|         725|       180|\n",
      "|    renault|      zoe|                    |       53.0|     kW|               72.0|      -6000|         206|         0|\n",
      "|   mercedes| sprinter|       Combi 314 CDI|      143.0|     ch|              143.0|       8460|         736|       184|\n",
      "|   mercedes| sprinter|       Combi 314 CDI|      143.0|     ch|              143.0|       8753|         757|       189|\n",
      "|    hyundai|     kona|            electric|       64.0|     kW|               87.0|      -6000|         205|         0|\n",
      "|   mercedes| sprinter|       Combi 314 CDI|      143.0|     ch|              143.0|       8753|         736|       185|\n",
      "|   mercedes| sprinter|       Combi 311 CDI|      114.0|     ch|              114.0|       8753|         789|       197|\n",
      "|      smart|       eq|              FORTWO|        7.0|     kW|               10.0|      -6000|         201|         0|\n",
      "|   mercedes| sprinter|       Combi 319 CDI|      190.0|     ch|              190.0|       8753|        1041|       260|\n",
      "|   mercedes| sprinter|       Combi 319 CDI|      190.0|     ch|              190.0|       8753|        1051|       262|\n",
      "|   mercedes| sprinter|       Combi 314 CDI|      143.0|     ch|              143.0|       7340|         725|       180|\n",
      "|   mercedes| sprinter|       Combi 314 CDI|      143.0|     ch|              143.0|       7340|         725|       180|\n",
      "|   mercedes| sprinter|       Combi 314 CDI|      143.0|     ch|              143.0|       8753|         789|       197|\n",
      "|   mercedes| sprinter|       Combi 314 CDI|      143.0|     ch|              143.0|       8753|         799|       200|\n",
      "|   mercedes| sprinter|       Combi 316 CDI|      163.0|     ch|              163.0|       8753|         799|       200|\n",
      "|        kia|     soul|Moteur électrique...|      100.0|     ch|              100.0|      -6000|         214|         0|\n",
      "|   mercedes| sprinter|       Combi 316 CDI|      163.0|     ch|              163.0|       6810|         715|       178|\n",
      "|   mercedes| sprinter|       Combi 314 CDI|      143.0|     ch|              143.0|       8753|         799|       199|\n",
      "|   mercedes| sprinter|       Combi 319 CDI|      190.0|     ch|              190.0|       8753|         873|       218|\n",
      "|      smart|       eq|             FORFOUR|       22.0|     kW|               30.0|      -6000|         213|         0|\n",
      "|   mercedes| sprinter|       Combi 314 CDI|      143.0|     ch|              143.0|       8753|         736|       185|\n",
      "|   mercedes| sprinter|       Combi 316 CDI|      163.0|     ch|              163.0|       8753|         757|       189|\n",
      "|   mercedes| sprinter|       Combi 319 CDI|      190.0|     ch|              190.0|       8753|         883|       221|\n",
      "|   mercedes| sprinter|       Combi 311 CDI|      114.0|     ch|              114.0|       8753|         746|       187|\n",
      "|   mercedes| sprinter|       Combi 319 CDI|      190.0|     ch|              190.0|       8753|         978|       245|\n",
      "|   mercedes| sprinter|       Combi 316 CDI|      163.0|     ch|              163.0|       8173|         736|       183|\n",
      "|   mercedes| sprinter|       Combi 316 CDI|      163.0|     ch|              163.0|       6810|         715|       178|\n",
      "|   mercedes| sprinter|       Combi 316 CDI|      163.0|     ch|              163.0|       8173|         736|       183|\n",
      "|     nissan|    nv400|COMBI 3T3 9PL 2.3...|      110.0|     ch|              110.0|       8753|         810|       200|\n",
      "|   mercedes| sprinter|       Combi 319 CDI|      190.0|     ch|              190.0|       8753|         967|       243|\n",
      "|   mercedes| sprinter|       Combi 319 CDI|      190.0|     ch|              190.0|       8753|        1020|       255|\n",
      "|   mercedes| sprinter|       Combi 316 CDI|      163.0|     ch|              163.0|       8753|         746|       187|\n",
      "|   mercedes| sprinter|       Combi 316 CDI|      163.0|     ch|              163.0|       8753|         789|       197|\n",
      "|   mercedes| sprinter|       Combi 316 CDI|      163.0|     ch|              163.0|       8753|         746|       187|\n",
      "|   mercedes| sprinter|       Combi 316 CDI|      163.0|     ch|              163.0|       8173|         736|       183|\n",
      "|   mercedes| sprinter|       Combi 319 CDI|      190.0|     ch|              190.0|       8753|         883|       221|\n",
      "|   mercedes| sprinter|       Combi 319 CDI|      190.0|     ch|              190.0|       8753|        1041|       260|\n",
      "|   mercedes| sprinter|       Combi 314 CDI|      143.0|     ch|              143.0|       8753|         789|       197|\n",
      "|   mercedes| sprinter|       Combi 311 CDI|      114.0|     ch|              114.0|       7073|         715|       179|\n",
      "|   mercedes| sprinter|       Combi 311 CDI|      114.0|     ch|              114.0|       7890|         725|       182|\n",
      "|   mercedes| sprinter|       Combi 316 CDI|      163.0|     ch|              163.0|       8753|         736|       185|\n",
      "|   mercedes| sprinter|       Combi 314 CDI|      143.0|     ch|              143.0|       8753|         799|       200|\n",
      "|   mercedes| sprinter|       Combi 316 CDI|      163.0|     ch|              163.0|       8753|         736|       185|\n",
      "|   mercedes| sprinter|       Combi 314 CDI|      143.0|     ch|              143.0|       8753|         746|       186|\n",
      "|   mercedes| sprinter|       Combi 319 CDI|      190.0|     ch|              190.0|       8753|         862|       214|\n",
      "|    peugeot|  partner|                    |       NULL|Inconnu|               NULL|      -6000|         203|         0|\n",
      "|\"volkswagen|   passat|1.4 TSI + Hyb. Rech.|      218.0|     ch|              218.0|       NULL|          56|        31|\n",
      "|\"volkswagen|   passat|SW 1.4 TSI + Hyb....|      218.0|     ch|              218.0|       NULL|          56|        31|\n",
      "|      skoda|   superb|             Berline|       NULL|Inconnu|               NULL|       NULL|          85|        31|\n",
      "|        bmw|    225xe|              Active|       NULL|Inconnu|               NULL|       NULL|          80|        52|\n",
      "|       audi|       a7| Sportback 55 TFSI e|      367.0|     ch|              367.0|       NULL|         105|        42|\n",
      "|      skoda|   superb|               Combi|       NULL|Inconnu|               NULL|       NULL|          85|        31|\n",
      "|         ds|      ds7|   CROSSBACK E-TENSE|      200.0|     ch|              200.0|       NULL|          67|        33|\n",
      "|        kia|   optima|  SW 2.0 essence GDi|      156.0|     ch|              156.0|       NULL|          56|        33|\n",
      "|      volvo|      v60|                  T8|       NULL|Inconnu|               NULL|       NULL|          64|        39|\n",
      "|   mercedes|        e|                 300|       NULL|Inconnu|               NULL|       NULL|          78|        47|\n",
      "|   mercedes|        s|                 560|       NULL|Inconnu|               NULL|       NULL|          84|        57|\n",
      "|       audi|       q5|           50 TFSI e|      299.0|     ch|              299.0|       NULL|         105|        49|\n",
      "|      skoda|   superb|             Berline|       NULL|Inconnu|               NULL|       NULL|          85|        31|\n",
      "|        bmw|       i8|               Coupé|       NULL|Inconnu|               NULL|       NULL|          66|        42|\n",
      "|     jaguar|   i-pace|               EV400|       NULL|Inconnu|               NULL|      -6000|         271|         0|\n",
      "|    peugeot|      508|        2.0 PureTech|      180.0|     ch|              180.0|       NULL|          67|        31|\n",
      "|    porsche|  cayenne|            E-HYBRID|       NULL|Inconnu|               NULL|       NULL|          98|        74|\n",
      "|   mercedes|        c|                 300|       NULL|Inconnu|               NULL|       NULL|          75|        35|\n",
      "|   mercedes|        a|                 250|       NULL|Inconnu|               NULL|       NULL|          74|        30|\n",
      "|        bmw|       x5|           xDrive45e|       NULL|Inconnu|               NULL|       NULL|          83|        38|\n",
      "|   mercedes|        e|                 300|       NULL|Inconnu|               NULL|       NULL|          78|        46|\n",
      "|      skoda|   superb|               Combi|       NULL|Inconnu|               NULL|       NULL|          85|        31|\n",
      "|      skoda|   superb|             Berline|       NULL|Inconnu|               NULL|       NULL|          85|        31|\n",
      "|        bmw|       x5|           xDrive45e|       NULL|Inconnu|               NULL|       NULL|          83|        45|\n",
      "|\"volkswagen|   passat|SW 1.4 TSI + Hyb....|      218.0|     ch|              218.0|       NULL|          56|        31|\n",
      "|      volvo|     xc40|      T5 TWIN ENGINE|      262.0|     ch|              262.0|       NULL|          75|        41|\n",
      "|   mercedes|        e|                 200|       NULL|Inconnu|               NULL|       NULL|          78|        38|\n",
      "|       land|    rover|RANGE ROVER SPORT...|      404.0|     ch|              404.0|       NULL|          78|        69|\n",
      "|      skoda|   superb|               Combi|       NULL|Inconnu|               NULL|       NULL|          85|        31|\n",
      "|        bmw|     530e|             Berline|       NULL|Inconnu|               NULL|       NULL|          54|        47|\n",
      "|    peugeot| nouvelle|    3008 2.0 BlueHDi|      200.0|     ch|              200.0|       NULL|          66|        33|\n",
      "|        bmw|    745le|                    |       NULL|Inconnu|               NULL|       NULL|          62|        50|\n",
      "|   mercedes|        c|                 300|       NULL|Inconnu|               NULL|       NULL|          75|        39|\n",
      "| volkswagen|     golf|                  5P|      204.0|     ch|              204.0|       NULL|          54|        40|\n",
      "|        bmw|    225xe|              Active|       NULL|Inconnu|               NULL|       NULL|          60|        42|\n",
      "|        bmw|       i3|                 120|       NULL|Inconnu|               NULL|      -6000|         204|         0|\n",
      "|     nissan| nouvelle|              NISSAN|       NULL|Inconnu|               NULL|      -6000|         177|         0|\n",
      "|      skoda|   superb|             Berline|       NULL|Inconnu|               NULL|       NULL|          85|        31|\n",
      "|       audi|       a3|           40 e-tron|      204.0|     ch|              204.0|       NULL|          54|        40|\n",
      "|        bmw|     330e|             Berline|       NULL|Inconnu|               NULL|       NULL|          60|        36|\n",
      "|    porsche| panamera|               TURBO|       NULL|Inconnu|               NULL|       NULL|          84|        72|\n",
      "| mitsubishi|outlander|                PHEV|       NULL|Inconnu|               NULL|       NULL|          98|        40|\n",
      "|        bmw|     530e|              xDrive|       NULL|Inconnu|               NULL|       NULL|          54|        47|\n",
      "|      volvo|     xc90|      T8 Twin Engine|      390.0|     ch|              390.0|       NULL|          77|        48|\n",
      "|\"volkswagen|   passat|SW 1.4 TSI + Hyb....|      218.0|     ch|              218.0|       NULL|          56|        31|\n",
      "|    bentley| bentayga|              HYBRID|       NULL|Inconnu|               NULL|       NULL|         102|        84|\n",
      "|   mercedes|        e|                 300|       NULL|Inconnu|               NULL|       NULL|          78|        38|\n",
      "|     nissan| nouvelle|              NISSAN|       NULL|Inconnu|               NULL|      -6000|         155|         0|\n",
      "|      volvo|      s60|                  T8|       NULL|Inconnu|               NULL|       NULL|          75|        48|\n",
      "|        bmw|     530e|             Berline|       NULL|Inconnu|               NULL|       NULL|          54|        36|\n",
      "|       audi|       q5|           55 TFSI e|      367.0|     ch|              367.0|       NULL|         105|        45|\n",
      "|       mini|     mini|Cooper SE Countryman|       NULL|Inconnu|               NULL|       NULL|          53|        43|\n",
      "|        bmw|       i8|            Roadster|       NULL|Inconnu|               NULL|       NULL|          68|        42|\n",
      "|    porsche| panamera|                   4|       NULL|Inconnu|               NULL|       NULL|          84|        58|\n",
      "|       land|    rover|RANGE ROVER LWB P...|      404.0|     ch|              404.0|       NULL|          78|        69|\n",
      "|\"volkswagen|   passat|1.4 TSI + Hyb. Rech.|      218.0|     ch|              218.0|       NULL|          56|        31|\n",
      "|        bmw|     745e|             Berline|       NULL|Inconnu|               NULL|       NULL|          62|        48|\n",
      "|   mercedes|        b|                 250|       NULL|Inconnu|               NULL|       NULL|          62|        30|\n",
      "|        bmw|    745le|              xDrive|       NULL|Inconnu|               NULL|       NULL|          62|        55|\n",
      "|       \"kia|   e-niro|              Moteur|       NULL|Inconnu|               NULL|       NULL|           0|      6000|\n",
      "|       land|    rover|RANGE ROVER SWB P...|      404.0|     ch|              404.0|       NULL|          78|        69|\n",
      "|   mercedes|        c|                 300|       NULL|Inconnu|               NULL|       NULL|          75|        38|\n",
      "|   mercedes|      glc|                 300|       NULL|Inconnu|               NULL|       NULL|          98|        50|\n",
      "|      volvo|     xc60|      T8 Twin Engine|      390.0|     ch|              390.0|       NULL|          67|        42|\n",
      "| volkswagen|     golf|                  5P|      204.0|     ch|              204.0|       NULL|          54|        40|\n",
      "|      volvo|      s90|      T8 Twin Engine|      390.0|     ch|              390.0|       NULL|          67|        40|\n",
      "|      volvo|      v90|      T8 Twin Engine|      390.0|     ch|              390.0|       NULL|          78|        40|\n",
      "|       mini|     mini|  Cooper SE Hatch 3P|       NULL|Inconnu|               NULL|      -6000|         199|         0|\n",
      "|\"volkswagen|   passat|1.4 TSI + Hyb. Rech.|      218.0|     ch|              218.0|       NULL|          56|        31|\n",
      "|      smart|       eq|              FORTWO|       NULL|Inconnu|               NULL|      -6000|         175|         0|\n",
      "|     toyota|    prius|Hybride Rechargeable|       NULL|Inconnu|               NULL|       NULL|          43|        32|\n",
      "|      volvo|      s60|      T8 TWIN ENGINE|       87.0|     ch|               87.0|       NULL|          75|        39|\n",
      "|\"volkswagen|   passat|1.4 TSI + Hyb. Rech.|      218.0|     ch|              218.0|       NULL|          56|        31|\n",
      "|\"volkswagen|   passat|SW 1.4 TSI + Hyb....|      218.0|     ch|              218.0|       NULL|          56|        31|\n",
      "|    citroen| berlingo|                    |       NULL|Inconnu|               NULL|      -6000|         203|         0|\n",
      "|   mercedes|      eqc|                 400|       NULL|Inconnu|               NULL|      -6000|         291|         0|\n",
      "|       audi|       q5|           50 TFSI e|      299.0|     ch|              299.0|       NULL|         105|        45|\n",
      "|      skoda|  citigoe|                  iV|       NULL|Inconnu|               NULL|      -6000|         210|         0|\n",
      "|      smart|       eq|             FORFOUR|       NULL|Inconnu|               NULL|      -6000|         175|         0|\n",
      "|      smart|       eq|              FORTWO|       NULL|Inconnu|               NULL|      -6000|         175|         0|\n",
      "|        bmw|      i3s|                 120|       NULL|Inconnu|               NULL|      -6000|         204|         0|\n",
      "|      skoda|   superb|               Combi|       NULL|Inconnu|               NULL|       NULL|          85|        31|\n",
      "|   mercedes|        e|                 300|       NULL|Inconnu|               NULL|       NULL|          78|        37|\n",
      "|    porsche|  cayenne|            E-HYBRID|       NULL|Inconnu|               NULL|       NULL|          98|        70|\n",
      "|    porsche| panamera|                   4|       NULL|Inconnu|               NULL|       NULL|          75|        58|\n",
      "|    hyundai|    ioniq|             plug-in|       NULL|Inconnu|               NULL|       NULL|          43|        26|\n",
      "|       land|    rover|RANGE ROVER SWB P...|      404.0|     ch|              404.0|       NULL|          78|        69|\n",
      "| mitsubishi|outlander|                PHEV|       NULL|Inconnu|               NULL|       NULL|          98|        40|\n",
      "|    porsche|  cayenne|               TURBO|       NULL|Inconnu|               NULL|       NULL|         105|        85|\n",
      "|        kia|     niro|     1.6 essence GDi|      105.0|     ch|              105.0|       NULL|          47|        29|\n",
      "|       land|    rover|RANGE ROVER LWB P...|      404.0|     ch|              404.0|       NULL|          78|        69|\n",
      "|    citroen|   c-zero|                    |       NULL|Inconnu|               NULL|      -6000|         491|         0|\n",
      "+-----------+---------+--------------------+-----------+-------+-------------------+-----------+------------+----------+\n"
     ]
    }
   ],
   "source": [
    "# Charger les données depuis Hive\n",
    "spark.sql(\"USE concessionnaire\")\n",
    "catalogue_df = spark.sql(\"SELECT * FROM catalogue_table_processed\")\n",
    "co2_df = spark.sql(\"SELECT * FROM co2_data_processed\")\n",
    "\n",
    "\n",
    "# Normaliser les colonnes de marque\n",
    "co2_df = co2_df.withColumn(\"marque\", F.lower(F.trim(F.col(\"marque\"))))\n",
    "catalogue_df = catalogue_df.withColumn(\"marque\", F.lower(F.trim(F.col(\"marque\"))))\n",
    "\n",
    "co2_df = co2_df.withColumn(\"modele\", F.lower(F.trim(F.col(\"modele\"))))\n",
    "catalogue_df = catalogue_df.withColumn(\"modele\", F.lower(F.trim(F.col(\"modele\"))))\n",
    "# Vérifier les données chargées\n",
    "print(\"Données Catalogue :\")\n",
    "catalogue_df.show(5)\n",
    "\n",
    "print(\"Données CO2 :\")\n",
    "co2_df.show(1000)"
   ],
   "metadata": {
    "collapsed": false,
    "ExecuteTime": {
     "end_time": "2024-11-19T21:38:02.273335900Z",
     "start_time": "2024-11-19T21:38:01.935183Z"
    }
   },
   "id": "89a6814bb9b2735b"
  },
  {
   "cell_type": "markdown",
   "source": [
    "# **Creation de **final_catalogue_df**  qui servira lors de la fusion des data  **"
   ],
   "metadata": {
    "collapsed": false
   },
   "id": "786afce4ff6de09"
  },
  {
   "cell_type": "code",
   "execution_count": 49,
   "outputs": [
    {
     "name": "stdout",
     "output_type": "stream",
     "text": [
      "+------+------+-------------+-------------------+--------+--------+--------+-------+--------+----+-----------+------------+----------+\n",
      "|marque|modele|modele_detail|unified_horse_power|longueur|nbplaces|nbportes|couleur|occasion|prix|bonus_malus|cout_energie|rejets_co2|\n",
      "+------+------+-------------+-------------------+--------+--------+--------+-------+--------+----+-----------+------------+----------+\n",
      "+------+------+-------------+-------------------+--------+--------+--------+-------+--------+----+-----------+------------+----------+\n"
     ]
    }
   ],
   "source": [
    "# Définir le schéma du DataFrame vide avec les bonnes colonnes\n",
    "schema = StructType([\n",
    "    StructField(\"marque\", StringType(), True),\n",
    "    StructField(\"modele\", StringType(), True),\n",
    "    StructField(\"modele_detail\", StringType(), True),\n",
    "    StructField(\"unified_horse_power\", FloatType(), True),\n",
    "    StructField(\"longueur\", FloatType(), True),\n",
    "    StructField(\"nbplaces\", IntegerType(), True),\n",
    "    StructField(\"nbportes\", IntegerType(), True),\n",
    "    StructField(\"couleur\", StringType(), True),\n",
    "    StructField(\"occasion\", BooleanType(), True),\n",
    "    StructField(\"prix\", FloatType(), True),\n",
    "    StructField(\"bonus_malus\", FloatType(), True),\n",
    "    StructField(\"cout_energie\", FloatType(), True),\n",
    "    StructField(\"rejets_co2\", FloatType(), True)\n",
    "])\n",
    "\n",
    "# Créer le DataFrame vide avec ce schéma\n",
    "final_catalogue_df = spark.createDataFrame([], schema)\n",
    "\n",
    "# Afficher le DataFrame vide\n",
    "final_catalogue_df.show(truncate=False)\n"
   ],
   "metadata": {
    "collapsed": false,
    "ExecuteTime": {
     "end_time": "2024-11-19T21:38:02.524195600Z",
     "start_time": "2024-11-19T21:38:02.158030Z"
    }
   },
   "id": "c93e2725a1c4459f"
  },
  {
   "cell_type": "markdown",
   "source": [],
   "metadata": {
    "collapsed": false
   },
   "id": "18cb2eefc9de5d7f"
  },
  {
   "cell_type": "markdown",
   "source": [
    "# **Drop duplicate sur co2 et catalogue**"
   ],
   "metadata": {
    "collapsed": false
   },
   "id": "c559c825bf302e1"
  },
  {
   "cell_type": "code",
   "execution_count": 50,
   "outputs": [
    {
     "name": "stdout",
     "output_type": "stream",
     "text": [
      "Nombre de lignes uniques dans Co2 après suppression des doublons : 175\n",
      "Nombre de lignes uniques dans Catalogue après suppression des doublons (sans 'couleur') : 54\n",
      "+----------+----------+-------------+-------------------+--------+--------+--------+-------+--------+-------+\n",
      "|marque    |modele    |modele_detail|unified_horse_power|longueur|nbplaces|nbportes|couleur|occasion|prix   |\n",
      "+----------+----------+-------------+-------------------+--------+--------+--------+-------+--------+-------+\n",
      "|volkswagen|polo      |1.2 6V       |55                 |courte  |5       |3       |blanc  |true    |8540.0 |\n",
      "|volkswagen|polo      |1.2 6V       |55                 |courte  |5       |3       |blanc  |false   |12200.0|\n",
      "|daihatsu  |cuore     |1.0          |58                 |courte  |5       |3       |noir   |false   |8850.0 |\n",
      "|kia       |picanto   |1.1          |65                 |courte  |5       |5       |blanc  |false   |8990.0 |\n",
      "|audi      |a2        |1.4          |75                 |courte  |5       |5       |bleu   |true    |12817.0|\n",
      "|audi      |a2        |1.4          |75                 |courte  |5       |5       |gris   |false   |18310.0|\n",
      "|peugeot   |1007      |1.4          |75                 |courte  |5       |5       |blanc  |true    |9625.0 |\n",
      "|peugeot   |1007      |1.4          |75                 |courte  |5       |5       |gris   |false   |13750.0|\n",
      "|dacia     |logan     |1.6 MPI      |90                 |moyenne |5       |5       |rouge  |false   |7500.0 |\n",
      "|lancia    |ypsilon   |1.4 16V      |90                 |courte  |5       |3       |bleu   |true    |9450.0 |\n",
      "|lancia    |ypsilon   |1.4 16V      |90                 |courte  |5       |3       |noir   |false   |13500.0|\n",
      "|seat      |toledo    |1.6          |102                |longue  |5       |5       |rouge  |false   |18880.0|\n",
      "|hyundaï   |matrix    |1.6          |103                |longue  |7       |5       |noir   |false   |15960.0|\n",
      "|nissan    |primera   |1.6          |109                |longue  |5       |5       |gris   |false   |18650.0|\n",
      "|volkswagen|new beatle|1.8          |110                |moyenne |5       |5       |bleu   |true    |18641.0|\n",
      "|volkswagen|new beatle|1.8          |110                |moyenne |5       |5       |gris   |false   |26630.0|\n",
      "|mini      |copper    |1.6 16V      |115                |courte  |5       |5       |gris   |true    |12740.0|\n",
      "|mini      |copper    |1.6 16V      |115                |courte  |5       |5       |rouge  |false   |18200.0|\n",
      "|nissan    |almera    |1.8          |115                |moyenne |5       |5       |bleu   |false   |16450.0|\n",
      "|ford      |mondeo    |1.8          |125                |longue  |5       |5       |blanc  |true    |16730.0|\n",
      "+----------+----------+-------------+-------------------+--------+--------+--------+-------+--------+-------+\n",
      "only showing top 20 rows\n"
     ]
    }
   ],
   "source": [
    "# Liste des colonnes à utiliser pour vérifier l'unicité (toutes sauf 'couleur')\n",
    "columns_to_check = [col for col in catalogue_df.columns if col != \"couleur\"]\n",
    "\n",
    "# Supprimer doublons dans le fichier CO2 au cas ou\n",
    "co2_df = co2_df.dropDuplicates()\n",
    "\n",
    "# Supprimer les doublons en se basant sur toutes les colonnes sauf 'couleur'\n",
    "catalogue_df = catalogue_df.dropDuplicates(columns_to_check)\n",
    "\n",
    "# Vérifier les résultats après suppression des doublons\n",
    "print(f\"Nombre de lignes uniques dans Co2 après suppression des doublons : {co2_df.count()}\")\n",
    "print(f\"Nombre de lignes uniques dans Catalogue après suppression des doublons (sans 'couleur') : {catalogue_df.count()}\")\n",
    "catalogue_df.show(truncate=False)\n"
   ],
   "metadata": {
    "collapsed": false,
    "ExecuteTime": {
     "end_time": "2024-11-19T21:38:02.979099200Z",
     "start_time": "2024-11-19T21:38:02.520010600Z"
    }
   },
   "id": "64eb68c1ff579ff3"
  },
  {
   "cell_type": "markdown",
   "source": [
    "# **Fusionner les Données dans final_catalogue_df**"
   ],
   "metadata": {
    "collapsed": false
   },
   "id": "fe65c4396dd33cf7"
  },
  {
   "cell_type": "code",
   "execution_count": 51,
   "outputs": [
    {
     "name": "stdout",
     "output_type": "stream",
     "text": [
      "Nombre de lignes dans le catalogue final fusionné : 54\n",
      "+----------+----------+-------------+-------------------+--------+--------+--------+-------+--------+-------+-----------+------------+----------+\n",
      "|    marque|    modele|modele_detail|unified_horse_power|longueur|nbplaces|nbportes|couleur|occasion|   prix|bonus_malus|cout_energie|rejets_co2|\n",
      "+----------+----------+-------------+-------------------+--------+--------+--------+-------+--------+-------+-----------+------------+----------+\n",
      "|volkswagen|      polo|       1.2 6V|               55.0|  courte|       5|       3|  blanc|    true| 8540.0|       NULL|        NULL|      NULL|\n",
      "|volkswagen|      polo|       1.2 6V|               55.0|  courte|       5|       3|  blanc|   false|12200.0|       NULL|        NULL|      NULL|\n",
      "|  daihatsu|     cuore|          1.0|               58.0|  courte|       5|       3|   noir|   false| 8850.0|       NULL|        NULL|      NULL|\n",
      "|       kia|   picanto|          1.1|               65.0|  courte|       5|       5|  blanc|   false| 8990.0|       NULL|        NULL|      NULL|\n",
      "|      audi|        a2|          1.4|               75.0|  courte|       5|       5|   bleu|    true|12817.0|       NULL|        NULL|      NULL|\n",
      "|      audi|        a2|          1.4|               75.0|  courte|       5|       5|   gris|   false|18310.0|       NULL|        NULL|      NULL|\n",
      "|   peugeot|      1007|          1.4|               75.0|  courte|       5|       5|  blanc|    true| 9625.0|       NULL|        NULL|      NULL|\n",
      "|   peugeot|      1007|          1.4|               75.0|  courte|       5|       5|   gris|   false|13750.0|       NULL|        NULL|      NULL|\n",
      "|     dacia|     logan|      1.6 MPI|               90.0| moyenne|       5|       5|  rouge|   false| 7500.0|       NULL|        NULL|      NULL|\n",
      "|    lancia|   ypsilon|      1.4 16V|               90.0|  courte|       5|       3|   bleu|    true| 9450.0|       NULL|        NULL|      NULL|\n",
      "|    lancia|   ypsilon|      1.4 16V|               90.0|  courte|       5|       3|   noir|   false|13500.0|       NULL|        NULL|      NULL|\n",
      "|      seat|    toledo|          1.6|              102.0|  longue|       5|       5|  rouge|   false|18880.0|       NULL|        NULL|      NULL|\n",
      "|   hyundaï|    matrix|          1.6|              103.0|  longue|       7|       5|   noir|   false|15960.0|       NULL|        NULL|      NULL|\n",
      "|    nissan|   primera|          1.6|              109.0|  longue|       5|       5|   gris|   false|18650.0|       NULL|        NULL|      NULL|\n",
      "|volkswagen|new beatle|          1.8|              110.0| moyenne|       5|       5|   bleu|    true|18641.0|       NULL|        NULL|      NULL|\n",
      "|volkswagen|new beatle|          1.8|              110.0| moyenne|       5|       5|   gris|   false|26630.0|       NULL|        NULL|      NULL|\n",
      "|      mini|    copper|      1.6 16V|              115.0|  courte|       5|       5|   gris|    true|12740.0|       NULL|        NULL|      NULL|\n",
      "|      mini|    copper|      1.6 16V|              115.0|  courte|       5|       5|  rouge|   false|18200.0|       NULL|        NULL|      NULL|\n",
      "|    nissan|    almera|          1.8|              115.0| moyenne|       5|       5|   bleu|   false|16450.0|       NULL|        NULL|      NULL|\n",
      "|      ford|    mondeo|          1.8|              125.0|  longue|       5|       5|  blanc|    true|16730.0|       NULL|        NULL|      NULL|\n",
      "+----------+----------+-------------+-------------------+--------+--------+--------+-------+--------+-------+-----------+------------+----------+\n",
      "only showing top 20 rows\n"
     ]
    }
   ],
   "source": [
    "#fusionner les données\n",
    "final_catalogue_df = final_catalogue_df.unionByName(catalogue_df, allowMissingColumns=True)\n",
    "\n",
    "print(f\"Nombre de lignes dans le catalogue final fusionné : {final_catalogue_df.count()}\")\n",
    "final_catalogue_df.show()"
   ],
   "metadata": {
    "collapsed": false,
    "ExecuteTime": {
     "end_time": "2024-11-19T21:38:03.796550100Z",
     "start_time": "2024-11-19T21:38:02.981866600Z"
    }
   },
   "id": "a0201c4655f43f0"
  },
  {
   "cell_type": "markdown",
   "source": [
    "# **Modèles du catalogue absent de co2 et ajout des m**"
   ],
   "metadata": {
    "collapsed": false
   },
   "id": "2ba1568812fa9bbf"
  },
  {
   "cell_type": "code",
   "execution_count": 52,
   "outputs": [
    {
     "name": "stdout",
     "output_type": "stream",
     "text": [
      "Nombre de modèles absents dans CO2 : 49\n",
      "Résultats des modèles absents enrichis avec les moyennes :\n",
      "+----------+----------+-------------+-------------------+--------+--------+--------+-------+--------+-------+-----------+----------+------------+\n",
      "|marque    |modele    |modele_detail|unified_horse_power|longueur|nbplaces|nbportes|couleur|occasion|prix   |bonus_malus|rejets_co2|cout_energie|\n",
      "+----------+----------+-------------+-------------------+--------+--------+--------+-------+--------+-------+-----------+----------+------------+\n",
      "|volkswagen|polo      |1.2 6V       |55                 |courte  |5       |3       |blanc  |true    |8540.0 |-6000.0    |13.3      |149.3       |\n",
      "|volkswagen|polo      |1.2 6V       |55                 |courte  |5       |3       |blanc  |false   |12200.0|-6000.0    |13.3      |149.3       |\n",
      "|daihatsu  |cuore     |1.0          |58                 |courte  |5       |3       |noir   |false   |8850.0 |NULL       |NULL      |NULL        |\n",
      "|kia       |picanto   |1.1          |65                 |courte  |5       |5       |blanc  |false   |8990.0 |-6000.0    |15.5      |132.8       |\n",
      "|audi      |a2        |1.4          |75                 |courte  |5       |5       |bleu   |true    |12817.0|-6000.0    |24.6      |206.9       |\n",
      "|audi      |a2        |1.4          |75                 |courte  |5       |5       |gris   |false   |18310.0|-6000.0    |24.6      |206.9       |\n",
      "|peugeot   |1007      |1.4          |75                 |courte  |5       |5       |blanc  |true    |9625.0 |-6000.0    |12.8      |159.6       |\n",
      "|peugeot   |1007      |1.4          |75                 |courte  |5       |5       |gris   |false   |13750.0|-6000.0    |12.8      |159.6       |\n",
      "|dacia     |logan     |1.6 MPI      |90                 |moyenne |5       |5       |rouge  |false   |7500.0 |NULL       |NULL      |NULL        |\n",
      "|lancia    |ypsilon   |1.4 16V      |90                 |courte  |5       |3       |bleu   |true    |9450.0 |NULL       |NULL      |NULL        |\n",
      "|lancia    |ypsilon   |1.4 16V      |90                 |courte  |5       |3       |noir   |false   |13500.0|NULL       |NULL      |NULL        |\n",
      "|seat      |toledo    |1.6          |102                |longue  |5       |5       |rouge  |false   |18880.0|NULL       |NULL      |NULL        |\n",
      "|hyundaï   |matrix    |1.6          |103                |longue  |7       |5       |noir   |false   |15960.0|NULL       |NULL      |NULL        |\n",
      "|nissan    |primera   |1.6          |109                |longue  |5       |5       |gris   |false   |18650.0|5802.4     |160.0     |681.2       |\n",
      "|volkswagen|new beatle|1.8          |110                |moyenne |5       |5       |bleu   |true    |18641.0|-6000.0    |13.3      |149.3       |\n",
      "|volkswagen|new beatle|1.8          |110                |moyenne |5       |5       |gris   |false   |26630.0|-6000.0    |13.3      |149.3       |\n",
      "|mini      |copper    |1.6 16V      |115                |courte  |5       |5       |gris   |true    |12740.0|-6000.0    |21.5      |126.0       |\n",
      "|mini      |copper    |1.6 16V      |115                |courte  |5       |5       |rouge  |false   |18200.0|-6000.0    |21.5      |126.0       |\n",
      "|nissan    |almera    |1.8          |115                |moyenne |5       |5       |bleu   |false   |16450.0|5802.4     |160.0     |681.2       |\n",
      "|ford      |mondeo    |1.8          |125                |longue  |5       |5       |blanc  |true    |16730.0|NULL       |NULL      |NULL        |\n",
      "+----------+----------+-------------+-------------------+--------+--------+--------+-------+--------+-------+-----------+----------+------------+\n",
      "only showing top 20 rows\n",
      "\n",
      "Nombre de modèles absents dans CO2 enrichis avec les moyennes : 49\n",
      "Catalogue final enrichi avec les moyennes de CO2 pour les modèles absents :\n",
      "+----------+----------+-------------+-------------------+-----------+--------+--------+-------+--------+--------+-----------+------------+----------+\n",
      "|    marque|    modele|modele_detail|unified_horse_power|   longueur|nbplaces|nbportes|couleur|occasion|    prix|bonus_malus|cout_energie|rejets_co2|\n",
      "+----------+----------+-------------+-------------------+-----------+--------+--------+-------+--------+--------+-----------+------------+----------+\n",
      "|volkswagen|      polo|       1.2 6V|               55.0|     courte|       5|       3|  blanc|    true|  8540.0|       NULL|        NULL|      NULL|\n",
      "|volkswagen|      polo|       1.2 6V|               55.0|     courte|       5|       3|  blanc|   false| 12200.0|       NULL|        NULL|      NULL|\n",
      "|  daihatsu|     cuore|          1.0|               58.0|     courte|       5|       3|   noir|   false|  8850.0|       NULL|        NULL|      NULL|\n",
      "|       kia|   picanto|          1.1|               65.0|     courte|       5|       5|  blanc|   false|  8990.0|       NULL|        NULL|      NULL|\n",
      "|      audi|        a2|          1.4|               75.0|     courte|       5|       5|   bleu|    true| 12817.0|       NULL|        NULL|      NULL|\n",
      "|      audi|        a2|          1.4|               75.0|     courte|       5|       5|   gris|   false| 18310.0|       NULL|        NULL|      NULL|\n",
      "|   peugeot|      1007|          1.4|               75.0|     courte|       5|       5|  blanc|    true|  9625.0|       NULL|        NULL|      NULL|\n",
      "|   peugeot|      1007|          1.4|               75.0|     courte|       5|       5|   gris|   false| 13750.0|       NULL|        NULL|      NULL|\n",
      "|     dacia|     logan|      1.6 MPI|               90.0|    moyenne|       5|       5|  rouge|   false|  7500.0|       NULL|        NULL|      NULL|\n",
      "|    lancia|   ypsilon|      1.4 16V|               90.0|     courte|       5|       3|   bleu|    true|  9450.0|       NULL|        NULL|      NULL|\n",
      "|    lancia|   ypsilon|      1.4 16V|               90.0|     courte|       5|       3|   noir|   false| 13500.0|       NULL|        NULL|      NULL|\n",
      "|      seat|    toledo|          1.6|              102.0|     longue|       5|       5|  rouge|   false| 18880.0|       NULL|        NULL|      NULL|\n",
      "|   hyundaï|    matrix|          1.6|              103.0|     longue|       7|       5|   noir|   false| 15960.0|       NULL|        NULL|      NULL|\n",
      "|    nissan|   primera|          1.6|              109.0|     longue|       5|       5|   gris|   false| 18650.0|       NULL|        NULL|      NULL|\n",
      "|volkswagen|new beatle|          1.8|              110.0|    moyenne|       5|       5|   bleu|    true| 18641.0|       NULL|        NULL|      NULL|\n",
      "|volkswagen|new beatle|          1.8|              110.0|    moyenne|       5|       5|   gris|   false| 26630.0|       NULL|        NULL|      NULL|\n",
      "|      mini|    copper|      1.6 16V|              115.0|     courte|       5|       5|   gris|    true| 12740.0|       NULL|        NULL|      NULL|\n",
      "|      mini|    copper|      1.6 16V|              115.0|     courte|       5|       5|  rouge|   false| 18200.0|       NULL|        NULL|      NULL|\n",
      "|    nissan|    almera|          1.8|              115.0|    moyenne|       5|       5|   bleu|   false| 16450.0|       NULL|        NULL|      NULL|\n",
      "|      ford|    mondeo|          1.8|              125.0|     longue|       5|       5|  blanc|    true| 16730.0|       NULL|        NULL|      NULL|\n",
      "|      ford|    mondeo|          1.8|              125.0|     longue|       5|       5|   bleu|   false| 23900.0|       NULL|        NULL|      NULL|\n",
      "|     honda|      fr-v|          1.7|              125.0|     longue|       7|       5|  blanc|   false| 19550.0|       NULL|        NULL|      NULL|\n",
      "|   renault|    megane|      2.0 16V|              135.0|    moyenne|       5|       5|  blanc|    true| 15644.0|       NULL|        NULL|      NULL|\n",
      "|   renault|    megane|      2.0 16V|              135.0|    moyenne|       5|       5|  rouge|   false| 22350.0|       NULL|        NULL|      NULL|\n",
      "|  mercedes|      a200|             |              136.0|    moyenne|       5|       5|  blanc|    true| 18130.0|       NULL|        NULL|      NULL|\n",
      "|  mercedes|      a200|             |              136.0|    moyenne|       5|       5|   noir|   false| 25900.0|       NULL|        NULL|      NULL|\n",
      "|      fiat|     croma|          2.2|              147.0|     longue|       5|       5|   bleu|    true| 17346.0|       NULL|        NULL|      NULL|\n",
      "|      fiat|     croma|          2.2|              147.0|     longue|       5|       5|  rouge|   false| 24780.0|       NULL|        NULL|      NULL|\n",
      "|      audi|        a3|      2.0 FSI|              150.0|    moyenne|       5|       5|  blanc|    true| 19950.0|       NULL|        NULL|      NULL|\n",
      "|      audi|        a3|      2.0 FSI|              150.0|    moyenne|       5|       5|   noir|   false| 28500.0|       NULL|        NULL|      NULL|\n",
      "|       bmw|      120i|             |              150.0|    moyenne|       5|       5|  blanc|    true| 25060.0|       NULL|        NULL|      NULL|\n",
      "|       bmw|      120i|             |              150.0|    moyenne|       5|       5|  rouge|   false| 35800.0|       NULL|        NULL|      NULL|\n",
      "|      saab|       9.3|         1.8T|              150.0|     longue|       5|       5|   noir|    true| 27020.0|       NULL|        NULL|      NULL|\n",
      "|      saab|       9.3|         1.8T|              150.0|     longue|       5|       5|   gris|   false| 38600.0|       NULL|        NULL|      NULL|\n",
      "|volkswagen|      golf|      2.0 FSI|              150.0|    moyenne|       5|       5|   gris|    true| 16029.0|       NULL|        NULL|      NULL|\n",
      "|volkswagen|    touran|      2.0 FSI|              150.0|     longue|       7|       5|  rouge|    true| 19138.0|       NULL|        NULL|      NULL|\n",
      "|volkswagen|      golf|      2.0 FSI|              150.0|    moyenne|       5|       5|   gris|   false| 22900.0|       NULL|        NULL|      NULL|\n",
      "|volkswagen|    touran|      2.0 FSI|              150.0|     longue|       7|       5|   bleu|   false| 27340.0|       NULL|        NULL|      NULL|\n",
      "|   renault|    espace|         2.0T|              165.0|     longue|       7|       5|  rouge|    true| 21245.0|       NULL|        NULL|      NULL|\n",
      "|   renault|    espace|         2.0T|              165.0|     longue|       7|       5|   noir|   false| 30350.0|       NULL|        NULL|      NULL|\n",
      "|   renault|    laguna|         2.0T|              170.0|     longue|       5|       5|  rouge|    true| 19110.0|       NULL|        NULL|      NULL|\n",
      "|   renault|    laguna|         2.0T|              170.0|     longue|       5|       5|  rouge|   false| 27300.0|       NULL|        NULL|      NULL|\n",
      "|     skoda|    superb|       2.8 V6|              193.0|très longue|       5|       5|  blanc|   false| 31790.0|       NULL|        NULL|      NULL|\n",
      "|    jaguar|    x-type|       2.5 V6|              197.0|     longue|       5|       5|  rouge|    true| 25970.0|       NULL|        NULL|      NULL|\n",
      "|    jaguar|    x-type|       2.5 V6|              197.0|     longue|       5|       5|   noir|   false| 37100.0|       NULL|        NULL|      NULL|\n",
      "|    nissan|    maxima|       3.0 V6|              200.0|très longue|       5|       5|  rouge|   false| 30000.0|       NULL|        NULL|      NULL|\n",
      "|   renault| vel satis|       3.5 V6|              245.0|très longue|       5|       5|   noir|    true| 34440.0|       NULL|        NULL|      NULL|\n",
      "|   renault| vel satis|       3.5 V6|              245.0|très longue|       5|       5|  rouge|   false| 49200.0|       NULL|        NULL|      NULL|\n",
      "|     volvo|    s80 t6|             |              272.0|très longue|       5|       5|  rouge|    true| 35350.0|       NULL|        NULL|      NULL|\n",
      "|     volvo|    s80 t6|             |              272.0|très longue|       5|       5|   bleu|   false| 50500.0|       NULL|        NULL|      NULL|\n",
      "|  mercedes|      s500|             |              306.0|très longue|       5|       5|  rouge|    true| 70910.0|       NULL|        NULL|      NULL|\n",
      "|  mercedes|      s500|             |              306.0|très longue|       5|       5|   noir|   false|101300.0|       NULL|        NULL|      NULL|\n",
      "|       bmw|        m5|             |              507.0|très longue|       5|       5|   bleu|    true| 66360.0|       NULL|        NULL|      NULL|\n",
      "|       bmw|        m5|             |              507.0|très longue|       5|       5|  blanc|   false| 94800.0|       NULL|        NULL|      NULL|\n",
      "|volkswagen|      polo|       1.2 6V|               55.0|     courte|       5|       3|  blanc|    true|  8540.0|    -6000.0|       149.3|      13.3|\n",
      "|volkswagen|      polo|       1.2 6V|               55.0|     courte|       5|       3|  blanc|   false| 12200.0|    -6000.0|       149.3|      13.3|\n",
      "|  daihatsu|     cuore|          1.0|               58.0|     courte|       5|       3|   noir|   false|  8850.0|       NULL|        NULL|      NULL|\n",
      "|       kia|   picanto|          1.1|               65.0|     courte|       5|       5|  blanc|   false|  8990.0|    -6000.0|       132.8|      15.5|\n",
      "|      audi|        a2|          1.4|               75.0|     courte|       5|       5|   bleu|    true| 12817.0|    -6000.0|       206.9|      24.6|\n",
      "|      audi|        a2|          1.4|               75.0|     courte|       5|       5|   gris|   false| 18310.0|    -6000.0|       206.9|      24.6|\n",
      "|   peugeot|      1007|          1.4|               75.0|     courte|       5|       5|  blanc|    true|  9625.0|    -6000.0|       159.6|      12.8|\n",
      "|   peugeot|      1007|          1.4|               75.0|     courte|       5|       5|   gris|   false| 13750.0|    -6000.0|       159.6|      12.8|\n",
      "|     dacia|     logan|      1.6 MPI|               90.0|    moyenne|       5|       5|  rouge|   false|  7500.0|       NULL|        NULL|      NULL|\n",
      "|    lancia|   ypsilon|      1.4 16V|               90.0|     courte|       5|       3|   bleu|    true|  9450.0|       NULL|        NULL|      NULL|\n",
      "|    lancia|   ypsilon|      1.4 16V|               90.0|     courte|       5|       3|   noir|   false| 13500.0|       NULL|        NULL|      NULL|\n",
      "|      seat|    toledo|          1.6|              102.0|     longue|       5|       5|  rouge|   false| 18880.0|       NULL|        NULL|      NULL|\n",
      "|   hyundaï|    matrix|          1.6|              103.0|     longue|       7|       5|   noir|   false| 15960.0|       NULL|        NULL|      NULL|\n",
      "|    nissan|   primera|          1.6|              109.0|     longue|       5|       5|   gris|   false| 18650.0|     5802.4|       681.2|     160.0|\n",
      "|volkswagen|new beatle|          1.8|              110.0|    moyenne|       5|       5|   bleu|    true| 18641.0|    -6000.0|       149.3|      13.3|\n",
      "|volkswagen|new beatle|          1.8|              110.0|    moyenne|       5|       5|   gris|   false| 26630.0|    -6000.0|       149.3|      13.3|\n",
      "|      mini|    copper|      1.6 16V|              115.0|     courte|       5|       5|   gris|    true| 12740.0|    -6000.0|       126.0|      21.5|\n",
      "|      mini|    copper|      1.6 16V|              115.0|     courte|       5|       5|  rouge|   false| 18200.0|    -6000.0|       126.0|      21.5|\n",
      "|    nissan|    almera|          1.8|              115.0|    moyenne|       5|       5|   bleu|   false| 16450.0|     5802.4|       681.2|     160.0|\n",
      "|      ford|    mondeo|          1.8|              125.0|     longue|       5|       5|  blanc|    true| 16730.0|       NULL|        NULL|      NULL|\n",
      "|      ford|    mondeo|          1.8|              125.0|     longue|       5|       5|   bleu|   false| 23900.0|       NULL|        NULL|      NULL|\n",
      "|     honda|      fr-v|          1.7|              125.0|     longue|       7|       5|  blanc|   false| 19550.0|       NULL|        NULL|      NULL|\n",
      "|   renault|    megane|      2.0 16V|              135.0|    moyenne|       5|       5|  blanc|    true| 15644.0|    -6000.0|       206.0|       0.0|\n",
      "|   renault|    megane|      2.0 16V|              135.0|    moyenne|       5|       5|  rouge|   false| 22350.0|    -6000.0|       206.0|       0.0|\n",
      "|  mercedes|      a200|             |              136.0|    moyenne|       5|       5|  blanc|    true| 18130.0|     7772.1|       686.3|     171.2|\n",
      "|  mercedes|      a200|             |              136.0|    moyenne|       5|       5|   noir|   false| 25900.0|     7772.1|       686.3|     171.2|\n",
      "|      fiat|     croma|          2.2|              147.0|     longue|       5|       5|   bleu|    true| 17346.0|       NULL|        NULL|      NULL|\n",
      "|      fiat|     croma|          2.2|              147.0|     longue|       5|       5|  rouge|   false| 24780.0|       NULL|        NULL|      NULL|\n",
      "|       bmw|      120i|             |              150.0|    moyenne|       5|       5|  blanc|    true| 25060.0|    -6000.0|        83.7|      38.7|\n",
      "|       bmw|      120i|             |              150.0|    moyenne|       5|       5|  rouge|   false| 35800.0|    -6000.0|        83.7|      38.7|\n",
      "|      saab|       9.3|         1.8T|              150.0|     longue|       5|       5|   noir|    true| 27020.0|       NULL|        NULL|      NULL|\n",
      "|      saab|       9.3|         1.8T|              150.0|     longue|       5|       5|   gris|   false| 38600.0|       NULL|        NULL|      NULL|\n",
      "|volkswagen|    touran|      2.0 FSI|              150.0|     longue|       7|       5|  rouge|    true| 19138.0|    -6000.0|       149.3|      13.3|\n",
      "|volkswagen|    touran|      2.0 FSI|              150.0|     longue|       7|       5|   bleu|   false| 27340.0|    -6000.0|       149.3|      13.3|\n",
      "|   renault|    espace|         2.0T|              165.0|     longue|       7|       5|  rouge|    true| 21245.0|    -6000.0|       206.0|       0.0|\n",
      "|   renault|    espace|         2.0T|              165.0|     longue|       7|       5|   noir|   false| 30350.0|    -6000.0|       206.0|       0.0|\n",
      "|   renault|    laguna|         2.0T|              170.0|     longue|       5|       5|  rouge|    true| 19110.0|    -6000.0|       206.0|       0.0|\n",
      "|   renault|    laguna|         2.0T|              170.0|     longue|       5|       5|  rouge|   false| 27300.0|    -6000.0|       206.0|       0.0|\n",
      "|    jaguar|    x-type|       2.5 V6|              197.0|     longue|       5|       5|  rouge|    true| 25970.0|    -6000.0|       271.0|       0.0|\n",
      "|    jaguar|    x-type|       2.5 V6|              197.0|     longue|       5|       5|   noir|   false| 37100.0|    -6000.0|       271.0|       0.0|\n",
      "|    nissan|    maxima|       3.0 V6|              200.0|très longue|       5|       5|  rouge|   false| 30000.0|     5802.4|       681.2|     160.0|\n",
      "|   renault| vel satis|       3.5 V6|              245.0|très longue|       5|       5|   noir|    true| 34440.0|    -6000.0|       206.0|       0.0|\n",
      "|   renault| vel satis|       3.5 V6|              245.0|très longue|       5|       5|  rouge|   false| 49200.0|    -6000.0|       206.0|       0.0|\n",
      "|     volvo|    s80 t6|             |              272.0|très longue|       5|       5|  rouge|    true| 35350.0|       NULL|        72.3|      42.1|\n",
      "|     volvo|    s80 t6|             |              272.0|très longue|       5|       5|   bleu|   false| 50500.0|       NULL|        72.3|      42.1|\n",
      "|  mercedes|      s500|             |              306.0|très longue|       5|       5|  rouge|    true| 70910.0|     7772.1|       686.3|     171.2|\n",
      "|  mercedes|      s500|             |              306.0|très longue|       5|       5|   noir|   false|101300.0|     7772.1|       686.3|     171.2|\n",
      "|       bmw|        m5|             |              507.0|très longue|       5|       5|   bleu|    true| 66360.0|    -6000.0|        83.7|      38.7|\n",
      "|       bmw|        m5|             |              507.0|très longue|       5|       5|  blanc|   false| 94800.0|    -6000.0|        83.7|      38.7|\n",
      "+----------+----------+-------------+-------------------+-----------+--------+--------+-------+--------+--------+-----------+------------+----------+\n",
      "Nombre de lignes dans le catalogue final enrichi : 103\n"
     ]
    }
   ],
   "source": [
    "# Étape 1 : Identifiez les modèles absents\n",
    "catalogue_missing_in_co2 = catalogue_df.join(\n",
    "    co2_df.select(\"marque\", \"modele\"),  # Sélectionne les colonnes nécessaires\n",
    "    on=[\"marque\", \"modele\"],\n",
    "    how=\"left_anti\"  # Garde uniquement les modèles absents dans CO2\n",
    ")\n",
    "catalogue_missing_in_co2.createOrReplaceTempView(\"missing_models\")\n",
    "print(f\"Nombre de modèles absents dans CO2 : {catalogue_missing_in_co2.count()}\")\n",
    "\n",
    "# Étape 2 : Calculez les moyennes par marque dans CO2\n",
    "averages_by_marque = co2_df.groupBy(\"marque\").agg(\n",
    "    F.round(F.avg(\"bonus_malus\"), 1).alias(\"avg_bonus_malus\"),\n",
    "    F.round(F.avg(\"rejets_co2\"), 1).alias(\"avg_rejets_co2\"),\n",
    "    F.round(F.avg(\"cout_energie\"), 1).alias(\"avg_cout_energie\")\n",
    ")\n",
    "\n",
    "averages_by_marque.createOrReplaceTempView(\"average_by_marque\")\n",
    "\n",
    "# Étape 3 : Associez les moyennes aux modèles absents\n",
    "models_with_averages = spark.sql(\"\"\"\n",
    "    SELECT \n",
    "        m.marque, \n",
    "        m.modele,\n",
    "        m.modele_detail,\n",
    "        m.unified_horse_power,\n",
    "        m.longueur,\n",
    "        m.nbplaces,\n",
    "        m.nbportes,\n",
    "        m.couleur,\n",
    "        m.occasion,\n",
    "        m.prix,\n",
    "        a.avg_bonus_malus AS bonus_malus,\n",
    "        a.avg_rejets_co2 AS rejets_co2,\n",
    "        a.avg_cout_energie AS cout_energie\n",
    "    FROM missing_models m\n",
    "    LEFT JOIN average_by_marque a\n",
    "    ON m.marque = a.marque\n",
    "\"\"\")\n",
    "\n",
    "\n",
    "spark.catalog.dropTempView(\"average_by_marque\")\n",
    "print(\"Résultats des modèles absents enrichis avec les moyennes :\")\n",
    "models_with_averages.show(truncate=False)\n",
    "print(f\"Nombre de modèles absents dans CO2 enrichis avec les moyennes : {models_with_averages.count()}\")\n",
    "\n",
    "# Étape 4 : Fusionnez les données avec le catalogue initial\n",
    "final_catalogue_df = final_catalogue_df.unionByName(\n",
    "    models_with_averages,allowMissingColumns=True\n",
    ")\n",
    "\n",
    "# Étape 5 : Affichez les résultats finaux\n",
    "print(\"Catalogue final enrichi avec les moyennes de CO2 pour les modèles absents :\")\n",
    "final_catalogue_df.show(1000)\n",
    "\n",
    "#nombre de ligne dans final_catalogue_df\n",
    "print(f\"Nombre de lignes dans le catalogue final enrichi : {final_catalogue_df.count()}\")\n",
    "\n",
    "\n",
    "\n"
   ],
   "metadata": {
    "collapsed": false,
    "ExecuteTime": {
     "end_time": "2024-11-19T21:38:05.847557500Z",
     "start_time": "2024-11-19T21:38:03.800763Z"
    }
   },
   "id": "cc27d9fb22ef8c39"
  },
  {
   "cell_type": "markdown",
   "source": [
    "# **Recalculcul des moyenne dasn final_df  et co2**\n"
   ],
   "metadata": {
    "collapsed": false
   },
   "id": "738f4aee2ed26613"
  },
  {
   "cell_type": "code",
   "execution_count": 53,
   "outputs": [
    {
     "name": "stdout",
     "output_type": "stream",
     "text": [
      "Moyennes combinées (final_catalogue_df et co2_df) : Row(avg_bonus_malus=1182.3, avg_rejets_co2=103.7, avg_cout_energie=513.6)\n",
      "{'avg_bonus_malus': 1182.3, 'avg_rejets_co2': 103.7, 'avg_cout_energie': 513.6}\n"
     ]
    },
    {
     "data": {
      "text/plain": "True"
     },
     "execution_count": 53,
     "metadata": {},
     "output_type": "execute_result"
    }
   ],
   "source": [
    "# Enregistrer final_catalogue_df comme vue temporaire\n",
    "final_catalogue_df.createOrReplaceTempView(\"final_catalogue_temp_view\")\n",
    "co2_df.createOrReplaceTempView(\"co2_temp_view\")\n",
    "\n",
    "\n",
    "# Combiner les deux sources et calculer les moyennes\n",
    "combined_averages_sql = spark.sql(\"\"\"\n",
    "    SELECT \n",
    "        ROUND(AVG(bonus_malus), 1) AS avg_bonus_malus,\n",
    "        ROUND(AVG(rejets_co2), 1) AS avg_rejets_co2,\n",
    "        ROUND(AVG(cout_energie), 1) AS avg_cout_energie\n",
    "    FROM (\n",
    "        SELECT bonus_malus, rejets_co2, cout_energie \n",
    "        FROM final_catalogue_temp_view\n",
    "        WHERE bonus_malus IS NOT NULL AND rejets_co2 IS NOT NULL AND cout_energie IS NOT NULL\n",
    "        UNION ALL\n",
    "        SELECT bonus_malus, rejets_co2, cout_energie \n",
    "        FROM co2_temp_view\n",
    "        WHERE bonus_malus IS NOT NULL AND rejets_co2 IS NOT NULL AND cout_energie IS NOT NULL\n",
    "    ) combined_data\n",
    "\"\"\")\n",
    "combined_averages = combined_averages_sql.collect()[0]\n",
    "print(\"Moyennes combinées (final_catalogue_df et co2_df) :\", combined_averages)\n",
    "\n",
    "print({\n",
    "    \"avg_bonus_malus\": combined_averages[\"avg_bonus_malus\"],\n",
    "    \"avg_rejets_co2\": combined_averages[\"avg_rejets_co2\"],\n",
    "    \"avg_cout_energie\": combined_averages[\"avg_cout_energie\"]\n",
    "})\n",
    "\n",
    "\n",
    "#drop temp view\n",
    "spark.catalog.dropTempView(\"final_catalogue_temp_view\")\n",
    "spark.catalog.dropTempView(\"co2_temp_view\")\n",
    "\n",
    "\n"
   ],
   "metadata": {
    "collapsed": false,
    "ExecuteTime": {
     "end_time": "2024-11-19T21:38:06.463807900Z",
     "start_time": "2024-11-19T21:38:05.846477300Z"
    }
   },
   "id": "195caeed2362499c"
  },
  {
   "cell_type": "markdown",
   "source": [
    "# **Marques Absentes dans CO2**"
   ],
   "metadata": {
    "collapsed": false
   },
   "id": "6471e10afbb6c3f2"
  },
  {
   "cell_type": "code",
   "execution_count": 54,
   "outputs": [
    {
     "name": "stdout",
     "output_type": "stream",
     "text": [
      "Marques dans le Catalogue mais absentes dans CO2 :\n",
      "+--------+\n",
      "|marque  |\n",
      "+--------+\n",
      "|daihatsu|\n",
      "|seat    |\n",
      "|saab    |\n",
      "|lancia  |\n",
      "|hyundaï |\n",
      "|ford    |\n",
      "|honda   |\n",
      "|fiat    |\n",
      "|dacia   |\n",
      "+--------+\n",
      "Nombre de marques dans Catalogue mais absentes dans CO2 : 9\n",
      "Lignes du catalogue pour les marques absentes dans CO2 :\n",
      "+------+------+-------------+-------------------+--------+--------+--------+-------+--------+----+\n",
      "|marque|modele|modele_detail|unified_horse_power|longueur|nbplaces|nbportes|couleur|occasion|prix|\n",
      "+------+------+-------------+-------------------+--------+--------+--------+-------+--------+----+\n",
      "+------+------+-------------+-------------------+--------+--------+--------+-------+--------+----+\n",
      "\n",
      "Colonnes de final_catalogue_df : ['marque', 'modele', 'modele_detail', 'unified_horse_power', 'longueur', 'nbplaces', 'nbportes', 'couleur', 'occasion', 'prix', 'bonus_malus', 'cout_energie', 'rejets_co2']\n",
      "Colonnes de catalogue_marques_absentes : ['marque', 'modele', 'modele_detail', 'unified_horse_power', 'longueur', 'nbplaces', 'nbportes', 'couleur', 'occasion', 'prix', 'bonus_malus', 'cout_energie', 'rejets_co2']\n",
      "Catalogue final enrichi avec les moyennes pour les marques absentes :\n",
      "+----------+----------+-------------+-------------------+--------+--------+--------+-------+--------+-------+-----------+------------+----------+\n",
      "|marque    |modele    |modele_detail|unified_horse_power|longueur|nbplaces|nbportes|couleur|occasion|prix   |bonus_malus|cout_energie|rejets_co2|\n",
      "+----------+----------+-------------+-------------------+--------+--------+--------+-------+--------+-------+-----------+------------+----------+\n",
      "|volkswagen|polo      |1.2 6V       |55.0               |courte  |5       |3       |blanc  |true    |8540.0 |NULL       |NULL        |NULL      |\n",
      "|volkswagen|polo      |1.2 6V       |55.0               |courte  |5       |3       |blanc  |false   |12200.0|NULL       |NULL        |NULL      |\n",
      "|daihatsu  |cuore     |1.0          |58.0               |courte  |5       |3       |noir   |false   |8850.0 |NULL       |NULL        |NULL      |\n",
      "|kia       |picanto   |1.1          |65.0               |courte  |5       |5       |blanc  |false   |8990.0 |NULL       |NULL        |NULL      |\n",
      "|audi      |a2        |1.4          |75.0               |courte  |5       |5       |bleu   |true    |12817.0|NULL       |NULL        |NULL      |\n",
      "|audi      |a2        |1.4          |75.0               |courte  |5       |5       |gris   |false   |18310.0|NULL       |NULL        |NULL      |\n",
      "|peugeot   |1007      |1.4          |75.0               |courte  |5       |5       |blanc  |true    |9625.0 |NULL       |NULL        |NULL      |\n",
      "|peugeot   |1007      |1.4          |75.0               |courte  |5       |5       |gris   |false   |13750.0|NULL       |NULL        |NULL      |\n",
      "|dacia     |logan     |1.6 MPI      |90.0               |moyenne |5       |5       |rouge  |false   |7500.0 |NULL       |NULL        |NULL      |\n",
      "|lancia    |ypsilon   |1.4 16V      |90.0               |courte  |5       |3       |bleu   |true    |9450.0 |NULL       |NULL        |NULL      |\n",
      "|lancia    |ypsilon   |1.4 16V      |90.0               |courte  |5       |3       |noir   |false   |13500.0|NULL       |NULL        |NULL      |\n",
      "|seat      |toledo    |1.6          |102.0              |longue  |5       |5       |rouge  |false   |18880.0|NULL       |NULL        |NULL      |\n",
      "|hyundaï   |matrix    |1.6          |103.0              |longue  |7       |5       |noir   |false   |15960.0|NULL       |NULL        |NULL      |\n",
      "|nissan    |primera   |1.6          |109.0              |longue  |5       |5       |gris   |false   |18650.0|NULL       |NULL        |NULL      |\n",
      "|volkswagen|new beatle|1.8          |110.0              |moyenne |5       |5       |bleu   |true    |18641.0|NULL       |NULL        |NULL      |\n",
      "|volkswagen|new beatle|1.8          |110.0              |moyenne |5       |5       |gris   |false   |26630.0|NULL       |NULL        |NULL      |\n",
      "|mini      |copper    |1.6 16V      |115.0              |courte  |5       |5       |gris   |true    |12740.0|NULL       |NULL        |NULL      |\n",
      "|mini      |copper    |1.6 16V      |115.0              |courte  |5       |5       |rouge  |false   |18200.0|NULL       |NULL        |NULL      |\n",
      "|nissan    |almera    |1.8          |115.0              |moyenne |5       |5       |bleu   |false   |16450.0|NULL       |NULL        |NULL      |\n",
      "|ford      |mondeo    |1.8          |125.0              |longue  |5       |5       |blanc  |true    |16730.0|NULL       |NULL        |NULL      |\n",
      "+----------+----------+-------------+-------------------+--------+--------+--------+-------+--------+-------+-----------+------------+----------+\n",
      "only showing top 20 rows\n"
     ]
    },
    {
     "name": "stderr",
     "output_type": "stream",
     "text": [
      "ERROR:root:KeyboardInterrupt while sending command.\n",
      "Traceback (most recent call last):\n",
      "  File \"/usr/local/spark/python/lib/py4j-0.10.9.7-src.zip/py4j/java_gateway.py\", line 1038, in send_command\n",
      "    response = connection.send_command(command)\n",
      "               ^^^^^^^^^^^^^^^^^^^^^^^^^^^^^^^^\n",
      "  File \"/usr/local/spark/python/lib/py4j-0.10.9.7-src.zip/py4j/clientserver.py\", line 511, in send_command\n",
      "    answer = smart_decode(self.stream.readline()[:-1])\n",
      "                          ^^^^^^^^^^^^^^^^^^^^^^\n",
      "  File \"/opt/conda/lib/python3.11/socket.py\", line 706, in readinto\n",
      "    return self._sock.recv_into(b)\n",
      "           ^^^^^^^^^^^^^^^^^^^^^^^\n",
      "KeyboardInterrupt\n"
     ]
    },
    {
     "ename": "KeyboardInterrupt",
     "evalue": "",
     "output_type": "error",
     "traceback": [
      "\u001B[0;31m---------------------------------------------------------------------------\u001B[0m",
      "\u001B[0;31mKeyboardInterrupt\u001B[0m                         Traceback (most recent call last)",
      "Cell \u001B[0;32mIn[54], line 62\u001B[0m\n\u001B[1;32m     60\u001B[0m \u001B[38;5;28mprint\u001B[39m(\u001B[38;5;124m\"\u001B[39m\u001B[38;5;124mCatalogue final enrichi avec les moyennes pour les marques absentes :\u001B[39m\u001B[38;5;124m\"\u001B[39m)\n\u001B[1;32m     61\u001B[0m final_catalogue_df\u001B[38;5;241m.\u001B[39mshow(truncate\u001B[38;5;241m=\u001B[39m\u001B[38;5;28;01mFalse\u001B[39;00m)\n\u001B[0;32m---> 62\u001B[0m \u001B[38;5;28mprint\u001B[39m(\u001B[38;5;124mf\u001B[39m\u001B[38;5;124m\"\u001B[39m\u001B[38;5;124mNombre total de lignes dans le catalogue enrichi : \u001B[39m\u001B[38;5;132;01m{\u001B[39;00m\u001B[43mfinal_catalogue_df\u001B[49m\u001B[38;5;241;43m.\u001B[39;49m\u001B[43mcount\u001B[49m\u001B[43m(\u001B[49m\u001B[43m)\u001B[49m\u001B[38;5;132;01m}\u001B[39;00m\u001B[38;5;124m\"\u001B[39m)\n\u001B[1;32m     64\u001B[0m \u001B[38;5;66;03m# Supprimer la vue temporaire `catalogue_table_processed` si nécessaire\u001B[39;00m\n\u001B[1;32m     65\u001B[0m spark\u001B[38;5;241m.\u001B[39mcatalog\u001B[38;5;241m.\u001B[39mdropTempView(\u001B[38;5;124m\"\u001B[39m\u001B[38;5;124mcatalogue_table_processed\u001B[39m\u001B[38;5;124m\"\u001B[39m)\n",
      "File \u001B[0;32m/usr/local/spark/python/pyspark/sql/dataframe.py:1234\u001B[0m, in \u001B[0;36mDataFrame.count\u001B[0;34m(self)\u001B[0m\n\u001B[1;32m   1211\u001B[0m \u001B[38;5;28;01mdef\u001B[39;00m \u001B[38;5;21mcount\u001B[39m(\u001B[38;5;28mself\u001B[39m) \u001B[38;5;241m-\u001B[39m\u001B[38;5;241m>\u001B[39m \u001B[38;5;28mint\u001B[39m:\n\u001B[1;32m   1212\u001B[0m \u001B[38;5;250m    \u001B[39m\u001B[38;5;124;03m\"\"\"Returns the number of rows in this :class:`DataFrame`.\u001B[39;00m\n\u001B[1;32m   1213\u001B[0m \n\u001B[1;32m   1214\u001B[0m \u001B[38;5;124;03m    .. versionadded:: 1.3.0\u001B[39;00m\n\u001B[0;32m   (...)\u001B[0m\n\u001B[1;32m   1232\u001B[0m \u001B[38;5;124;03m    3\u001B[39;00m\n\u001B[1;32m   1233\u001B[0m \u001B[38;5;124;03m    \"\"\"\u001B[39;00m\n\u001B[0;32m-> 1234\u001B[0m     \u001B[38;5;28;01mreturn\u001B[39;00m \u001B[38;5;28mint\u001B[39m(\u001B[38;5;28;43mself\u001B[39;49m\u001B[38;5;241;43m.\u001B[39;49m\u001B[43m_jdf\u001B[49m\u001B[38;5;241;43m.\u001B[39;49m\u001B[43mcount\u001B[49m\u001B[43m(\u001B[49m\u001B[43m)\u001B[49m)\n",
      "File \u001B[0;32m/usr/local/spark/python/lib/py4j-0.10.9.7-src.zip/py4j/java_gateway.py:1321\u001B[0m, in \u001B[0;36mJavaMember.__call__\u001B[0;34m(self, *args)\u001B[0m\n\u001B[1;32m   1314\u001B[0m args_command, temp_args \u001B[38;5;241m=\u001B[39m \u001B[38;5;28mself\u001B[39m\u001B[38;5;241m.\u001B[39m_build_args(\u001B[38;5;241m*\u001B[39margs)\n\u001B[1;32m   1316\u001B[0m command \u001B[38;5;241m=\u001B[39m proto\u001B[38;5;241m.\u001B[39mCALL_COMMAND_NAME \u001B[38;5;241m+\u001B[39m\\\n\u001B[1;32m   1317\u001B[0m     \u001B[38;5;28mself\u001B[39m\u001B[38;5;241m.\u001B[39mcommand_header \u001B[38;5;241m+\u001B[39m\\\n\u001B[1;32m   1318\u001B[0m     args_command \u001B[38;5;241m+\u001B[39m\\\n\u001B[1;32m   1319\u001B[0m     proto\u001B[38;5;241m.\u001B[39mEND_COMMAND_PART\n\u001B[0;32m-> 1321\u001B[0m answer \u001B[38;5;241m=\u001B[39m \u001B[38;5;28;43mself\u001B[39;49m\u001B[38;5;241;43m.\u001B[39;49m\u001B[43mgateway_client\u001B[49m\u001B[38;5;241;43m.\u001B[39;49m\u001B[43msend_command\u001B[49m\u001B[43m(\u001B[49m\u001B[43mcommand\u001B[49m\u001B[43m)\u001B[49m\n\u001B[1;32m   1322\u001B[0m return_value \u001B[38;5;241m=\u001B[39m get_return_value(\n\u001B[1;32m   1323\u001B[0m     answer, \u001B[38;5;28mself\u001B[39m\u001B[38;5;241m.\u001B[39mgateway_client, \u001B[38;5;28mself\u001B[39m\u001B[38;5;241m.\u001B[39mtarget_id, \u001B[38;5;28mself\u001B[39m\u001B[38;5;241m.\u001B[39mname)\n\u001B[1;32m   1325\u001B[0m \u001B[38;5;28;01mfor\u001B[39;00m temp_arg \u001B[38;5;129;01min\u001B[39;00m temp_args:\n",
      "File \u001B[0;32m/usr/local/spark/python/lib/py4j-0.10.9.7-src.zip/py4j/java_gateway.py:1038\u001B[0m, in \u001B[0;36mGatewayClient.send_command\u001B[0;34m(self, command, retry, binary)\u001B[0m\n\u001B[1;32m   1036\u001B[0m connection \u001B[38;5;241m=\u001B[39m \u001B[38;5;28mself\u001B[39m\u001B[38;5;241m.\u001B[39m_get_connection()\n\u001B[1;32m   1037\u001B[0m \u001B[38;5;28;01mtry\u001B[39;00m:\n\u001B[0;32m-> 1038\u001B[0m     response \u001B[38;5;241m=\u001B[39m \u001B[43mconnection\u001B[49m\u001B[38;5;241;43m.\u001B[39;49m\u001B[43msend_command\u001B[49m\u001B[43m(\u001B[49m\u001B[43mcommand\u001B[49m\u001B[43m)\u001B[49m\n\u001B[1;32m   1039\u001B[0m     \u001B[38;5;28;01mif\u001B[39;00m binary:\n\u001B[1;32m   1040\u001B[0m         \u001B[38;5;28;01mreturn\u001B[39;00m response, \u001B[38;5;28mself\u001B[39m\u001B[38;5;241m.\u001B[39m_create_connection_guard(connection)\n",
      "File \u001B[0;32m/usr/local/spark/python/lib/py4j-0.10.9.7-src.zip/py4j/clientserver.py:511\u001B[0m, in \u001B[0;36mClientServerConnection.send_command\u001B[0;34m(self, command)\u001B[0m\n\u001B[1;32m    509\u001B[0m \u001B[38;5;28;01mtry\u001B[39;00m:\n\u001B[1;32m    510\u001B[0m     \u001B[38;5;28;01mwhile\u001B[39;00m \u001B[38;5;28;01mTrue\u001B[39;00m:\n\u001B[0;32m--> 511\u001B[0m         answer \u001B[38;5;241m=\u001B[39m smart_decode(\u001B[38;5;28mself\u001B[39m\u001B[38;5;241m.\u001B[39mstream\u001B[38;5;241m.\u001B[39mreadline()[:\u001B[38;5;241m-\u001B[39m\u001B[38;5;241m1\u001B[39m])\n\u001B[1;32m    512\u001B[0m         logger\u001B[38;5;241m.\u001B[39mdebug(\u001B[38;5;124m\"\u001B[39m\u001B[38;5;124mAnswer received: \u001B[39m\u001B[38;5;132;01m{0}\u001B[39;00m\u001B[38;5;124m\"\u001B[39m\u001B[38;5;241m.\u001B[39mformat(answer))\n\u001B[1;32m    513\u001B[0m         \u001B[38;5;66;03m# Happens when a the other end is dead. There might be an empty\u001B[39;00m\n\u001B[1;32m    514\u001B[0m         \u001B[38;5;66;03m# answer before the socket raises an error.\u001B[39;00m\n",
      "File \u001B[0;32m/opt/conda/lib/python3.11/socket.py:706\u001B[0m, in \u001B[0;36mSocketIO.readinto\u001B[0;34m(self, b)\u001B[0m\n\u001B[1;32m    704\u001B[0m \u001B[38;5;28;01mwhile\u001B[39;00m \u001B[38;5;28;01mTrue\u001B[39;00m:\n\u001B[1;32m    705\u001B[0m     \u001B[38;5;28;01mtry\u001B[39;00m:\n\u001B[0;32m--> 706\u001B[0m         \u001B[38;5;28;01mreturn\u001B[39;00m \u001B[38;5;28;43mself\u001B[39;49m\u001B[38;5;241;43m.\u001B[39;49m\u001B[43m_sock\u001B[49m\u001B[38;5;241;43m.\u001B[39;49m\u001B[43mrecv_into\u001B[49m\u001B[43m(\u001B[49m\u001B[43mb\u001B[49m\u001B[43m)\u001B[49m\n\u001B[1;32m    707\u001B[0m     \u001B[38;5;28;01mexcept\u001B[39;00m timeout:\n\u001B[1;32m    708\u001B[0m         \u001B[38;5;28mself\u001B[39m\u001B[38;5;241m.\u001B[39m_timeout_occurred \u001B[38;5;241m=\u001B[39m \u001B[38;5;28;01mTrue\u001B[39;00m\n",
      "\u001B[0;31mKeyboardInterrupt\u001B[0m: "
     ]
    }
   ],
   "source": [
    "# Étape 1 : Identifiez les marques absentes dans `co2_df`\n",
    "marques_missing_in_co2 = catalogue_df.select(\"marque\").distinct().join(\n",
    "    co2_df.select(\"marque\").distinct(), \n",
    "    on=\"marque\",\n",
    "    how=\"left_anti\"\n",
    ")\n",
    "marques_missing_in_co2.createOrReplaceTempView(\"marques_missing\")\n",
    "\n",
    "print(\"Marques dans le Catalogue mais absentes dans CO2 :\")\n",
    "marques_missing_in_co2.show(truncate=False)\n",
    "print(f\"Nombre de marques dans Catalogue mais absentes dans CO2 : {marques_missing_in_co2.count()}\")\n",
    "\n",
    "# Étape 2 : Récupérez les lignes correspondantes de `catalogue_df`\n",
    "catalogue_marques_absentes = spark.sql(\"\"\"\n",
    "    SELECT \n",
    "        c.marque,\n",
    "        c.modele,\n",
    "        c.modele_detail,\n",
    "        c.unified_horse_power,\n",
    "        c.longueur,\n",
    "        c.nbplaces,\n",
    "        c.nbportes,\n",
    "        c.couleur,\n",
    "        c.occasion,\n",
    "        c.prix\n",
    "    FROM catalogue_table_processed c\n",
    "    WHERE c.marque IN (SELECT marque FROM marques_missing)\n",
    "\"\"\")\n",
    "\n",
    "# Supprimer la vue temporaire `marques_missing`\n",
    "spark.catalog.dropTempView(\"marques_missing\")\n",
    "\n",
    "print(\"Lignes du catalogue pour les marques absentes dans CO2 :\")\n",
    "catalogue_marques_absentes.show(truncate=False)\n",
    "\n",
    "# Étape 3 : Ajouter les moyennes combinées pour les marques absentes\n",
    "catalogue_marques_absentes = catalogue_marques_absentes \\\n",
    "    .withColumn(\"bonus_malus\", F.lit(combined_averages[\"avg_bonus_malus\"])) \\\n",
    "    .withColumn(\"cout_energie\", F.lit(combined_averages[\"avg_cout_energie\"])) \\\n",
    "    .withColumn(\"rejets_co2\", F.lit(combined_averages[\"avg_rejets_co2\"])) \\\n",
    "\n",
    "# Vérifier les colonnes pour la fusion\n",
    "print(\"Colonnes de final_catalogue_df :\", final_catalogue_df.columns)\n",
    "print(\"Colonnes de catalogue_marques_absentes :\", catalogue_marques_absentes.columns)\n",
    "\n",
    "# Étape 4 : Réorganiser les colonnes dans le même ordre\n",
    "aligned_columns = [\n",
    "    \"marque\", \"modele\", \"modele_detail\", \"unified_horse_power\",\n",
    "    \"longueur\", \"nbplaces\", \"nbportes\", \"couleur\", \"occasion\",\n",
    "    \"prix\", \"bonus_malus\",  \"cout_energie\",\"rejets_co2\"\n",
    "]\n",
    "\n",
    "final_catalogue_df = final_catalogue_df.select(*aligned_columns)\n",
    "catalogue_marques_absentes = catalogue_marques_absentes.select(*aligned_columns)\n",
    "\n",
    "# Étape 5 : Fusionnez les données avec le `final_catalogue_df`\n",
    "final_catalogue_df = final_catalogue_df.unionByName(catalogue_marques_absentes, allowMissingColumns=True)\n",
    "\n",
    "# Résultats finaux\n",
    "print(\"Catalogue final enrichi avec les moyennes pour les marques absentes :\")\n",
    "final_catalogue_df.show(truncate=False)\n",
    "print(f\"Nombre total de lignes dans le catalogue enrichi : {final_catalogue_df.count()}\")\n",
    "\n",
    "# Supprimer la vue temporaire `catalogue_table_processed` si nécessaire\n",
    "spark.catalog.dropTempView(\"catalogue_table_processed\")\n"
   ],
   "metadata": {
    "collapsed": false,
    "ExecuteTime": {
     "end_time": "2024-11-19T21:38:12.562743200Z",
     "start_time": "2024-11-19T21:38:06.470710600Z"
    }
   },
   "id": "bfc162ff8e5e181b"
  },
  {
   "cell_type": "code",
   "execution_count": null,
   "outputs": [],
   "source": [
    "spark.stop()"
   ],
   "metadata": {
    "collapsed": false,
    "ExecuteTime": {
     "start_time": "2024-11-19T21:38:12.565948800Z"
    }
   },
   "id": "24f0491777de5b25"
  },
  {
   "cell_type": "markdown",
   "source": [
    "# **Vérifier les Données Fusionnées**"
   ],
   "metadata": {
    "collapsed": false
   },
   "id": "32de0c202a1a5fb4"
  },
  {
   "cell_type": "markdown",
   "source": [
    "# **Enregistrer les Données Fusionnées**"
   ],
   "metadata": {
    "collapsed": false
   },
   "id": "7d2107b09449f352"
  },
  {
   "cell_type": "code",
   "execution_count": null,
   "outputs": [],
   "source": [
    "# # Enregistrer les données dans Hive\n",
    "# catalogue_with_co2.write.mode(\"overwrite\").saveAsTable(\"catalogue_co2_merge_processed\")\n",
    "# print(\"Données fusionnées enregistrées avec succès.\")"
   ],
   "metadata": {
    "collapsed": false,
    "ExecuteTime": {
     "start_time": "2024-11-19T21:38:12.567020400Z"
    }
   },
   "id": "acf43bc727eff3d"
  },
  {
   "cell_type": "markdown",
   "source": [
    "# **Analyser les Données Fusionnées**"
   ],
   "metadata": {
    "collapsed": false
   },
   "id": "d56bf455d3d2c07"
  },
  {
   "cell_type": "code",
   "execution_count": null,
   "outputs": [],
   "source": [
    "# catalogue_with_co2.describe([\"prix\", \"rejets_co2\", \"unified_horse_power\", \"longueur\", \"nbplaces\"]).show()\n",
    "# \n",
    "# # Vérification des véhicules avec rejets CO2 = 0\n",
    "# zero_co2_vehicles = catalogue_with_co2.filter(F.col(\"rejets_co2\") == 0)\n",
    "# \n",
    "# # Compter le nombre total de véhicules avec rejets CO2 = 0\n",
    "# zero_co2_count = zero_co2_vehicles.count()\n",
    "# total_vehicles = catalogue_with_co2.count()\n",
    "# \n",
    "# # Compter les véhicules avec rejets CO2 = 0 et un malus\n",
    "# zero_co2_malus_count = zero_co2_vehicles.filter(F.col(\"bonus_malus\") < 0).count()\n",
    "# \n",
    "# # Calculer les proportions\n",
    "# zero_co2_proportion = zero_co2_count / total_vehicles * 100\n",
    "# zero_co2_malus_proportion = zero_co2_malus_count / zero_co2_count * 100 if zero_co2_count > 0 else 0\n",
    "# \n",
    "# # Afficher les résultats\n",
    "# print(f\"Nombre total de véhicules : {total_vehicles}\")\n",
    "# print(f\"Nombre de véhicules avec rejets CO2 = 0 : {zero_co2_count}\")\n",
    "# print(f\"Proportion de véhicules avec rejets CO2 = 0 : {zero_co2_proportion:.2f}%\")\n",
    "# print(f\"Nombre de véhicules avec rejets CO2 = 0 et malus : {zero_co2_malus_count}\")\n",
    "# print(f\"Proportion des véhicules avec rejets CO2 = 0 et malus : {zero_co2_malus_proportion:.2f}%\")\n",
    "# \n",
    "# # Afficher les détails des incohérences\n",
    "# print(\"Détails des véhicules avec rejets CO2 = 0 et malus :\")\n",
    "# zero_co2_vehicles.filter(F.col(\"bonus_malus\") < 0).select(\n",
    "#     \"marque\", \"modele\", \"rejets_co2\", \"bonus_malus\", \"prix\"\n",
    "# ).show()\n",
    "# \n",
    "# \n",
    "# \n",
    "# # Identifier les véhicules avec rejets CO2 = 0\n",
    "# zero_co2_vehicles = catalogue_with_co2.filter(F.col(\"rejets_co2\") == 0)\n",
    "# \n",
    "# # Vérifier les marques concernées\n",
    "# zero_co2_vehicles.groupBy(\"marque\").count().show()\n",
    "# \n",
    "# # Détail des modèles avec rejets CO2 = 0 et malus\n",
    "# zero_co2_malus_vehicles = zero_co2_vehicles.filter(F.col(\"bonus_malus\") < 0)\n",
    "# zero_co2_malus_vehicles.select(\"marque\", \"modele\", \"rejets_co2\", \"bonus_malus\").show(100)\n",
    "# \n"
   ],
   "metadata": {
    "collapsed": false,
    "ExecuteTime": {
     "end_time": "2024-11-19T21:38:12.570259600Z",
     "start_time": "2024-11-19T21:38:12.569074600Z"
    }
   },
   "id": "438bbb05aa568ef1"
  },
  {
   "cell_type": "markdown",
   "source": [
    "# **Données manquantes**"
   ],
   "metadata": {
    "collapsed": false
   },
   "id": "1e686f8311ddb0a7"
  },
  {
   "cell_type": "code",
   "execution_count": null,
   "outputs": [],
   "source": [
    "# from pyspark.sql.functions import col, sum, when\n",
    "# null_counts = co2_df.select([sum(when(col(c).isNull(), 1).otherwise(0)).alias(c) for c in co2_df.columns])\n",
    "# null_counts.show()\n"
   ],
   "metadata": {
    "collapsed": false,
    "ExecuteTime": {
     "start_time": "2024-11-19T21:38:12.570806900Z"
    }
   },
   "id": "1f1acb5087089e71"
  },
  {
   "cell_type": "markdown",
   "source": [
    "# **Distribution des Prix des Véhicules**"
   ],
   "metadata": {
    "collapsed": false
   },
   "id": "2a8d1bacf621c730"
  },
  {
   "cell_type": "code",
   "execution_count": null,
   "outputs": [],
   "source": [
    "# prices = catalogue_with_co2.select(\"prix\").rdd.flatMap(lambda x: x).collect()\n",
    "# plt.hist(prices, bins=20, color='blue', edgecolor='black')\n",
    "# plt.xlabel(\"Prix (€)\")\n",
    "# plt.ylabel(\"Fréquence\")\n",
    "# plt.title(\"Distribution des Prix des Véhicules\")\n",
    "# plt.grid(axis='y', linestyle='--')\n",
    "# plt.show()\n"
   ],
   "metadata": {
    "collapsed": false,
    "ExecuteTime": {
     "start_time": "2024-11-19T21:38:12.572415200Z"
    }
   },
   "id": "381fe8dffa8cd064"
  },
  {
   "cell_type": "markdown",
   "source": [
    "La majorité des véhicules ont un prix situé entre 20 000 € et 40 000 €, avec un pic autour de 25 000 €. Les véhicules de plus de 60 000 € sont peu nombreux, ce qui montre une distribution asymétrique centrée sur des véhicules de milieu de gamme."
   ],
   "metadata": {
    "collapsed": false
   },
   "id": "4e5b61d8b89c0439"
  },
  {
   "cell_type": "markdown",
   "source": [
    "# **Distribution de la Puissance des Véhicules**"
   ],
   "metadata": {
    "collapsed": false
   },
   "id": "6c20f6d4942ff651"
  },
  {
   "cell_type": "code",
   "execution_count": null,
   "outputs": [],
   "source": [
    "# horsepower_data = catalogue_with_co2.select(\"unified_horse_power\").rdd.flatMap(lambda x: x).collect()\n",
    "# plt.hist(horsepower_data, bins=20, color='green', edgecolor='black')\n",
    "# plt.xlabel(\"Puissance (ch)\")\n",
    "# plt.ylabel(\"Fréquence\")\n",
    "# plt.title(\"Distribution de la Puissance des Véhicules\")\n",
    "# plt.grid(axis='y', linestyle='--')\n",
    "# plt.show()\n"
   ],
   "metadata": {
    "collapsed": false,
    "ExecuteTime": {
     "start_time": "2024-11-19T21:38:12.574007500Z"
    }
   },
   "id": "118ac91daae5977"
  },
  {
   "cell_type": "markdown",
   "source": [
    "La majorité des véhicules ont une puissance comprise entre 100 ch et 200 ch, avec un pic autour de 150 ch. Les véhicules de plus de 300 ch sont rares, ce qui indique une concentration sur des voitures de puissance moyenne."
   ],
   "metadata": {
    "collapsed": false
   },
   "id": "fd53c9fb74f58239"
  },
  {
   "cell_type": "markdown",
   "source": [
    "# **Répartition des Marques**"
   ],
   "metadata": {
    "collapsed": false
   },
   "id": "fee2442165ee9c5"
  },
  {
   "cell_type": "code",
   "execution_count": null,
   "outputs": [],
   "source": [
    "# brand_distribution = catalogue_with_co2.groupBy(\"marque\").count().toPandas()\n",
    "# brand_distribution[\"percentage\"] = (brand_distribution[\"count\"] / brand_distribution[\"count\"].sum()) * 100\n",
    "# \n",
    "# plt.figure(figsize=(8, 8))\n",
    "# plt.pie(brand_distribution[\"count\"], startangle=90, colors=plt.cm.Paired.colors)\n",
    "# labels = [f\"{row['marque']} ({row['percentage']:.1f}%)\" for _, row in brand_distribution.iterrows()]\n",
    "# plt.legend(labels, title=\"Marques\", loc=\"center left\", bbox_to_anchor=(1, 0.5), fontsize=10)\n",
    "# plt.title(\"Répartition des Marques\")\n",
    "# plt.tight_layout()\n",
    "# plt.show()\n"
   ],
   "metadata": {
    "collapsed": false,
    "ExecuteTime": {
     "start_time": "2024-11-19T21:38:12.576138800Z"
    }
   },
   "id": "b93e4f8800b39dd9"
  },
  {
   "cell_type": "markdown",
   "source": [
    "# **Matrice de Corrélation**"
   ],
   "metadata": {
    "collapsed": false
   },
   "id": "99ba5570b0ffb4a2"
  },
  {
   "cell_type": "code",
   "execution_count": null,
   "outputs": [],
   "source": [
    "# correlations = catalogue_with_co2.select(\"prix\", \"bonus_malus\", \"rejets_co2\", \"unified_horse_power\").toPandas().corr()\n",
    "# sns.heatmap(correlations, annot=True, cmap=\"coolwarm\")\n",
    "# plt.title(\"Matrice de Corrélation\")\n",
    "# plt.show()\n"
   ],
   "metadata": {
    "collapsed": false,
    "ExecuteTime": {
     "start_time": "2024-11-19T21:38:12.576676700Z"
    }
   },
   "id": "e9960251630ae619"
  },
  {
   "cell_type": "markdown",
   "source": [
    "Le prix est fortement corrélé à la puissance unifiée des véhicules (0.87), ce qui est attendu pour des voitures plus puissantes.\n",
    "Les rejets de CO₂ sont très fortement corrélés au bonus/malus (0.94), reflétant leur impact direct sur la taxe écologique.\n",
    "La puissance unifiée a une très faible corrélation négative avec les rejets de CO₂ (-0.09), probablement dû à la présence de véhicules électriques ou hybrides puissants mais peu polluants."
   ],
   "metadata": {
    "collapsed": false
   },
   "id": "179fb39c7952ae01"
  },
  {
   "cell_type": "markdown",
   "source": [
    "# **Relation entre Puissance et Prix**"
   ],
   "metadata": {
    "collapsed": false
   },
   "id": "d4a1756ed619b0c3"
  },
  {
   "cell_type": "code",
   "execution_count": null,
   "outputs": [],
   "source": [
    "# price_hp_data = catalogue_with_co2.select(\"prix\", \"unified_horse_power\").rdd.map(tuple).collect()\n",
    "# prices, hp = zip(*price_hp_data)\n",
    "# plt.scatter(hp, prices, alpha=0.7, color='purple', edgecolor='black')\n",
    "# plt.xlabel(\"Puissance (ch)\")\n",
    "# plt.ylabel(\"Prix (€)\")\n",
    "# plt.title(\"Relation entre Puissance et Prix des Véhicules\")\n",
    "# plt.grid(True)\n",
    "# plt.show()\n"
   ],
   "metadata": {
    "collapsed": false,
    "ExecuteTime": {
     "start_time": "2024-11-19T21:38:12.578806400Z"
    }
   },
   "id": "853464f851ab8d82"
  },
  {
   "cell_type": "markdown",
   "source": [
    "Le prix des véhicules augmente généralement avec la puissance, avec une tendance claire pour les puissances jusqu'à 200 ch. Cependant, au-delà de 300 ch, les prix varient fortement, reflétant la diversité des segments de véhicules, notamment les modèles haut de gamme"
   ],
   "metadata": {
    "collapsed": false
   },
   "id": "abaaaf3940ebbe56"
  },
  {
   "cell_type": "markdown",
   "source": [
    "# **Relation entre Rejets CO2 et Bonus/Malus**"
   ],
   "metadata": {
    "collapsed": false
   },
   "id": "43c24f96448c6410"
  },
  {
   "cell_type": "code",
   "execution_count": null,
   "outputs": [],
   "source": [
    "# df_pandas = catalogue_with_co2.select(\"rejets_co2\", \"bonus_malus\").toPandas()\n",
    "# sns.regplot(x=\"rejets_co2\", y=\"bonus_malus\", data=df_pandas, scatter_kws={\"alpha\": 0.6}, line_kws={\"color\": \"red\"})\n",
    "# plt.xlabel(\"Rejets CO2 (g/km)\")\n",
    "# plt.ylabel(\"Bonus/Malus (€)\")\n",
    "# plt.title(\"Relation entre Rejets CO2 et Bonus/Malus\")\n",
    "# plt.grid(True)\n",
    "# plt.show()\n"
   ],
   "metadata": {
    "collapsed": false,
    "ExecuteTime": {
     "start_time": "2024-11-19T21:38:12.582020Z"
    }
   },
   "id": "9569eded2122ca53"
  },
  {
   "cell_type": "markdown",
   "source": [
    "Une relation linéaire claire existe entre les rejets de CO₂ et le bonus/malus. Les véhicules avec des émissions élevées subissent un malus (valeurs négatives), tandis que ceux avec des émissions très faibles bénéficient d'un bonus (valeurs positives)."
   ],
   "metadata": {
    "collapsed": false
   },
   "id": "9e163af09c2c295e"
  },
  {
   "cell_type": "markdown",
   "source": [
    "# **Analyse des Bonus/Malus**"
   ],
   "metadata": {
    "collapsed": false
   },
   "id": "92405336e9c1655b"
  },
  {
   "cell_type": "code",
   "execution_count": null,
   "outputs": [],
   "source": [
    "# co2_df = catalogue_with_co2.withColumn(\"bonus_malus_category\", \n",
    "#     F.when(F.col(\"bonus_malus\") > 0, \"Bonus\")\n",
    "#     .when(F.col(\"bonus_malus\") < 0, \"Malus\")\n",
    "#     .otherwise(\"Neutre ou Inconnu\"))\n",
    "# \n",
    "# co2_df.groupBy(\"bonus_malus_category\").count().show()\n",
    "# \n",
    "# # Visualisation\n",
    "# bonus_dist = co2_df.groupBy(\"bonus_malus_category\").count().toPandas()\n",
    "# plt.pie(bonus_dist[\"count\"], labels=bonus_dist[\"bonus_malus_category\"], autopct=\"%1.1f%%\")\n",
    "# plt.title(\"Répartition des Catégories Bonus/Malus\")\n",
    "# plt.show()\n"
   ],
   "metadata": {
    "collapsed": false,
    "ExecuteTime": {
     "start_time": "2024-11-19T21:38:12.584138800Z"
    }
   },
   "id": "e30c88cccfe9c6f7"
  },
  {
   "cell_type": "markdown",
   "source": [
    "# **Analyse des Marques**"
   ],
   "metadata": {
    "collapsed": false
   },
   "id": "ea108d18fa6aa379"
  },
  {
   "cell_type": "code",
   "execution_count": null,
   "outputs": [],
   "source": [
    "# catalogue_with_co2.groupBy(\"marque\").agg(F.avg(\"unified_horse_power\").alias(\"avg_hp\")).orderBy(F.desc(\"avg_hp\")).show(10)\n"
   ],
   "metadata": {
    "collapsed": false,
    "ExecuteTime": {
     "start_time": "2024-11-19T21:38:12.584665100Z"
    }
   },
   "id": "66c6f6e9b6ee2489"
  },
  {
   "cell_type": "markdown",
   "source": [
    "# **Valeurs aberrantes**"
   ],
   "metadata": {
    "collapsed": false
   },
   "id": "5663bae973b2ecbb"
  },
  {
   "cell_type": "code",
   "execution_count": null,
   "outputs": [],
   "source": [
    "# from pyspark.sql.functions import mean, stddev\n",
    "# \n",
    "# stats = catalogue_with_co2.select(mean(\"unified_horse_power\").alias(\"mean\"), stddev(\"unified_horse_power\").alias(\"stddev\")).first()\n",
    "# mean_hp, stddev_hp = stats[\"mean\"], stats[\"stddev\"]\n",
    "# \n",
    "# outliers = catalogue_with_co2.filter(\n",
    "#     (F.col(\"unified_horse_power\") > mean_hp + 3 * stddev_hp) |\n",
    "#     (F.col(\"unified_horse_power\") < mean_hp - 3 * stddev_hp)\n",
    "# )\n",
    "# print(f\"Nombre de valeurs aberrantes : {outliers.count()}\")\n",
    "# outliers.select(\"marque\", \"modele\", \"unified_horse_power\", \"prix\").show()\n"
   ],
   "metadata": {
    "collapsed": false,
    "ExecuteTime": {
     "start_time": "2024-11-19T21:38:12.586863300Z"
    }
   },
   "id": "e6b594cff2e881f2"
  },
  {
   "cell_type": "markdown",
   "source": [
    "Parmi les valeurs aberrantes, on observe des véhicules comme la BMW M5, qui combine une puissance très élevée (507 ch) avec des prix particulièrement élevés (>60 000 €). Ces valeurs reflètent des modèles de luxe ou de performance qui se situent bien au-delà de la moyenne des données."
   ],
   "metadata": {
    "collapsed": false
   },
   "id": "a30ad8a31241af03"
  },
  {
   "cell_type": "code",
   "execution_count": null,
   "outputs": [],
   "source": [
    "# # Ajouter une colonne de catégorie personnalisée\n",
    "# co2_df = co2_df.withColumn(\n",
    "#     \"categorie_vehicule\",\n",
    "#     F.when(\n",
    "#         (F.col(\"prix\") < 20000) & \n",
    "#         (F.col(\"unified_horse_power\") < 100) & \n",
    "#         (F.col(\"rejets_co2\") < 50) & \n",
    "#         (F.col(\"bonus_malus\") >= 0),\n",
    "#         \"Petite voiture économique\"\n",
    "#     ).when(\n",
    "#         (F.col(\"longueur\") > 4.5) & \n",
    "#         (F.col(\"nbplaces\") >= 5) & \n",
    "#         (F.col(\"prix\").between(30000, 50000)) & \n",
    "#         (F.col(\"unified_horse_power\").between(150, 250)) & \n",
    "#         (F.col(\"rejets_co2\").between(50, 150)),\n",
    "#         \"SUV familial\"\n",
    "#     ).when(\n",
    "#         (F.col(\"prix\") > 50000) & \n",
    "#         (F.col(\"unified_horse_power\") > 300) & \n",
    "#         (F.col(\"rejets_co2\") > 150) & \n",
    "#         (F.col(\"longueur\") > 4.8),\n",
    "#         \"Voiture de luxe ou de sport\"\n",
    "#     ).when(\n",
    "#         (F.col(\"unified_horse_power\") > 200) & \n",
    "#         (F.col(\"rejets_co2\") < 50) & \n",
    "#         (F.col(\"bonus_malus\") > 0) & \n",
    "#         (F.col(\"prix\") > 40000),\n",
    "#         \"Hybride ou électrique haut de gamme\"\n",
    "#     ).when(\n",
    "#         (F.col(\"prix\").between(20000, 40000)) & \n",
    "#         (F.col(\"unified_horse_power\").between(100, 200)) & \n",
    "#         (F.col(\"rejets_co2\").between(50, 150)),\n",
    "#         \"Véhicule polyvalent standard\"\n",
    "#     ).when(\n",
    "#         (F.col(\"prix\") > 80000) & \n",
    "#         (F.col(\"unified_horse_power\") > 400) & \n",
    "#         (F.col(\"rejets_co2\") > 150),\n",
    "#         \"Véhicule ultra-sportif\"\n",
    "#     ).when(\n",
    "#         (F.col(\"prix\") < 30000) & \n",
    "#         (F.col(\"unified_horse_power\") < 150) & \n",
    "#         (F.col(\"rejets_co2\") < 50) & \n",
    "#         (F.col(\"bonus_malus\") > 0),\n",
    "#         \"Véhicule éco-responsable entrée de gamme\"\n",
    "#     ).otherwise(\"Non catégorisé\")  # Catégorie par défaut si aucun critère n'est rempli\n",
    "# )\n",
    "# \n",
    "# # Afficher quelques exemples pour vérifier les catégories\n",
    "# co2_df.select(\"marque\", \"modele\", \"prix\", \"unified_horse_power\", \"rejets_co2\", \"bonus_malus\", \"categorie_vehicule\").show(200)\n"
   ],
   "metadata": {
    "collapsed": false,
    "ExecuteTime": {
     "start_time": "2024-11-19T21:38:12.586863300Z"
    }
   },
   "id": "2cef92f07a679c6"
  },
  {
   "cell_type": "markdown",
   "source": [
    "# **Fermer la session Spark**\n"
   ],
   "metadata": {
    "collapsed": false
   },
   "id": "e45de4a8dd41b3a0"
  },
  {
   "cell_type": "code",
   "execution_count": null,
   "outputs": [],
   "source": [
    "# Arrêter la session Spark\n",
    "# spark.stop()"
   ],
   "metadata": {
    "collapsed": false,
    "ExecuteTime": {
     "start_time": "2024-11-19T21:38:12.587922500Z"
    }
   },
   "id": "d75522ad89e317c8"
  }
 ],
 "metadata": {
  "kernelspec": {
   "display_name": "Python 3",
   "language": "python",
   "name": "python3"
  },
  "language_info": {
   "codemirror_mode": {
    "name": "ipython",
    "version": 2
   },
   "file_extension": ".py",
   "mimetype": "text/x-python",
   "name": "python",
   "nbconvert_exporter": "python",
   "pygments_lexer": "ipython2",
   "version": "2.7.6"
  }
 },
 "nbformat": 4,
 "nbformat_minor": 5
}
