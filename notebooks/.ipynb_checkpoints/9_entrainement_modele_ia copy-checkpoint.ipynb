{
 "cells": [
  {
   "cell_type": "code",
   "execution_count": 1,
   "id": "3149a03b-06e4-4d96-b64d-dc1806e19527",
   "metadata": {},
   "outputs": [],
   "source": [
    "from pyspark.sql import SparkSession\n",
    "from pyspark.sql.functions import col, when, isnull, expr\n",
    "from pyspark.ml.feature import VectorAssembler, StandardScaler\n",
    "from pyspark.ml.clustering import KMeans\n",
    "from pyspark.sql.functions import when\n",
    "from pyspark.ml.stat import Correlation\n",
    "from pyspark.ml.linalg import Vectors\n",
    "from pyspark.ml.feature import StringIndexer, VectorAssembler\n",
    "from pyspark.ml import Pipeline\n",
    "from pyspark.ml.classification import RandomForestClassifier\n",
    "from pyspark.ml.evaluation import MulticlassClassificationEvaluator\n",
    "from pyspark.sql import functions as F\n"
   ]
  },
  {
   "cell_type": "markdown",
   "id": "9b275f25-78d1-4242-ad8d-02b2b99c618c",
   "metadata": {},
   "source": [
    "# Utilisation de la base de données Hive, et charge les données de la table"
   ]
  },
  {
   "cell_type": "code",
   "execution_count": 2,
   "id": "ae337e47-ebe4-4828-8897-dbbbd2965e3f",
   "metadata": {},
   "outputs": [],
   "source": [
    "spark = SparkSession.builder \\\n",
    "    .appName(\"Categorie\") \\\n",
    "    .config(\"spark.hadoop.hive.metastore.uris\", \"thrift://hive-metastore:9083\") \\\n",
    "    .enableHiveSupport() \\\n",
    "    .getOrCreate()\n"
   ]
  },
  {
   "cell_type": "code",
   "execution_count": 3,
   "id": "cfced7d0-560d-4d30-8e09-042077c2e412",
   "metadata": {},
   "outputs": [],
   "source": [
    "spark.sql(\"USE concessionnaire\")\n",
    "client_immat_df = spark.sql(\"SELECT * FROM client_immatriculation_categorie\")"
   ]
  },
  {
   "cell_type": "markdown",
   "id": "90b33c69-3c70-4192-91d8-0f3753b1ca6d",
   "metadata": {},
   "source": [
    "# Afficher un aperçu des données"
   ]
  },
  {
   "cell_type": "code",
   "execution_count": 4,
   "id": "2907a463-a557-46de-99b3-f5d8f5418444",
   "metadata": {},
   "outputs": [
    {
     "name": "stdout",
     "output_type": "stream",
     "text": [
      "+---------------+---+-----+----+-------------------+---------------+---------------+-------+---------+--------+--------+--------+-------+--------+-------+------+-----------------------+-------------------------------------------------------------------+--------+\n",
      "|immatriculation|age|sexe |taux|situationfamilliale|nbenfantacharge|deuxiemevoiture|marque |puissance|longueur|nbplaces|nbportes|couleur|occasion|prix   |modele|features               |scaled_features                                                    |category|\n",
      "+---------------+---+-----+----+-------------------+---------------+---------------+-------+---------+--------+--------+--------+-------+--------+-------+------+-----------------------+-------------------------------------------------------------------+--------+\n",
      "|0 OG 13        |56 |Homme|528 |Célibataire        |0              |false          |Audi   |75.0     |0.0     |5       |5.0     |blanc  |true    |12817.0|A2    |[75.0,0.0,5.0,12817.0] |[-0.9044003686745664,0.0,0.26540117403260644,-0.8909397631722812]  |2       |\n",
      "|0 OZ 65        |32 |Homme|563 |En Couple          |2              |false          |Ford   |125.0    |0.0     |5       |5.0     |blanc  |false   |23900.0|Mondeo|[125.0,0.0,5.0,23900.0]|[-0.5398364463906763,0.0,0.26540117403260644,-0.46096688851177403] |6       |\n",
      "|1 PD 24        |28 |Homme|230 |En Couple          |2              |false          |Renault|245.0    |0.0     |5       |5.0     |blanc  |true    |34440.0|Vel   |[245.0,0.0,5.0,34440.0]|[0.3351169670906597,0.0,0.26540117403260644,-0.0520600853969364]   |3       |\n",
      "|10 EW 37       |33 |Femme|954 |En Couple          |1              |false          |Jaguar |197.0    |0.0     |5       |5.0     |gris   |false   |37100.0|X-Type|[197.0,0.0,5.0,37100.0]|[-0.014864398301874731,0.0,0.26540117403260644,0.05113650817853496]|7       |\n",
      "|10 IM 37       |20 |Homme|1245|En Couple          |2              |false          |Jaguar |197.0    |0.0     |5       |5.0     |bleu   |false   |37100.0|X-Type|[197.0,0.0,5.0,37100.0]|[-0.014864398301874731,0.0,0.26540117403260644,0.05113650817853496]|7       |\n",
      "|10 LB 49       |21 |Homme|502 |En Couple          |2              |false          |Volvo  |272.0    |0.0     |5       |5.0     |rouge  |false   |50500.0|S80   |[272.0,0.0,5.0,50500.0]|[0.5319814851239603,0.0,0.26540117403260644,0.5709990472429396]    |4       |\n",
      "|10 MF 39       |22 |Homme|1072|Célibataire        |0              |false          |Audi   |75.0     |0.0     |5       |5.0     |noir   |false   |18310.0|A2    |[75.0,0.0,5.0,18310.0] |[-0.9044003686745664,0.0,0.26540117403260644,-0.6778349178677457]  |2       |\n",
      "|10 PB 84       |29 |Femme|1083|Célibataire        |0              |false          |Mini   |115.0    |0.0     |5       |5.0     |noir   |false   |18200.0|Copper|[115.0,0.0,5.0,18200.0]|[-0.6127492308474544,0.0,0.26540117403260644,-0.6821024461734984]  |2       |\n",
      "|10 VE 79       |41 |Homme|507 |En Couple          |1              |false          |Ford   |125.0    |0.0     |5       |5.0     |bleu   |false   |23900.0|Mondeo|[125.0,0.0,5.0,23900.0]|[-0.5398364463906763,0.0,0.26540117403260644,-0.46096688851177403] |6       |\n",
      "|100 JQ 82      |50 |Homme|1213|En Couple          |1              |false          |BMW    |507.0    |0.0     |5       |5.0     |noir   |false   |94800.0|M5    |[507.0,0.0,5.0,94800.0]|[2.2454319198582433,0.0,0.26540117403260644,2.289649083105113]     |5       |\n",
      "|100 MW 36      |36 |Homme|467 |En Couple          |3              |false          |Renault|245.0    |0.0     |5       |5.0     |blanc  |false   |49200.0|Vel   |[245.0,0.0,5.0,49200.0]|[0.3351169670906597,0.0,0.26540117403260644,0.5205646218113182]    |4       |\n",
      "|100 RJ 95      |40 |Femme|555 |En Couple          |1              |true           |Peugeot|75.0     |0.0     |5       |5.0     |rouge  |false   |13750.0|1007  |[75.0,0.0,5.0,13750.0] |[-0.9044003686745664,0.0,0.26540117403260644,-0.8547433639971252]  |2       |\n",
      "|1000 CT 36     |46 |Homme|837 |Célibataire        |0              |false          |Audi   |75.0     |0.0     |5       |5.0     |noir   |false   |18310.0|A2    |[75.0,0.0,5.0,18310.0] |[-0.9044003686745664,0.0,0.26540117403260644,-0.6778349178677457]  |2       |\n",
      "|1001 NX 52     |26 |Homme|459 |Célibataire        |1              |false          |Volvo  |272.0    |0.0     |5       |5.0     |blanc  |false   |50500.0|S80   |[272.0,0.0,5.0,50500.0]|[0.5319814851239603,0.0,0.26540117403260644,0.5709990472429396]    |4       |\n",
      "|1001 OW 93     |30 |Homme|451 |En Couple          |0              |true           |Peugeot|75.0     |0.0     |5       |5.0     |noir   |false   |13750.0|1007  |[75.0,0.0,5.0,13750.0] |[-0.9044003686745664,0.0,0.26540117403260644,-0.8547433639971252]  |2       |\n",
      "|1001 QQ 92     |38 |Homme|774 |Célibataire        |0              |false          |Audi   |75.0     |0.0     |5       |5.0     |gris   |false   |18310.0|A2    |[75.0,0.0,5.0,18310.0] |[-0.9044003686745664,0.0,0.26540117403260644,-0.6778349178677457]  |2       |\n",
      "|1001 YO 23     |59 |Homme|525 |Célibataire        |0              |false          |Audi   |75.0     |0.0     |5       |5.0     |blanc  |true    |12817.0|A2    |[75.0,0.0,5.0,12817.0] |[-0.9044003686745664,0.0,0.26540117403260644,-0.8909397631722812]  |2       |\n",
      "|1002 BJ 74     |56 |Homme|548 |En Couple          |0              |false          |BMW    |507.0    |0.0     |5       |5.0     |gris   |true    |66360.0|M5    |[507.0,0.0,5.0,66360.0]|[2.2454319198582433,0.0,0.26540117403260644,1.18629903750872]      |5       |\n",
      "|1002 ZW 16     |47 |Homme|527 |Célibataire        |0              |false          |BMW    |150.0    |0.0     |5       |5.0     |gris   |true    |25060.0|120i  |[150.0,0.0,5.0,25060.0]|[-0.35755448524873135,0.0,0.26540117403260644,-0.41596386274201963]|6       |\n",
      "|1003 FK 31     |45 |Femme|570 |Célibataire        |0              |false          |Audi   |75.0     |0.0     |5       |5.0     |rouge  |true    |12817.0|A2    |[75.0,0.0,5.0,12817.0] |[-0.9044003686745664,0.0,0.26540117403260644,-0.8909397631722812]  |2       |\n",
      "+---------------+---+-----+----+-------------------+---------------+---------------+-------+---------+--------+--------+--------+-------+--------+-------+------+-----------------------+-------------------------------------------------------------------+--------+\n",
      "only showing top 20 rows\n",
      "\n"
     ]
    }
   ],
   "source": [
    "client_immat_df.show(20, truncate=False)"
   ]
  },
  {
   "cell_type": "code",
   "execution_count": 5,
   "id": "21b4e01d-256d-481b-9ddf-9926f5617549",
   "metadata": {},
   "outputs": [
    {
     "name": "stdout",
     "output_type": "stream",
     "text": [
      "+-------+---------------+------------------+-----+-----------------+-------------------+------------------+---------------+------+------------------+--------+--------+-------------------+-------+-----------------+-----------------+------------------+\n",
      "|summary|immatriculation|               age| sexe|             taux|situationfamilliale|   nbenfantacharge|deuxiemevoiture|marque|         puissance|longueur|nbplaces|           nbportes|couleur|             prix|           modele|          category|\n",
      "+-------+---------------+------------------+-----+-----------------+-------------------+------------------+---------------+------+------------------+--------+--------+-------------------+-------+-----------------+-----------------+------------------+\n",
      "|  count|          98834|             98834|98834|            98834|              98834|             98834|          98834| 98834|             98834|   98834|   98834|              98834|  98834|            98834|            98834|             98834|\n",
      "|   mean|           NULL|  43.7169192787907| NULL|609.6571523969484|               NULL|1.2556407713944593|           NULL|  NULL|199.72084505332174|     0.0|     5.0|  4.867596171358034|   NULL|35901.53065746606|538.6918367347045|3.9901855636724206|\n",
      "| stddev|           NULL|18.240360027721778| NULL|335.0481123944806|               NULL|1.3909013848761047|           NULL|  NULL|137.91368244727633|     0.0|     0.0|0.49727194311731154|   NULL|25870.05678683081| 497.942396840988|1.9534837269513157|\n",
      "|    min|        0 AX 62|                18|Femme|              150|        Célibataire|                 0|          false|  Audi|              55.0|     0.0|       5|                3.0|  blanc|           7500.0|             1007|                 0|\n",
      "|    max|     9999 ZU 23|                84|Homme|             1399|           Marié(e)|                 4|           true| Volvo|             507.0|     0.0|       5|                5.0|  rouge|         101300.0|          Ypsilon|                 7|\n",
      "+-------+---------------+------------------+-----+-----------------+-------------------+------------------+---------------+------+------------------+--------+--------+-------------------+-------+-----------------+-----------------+------------------+\n",
      "\n"
     ]
    }
   ],
   "source": [
    "client_immat_df.describe().show()"
   ]
  },
  {
   "cell_type": "code",
   "execution_count": 6,
   "id": "59f7083f-42c6-410e-aca3-8c56dc2da1ee",
   "metadata": {},
   "outputs": [
    {
     "name": "stdout",
     "output_type": "stream",
     "text": [
      "++\n",
      "||\n",
      "++\n",
      "||\n",
      "++\n",
      "\n"
     ]
    }
   ],
   "source": [
    "missing_counts = client_immat_df.select([isnull(col(c)).alias(c) for c in client_immat_df.columns]).groupby().sum().show()"
   ]
  },
  {
   "cell_type": "markdown",
   "id": "23b43051-8621-4520-af52-ace2b7af63c1",
   "metadata": {},
   "source": [
    "# Préparation des données"
   ]
  },
  {
   "cell_type": "code",
   "execution_count": 7,
   "id": "780fac4a-2da0-4ed0-9288-ecfeb0bdf275",
   "metadata": {},
   "outputs": [],
   "source": [
    "df_reduit = client_immat_df.select(\"age\", \"sexe\", \"taux\", \"situationfamilliale\", \"nbenfantacharge\", \"deuxiemevoiture\", \"category\")\n",
    "\n",
    "\n",
    "# Encodage des colonnes catégoriques\n",
    "indexers = [\n",
    "    StringIndexer(inputCol=\"sexe\", outputCol=\"sexe_index\"),\n",
    "    StringIndexer(inputCol=\"situationfamilliale\", outputCol=\"situation_index\"),\n",
    "    StringIndexer(inputCol=\"deuxiemevoiture\", outputCol=\"deuxiemevoiture_num\"),\n",
    "    StringIndexer(inputCol=\"category\", outputCol=\"categorie_index\")\n",
    "]\n",
    "\n",
    "pipeline = Pipeline(stages=indexers)\n",
    "df_indexed = pipeline.fit(df_reduit).transform(df_reduit)\n"
   ]
  },
  {
   "cell_type": "code",
   "execution_count": 8,
   "id": "fff09b67-d35a-424f-90e9-7ee4460cd7bc",
   "metadata": {},
   "outputs": [
    {
     "name": "stdout",
     "output_type": "stream",
     "text": [
      "+---+-----+----+-------------------+---------------+---------------+--------+----------+---------------+-------------------+---------------+\n",
      "|age| sexe|taux|situationfamilliale|nbenfantacharge|deuxiemevoiture|category|sexe_index|situation_index|deuxiemevoiture_num|categorie_index|\n",
      "+---+-----+----+-------------------+---------------+---------------+--------+----------+---------------+-------------------+---------------+\n",
      "| 56|Homme| 528|        Célibataire|              0|          false|       2|       0.0|            1.0|                0.0|            0.0|\n",
      "| 32|Homme| 563|          En Couple|              2|          false|       6|       0.0|            0.0|                0.0|            1.0|\n",
      "| 28|Homme| 230|          En Couple|              2|          false|       3|       0.0|            0.0|                0.0|            4.0|\n",
      "| 33|Femme| 954|          En Couple|              1|          false|       7|       1.0|            0.0|                0.0|            5.0|\n",
      "| 20|Homme|1245|          En Couple|              2|          false|       7|       0.0|            0.0|                0.0|            5.0|\n",
      "+---+-----+----+-------------------+---------------+---------------+--------+----------+---------------+-------------------+---------------+\n",
      "only showing top 5 rows\n",
      "\n",
      "+-------+------------------+-----+-----------------+-------------------+------------------+---------------+------------------+-------------------+------------------+-------------------+------------------+\n",
      "|summary|               age| sexe|             taux|situationfamilliale|   nbenfantacharge|deuxiemevoiture|          category|         sexe_index|   situation_index|deuxiemevoiture_num|   categorie_index|\n",
      "+-------+------------------+-----+-----------------+-------------------+------------------+---------------+------------------+-------------------+------------------+-------------------+------------------+\n",
      "|  count|             98834|98834|            98834|              98834|             98834|          98834|             98834|              98834|             98834|              98834|             98834|\n",
      "|   mean|  43.7169192787907| NULL|609.6571523969484|               NULL|1.2556407713944593|           NULL|3.9901855636724206| 0.2985713418459235| 0.373818726349232|0.13104801991217596|2.1883359977335735|\n",
      "| stddev|18.240360027721778| NULL|335.0481123944806|               NULL|1.3909013848761047|           NULL|1.9534837269513157|0.45763371233756334|0.5207238157449371| 0.3374545726163746|1.9947121666110772|\n",
      "|    min|                18|Femme|              150|        Célibataire|                 0|          false|                 0|                0.0|               0.0|                0.0|               0.0|\n",
      "|    max|                84|Homme|             1399|           Marié(e)|                 4|           true|                 7|                1.0|               4.0|                1.0|               7.0|\n",
      "+-------+------------------+-----+-----------------+-------------------+------------------+---------------+------------------+-------------------+------------------+-------------------+------------------+\n",
      "\n"
     ]
    }
   ],
   "source": [
    "# Identification et Traitement des Valeurs Aberrantes\n",
    "variables_a_analyser = [\"age\", \"taux\", \"nbenfantacharge\"]  # Variables continues pertinentes\n",
    "\n",
    "for variable in variables_a_analyser:\n",
    "    # Calculer Q1, Q3 et IQR pour chaque variable\n",
    "    quantiles = df_indexed.approxQuantile(variable, [0.25, 0.75], 0.0)\n",
    "    q1, q3 = quantiles[0], quantiles[1]\n",
    "    iqr = q3 - q1\n",
    "\n",
    "    # Définir les limites des valeurs aberrantes\n",
    "    lower_bound = q1 - 1.5 * iqr\n",
    "    upper_bound = q3 + 1.5 * iqr\n",
    "\n",
    "    # Filtrer les valeurs aberrantes\n",
    "    df_indexed = df_indexed.filter((F.col(variable) >= lower_bound) & (F.col(variable) <= upper_bound))\n",
    "\n",
    "# Afficher un aperçu des données après nettoyage\n",
    "df_indexed.show(5)\n",
    "df_indexed.describe().show()\n"
   ]
  },
  {
   "cell_type": "code",
   "execution_count": 9,
   "id": "cee7bac8-7fec-4363-a224-a6e139f5e4fb",
   "metadata": {},
   "outputs": [
    {
     "name": "stdout",
     "output_type": "stream",
     "text": [
      "root\n",
      " |-- age: integer (nullable = true)\n",
      " |-- sexe: string (nullable = true)\n",
      " |-- taux: integer (nullable = true)\n",
      " |-- situationfamilliale: string (nullable = true)\n",
      " |-- nbenfantacharge: integer (nullable = true)\n",
      " |-- deuxiemevoiture: string (nullable = true)\n",
      " |-- category: integer (nullable = true)\n",
      " |-- sexe_index: double (nullable = false)\n",
      " |-- situation_index: double (nullable = false)\n",
      " |-- deuxiemevoiture_num: double (nullable = false)\n",
      " |-- categorie_index: double (nullable = false)\n",
      " |-- features: vector (nullable = true)\n",
      "\n"
     ]
    }
   ],
   "source": [
    "# Création de la colonne `features`\n",
    "assembler = VectorAssembler(\n",
    "    inputCols=[\"age\", \"sexe_index\", \"taux\", \"situation_index\", \"nbenfantacharge\", \"deuxiemevoiture_num\"],\n",
    "    outputCol=\"features\"\n",
    ")\n",
    "\n",
    "df_final = assembler.transform(df_indexed)\n",
    "df_final.printSchema()\n"
   ]
  },
  {
   "cell_type": "code",
   "execution_count": 10,
   "id": "79542a03-de9f-422e-8ca2-a6df4b61fa71",
   "metadata": {},
   "outputs": [
    {
     "name": "stdout",
     "output_type": "stream",
     "text": [
      "+-------+------------------+-----+-----------------+-------------------+------------------+---------------+------------------+-------------------+------------------+-------------------+------------------+\n",
      "|summary|               age| sexe|             taux|situationfamilliale|   nbenfantacharge|deuxiemevoiture|          category|         sexe_index|   situation_index|deuxiemevoiture_num|   categorie_index|\n",
      "+-------+------------------+-----+-----------------+-------------------+------------------+---------------+------------------+-------------------+------------------+-------------------+------------------+\n",
      "|  count|             98834|98834|            98834|              98834|             98834|          98834|             98834|              98834|             98834|              98834|             98834|\n",
      "|   mean|  43.7169192787907| NULL|609.6571523969484|               NULL|1.2556407713944593|           NULL|3.9901855636724206| 0.2985713418459235| 0.373818726349232|0.13104801991217596|2.1883359977335735|\n",
      "| stddev|18.240360027721778| NULL|335.0481123944806|               NULL|1.3909013848761047|           NULL|1.9534837269513157|0.45763371233756334|0.5207238157449371| 0.3374545726163746|1.9947121666110772|\n",
      "|    min|                18|Femme|              150|        Célibataire|                 0|          false|                 0|                0.0|               0.0|                0.0|               0.0|\n",
      "|    max|                84|Homme|             1399|           Marié(e)|                 4|           true|                 7|                1.0|               4.0|                1.0|               7.0|\n",
      "+-------+------------------+-----+-----------------+-------------------+------------------+---------------+------------------+-------------------+------------------+-------------------+------------------+\n",
      "\n"
     ]
    }
   ],
   "source": [
    "df_final.describe().show()"
   ]
  },
  {
   "cell_type": "code",
   "execution_count": 11,
   "id": "2cb9518f-82d2-40a6-b7b0-8ac5e11a150f",
   "metadata": {},
   "outputs": [],
   "source": [
    "scaler = StandardScaler(inputCol=\"features\", outputCol=\"scaled_features\", withStd=True, withMean=False)\n",
    "scaler_model = scaler.fit(df_final)\n",
    "df_final_scaled = scaler_model.transform(df_final)\n",
    "\n",
    "# Utiliser `scaled_features` pour l'entraînement au lieu de `features`\n",
    "train_data, test_data = df_final_scaled.randomSplit([0.8, 0.2], seed=42)\n"
   ]
  },
  {
   "cell_type": "code",
   "execution_count": 12,
   "id": "d1c03349-39b9-45bf-91ee-a8b56c26c345",
   "metadata": {},
   "outputs": [],
   "source": [
    "# Initialiser le modèle de Random Forest\n",
    "rf = RandomForestClassifier(\n",
    "    labelCol=\"categorie_index\",  # La cible encodée\n",
    "    featuresCol=\"features\",      # Les vecteurs de caractéristiques\n",
    "    numTrees=40,                 # Nombre d'arbres\n",
    "    maxDepth=4,                  # Profondeur maximale\n",
    "    seed=42\n",
    ")\n",
    "\n",
    "# Entraîner le modèle\n",
    "rf_model = rf.fit(train_data)\n"
   ]
  },
  {
   "cell_type": "markdown",
   "id": "0ca2ee3e-b64c-4b6a-b73b-d61e0f60947d",
   "metadata": {},
   "source": [
    "# Identification et Traitement des Valeurs Aberrantes"
   ]
  },
  {
   "cell_type": "code",
   "execution_count": 13,
   "id": "359c706e-2795-47f4-b92c-d145988f1045",
   "metadata": {},
   "outputs": [],
   "source": [
    "# Prédiction sur l'ensemble de test\n",
    "predictions = rf_model.transform(test_data)\n"
   ]
  },
  {
   "cell_type": "code",
   "execution_count": 14,
   "id": "fbf92977-0282-4b3c-b702-3d78c3fcd7bf",
   "metadata": {},
   "outputs": [
    {
     "name": "stdout",
     "output_type": "stream",
     "text": [
      "Test Accuracy: 0.6229508196721312\n"
     ]
    }
   ],
   "source": [
    "from pyspark.ml.evaluation import MulticlassClassificationEvaluator\n",
    "\n",
    "# Évaluer la précision (accuracy) du modèle\n",
    "evaluator = MulticlassClassificationEvaluator(\n",
    "    labelCol=\"categorie_index\",\n",
    "    predictionCol=\"prediction\",\n",
    "    metricName=\"accuracy\"\n",
    ")\n",
    "\n",
    "accuracy = evaluator.evaluate(predictions)\n",
    "print(f\"Test Accuracy: {accuracy}\")\n"
   ]
  },
  {
   "cell_type": "code",
   "execution_count": 15,
   "id": "2521ad77-253f-4d41-b86a-dfc78d9acdb3",
   "metadata": {},
   "outputs": [
    {
     "name": "stdout",
     "output_type": "stream",
     "text": [
      "Test F1 Score: 0.5981321631538411\n"
     ]
    }
   ],
   "source": [
    "f1_evaluator = MulticlassClassificationEvaluator(\n",
    "    labelCol=\"categorie_index\",\n",
    "    predictionCol=\"prediction\",\n",
    "    metricName=\"f1\"\n",
    ")\n",
    "\n",
    "f1_score = f1_evaluator.evaluate(predictions)\n",
    "print(f\"Test F1 Score: {f1_score}\")\n"
   ]
  },
  {
   "cell_type": "code",
   "execution_count": 16,
   "id": "bd204e49-f2ae-474c-bd4d-e75da3e3f045",
   "metadata": {},
   "outputs": [
    {
     "name": "stdout",
     "output_type": "stream",
     "text": [
      "+---+----------+----+---------------+---------------+-------------------+---------------+----------+\n",
      "|age|sexe_index|taux|situation_index|nbenfantacharge|deuxiemevoiture_num|categorie_index|prediction|\n",
      "+---+----------+----+---------------+---------------+-------------------+---------------+----------+\n",
      "| 18|       1.0| 159|            1.0|              0|                0.0|            0.0|       1.0|\n",
      "| 18|       1.0| 172|            0.0|              3|                0.0|            4.0|       4.0|\n",
      "| 18|       1.0| 183|            1.0|              0|                0.0|            0.0|       1.0|\n",
      "| 18|       1.0| 195|            0.0|              4|                1.0|            4.0|       4.0|\n",
      "| 18|       1.0| 220|            0.0|              4|                1.0|            4.0|       4.0|\n",
      "| 18|       1.0| 229|            0.0|              4|                1.0|            4.0|       4.0|\n",
      "| 18|       1.0| 400|            0.0|              2|                1.0|            6.0|       0.0|\n",
      "| 18|       1.0| 410|            0.0|              0|                0.0|            4.0|       1.0|\n",
      "| 18|       1.0| 440|            0.0|              0|                0.0|            3.0|       1.0|\n",
      "| 18|       1.0| 445|            1.0|              0|                0.0|            1.0|       1.0|\n",
      "+---+----------+----+---------------+---------------+-------------------+---------------+----------+\n",
      "only showing top 10 rows\n",
      "\n"
     ]
    }
   ],
   "source": [
    "predictions.select(\"age\", \"sexe_index\", \"taux\", \"situation_index\", \"nbenfantacharge\", \"deuxiemevoiture_num\", \"categorie_index\", \"prediction\").show(10)"
   ]
  }
 ],
 "metadata": {
  "kernelspec": {
   "display_name": "Python 3 (ipykernel)",
   "language": "python",
   "name": "python3"
  },
  "language_info": {
   "codemirror_mode": {
    "name": "ipython",
    "version": 3
   },
   "file_extension": ".py",
   "mimetype": "text/x-python",
   "name": "python",
   "nbconvert_exporter": "python",
   "pygments_lexer": "ipython3",
   "version": "3.11.6"
  }
 },
 "nbformat": 4,
 "nbformat_minor": 5
}
