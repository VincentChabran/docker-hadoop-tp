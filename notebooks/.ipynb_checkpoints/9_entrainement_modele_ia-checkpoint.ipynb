{
 "cells": [
  {
   "cell_type": "code",
   "execution_count": 1,
   "id": "3149a03b-06e4-4d96-b64d-dc1806e19527",
   "metadata": {},
   "outputs": [],
   "source": [
    "from pyspark.sql import SparkSession\n",
    "from pyspark.sql.functions import col, when, isnull\n",
    "from pyspark.ml.clustering import KMeans\n",
    "from pyspark.ml.feature import MinMaxScaler, VectorAssembler, StringIndexer, StandardScaler\n",
    "from pyspark.ml import Pipeline"
   ]
  },
  {
   "cell_type": "markdown",
   "id": "9b275f25-78d1-4242-ad8d-02b2b99c618c",
   "metadata": {},
   "source": [
    "# Utilisation de la base de données Hive, et charge les données de la table"
   ]
  },
  {
   "cell_type": "code",
   "execution_count": 2,
   "id": "ae337e47-ebe4-4828-8897-dbbbd2965e3f",
   "metadata": {},
   "outputs": [],
   "source": [
    "spark = SparkSession.builder \\\n",
    "    .appName(\"Categorie\") \\\n",
    "    .config(\"spark.hadoop.hive.metastore.uris\", \"thrift://hive-metastore:9083\") \\\n",
    "    .enableHiveSupport() \\\n",
    "    .getOrCreate()\n"
   ]
  },
  {
   "cell_type": "code",
   "execution_count": 3,
   "id": "cfced7d0-560d-4d30-8e09-042077c2e412",
   "metadata": {},
   "outputs": [],
   "source": [
    "spark.sql(\"USE concessionnaire\")\n",
    "client_immat_df = spark.sql(\"SELECT * FROM client_immat_cat\")"
   ]
  },
  {
   "cell_type": "markdown",
   "id": "90b33c69-3c70-4192-91d8-0f3753b1ca6d",
   "metadata": {},
   "source": [
    "# Analyse des données.\n",
    "\n",
    "### Afficher un aperçu des données"
   ]
  },
  {
   "cell_type": "code",
   "execution_count": 4,
   "id": "2907a463-a557-46de-99b3-f5d8f5418444",
   "metadata": {},
   "outputs": [
    {
     "name": "stdout",
     "output_type": "stream",
     "text": [
      "+---------------+---------+--------+--------+-------+----+---------------+-------------------+---------------+--------+\n",
      "|immatriculation|puissance|longueur|nbPortes|prix   |age |nbenfantacharge|situationfamilliale|deuxiemevoiture|category|\n",
      "+---------------+---------+--------+--------+-------+----+---------------+-------------------+---------------+--------+\n",
      "|0 OG 13        |75.0     |1.0     |5.0     |12817.0|56.0|0.0            |0.0                |0              |4       |\n",
      "|0 OZ 65        |125.0    |3.0     |5.0     |23900.0|32.0|2.0            |1.0                |0              |0       |\n",
      "|1 PD 24        |245.0    |4.0     |5.0     |34440.0|28.0|2.0            |1.0                |0              |0       |\n",
      "+---------------+---------+--------+--------+-------+----+---------------+-------------------+---------------+--------+\n",
      "only showing top 3 rows\n",
      "\n"
     ]
    }
   ],
   "source": [
    "client_immat_df.show(3, truncate=False)"
   ]
  },
  {
   "cell_type": "code",
   "execution_count": 7,
   "id": "03158d81-0934-4e01-84b3-32a1b57e1c0f",
   "metadata": {},
   "outputs": [
    {
     "ename": "AnalysisException",
     "evalue": "[UNRESOLVED_COLUMN.WITH_SUGGESTION] A column or function parameter with name `taux` cannot be resolved. Did you mean one of the following? [`age`, `prix`, `category`, `longueur`, `nbPortes`].;\n'Project [age#5, 'taux, situationfamilliale#7, nbenfantacharge#6, deuxiemevoiture#8, 'categorie]\n+- Project [immatriculation#0, puissance#1, longueur#2, nbPortes#3, prix#4, age#5, nbenfantacharge#6, situationfamilliale#7, deuxiemevoiture#8, category#9]\n   +- SubqueryAlias spark_catalog.concessionnaire.client_immat_cat\n      +- Relation spark_catalog.concessionnaire.client_immat_cat[immatriculation#0,puissance#1,longueur#2,nbPortes#3,prix#4,age#5,nbenfantacharge#6,situationfamilliale#7,deuxiemevoiture#8,category#9] parquet\n",
     "output_type": "error",
     "traceback": [
      "\u001b[0;31m---------------------------------------------------------------------------\u001b[0m",
      "\u001b[0;31mAnalysisException\u001b[0m                         Traceback (most recent call last)",
      "Cell \u001b[0;32mIn[7], line 1\u001b[0m\n\u001b[0;32m----> 1\u001b[0m \u001b[43mclient_immat_df\u001b[49m\u001b[38;5;241;43m.\u001b[39;49m\u001b[43mselect\u001b[49m\u001b[43m(\u001b[49m\u001b[38;5;124;43m\"\u001b[39;49m\u001b[38;5;124;43mage\u001b[39;49m\u001b[38;5;124;43m\"\u001b[39;49m\u001b[43m,\u001b[49m\u001b[38;5;124;43m\"\u001b[39;49m\u001b[38;5;124;43mtaux\u001b[39;49m\u001b[38;5;124;43m\"\u001b[39;49m\u001b[43m,\u001b[49m\u001b[38;5;124;43m\"\u001b[39;49m\u001b[38;5;124;43msituationfamilliale\u001b[39;49m\u001b[38;5;124;43m\"\u001b[39;49m\u001b[43m,\u001b[49m\u001b[38;5;124;43m\"\u001b[39;49m\u001b[38;5;124;43mnbenfantacharge\u001b[39;49m\u001b[38;5;124;43m\"\u001b[39;49m\u001b[43m,\u001b[49m\u001b[38;5;124;43m\"\u001b[39;49m\u001b[38;5;124;43mdeuxiemevoiture\u001b[39;49m\u001b[38;5;124;43m\"\u001b[39;49m\u001b[43m,\u001b[49m\u001b[38;5;124;43m\"\u001b[39;49m\u001b[38;5;124;43mcategorie\u001b[39;49m\u001b[38;5;124;43m\"\u001b[39;49m\u001b[43m)\u001b[49m\u001b[38;5;241m.\u001b[39mshow(\u001b[38;5;241m10\u001b[39m, truncate\u001b[38;5;241m=\u001b[39m\u001b[38;5;28;01mFalse\u001b[39;00m)\n",
      "File \u001b[0;32m/usr/local/spark/python/pyspark/sql/dataframe.py:3223\u001b[0m, in \u001b[0;36mDataFrame.select\u001b[0;34m(self, *cols)\u001b[0m\n\u001b[1;32m   3178\u001b[0m \u001b[38;5;28;01mdef\u001b[39;00m \u001b[38;5;21mselect\u001b[39m(\u001b[38;5;28mself\u001b[39m, \u001b[38;5;241m*\u001b[39mcols: \u001b[38;5;124m\"\u001b[39m\u001b[38;5;124mColumnOrName\u001b[39m\u001b[38;5;124m\"\u001b[39m) \u001b[38;5;241m-\u001b[39m\u001b[38;5;241m>\u001b[39m \u001b[38;5;124m\"\u001b[39m\u001b[38;5;124mDataFrame\u001b[39m\u001b[38;5;124m\"\u001b[39m:  \u001b[38;5;66;03m# type: ignore[misc]\u001b[39;00m\n\u001b[1;32m   3179\u001b[0m \u001b[38;5;250m    \u001b[39m\u001b[38;5;124;03m\"\"\"Projects a set of expressions and returns a new :class:`DataFrame`.\u001b[39;00m\n\u001b[1;32m   3180\u001b[0m \n\u001b[1;32m   3181\u001b[0m \u001b[38;5;124;03m    .. versionadded:: 1.3.0\u001b[39;00m\n\u001b[0;32m   (...)\u001b[0m\n\u001b[1;32m   3221\u001b[0m \u001b[38;5;124;03m    +-----+---+\u001b[39;00m\n\u001b[1;32m   3222\u001b[0m \u001b[38;5;124;03m    \"\"\"\u001b[39;00m\n\u001b[0;32m-> 3223\u001b[0m     jdf \u001b[38;5;241m=\u001b[39m \u001b[38;5;28;43mself\u001b[39;49m\u001b[38;5;241;43m.\u001b[39;49m\u001b[43m_jdf\u001b[49m\u001b[38;5;241;43m.\u001b[39;49m\u001b[43mselect\u001b[49m\u001b[43m(\u001b[49m\u001b[38;5;28;43mself\u001b[39;49m\u001b[38;5;241;43m.\u001b[39;49m\u001b[43m_jcols\u001b[49m\u001b[43m(\u001b[49m\u001b[38;5;241;43m*\u001b[39;49m\u001b[43mcols\u001b[49m\u001b[43m)\u001b[49m\u001b[43m)\u001b[49m\n\u001b[1;32m   3224\u001b[0m     \u001b[38;5;28;01mreturn\u001b[39;00m DataFrame(jdf, \u001b[38;5;28mself\u001b[39m\u001b[38;5;241m.\u001b[39msparkSession)\n",
      "File \u001b[0;32m/usr/local/spark/python/lib/py4j-0.10.9.7-src.zip/py4j/java_gateway.py:1322\u001b[0m, in \u001b[0;36mJavaMember.__call__\u001b[0;34m(self, *args)\u001b[0m\n\u001b[1;32m   1316\u001b[0m command \u001b[38;5;241m=\u001b[39m proto\u001b[38;5;241m.\u001b[39mCALL_COMMAND_NAME \u001b[38;5;241m+\u001b[39m\\\n\u001b[1;32m   1317\u001b[0m     \u001b[38;5;28mself\u001b[39m\u001b[38;5;241m.\u001b[39mcommand_header \u001b[38;5;241m+\u001b[39m\\\n\u001b[1;32m   1318\u001b[0m     args_command \u001b[38;5;241m+\u001b[39m\\\n\u001b[1;32m   1319\u001b[0m     proto\u001b[38;5;241m.\u001b[39mEND_COMMAND_PART\n\u001b[1;32m   1321\u001b[0m answer \u001b[38;5;241m=\u001b[39m \u001b[38;5;28mself\u001b[39m\u001b[38;5;241m.\u001b[39mgateway_client\u001b[38;5;241m.\u001b[39msend_command(command)\n\u001b[0;32m-> 1322\u001b[0m return_value \u001b[38;5;241m=\u001b[39m \u001b[43mget_return_value\u001b[49m\u001b[43m(\u001b[49m\n\u001b[1;32m   1323\u001b[0m \u001b[43m    \u001b[49m\u001b[43manswer\u001b[49m\u001b[43m,\u001b[49m\u001b[43m \u001b[49m\u001b[38;5;28;43mself\u001b[39;49m\u001b[38;5;241;43m.\u001b[39;49m\u001b[43mgateway_client\u001b[49m\u001b[43m,\u001b[49m\u001b[43m \u001b[49m\u001b[38;5;28;43mself\u001b[39;49m\u001b[38;5;241;43m.\u001b[39;49m\u001b[43mtarget_id\u001b[49m\u001b[43m,\u001b[49m\u001b[43m \u001b[49m\u001b[38;5;28;43mself\u001b[39;49m\u001b[38;5;241;43m.\u001b[39;49m\u001b[43mname\u001b[49m\u001b[43m)\u001b[49m\n\u001b[1;32m   1325\u001b[0m \u001b[38;5;28;01mfor\u001b[39;00m temp_arg \u001b[38;5;129;01min\u001b[39;00m temp_args:\n\u001b[1;32m   1326\u001b[0m     \u001b[38;5;28;01mif\u001b[39;00m \u001b[38;5;28mhasattr\u001b[39m(temp_arg, \u001b[38;5;124m\"\u001b[39m\u001b[38;5;124m_detach\u001b[39m\u001b[38;5;124m\"\u001b[39m):\n",
      "File \u001b[0;32m/usr/local/spark/python/pyspark/errors/exceptions/captured.py:185\u001b[0m, in \u001b[0;36mcapture_sql_exception.<locals>.deco\u001b[0;34m(*a, **kw)\u001b[0m\n\u001b[1;32m    181\u001b[0m converted \u001b[38;5;241m=\u001b[39m convert_exception(e\u001b[38;5;241m.\u001b[39mjava_exception)\n\u001b[1;32m    182\u001b[0m \u001b[38;5;28;01mif\u001b[39;00m \u001b[38;5;129;01mnot\u001b[39;00m \u001b[38;5;28misinstance\u001b[39m(converted, UnknownException):\n\u001b[1;32m    183\u001b[0m     \u001b[38;5;66;03m# Hide where the exception came from that shows a non-Pythonic\u001b[39;00m\n\u001b[1;32m    184\u001b[0m     \u001b[38;5;66;03m# JVM exception message.\u001b[39;00m\n\u001b[0;32m--> 185\u001b[0m     \u001b[38;5;28;01mraise\u001b[39;00m converted \u001b[38;5;28;01mfrom\u001b[39;00m \u001b[38;5;28;01mNone\u001b[39;00m\n\u001b[1;32m    186\u001b[0m \u001b[38;5;28;01melse\u001b[39;00m:\n\u001b[1;32m    187\u001b[0m     \u001b[38;5;28;01mraise\u001b[39;00m\n",
      "\u001b[0;31mAnalysisException\u001b[0m: [UNRESOLVED_COLUMN.WITH_SUGGESTION] A column or function parameter with name `taux` cannot be resolved. Did you mean one of the following? [`age`, `prix`, `category`, `longueur`, `nbPortes`].;\n'Project [age#5, 'taux, situationfamilliale#7, nbenfantacharge#6, deuxiemevoiture#8, 'categorie]\n+- Project [immatriculation#0, puissance#1, longueur#2, nbPortes#3, prix#4, age#5, nbenfantacharge#6, situationfamilliale#7, deuxiemevoiture#8, category#9]\n   +- SubqueryAlias spark_catalog.concessionnaire.client_immat_cat\n      +- Relation spark_catalog.concessionnaire.client_immat_cat[immatriculation#0,puissance#1,longueur#2,nbPortes#3,prix#4,age#5,nbenfantacharge#6,situationfamilliale#7,deuxiemevoiture#8,category#9] parquet\n"
     ]
    }
   ],
   "source": [
    "client_immat_df.select(\"age\",\"sexe\",\"taux\",\"situationfamilliale\",\"nbenfantacharge\",\"deuxiemevoiture\",\"categorie\").show(10, truncate=False)"
   ]
  },
  {
   "cell_type": "markdown",
   "id": "c84b9efe-3f2c-4aba-b45d-5d390a523e18",
   "metadata": {},
   "source": [
    "### Vérification des valeurs manquantes\n"
   ]
  },
  {
   "cell_type": "code",
   "execution_count": 6,
   "id": "a5b0099d-d150-4c98-bde7-75fc0355f54d",
   "metadata": {},
   "outputs": [
    {
     "name": "stdout",
     "output_type": "stream",
     "text": [
      "++\n",
      "||\n",
      "++\n",
      "||\n",
      "++\n",
      "\n"
     ]
    }
   ],
   "source": [
    "missing_counts = client_immat_df.select([isnull(col(c)).alias(c) for c in client_immat_df.columns]).groupby().sum().show()"
   ]
  },
  {
   "cell_type": "markdown",
   "id": "8875d53e-dc29-46b1-bae6-bf10bd0028f2",
   "metadata": {},
   "source": [
    "Notre DataFrame ne possède aucune valeur manquante."
   ]
  },
  {
   "cell_type": "markdown",
   "id": "82809236-5447-4fc3-8bfd-f32e5939814f",
   "metadata": {},
   "source": [
    "### Analyse de la colonne age"
   ]
  },
  {
   "cell_type": "code",
   "execution_count": 7,
   "id": "ddede1e3-e006-408e-bfb5-70654d1651a7",
   "metadata": {},
   "outputs": [
    {
     "data": {
      "image/png": "[encoded data removed]",
      "text/plain": [
       "<Figure size 900x500 with 1 Axes>"
      ]
     },
     "metadata": {},
     "output_type": "display_data"
    }
   ],
   "source": [
    "import matplotlib.pyplot as plt\n",
    "\n",
    "# Convertir les données PySpark en Pandas\n",
    "df_pandas_age = client_immat_df.select(\"age\").toPandas()\n",
    "\n",
    "# Créer un histogramme pour visualiser la distribution des âges\n",
    "plt.figure(figsize=(9, 5))\n",
    "plt.hist(df_pandas_age[\"age\"], bins=20, color=\"skyblue\", edgecolor=\"black\")\n",
    "plt.title(\"Distribution des âges des clients\", fontsize=14)\n",
    "plt.xlabel(\"Âge\", fontsize=12)\n",
    "plt.ylabel(\"Nombre d'observations\", fontsize=12)\n",
    "plt.grid(axis=\"y\", linestyle=\"--\", alpha=0.7)\n",
    "plt.show()"
   ]
  },
  {
   "cell_type": "markdown",
   "id": "7c9dad45-37db-453f-be6f-338dba2f288b",
   "metadata": {},
   "source": [
    "#### *Pic autour de 20-30 ans :*\n",
    "Le graphique montre une concentration significative des clients dans la tranche d’âge des jeunes adultes (20-30 ans).\n",
    "Cela pourrait indiquer que les jeunes adultes constituent une part importante des acheteurs ou des utilisateurs des services proposés.\n",
    "\n",
    "#### *Répartition équilibrée entre 30 et 60 ans :*\n",
    "La distribution des âges semble relativement uniforme dans la tranche 30-60 ans, avec des oscillations mineures.\n",
    "Ces clients pourraient représenter une clientèle stable et régulière.\n",
    "\n",
    "#### *Diminution après 60 ans :*\n",
    "Une baisse du nombre de clients est observable après 60 ans.\n",
    "Cela pourrait être lié à des facteurs comme une moindre mobilité ou des priorités différentes pour cette tranche d’âge.\n",
    "\n",
    "#### *Présence d’une minorité au-delà de 70-80 ans :*\n",
    "Bien qu’ils soient moins nombreux, les clients âgés de 70 ans et plus restent une part non négligeable. Des produits ou services adaptés à cette tranche pourraient être envisagés.\n",
    "\n",
    "**Conclusion :**\n",
    "Procédure possible pour cette colonne : normalisation ou catégorisation."
   ]
  },
  {
   "cell_type": "markdown",
   "id": "66314498-0c6f-4c2f-aaaa-c2e336a2d644",
   "metadata": {},
   "source": [
    "## Analyse sur la colonne nbenfantacharge"
   ]
  },
  {
   "cell_type": "code",
   "execution_count": 8,
   "id": "21b4e01d-256d-481b-9ddf-9926f5617549",
   "metadata": {},
   "outputs": [
    {
     "data": {
      "image/png": "[encoded data removed]",
      "text/plain": [
       "<Figure size 700x400 with 1 Axes>"
      ]
     },
     "metadata": {},
     "output_type": "display_data"
    }
   ],
   "source": [
    "# Convertir les données PySpark en Pandas\n",
    "df_pandas = client_immat_df.select(\"nbenfantacharge\").toPandas()\n",
    "\n",
    "# Compter le nombre d'observations pour chaque catégorie\n",
    "count_data = df_pandas[\"nbenfantacharge\"].value_counts().sort_index()\n",
    "\n",
    "# Créer le graphique\n",
    "plt.figure(figsize=(7, 4))\n",
    "count_data.plot(kind=\"bar\", color=\"skyblue\", edgecolor=\"black\")\n",
    "plt.title(\"Répartition des observations par nbenfantacharge\", fontsize=14)\n",
    "plt.xlabel(\"Nombre d'enfants à charge\", fontsize=12)\n",
    "plt.ylabel(\"Nombre d'observations\", fontsize=12)\n",
    "plt.xticks(rotation=0)\n",
    "plt.grid(axis=\"y\", linestyle=\"--\", alpha=0.7)\n",
    "plt.show()"
   ]
  },
  {
   "cell_type": "markdown",
   "id": "288eaf14-c856-447f-a311-97b9596a0da0",
   "metadata": {},
   "source": [
    "On vois sur le graphique precedent que la majorité des observations se trouvent dans la catégorie 0 (aucun enfant à charge).\n",
    "Les autres valeurs (1, 2, 3, 4 enfants à charge) sont beaucoup moins fréquentes et relativement équilibrées entre elles.\n",
    "\n",
    "On pourrait peux étre regrouper en deux ou trois categorie distinct.\n",
    "\n",
    "Sois :\n",
    "- 0 = Categorie 1\n",
    "- 1,2,3,4 (Autre) = Categorie 2\n",
    "\n",
    "Sois :\n",
    "- 0 = Categorie 1\n",
    "- 1,2 = Categorie 2\n",
    "- Autre = Categorie 3\n",
    "\n",
    "Cela permettrait d'être scalable dans le cas où un client aurait plus de 4 enfants."
   ]
  },
  {
   "cell_type": "markdown",
   "id": "6b5a67fe-4b05-4514-b6f6-d2d28200901a",
   "metadata": {},
   "source": [
    "## Analyse sur la colonne taux"
   ]
  },
  {
   "cell_type": "code",
   "execution_count": 9,
   "id": "1503ab16-84ae-4189-8942-96bf5bc637a1",
   "metadata": {},
   "outputs": [
    {
     "data": {
      "image/png": "[encoded data removed]",
      "text/plain": [
       "<Figure size 800x400 with 1 Axes>"
      ]
     },
     "metadata": {},
     "output_type": "display_data"
    }
   ],
   "source": [
    "# Convertir la colonne \"taux\" en Pandas\n",
    "df_pandas_taux = client_immat_df.select(\"taux\").toPandas()\n",
    "\n",
    "# Créer un histogramme pour visualiser la distribution de \"taux\"\n",
    "plt.figure(figsize=(8, 4))\n",
    "plt.hist(df_pandas_taux[\"taux\"], bins=30, color=\"skyblue\", edgecolor=\"black\")\n",
    "plt.title(\"Distribution du taux d'endettement des clients\", fontsize=14)\n",
    "plt.xlabel(\"Taux\", fontsize=12)\n",
    "plt.ylabel(\"Nombre d'observations\", fontsize=12)\n",
    "plt.grid(axis=\"y\", linestyle=\"--\", alpha=0.7)\n",
    "plt.show()"
   ]
  },
  {
   "cell_type": "markdown",
   "id": "23b43051-8621-4520-af52-ace2b7af63c1",
   "metadata": {},
   "source": [
    "# Machine Learning\n",
    "\n",
    "## Étape 1 : Préparation des données\n",
    "\n",
    "Je réduis le DataFrame de base avec toutes les colonnes pour récupérer les colonnes nécessaires à l'entraînement et utiles pour l'inférence."
   ]
  },
  {
   "cell_type": "code",
   "execution_count": 10,
   "id": "780fac4a-2da0-4ed0-9288-ecfeb0bdf275",
   "metadata": {},
   "outputs": [],
   "source": [
    "# Sélection des colonnes nécessaires\n",
    "df_reduit = client_immat_df.select(\"age\", \"sexe\", \"taux\", \"situationfamilliale\", \"nbenfantacharge\", \"deuxiemevoiture\", \"categorie\")"
   ]
  },
  {
   "cell_type": "markdown",
   "id": "55c4df20-fd52-4b27-bd99-64aa74d71afc",
   "metadata": {},
   "source": [
    "### Normalisation de la colonne \"age\"\n",
    "\n",
    "Après avoir tester les deux possibiliter entre la normalisation et la categorisation\n",
    "J'ai garder la normalisation car le modèle et plus performant comme cela, et cela nous permet :\n",
    "- Maintient la précision des données.\n",
    "- D'exploiter des relations subtiles entre l'âge et d'autres variables.\n"
   ]
  },
  {
   "cell_type": "code",
   "execution_count": 11,
   "id": "42b197aa-5676-4cdc-8207-e6ba8cca9cda",
   "metadata": {},
   "outputs": [],
   "source": [
    "# Étape 1 : Assembler l'âge dans un vecteur (nécessaire pour MinMaxScaler)\n",
    "age_assembler = VectorAssembler(inputCols=[\"age\"], outputCol=\"age_vector\")\n",
    "\n",
    "# Étape 2 : Appliquer le MinMaxScaler pour normaliser l'âge\n",
    "age_scaler = MinMaxScaler(inputCol=\"age_vector\", outputCol=\"age_scaled\")"
   ]
  },
  {
   "cell_type": "markdown",
   "id": "5ecc17a7-b690-4ab0-869b-b697090ed5a0",
   "metadata": {},
   "source": [
    "### Catégoriser l'âge (Non concluant)\n",
    "df_reduit = df_reduit.withColumn(\n",
    "    \"age_categoriel\",\n",
    "    when((col(\"age\") >= 0) & (col(\"age\") < 10), \"0-9 ans\")\n",
    "    .when((col(\"age\") >= 10) & (col(\"age\") < 20), \"10-19 ans\")\n",
    "    .when((col(\"age\") >= 20) & (col(\"age\") < 30), \"20-29 ans\")\n",
    "    .when((col(\"age\") >= 30) & (col(\"age\") < 40), \"30-39 ans\")\n",
    "    .when((col(\"age\") >= 40) & (col(\"age\") < 50), \"40-49 ans\")\n",
    "    .when((col(\"age\") >= 50) & (col(\"age\") < 60), \"50-59 ans\")\n",
    "    .when((col(\"age\") >= 60) & (col(\"age\") < 70), \"60-69 ans\")\n",
    "    .when((col(\"age\") >= 70) & (col(\"age\") < 80), \"70-79 ans\")\n",
    "    .when((col(\"age\") >= 80) & (col(\"age\") < 90), \"80-89 ans\")\n",
    "    .otherwise(\"90 ans et plus\")\n",
    ")\n"
   ]
  },
  {
   "cell_type": "code",
   "execution_count": null,
   "id": "62a2c2c7-8884-4b34-aa8f-5fde6f9eaf9f",
   "metadata": {},
   "outputs": [],
   "source": []
  },
  {
   "cell_type": "markdown",
   "id": "5ccd8971-1027-4007-9599-18702432ba27",
   "metadata": {},
   "source": [
    "### Rendre catégorielle la colonne \"nb_enfant_a_charge\".\n",
    "\n",
    "J'ai fait le choix de trois catégories car cela permet de conserver plus d'informations et de rendre le modèle légèrement plus précis et scalable."
   ]
  },
  {
   "cell_type": "markdown",
   "id": "cc0b8d4c-ffe8-4eb7-933b-ed8f03b51fae",
   "metadata": {},
   "source": [
    "### Transformer nbenfantacharge en catégories avec trois groupes (Non concluant)\n",
    "df_reduit = df_reduit.withColumn(\n",
    "    \"nbenfantacharge_categoriel\",\n",
    "    when(df_reduit[\"nbenfantacharge\"] == 0, \"0\")\n",
    "    .when((df_reduit[\"nbenfantacharge\"] >= 1) & (df_reduit[\"nbenfantacharge\"] <= 2), \"1\")\n",
    "    .otherwise(\"2\")\n",
    ")"
   ]
  },
  {
   "cell_type": "markdown",
   "id": "b58a71e0-a484-405c-9e93-c91c13ce1570",
   "metadata": {},
   "source": [
    "Cette partie n'était pas concluante, le modèle perdait en précision."
   ]
  },
  {
   "cell_type": "code",
   "execution_count": null,
   "id": "69814e4e-8c76-48a6-8df0-f913a4105d97",
   "metadata": {},
   "outputs": [],
   "source": []
  },
  {
   "cell_type": "markdown",
   "id": "d4b1a61c-9d3d-4e85-a897-10c740a69184",
   "metadata": {},
   "source": [
    "### Normalisation de la colonne \"taux\""
   ]
  },
  {
   "cell_type": "code",
   "execution_count": 12,
   "id": "eb50043c-47d3-4014-b605-0e263c819ee3",
   "metadata": {},
   "outputs": [],
   "source": [
    "# Assembler \"taux\" dans des vecteurs\n",
    "taux_assembler = VectorAssembler(inputCols=[\"taux\"], outputCol=\"taux_vector\")\n",
    "\n",
    "# Normaliser \"taux\" avec MinMaxScaler\n",
    "taux_scaler = MinMaxScaler(inputCol=\"taux_vector\", outputCol=\"taux_scaled\")"
   ]
  },
  {
   "cell_type": "markdown",
   "id": "c0efc586-5d4a-4ebc-9cc4-c218b7d7149d",
   "metadata": {},
   "source": [
    "J'ai essayé de catégoriser le taux, mais le résultat n'a pas été concluant."
   ]
  },
  {
   "cell_type": "markdown",
   "id": "463ff9af-214f-45d5-ad01-c03a01ff9d29",
   "metadata": {},
   "source": [
    "## Étape 2 : Ajouter le StringIndexer\n",
    "L'objectif principal est de convertir des colonnes catégoriques (texte) en colonnes numériques indexées à l'aide de la méthode StringIndexer. Cela est nécessaire pour rendre ces données compatibles avec des modèles qui n'acceptent que des valeurs numériques comme entrée."
   ]
  },
  {
   "cell_type": "code",
   "execution_count": 13,
   "id": "ab78a646-c7e2-4a1e-8f7f-93c4c0030b48",
   "metadata": {},
   "outputs": [],
   "source": [
    "# Encodage des colonnes catégoriques\n",
    "indexers = [\n",
    "    StringIndexer(inputCol=\"sexe\", outputCol=\"sexe_index\"),\n",
    "    StringIndexer(inputCol=\"situationfamilliale\", outputCol=\"situation_index\"),\n",
    "    StringIndexer(inputCol=\"deuxiemevoiture\", outputCol=\"deuxiemevoiture_num\"),\n",
    "    StringIndexer(inputCol=\"categorie\", outputCol=\"categorie_index\"),\n",
    "]"
   ]
  },
  {
   "cell_type": "markdown",
   "id": "53f8a6c4-6571-4b9f-bf3c-8f583e009870",
   "metadata": {},
   "source": [
    "## Étape 3 : Construction et préparation des features"
   ]
  },
  {
   "cell_type": "code",
   "execution_count": 14,
   "id": "ddf644db-c103-4331-9d5f-b7446e9fff8a",
   "metadata": {},
   "outputs": [
    {
     "name": "stdout",
     "output_type": "stream",
     "text": [
      "root\n",
      " |-- age: integer (nullable = true)\n",
      " |-- sexe: string (nullable = true)\n",
      " |-- taux: integer (nullable = true)\n",
      " |-- situationfamilliale: string (nullable = true)\n",
      " |-- nbenfantacharge: integer (nullable = true)\n",
      " |-- deuxiemevoiture: string (nullable = true)\n",
      " |-- categorie: string (nullable = true)\n",
      " |-- sexe_index: double (nullable = false)\n",
      " |-- situation_index: double (nullable = false)\n",
      " |-- deuxiemevoiture_num: double (nullable = false)\n",
      " |-- categorie_index: double (nullable = false)\n",
      " |-- age_vector: vector (nullable = true)\n",
      " |-- age_scaled: vector (nullable = true)\n",
      " |-- taux_vector: vector (nullable = true)\n",
      " |-- taux_scaled: vector (nullable = true)\n",
      " |-- features: vector (nullable = true)\n",
      "\n"
     ]
    }
   ],
   "source": [
    "# Inclure la colonne normalisée dans les features\n",
    "assembler = VectorAssembler(\n",
    "    inputCols=[\"age_scaled\", \"sexe_index\", \"taux_scaled\", \"situation_index\", \"nbenfantacharge\", \"deuxiemevoiture_num\"],\n",
    "    outputCol=\"features\"\n",
    ")\n",
    "\n",
    "# Construction du pipeline avec les étapes : encodage + normalisation + assemblage\n",
    "pipeline = Pipeline(stages=indexers + [age_assembler, age_scaler, taux_assembler, taux_scaler, assembler])\n",
    "\n",
    "# Transformation des données\n",
    "df_final = pipeline.fit(df_reduit).transform(df_reduit)\n",
    "\n",
    "# Afficher le schéma final\n",
    "df_final.printSchema()"
   ]
  },
  {
   "cell_type": "markdown",
   "id": "8049c331-3007-46fe-a73e-001da61b641b",
   "metadata": {},
   "source": [
    "### Étape 4 : division des données\n",
    "Entraînement et test."
   ]
  },
  {
   "cell_type": "code",
   "execution_count": 15,
   "id": "2cb9518f-82d2-40a6-b7b0-8ac5e11a150f",
   "metadata": {},
   "outputs": [],
   "source": [
    "# Division des données\n",
    "train_data, test_data = df_final.randomSplit([0.8, 0.2], seed=42)"
   ]
  },
  {
   "cell_type": "markdown",
   "id": "0a30680b-ae47-474d-8c12-3f1cb868e45b",
   "metadata": {},
   "source": [
    "# Test modèle Random Forest"
   ]
  },
  {
   "cell_type": "code",
   "execution_count": 16,
   "id": "d1c03349-39b9-45bf-91ee-a8b56c26c345",
   "metadata": {},
   "outputs": [],
   "source": [
    "from pyspark.ml.classification import RandomForestClassifier\n",
    "from pyspark.ml.evaluation import MulticlassClassificationEvaluator\n",
    "\n",
    "# Création du modèle Random Forest\n",
    "rf = RandomForestClassifier(\n",
    "    labelCol=\"categorie_index\",  # La cible encodée\n",
    "    featuresCol=\"features\",  # Les vecteurs\n",
    "    numTrees=20,  # Nombre d'arbres\n",
    "    maxDepth=5,  # Profondeur maximale\n",
    "    seed=42\n",
    ")"
   ]
  },
  {
   "cell_type": "code",
   "execution_count": 17,
   "id": "96f91551-a72a-4a66-888f-cd40d22547be",
   "metadata": {},
   "outputs": [],
   "source": [
    "# Entraînement\n",
    "rf_model = rf.fit(train_data)"
   ]
  },
  {
   "cell_type": "code",
   "execution_count": 18,
   "id": "359c706e-2795-47f4-b92c-d145988f1045",
   "metadata": {},
   "outputs": [],
   "source": [
    "# Prédiction sur l'ensemble de test\n",
    "predictions = rf_model.transform(test_data)"
   ]
  },
  {
   "cell_type": "code",
   "execution_count": 19,
   "id": "fbf92977-0282-4b3c-b702-3d78c3fcd7bf",
   "metadata": {},
   "outputs": [
    {
     "name": "stdout",
     "output_type": "stream",
     "text": [
      "Test Accuracy: 0.7228330350294042\n"
     ]
    }
   ],
   "source": [
    "# Évaluation\n",
    "evaluator = MulticlassClassificationEvaluator(\n",
    "    labelCol=\"categorie_index\", \n",
    "    predictionCol=\"prediction\", \n",
    "    metricName=\"accuracy\"\n",
    ")\n",
    "accuracy = evaluator.evaluate(predictions)\n",
    "print(f\"Test Accuracy: {accuracy}\")"
   ]
  },
  {
   "cell_type": "markdown",
   "id": "53848904-f15a-43f3-8efc-a078bc3c6c88",
   "metadata": {},
   "source": [
    "# Fin de test Random Forest"
   ]
  },
  {
   "cell_type": "markdown",
   "id": "8f927914-1c81-44ad-80c3-ef651d93d7b0",
   "metadata": {},
   "source": [
    "# Test Logistic Regression :"
   ]
  },
  {
   "cell_type": "code",
   "execution_count": 20,
   "id": "a50e255a-6cda-4c3c-97c9-c7d9f01d09e5",
   "metadata": {},
   "outputs": [
    {
     "name": "stdout",
     "output_type": "stream",
     "text": [
      "Test Accuracy (Logistic Regression): 0.46330861672206597\n"
     ]
    }
   ],
   "source": [
    "from pyspark.ml.classification import LogisticRegression\n",
    "\n",
    "# Création du modèle Logistic Regression\n",
    "lr = LogisticRegression(\n",
    "    labelCol=\"categorie_index\",  # La cible encodée\n",
    "    featuresCol=\"features\",  # Les vecteurs de features\n",
    "    maxIter=50,  # Nombre maximal d'itérations\n",
    "    regParam=0.3,  # Paramètre de régularisation (L2)\n",
    "    elasticNetParam=0.8  # Contrôle la régularisation (entre L1 et L2)\n",
    ")\n",
    "\n",
    "# Entraînement du modèle\n",
    "lr_model = lr.fit(train_data)\n",
    "\n",
    "# Prédictions sur les données de test\n",
    "predictions_lr = lr_model.transform(test_data)\n",
    "\n",
    "# Évaluation\n",
    "evaluator_lr = MulticlassClassificationEvaluator(\n",
    "    labelCol=\"categorie_index\", \n",
    "    predictionCol=\"prediction\", \n",
    "    metricName=\"accuracy\"\n",
    ")\n",
    "accuracy_lr = evaluator_lr.evaluate(predictions_lr)\n",
    "print(f\"Test Accuracy (Logistic Regression): {accuracy_lr}\")\n"
   ]
  },
  {
   "cell_type": "markdown",
   "id": "f50de86b-5c86-4dd7-b82b-5e0b22178f7d",
   "metadata": {},
   "source": [
    "## Decision Tree Classifier"
   ]
  },
  {
   "cell_type": "code",
   "execution_count": 21,
   "id": "d3d43f3b-3a07-498e-809f-49ed3d9fc781",
   "metadata": {},
   "outputs": [
    {
     "name": "stdout",
     "output_type": "stream",
     "text": [
      "Test Accuracy (Decision Tree): 0.7158782919969318\n"
     ]
    }
   ],
   "source": [
    "from pyspark.ml.classification import DecisionTreeClassifier\n",
    "\n",
    "# Création du modèle Decision Tree Classifier\n",
    "dt = DecisionTreeClassifier(\n",
    "    labelCol=\"categorie_index\",  # Colonne cible\n",
    "    featuresCol=\"features\",      # Colonne des features\n",
    "    maxDepth=10,                 # Profondeur maximale de l'arbre\n",
    "    maxBins=32                   # Nombre de bins pour les catégories continues\n",
    ")\n",
    "\n",
    "# Entraînement du modèle\n",
    "dt_model = dt.fit(train_data)\n",
    "\n",
    "# Prédictions sur les données de test\n",
    "predictions_dt = dt_model.transform(test_data)\n",
    "\n",
    "# Évaluation\n",
    "evaluator_dt = MulticlassClassificationEvaluator(\n",
    "    labelCol=\"categorie_index\", \n",
    "    predictionCol=\"prediction\", \n",
    "    metricName=\"accuracy\"\n",
    ")\n",
    "accuracy_dt = evaluator_dt.evaluate(predictions_dt)\n",
    "\n",
    "print(f\"Test Accuracy (Decision Tree): {accuracy_dt}\")"
   ]
  }
 ],
 "metadata": {
  "kernelspec": {
   "display_name": "Python 3 (ipykernel)",
   "language": "python",
   "name": "python3"
  },
  "language_info": {
   "codemirror_mode": {
    "name": "ipython",
    "version": 3
   },
   "file_extension": ".py",
   "mimetype": "text/x-python",
   "name": "python",
   "nbconvert_exporter": "python",
   "pygments_lexer": "ipython3",
   "version": "3.11.6"
  }
 },
 "nbformat": 4,
 "nbformat_minor": 5
}
