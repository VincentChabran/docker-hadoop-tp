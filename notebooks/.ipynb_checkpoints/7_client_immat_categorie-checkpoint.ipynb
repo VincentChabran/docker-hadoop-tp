{
 "cells": [
  {
   "cell_type": "code",
   "execution_count": 1,
   "id": "59a80022-05fc-4802-bd00-e553fe4a67f1",
   "metadata": {},
   "outputs": [],
   "source": [
    "from pyspark.sql import SparkSession\n",
    "from pyspark.sql.functions import col, when\n",
    "from pyspark.ml.feature import VectorAssembler, StandardScaler\n",
    "from pyspark.ml.clustering import KMeans\n",
    "from pyspark.sql.functions import when"
   ]
  },
  {
   "cell_type": "markdown",
   "id": "f3c236fc-a195-44d0-95fd-7eeef20cdc85",
   "metadata": {},
   "source": [
    "# Utilisation de la base de données Hive, et charge les données de la table"
   ]
  },
  {
   "cell_type": "code",
   "execution_count": 2,
   "id": "e4e4488c-32d2-46dc-a7dd-c4ca99cf591e",
   "metadata": {},
   "outputs": [],
   "source": [
    "spark = SparkSession.builder \\\n",
    "    .appName(\"Categorie\") \\\n",
    "    .config(\"spark.hadoop.hive.metastore.uris\", \"thrift://hive-metastore:9083\") \\\n",
    "    .enableHiveSupport() \\\n",
    "    .getOrCreate()\n"
   ]
  },
  {
   "cell_type": "code",
   "execution_count": 3,
   "id": "da8cacfd-67cb-4f5b-9204-4df1749db565",
   "metadata": {},
   "outputs": [],
   "source": [
    "spark.sql(\"USE concessionnaire\")\n",
    "client_immat_df = spark.sql(\"SELECT * FROM client_immatriculation_merged\")"
   ]
  },
  {
   "cell_type": "code",
   "execution_count": 4,
   "id": "83ca09cf-7f1e-4138-852f-81783adc20b7",
   "metadata": {},
   "outputs": [
    {
     "name": "stdout",
     "output_type": "stream",
     "text": [
      "+---------------+---+-----+----+-------------------+---------------+---------------+--------+---------+-----------+--------+--------+-------+--------+-------+------+\n",
      "|immatriculation|age|sexe |taux|situationfamilliale|nbenfantacharge|deuxiemevoiture|marque  |puissance|longueur   |nbplaces|nbportes|couleur|occasion|prix   |modele|\n",
      "+---------------+---+-----+----+-------------------+---------------+---------------+--------+---------+-----------+--------+--------+-------+--------+-------+------+\n",
      "|0 UI 76        |61 |Homme|419 |En Couple          |4              |true           |Mercedes|306      |très longue|5       |5       |rouge  |true    |70910.0|S500  |\n",
      "|10 IM 37       |20 |Homme|1245|En Couple          |2              |false          |Jaguar  |197      |longue     |5       |5       |bleu   |false   |37100.0|X-Type|\n",
      "|10 LB 49       |21 |Homme|502 |En Couple          |2              |false          |Volvo   |272      |très longue|5       |5       |rouge  |false   |50500.0|S80   |\n",
      "|10 MF 39       |22 |Homme|1072|Célibataire        |0              |false          |Audi    |75       |courte     |5       |5       |noir   |false   |18310.0|A2    |\n",
      "|10 VE 79       |41 |Homme|507 |En Couple          |1              |false          |Ford    |125      |longue     |5       |5       |bleu   |false   |23900.0|Mondeo|\n",
      "|100 JQ 82      |50 |Homme|1213|En Couple          |1              |false          |BMW     |507      |très longue|5       |5       |noir   |false   |94800.0|M5    |\n",
      "|100 MW 36      |36 |Homme|467 |En Couple          |3              |false          |Renault |245      |très longue|5       |5       |blanc  |false   |49200.0|Vel   |\n",
      "|1000 HF 96     |32 |Homme|245 |En Couple          |0              |false          |Ford    |125      |longue     |5       |5       |blanc  |true    |16730.0|Mondeo|\n",
      "|1001 NX 52     |26 |Homme|459 |Célibataire        |1              |false          |Volvo   |272      |très longue|5       |5       |blanc  |false   |50500.0|S80   |\n",
      "|1001 OW 93     |30 |Homme|451 |En Couple          |0              |true           |Peugeot |75       |courte     |5       |5       |noir   |false   |13750.0|1007  |\n",
      "+---------------+---+-----+----+-------------------+---------------+---------------+--------+---------+-----------+--------+--------+-------+--------+-------+------+\n",
      "only showing top 10 rows\n",
      "\n"
     ]
    }
   ],
   "source": [
    "client_immat_df.show(10, truncate=False)"
   ]
  },
  {
   "cell_type": "markdown",
   "id": "13a408ef-de44-448a-9867-fd621301eddf",
   "metadata": {},
   "source": [
    "# Définis les catégories."
   ]
  },
  {
   "cell_type": "code",
   "execution_count": 5,
   "id": "869530a6-dbc1-4abd-b472-890df4e3c55d",
   "metadata": {},
   "outputs": [],
   "source": [
    "\n",
    "client_immat_df = client_immat_df.withColumn(\n",
    "    \"categorie\",\n",
    "    when((col(\"puissance\") <= 100) & (col(\"longueur\") == \"courte\"), \"citadine\")\n",
    "    .when((col(\"puissance\") > 100) & (col(\"puissance\") <= 200) & (col(\"longueur\") == \"courte\") & (col(\"prix\") < 30000), \"citadine premium\")\n",
    "    .when((col(\"puissance\") > 100) & (col(\"puissance\") <= 200) & (col(\"longueur\").isin(\"moyenne\", \"longue\")), \"familiale\")\n",
    "    .when((col(\"puissance\") > 200) & (col(\"prix\") > 30000), \"sportive\")\n",
    "    .when((col(\"nbplaces\") >= 7), \"monospace\")\n",
    "    .when((col(\"prix\") > 50000) & col(\"marque\").isin(\"BMW\", \"Mercedes\", \"Jaguar\", \"Audi\", \"Porsche\"), \"luxe\")\n",
    "    .otherwise(\"autre\")\n",
    ")\n"
   ]
  },
  {
   "cell_type": "markdown",
   "id": "6d9f8030-d7fc-44c4-850f-ba4084201fe8",
   "metadata": {},
   "source": [
    "# Affiche le resultat "
   ]
  },
  {
   "cell_type": "code",
   "execution_count": 6,
   "id": "d77f7790-aac7-4319-b218-ad5947d4897b",
   "metadata": {},
   "outputs": [
    {
     "name": "stdout",
     "output_type": "stream",
     "text": [
      "+--------+-------+----------------+-------+-----------+---------+\n",
      "|marque  |modele |categorie       |prix   |longueur   |puissance|\n",
      "+--------+-------+----------------+-------+-----------+---------+\n",
      "|Mercedes|S500   |sportive        |70910.0|très longue|306      |\n",
      "|Jaguar  |X-Type |familiale       |37100.0|longue     |197      |\n",
      "|Volvo   |S80    |sportive        |50500.0|très longue|272      |\n",
      "|Audi    |A2     |citadine        |18310.0|courte     |75       |\n",
      "|Ford    |Mondeo |familiale       |23900.0|longue     |125      |\n",
      "|BMW     |M5     |sportive        |94800.0|très longue|507      |\n",
      "|Renault |Vel    |sportive        |49200.0|très longue|245      |\n",
      "|Ford    |Mondeo |familiale       |16730.0|longue     |125      |\n",
      "|Volvo   |S80    |sportive        |50500.0|très longue|272      |\n",
      "|Peugeot |1007   |citadine        |13750.0|courte     |75       |\n",
      "|Audi    |A2     |citadine        |18310.0|courte     |75       |\n",
      "|Audi    |A2     |citadine        |12817.0|courte     |75       |\n",
      "|Audi    |A2     |citadine        |18310.0|courte     |75       |\n",
      "|Audi    |A2     |citadine        |18310.0|courte     |75       |\n",
      "|BMW     |120i   |familiale       |25060.0|moyenne    |150      |\n",
      "|Volvo   |S80    |sportive        |50500.0|très longue|272      |\n",
      "|Jaguar  |X-Type |familiale       |25970.0|longue     |197      |\n",
      "|BMW     |M5     |sportive        |66360.0|très longue|507      |\n",
      "|Renault |Vel    |sportive        |49200.0|très longue|245      |\n",
      "|Fiat    |Croma  |familiale       |24780.0|longue     |147      |\n",
      "|Renault |Laguna |familiale       |27300.0|longue     |170      |\n",
      "|Jaguar  |X-Type |familiale       |25970.0|longue     |197      |\n",
      "|Mini    |Copper |citadine premium|18200.0|courte     |115      |\n",
      "|Volvo   |S80    |sportive        |50500.0|très longue|272      |\n",
      "|Lancia  |Ypsilon|citadine        |9450.0 |courte     |90       |\n",
      "|Saab    |9.3    |familiale       |27020.0|longue     |150      |\n",
      "|BMW     |M5     |sportive        |94800.0|très longue|507      |\n",
      "|Audi    |A2     |citadine        |18310.0|courte     |75       |\n",
      "|Renault |Vel    |sportive        |49200.0|très longue|245      |\n",
      "|Fiat    |Croma  |familiale       |17346.0|longue     |147      |\n",
      "+--------+-------+----------------+-------+-----------+---------+\n",
      "only showing top 30 rows\n",
      "\n"
     ]
    }
   ],
   "source": [
    "client_immat_df.select(\"marque\",\"modele\",\"categorie\",\"prix\",\"longueur\",\"puissance\").show(30, truncate=False)"
   ]
  },
  {
   "cell_type": "markdown",
   "id": "a25a6bb9-ef12-4ecf-b900-d6102785744e",
   "metadata": {},
   "source": [
    "# Enregistre en base de données"
   ]
  },
  {
   "cell_type": "code",
   "execution_count": 7,
   "id": "15059391-625a-40eb-af09-b6f8aca47e5b",
   "metadata": {},
   "outputs": [],
   "source": [
    "client_immat_df.write.mode(\"overwrite\").saveAsTable(\"client_immatriculation_categorie\")"
   ]
  }
 ],
 "metadata": {
  "kernelspec": {
   "display_name": "Python 3 (ipykernel)",
   "language": "python",
   "name": "python3"
  },
  "language_info": {
   "codemirror_mode": {
    "name": "ipython",
    "version": 3
   },
   "file_extension": ".py",
   "mimetype": "text/x-python",
   "name": "python",
   "nbconvert_exporter": "python",
   "pygments_lexer": "ipython3",
   "version": "3.11.6"
  }
 },
 "nbformat": 4,
 "nbformat_minor": 5
}
