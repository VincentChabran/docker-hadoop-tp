{
 "cells": [
  {
   "cell_type": "code",
   "execution_count": 1,
   "id": "73f7de46-49a6-435d-b878-4408672b43a0",
   "metadata": {},
   "outputs": [],
   "source": [
    "from pyspark.sql import SparkSession\n",
    "from pyspark.ml.feature import VectorAssembler, StandardScaler\n",
    "from pyspark.ml.clustering import KMeans\n",
    "from pyspark.sql.types import DoubleType\n",
    "from pyspark.sql.functions import col\n",
    "from pyspark.sql.functions import col, avg, udf\n",
    "import matplotlib.pyplot as plt\n",
    "import seaborn as sns\n",
    "from pyspark.sql import functions as F\n",
    "from pyspark.sql.types import StringType"
   ]
  },
  {
   "cell_type": "code",
   "execution_count": 2,
   "id": "ace4f96f-7935-4c0e-9f0b-a9ecfe7b4b31",
   "metadata": {},
   "outputs": [],
   "source": [
    "spark = SparkSession.builder \\\n",
    "    .appName(\"categorie immat\") \\\n",
    "    .config(\"spark.hadoop.hive.metastore.uris\", \"thrift://hive-metastore:9083\") \\\n",
    "    .enableHiveSupport() \\\n",
    "    .getOrCreate()"
   ]
  },
  {
   "cell_type": "code",
   "execution_count": 4,
   "id": "b82ac26a-e03f-4029-b342-b9d1a5d384a7",
   "metadata": {},
   "outputs": [],
   "source": [
    "spark.sql(\"USE concessionnaire\")\n",
    "immatriculation_df = spark.sql(\"SELECT * FROM immatriculations_processed\")"
   ]
  },
  {
   "cell_type": "code",
   "execution_count": 4,
   "id": "700559da-05b1-4589-bead-aff4b82b3e26",
   "metadata": {},
   "outputs": [
    {
     "name": "stdout",
     "output_type": "stream",
     "text": [
      "+---------------+--------+---------+-----------+--------+--------+-------+--------+--------+------+\n",
      "|immatriculation|  marque|puissance|   longueur|nbplaces|nbportes|couleur|occasion|    prix|modele|\n",
      "+---------------+--------+---------+-----------+--------+--------+-------+--------+--------+------+\n",
      "|        0 AB 42| Renault|      135|    moyenne|       5|       5|  rouge|   false| 22350.0|Megane|\n",
      "|        0 AS 74|     BMW|      150|    moyenne|       5|       5|   bleu|    true| 25060.0|  120i|\n",
      "|        0 BM 45| Peugeot|       75|     courte|       5|       5|   bleu|   false| 13750.0|  1007|\n",
      "|        0 DF 51| Peugeot|       75|     courte|       5|       5|   noir|   false| 13750.0|  1007|\n",
      "|        0 FR 47| Renault|      170|     longue|       5|       5|  blanc|   false| 27300.0|Laguna|\n",
      "|        0 FW 80|   Volvo|      272|très longue|       5|       5|  blanc|   false| 50500.0|   S80|\n",
      "|        0 GL 36|    Audi|       75|     courte|       5|       5|  blanc|   false| 18310.0|    A2|\n",
      "|        0 HB 79|Mercedes|      306|très longue|       5|       5|   noir|   false|101300.0|  S500|\n",
      "|        0 HE 15| Renault|      245|très longue|       5|       5|   noir|    true| 34440.0|   Vel|\n",
      "|        0 IA 87| Peugeot|       75|     courte|       5|       5|   bleu|   false| 13750.0|  1007|\n",
      "|        0 IM 93|  Jaguar|      197|     longue|       5|       5|   gris|   false| 37100.0|X-Type|\n",
      "|        0 JH 10|Daihatsu|       58|     courte|       5|       3|   noir|   false|  8850.0| Cuore|\n",
      "|        0 JO 29| Renault|      245|très longue|       5|       5|   gris|   false| 49200.0|   Vel|\n",
      "|        0 KB 70| Renault|      245|très longue|       5|       5|  rouge|    true| 34440.0|   Vel|\n",
      "|        0 KD 11|    Audi|       75|     courte|       5|       5|  blanc|    true| 12817.0|    A2|\n",
      "|        0 LB 26|    Fiat|      147|     longue|       5|       5|  blanc|   false| 24780.0| Croma|\n",
      "|        0 LO 15|    Audi|       75|     courte|       5|       5|  blanc|   false| 18310.0|    A2|\n",
      "|        0 LP 63|    Ford|      125|     longue|       5|       5|  rouge|   false| 23900.0|Mondeo|\n",
      "|        0 LS 80|  Jaguar|      197|     longue|       5|       5|   gris|    true| 25970.0|X-Type|\n",
      "|        0 LW 29|Mercedes|      306|très longue|       5|       5|  rouge|   false|101300.0|  S500|\n",
      "+---------------+--------+---------+-----------+--------+--------+-------+--------+--------+------+\n",
      "only showing top 20 rows\n",
      "\n"
     ]
    }
   ],
   "source": [
    "immatriculation_df.show(20)"
   ]
  },
  {
   "cell_type": "code",
   "execution_count": 5,
   "id": "d38cab8f-140d-4d53-a60c-20d5797e3ce4",
   "metadata": {},
   "outputs": [],
   "source": [
    "immatriculation_df = immatriculation_df.withColumn(\"longueur\", col(\"longueur\").cast(DoubleType()))\n",
    "immatriculation_df = immatriculation_df.withColumn(\"puissance\", col(\"puissance\").cast(DoubleType()))\n",
    "immatriculation_df = immatriculation_df.withColumn(\"nbPortes\", col(\"nbPortes\").cast(DoubleType()))\n",
    "immatriculation_df = immatriculation_df.withColumn(\"prix\", col(\"prix\").cast(DoubleType()))"
   ]
  },
  {
   "cell_type": "code",
   "execution_count": 6,
   "id": "dd660fa0-e23a-4569-bda5-a863c6ea90f1",
   "metadata": {},
   "outputs": [],
   "source": [
    "immatriculation_df = immatriculation_df.fillna({\n",
    "    \"longueur\": 0.0,\n",
    "    \"puissance\": 0.0,\n",
    "    \"nbPortes\": 0.0,\n",
    "    \"prix\": 0.0\n",
    "})"
   ]
  },
  {
   "cell_type": "code",
   "execution_count": 7,
   "id": "43d8a7f0-9597-41b8-b6ef-9320c5b3ec9b",
   "metadata": {},
   "outputs": [],
   "source": [
    "features_df = immatriculation_df.select(\"immatriculation\", \"puissance\", \"longueur\", \"nbPortes\", \"couleur\", \"occasion\", \"prix\")\n"
   ]
  },
  {
   "cell_type": "code",
   "execution_count": 8,
   "id": "83fa60e0-b5ea-424c-916f-0d0d4ba299c5",
   "metadata": {},
   "outputs": [],
   "source": [
    "assembler = VectorAssembler(inputCols=[\"puissance\", \"longueur\", \"nbPortes\", \"prix\"], outputCol=\"features\", handleInvalid=\"skip\")\n",
    "assembled_df = assembler.transform(features_df)"
   ]
  },
  {
   "cell_type": "code",
   "execution_count": 9,
   "id": "96d45982-4098-4237-b0d3-130333d10e9c",
   "metadata": {},
   "outputs": [],
   "source": [
    "# Standardiser les caractéristiques pour les ramener à la même échelle\n",
    "scaler = StandardScaler(inputCol=\"features\", outputCol=\"scaled_features\", withMean=True, withStd=True)\n",
    "scaler_model = scaler.fit(assembled_df)\n",
    "scaled_df = scaler_model.transform(assembled_df)"
   ]
  },
  {
   "cell_type": "code",
   "execution_count": null,
   "id": "be874084-0833-4a23-9707-515f490b7cd0",
   "metadata": {},
   "outputs": [],
   "source": [
    "k = 10\n",
    "kmeans = KMeans(featuresCol=\"scaled_features\", predictionCol=\"category\", k=k)\n",
    "model = kmeans.fit(scaled_df)"
   ]
  },
  {
   "cell_type": "code",
   "execution_count": null,
   "id": "6277e757-bf0b-4691-b83b-ec66a66ec4fd",
   "metadata": {},
   "outputs": [],
   "source": [
    "# Faire des prédictions\n",
    "clustered_df = model.transform(scaled_df)"
   ]
  },
  {
   "cell_type": "code",
   "execution_count": null,
   "id": "ae0a5be5-0e06-4e8f-b4ed-c220fd38d053",
   "metadata": {},
   "outputs": [],
   "source": [
    "result_df = clustered_df.select(\"immatriculation\", \"puissance\", \"longueur\", \"nbPortes\", \"couleur\", \"occasion\", \"prix\", \"category\")\n",
    "result_df.show(10)"
   ]
  },
  {
   "cell_type": "code",
   "execution_count": null,
   "id": "eaa12a90-248d-48f9-9c55-68ab19043e67",
   "metadata": {},
   "outputs": [],
   "source": [
    "category_counts = result_df.groupBy(\"category\").count().orderBy(\"category\").collect()\n",
    "categories = [row[\"category\"] for row in category_counts]\n",
    "counts = [row[\"count\"] for row in category_counts]\n",
    "\n",
    "plt.figure(figsize=(10, 6))\n",
    "sns.barplot(x=categories, y=counts)\n",
    "plt.xlabel(\"Catégorie\")\n",
    "plt.ylabel(\"Nombre de véhicules\")\n",
    "plt.title(\"Distribution des véhicules par catégorie\")\n",
    "plt.show()"
   ]
  },
  {
   "cell_type": "code",
   "execution_count": null,
   "id": "fafa62b9-f228-42ed-bf57-ae3ab10d7e42",
   "metadata": {},
   "outputs": [],
   "source": [
    "cluster_summary = result_df.groupBy(\"category\").agg(\n",
    "    F.avg(\"puissance\").alias(\"moy_puissance\"),\n",
    "    F.avg(\"longueur\").alias(\"moy_longueur\"),\n",
    "    F.avg(\"nbPortes\").alias(\"moy_nbPortes\"),\n",
    "    F.avg(\"prix\").alias(\"moy_prix\")\n",
    ")\n",
    "cluster_summary.show()\n"
   ]
  },
  {
   "cell_type": "code",
   "execution_count": null,
   "id": "32f5c68e-4de8-494d-94ef-8f59921bebd9",
   "metadata": {},
   "outputs": [],
   "source": [
    "client_immatriculation_df = spark.sql(\"SELECT * FROM client_immatriculation_merged\")\n"
   ]
  },
  {
   "cell_type": "code",
   "execution_count": null,
   "id": "8c281f31-3866-40b8-9e31-d991a99080dc",
   "metadata": {},
   "outputs": [],
   "source": [
    "# Convertir les colonnes nécessaires en type numérique\n",
    "client_immatriculation_df = client_immatriculation_df.withColumn(\"puissance\", col(\"puissance\").cast(DoubleType()))\n",
    "client_immatriculation_df = client_immatriculation_df.withColumn(\"longueur\", col(\"longueur\").cast(DoubleType()))\n",
    "client_immatriculation_df = client_immatriculation_df.withColumn(\"nbportes\", col(\"nbportes\").cast(DoubleType()))\n",
    "client_immatriculation_df = client_immatriculation_df.withColumn(\"prix\", col(\"prix\").cast(DoubleType()))\n",
    "\n",
    "# Remplacer les valeurs nulles par une valeur par défaut\n",
    "client_immatriculation_df = client_immatriculation_df.fillna({\n",
    "    \"puissance\": 0.0,\n",
    "    \"longueur\": 0.0,\n",
    "    \"nbportes\": 0.0,\n",
    "    \"prix\": 0.0\n",
    "})"
   ]
  },
  {
   "cell_type": "code",
   "execution_count": null,
   "id": "23b65766-4dd3-4610-9184-15415a8bbf6c",
   "metadata": {},
   "outputs": [],
   "source": [
    "# Assembler les caractéristiques dans un vecteur de caractéristiques\n",
    "client_assembler = VectorAssembler(inputCols=[\"puissance\", \"longueur\", \"nbportes\", \"prix\"], outputCol=\"features\", handleInvalid=\"skip\")\n",
    "client_assembled_df = client_assembler.transform(client_immatriculation_df)\n",
    "\n",
    "# Standardiser les caractéristiques\n",
    "client_scaled_df = scaler_model.transform(client_assembled_df)"
   ]
  },
  {
   "cell_type": "code",
   "execution_count": null,
   "id": "0da28bd4-3c12-4ea8-a9b3-dc7567b68b5c",
   "metadata": {},
   "outputs": [],
   "source": [
    "# Faire des prédictions pour les nouvelles données\n",
    "client_clustered_df = model.transform(client_scaled_df)\n"
   ]
  },
  {
   "cell_type": "code",
   "execution_count": null,
   "id": "c2d19a98-4e4e-4efb-890d-90e7e722a67d",
   "metadata": {},
   "outputs": [],
   "source": [
    "# Supprimer la colonne 'scaled_features' car elle n'est plus nécessaire\n",
    "drop_columns = ['scaled_features']\n",
    "client_scaled_df = client_scaled_df.drop(*drop_columns)"
   ]
  },
  {
   "cell_type": "code",
   "execution_count": null,
   "id": "08747181-66b2-4297-844b-cc6b313f70bb",
   "metadata": {},
   "outputs": [],
   "source": [
    "client_labeled_df = client_clustered_df\n",
    "client_labeled_df.select(\"marque\", \"modele\", \"puissance\", \"category\").show(10)"
   ]
  },
  {
   "cell_type": "code",
   "execution_count": null,
   "id": "24a5e8cc-c6f1-4abb-9852-d78df7ec126d",
   "metadata": {},
   "outputs": [],
   "source": [
    "client_category_counts = client_labeled_df.groupBy(\"category\").count().orderBy(\"category\").collect()\n",
    "client_categories = [row[\"category\"] for row in client_category_counts]\n",
    "client_counts = [row[\"count\"] for row in client_category_counts]"
   ]
  },
  {
   "cell_type": "code",
   "execution_count": null,
   "id": "b7f373d7-ec16-4c4b-8102-476a11ae124f",
   "metadata": {},
   "outputs": [],
   "source": [
    "# Tracer la distribution des catégories dans 'client_labeled_df'\n",
    "plt.figure(figsize=(10, 6))\n",
    "sns.barplot(x=client_categories, y=client_counts)\n",
    "plt.xlabel(\"Catégorie\")\n",
    "plt.ylabel(\"Nombre de clients\")\n",
    "plt.title(\"Distribution des clients par catégorie\")\n",
    "plt.show()\n",
    "client_labeled_df.select(\"marque\", \"modele\", \"puissance\", \"category\").show(10)"
   ]
  },
  {
   "cell_type": "code",
   "execution_count": null,
   "id": "2aae4e54-9238-4d0c-aa94-48249b917883",
   "metadata": {},
   "outputs": [],
   "source": [
    "client_labeled_df.write.mode(\"overwrite\").saveAsTable(\"client_immatriculation_with_labels\")"
   ]
  },
  {
   "cell_type": "code",
   "execution_count": null,
   "id": "b2bd6ec5-2249-431c-a40d-09d0c74944d8",
   "metadata": {},
   "outputs": [],
   "source": [
    "numerical_columns = [\"age\", \"taux\", \"nbenfantacharge\", \"puissance\", \"prix\", \"category\"]\n",
    "numerical_df = client_labeled_df.select(numerical_columns)\n",
    "\n",
    "numerical_df_pandas = numerical_df.toPandas()\n",
    "\n",
    "# Calculer la matrice de corrélation\n",
    "corr_matrix = numerical_df_pandas.corr()\n",
    "plt.figure(figsize=(10, 8))\n",
    "sns.heatmap(corr_matrix, annot=True, cmap='coolwarm', linewidths=0.5)\n",
    "plt.title(\"Matrice de Corrélation entre les Caractéristiques des Clients et des Véhicules\")\n",
    "plt.tight_layout()\n",
    "plt.show()"
   ]
  }
 ],
 "metadata": {
  "kernelspec": {
   "display_name": "Python 3 (ipykernel)",
   "language": "python",
   "name": "python3"
  },
  "language_info": {
   "codemirror_mode": {
    "name": "ipython",
    "version": 3
   },
   "file_extension": ".py",
   "mimetype": "text/x-python",
   "name": "python",
   "nbconvert_exporter": "python",
   "pygments_lexer": "ipython3",
   "version": "3.11.6"
  }
 },
 "nbformat": 4,
 "nbformat_minor": 5
}
