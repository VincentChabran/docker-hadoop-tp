{
 "cells": [
  {
   "cell_type": "code",
   "execution_count": null,
   "id": "3d8101bf-9ac3-487a-b0cc-d3b7505bcee6",
   "metadata": {},
   "outputs": [],
   "source": [
    "from pyspark.sql import SparkSession\n",
    "from pyspark.sql.functions import col, when\n",
    "from pyspark.ml.feature import VectorAssembler, StandardScaler\n",
    "from pyspark.ml.clustering import KMeans\n",
    "from pyspark.sql.functions import when\n",
    "\n",
    "\n",
    "\n"
   ]
  },
  {
   "cell_type": "code",
   "execution_count": null,
   "id": "5e55adf7-4206-4964-a145-bba6b2b607f8",
   "metadata": {},
   "outputs": [],
   "source": [
    "\n",
    "# Initialisation de la session Spark avec Hive\n",
    "spark = SparkSession.builder \\\n",
    "    .appName(\"Analyse Immatriculations\") \\\n",
    "    .config(\"spark.hadoop.hive.metastore.uris\", \"thrift://hive-metastore:9083\") \\\n",
    "    .enableHiveSupport() \\\n",
    "    .getOrCreate()\n",
    "\n",
    "# Utilisation de la base Hive\n",
    "spark.sql(\"USE concessionnaire\")\n",
    "\n",
    "# Chargement des données d'immatriculations\n",
    "immatriculation_df = spark.sql(\"SELECT * FROM immatriculations_data\")\n",
    "\n",
    "# Afficher un aperçu des données\n",
    "immatriculation_df.show(10)\n"
   ]
  },
  {
   "cell_type": "code",
   "execution_count": null,
   "id": "aeadd896-84b8-4a94-8c36-5c20ec1c279f",
   "metadata": {},
   "outputs": [],
   "source": [
    "\n",
    "# Transformer 'Longueur' en données numériques\n",
    "features_df = immatriculation_df.select(\n",
    "    col(\"Puissance\").cast(\"double\"),\n",
    "    col(\"Prix\").cast(\"double\"),\n",
    "    col(\"NbPlaces\").cast(\"double\"),\n",
    "    when(col(\"Longueur\") == \"courte\", 1)\n",
    "      .when(col(\"Longueur\") == \"moyenne\", 2)\n",
    "      .when(col(\"Longueur\") == \"longue\", 3)\n",
    "      .when(col(\"Longueur\") == \"très longue\", 4).alias(\"Longueur_numeric\")\n",
    ")\n",
    "\n",
    "# Afficher un aperçu des données transformées\n",
    "features_df.show(10)\n"
   ]
  },
  {
   "cell_type": "code",
   "execution_count": null,
   "id": "4f7a610f-8ca8-4f61-8c26-71ba6d857676",
   "metadata": {},
   "outputs": [],
   "source": [
    "\n",
    "# Assembleur pour créer une colonne 'features' pour le clustering\n",
    "assembler = VectorAssembler(inputCols=[\"Puissance\", \"Prix\", \"NbPlaces\", \"Longueur_numeric\"], outputCol=\"features\")\n",
    "assembled_df = assembler.transform(features_df)\n",
    "\n",
    "# Normalisation des données\n",
    "scaler = StandardScaler(inputCol=\"features\", outputCol=\"scaled_features\")\n",
    "scaler_model = scaler.fit(assembled_df)\n",
    "scaled_df = scaler_model.transform(assembled_df)\n",
    "\n",
    "# Afficher un aperçu des données normalisées\n",
    "scaled_df.select(\"features\", \"scaled_features\").show(10, truncate=False)\n"
   ]
  },
  {
   "cell_type": "code",
   "execution_count": null,
   "id": "467eedc4-b50a-4488-9de3-b386f79bd94f",
   "metadata": {},
   "outputs": [],
   "source": [
    "\n",
    "# Appliquer k-means avec 4 clusters\n",
    "kmeans = KMeans(k=4, seed=42, featuresCol=\"scaled_features\", predictionCol=\"Cluster\")\n",
    "kmeans_model = kmeans.fit(scaled_df)\n",
    "clustered_df = kmeans_model.transform(scaled_df)\n",
    "\n",
    "# Afficher un aperçu des données avec les clusters\n",
    "clustered_df.select(\"Puissance\", \"Prix\", \"NbPlaces\", \"Longueur_numeric\", \"Cluster\").show(10)\n"
   ]
  },
  {
   "cell_type": "code",
   "execution_count": null,
   "id": "2e40e147-cdcd-4169-a0e4-4d8447c83b9a",
   "metadata": {},
   "outputs": [],
   "source": [
    "\n",
    "# Mapper les clusters à des catégories\n",
    "clustered_df = clustered_df.withColumn(\n",
    "    \"Catégorie\",\n",
    "    when(col(\"Cluster\") == 0, \"Citadine\")\n",
    "    .when(col(\"Cluster\") == 1, \"Familiale\")\n",
    "    .when(col(\"Cluster\") == 2, \"Sportive\")\n",
    "    .when(col(\"Cluster\") == 3, \"Luxe\")\n",
    ")\n",
    "\n",
    "# Afficher les données avec les catégories\n",
    "clustered_df.select(\"Puissance\", \"Prix\", \"NbPlaces\", \"Longueur_numeric\", \"Cluster\", \"Catégorie\").show(10)\n"
   ]
  },
  {
   "cell_type": "code",
   "execution_count": null,
   "id": "7d678f83-f9d8-4b7e-b55e-fbeeeee29ed5",
   "metadata": {},
   "outputs": [],
   "source": [
    "# Sauvegarder dans une table Hive\n",
    "\n",
    "\n",
    "print(\"Catégorisation sauvegardée dans la table 'vehicules_categorises'.\")\n"
   ]
  }
 ],
 "metadata": {
  "kernelspec": {
   "display_name": "Python 3 (ipykernel)",
   "language": "python",
   "name": "python3"
  },
  "language_info": {
   "codemirror_mode": {
    "name": "ipython",
    "version": 3
   },
   "file_extension": ".py",
   "mimetype": "text/x-python",
   "name": "python",
   "nbconvert_exporter": "python",
   "pygments_lexer": "ipython3",
   "version": "3.11.6"
  }
 },
 "nbformat": 4,
 "nbformat_minor": 5
}
