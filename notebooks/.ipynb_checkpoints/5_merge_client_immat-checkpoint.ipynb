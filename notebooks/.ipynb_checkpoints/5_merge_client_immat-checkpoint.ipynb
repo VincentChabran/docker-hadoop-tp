{
 "cells": [
  {
   "cell_type": "code",
   "execution_count": null,
   "id": "2ebf395b-31a2-4b62-8aaf-017fed658f59",
   "metadata": {},
   "outputs": [],
   "source": [
    "from pyspark.sql import SparkSession\n",
    "from pyspark.sql.functions import regexp_replace\n",
    "from pyspark.sql.functions import regexp_extract, when, trim, col"
   ]
  },
  {
   "cell_type": "markdown",
   "id": "3850a755-7769-4fa8-bd99-c3d53dd16f4f",
   "metadata": {},
   "source": [
    "# Initialisation de la session Spark"
   ]
  },
  {
   "cell_type": "code",
   "execution_count": null,
   "id": "a30525cc-9f65-484e-8324-3cbba53db0de",
   "metadata": {},
   "outputs": [],
   "source": [
    "spark = SparkSession.builder \\\n",
    "    .appName(\"DataMergingWithHive\") \\\n",
    "    .config(\"spark.hadoop.hive.metastore.uris\", \"thrift://hive-metastore:9083\") \\\n",
    "    .enableHiveSupport() \\\n",
    "    .getOrCreate()"
   ]
  },
  {
   "cell_type": "markdown",
   "id": "f56109d4-f7ad-4906-a1f2-89cbd637e4e1",
   "metadata": {},
   "source": [
    "# Utilisation de la base de données Hive, et charge les données des tables traitées"
   ]
  },
  {
   "cell_type": "code",
   "execution_count": null,
   "id": "72ca1caf-31e9-4a14-aef8-9f5742d90402",
   "metadata": {},
   "outputs": [],
   "source": [
    "spark.sql(\"USE concessionnaire\")\n",
    "\n",
    "clients_df = spark.sql(\"SELECT * FROM client_processed\")\n",
    "immatriculations_df = spark.sql(\"SELECT * FROM immatriculations_processed\")"
   ]
  },
  {
   "cell_type": "markdown",
   "id": "81d89168-028a-46ed-a2d0-473a3ecda757",
   "metadata": {},
   "source": [
    "# Fusionner les tables sur la colonne 'Immatriculation'"
   ]
  },
  {
   "cell_type": "code",
   "execution_count": null,
   "id": "060da809-0f5e-41b9-9416-5a4393096ae5",
   "metadata": {},
   "outputs": [],
   "source": [
    "merged_df = clients_df.join(immatriculations_df, \"Immatriculation\", \"inner\")"
   ]
  },
  {
   "cell_type": "markdown",
   "id": "1397a9a7-b8f8-4df2-bcc9-06a464b5694d",
   "metadata": {},
   "source": [
    "# Enregistrer le DataFrame fusionné sous forme de table Hive"
   ]
  },
  {
   "cell_type": "code",
   "execution_count": null,
   "id": "f5286d67-cc4c-45af-b1b2-e3f00e4e6477",
   "metadata": {},
   "outputs": [],
   "source": [
    "merged_df.createOrReplaceTempView(\"merged_view\")\n",
    "spark.sql(\"DROP TABLE IF EXISTS client_immatriculation_merged\")\n",
    "spark.sql(\"CREATE TABLE client_immatriculation_merged AS SELECT * FROM merged_view\")"
   ]
  },
  {
   "cell_type": "code",
   "execution_count": null,
   "id": "b264e2f6-5cac-4849-a845-2344d7ee8d1e",
   "metadata": {},
   "outputs": [],
   "source": []
  }
 ],
 "metadata": {
  "kernelspec": {
   "display_name": "Python 3 (ipykernel)",
   "language": "python",
   "name": "python3"
  },
  "language_info": {
   "codemirror_mode": {
    "name": "ipython",
    "version": 3
   },
   "file_extension": ".py",
   "mimetype": "text/x-python",
   "name": "python",
   "nbconvert_exporter": "python",
   "pygments_lexer": "ipython3",
   "version": "3.11.6"
  }
 },
 "nbformat": 4,
 "nbformat_minor": 5
}
