{
 "cells": [
  {
   "cell_type": "code",
   "execution_count": 54,
   "id": "73f7de46-49a6-435d-b878-4408672b43a0",
   "metadata": {},
   "outputs": [],
   "source": [
    "from pyspark.sql import SparkSession\n",
    "from pyspark.ml.feature import VectorAssembler, StandardScaler\n",
    "from pyspark.ml.clustering import KMeans\n",
    "from pyspark.sql.types import DoubleType\n",
    "from pyspark.sql.functions import col\n",
    "from pyspark.sql.functions import col, avg, udf, when\n",
    "import matplotlib.pyplot as plt\n",
    "import seaborn as sns\n",
    "from pyspark.sql import functions as F\n",
    "from pyspark.sql.types import StringType\n",
    "from pyspark.sql.functions import udf\n",
    "from pyspark.sql.types import DoubleType\n"
   ]
  },
  {
   "cell_type": "code",
   "execution_count": 55,
   "id": "ace4f96f-7935-4c0e-9f0b-a9ecfe7b4b31",
   "metadata": {},
   "outputs": [],
   "source": [
    "spark = SparkSession.builder \\\n",
    "    .appName(\"categorie immat\") \\\n",
    "    .config(\"spark.hadoop.hive.metastore.uris\", \"thrift://hive-metastore:9083\") \\\n",
    "    .enableHiveSupport() \\\n",
    "    .getOrCreate()"
   ]
  },
  {
   "cell_type": "code",
   "execution_count": 56,
   "id": "b82ac26a-e03f-4029-b342-b9d1a5d384a7",
   "metadata": {},
   "outputs": [],
   "source": [
    "spark.sql(\"USE concessionnaire\")\n",
    "immatriculation_df = spark.sql(\"SELECT * FROM client_immatriculation_merged\")"
   ]
  },
  {
   "cell_type": "code",
   "execution_count": 57,
   "id": "700559da-05b1-4589-bead-aff4b82b3e26",
   "metadata": {},
   "outputs": [
    {
     "name": "stdout",
     "output_type": "stream",
     "text": [
      "+---------------+---+-----+----+-------------------+---------------+---------------+--------+---------+-----------+--------+--------+-------+--------+-------+------+\n",
      "|immatriculation|age| sexe|taux|situationfamilliale|nbenfantacharge|deuxiemevoiture|  marque|puissance|   longueur|nbplaces|nbportes|couleur|occasion|   prix|modele|\n",
      "+---------------+---+-----+----+-------------------+---------------+---------------+--------+---------+-----------+--------+--------+-------+--------+-------+------+\n",
      "|        0 UI 76| 61|Homme| 419|          En Couple|              4|           true|Mercedes|      306|très longue|       5|       5|  rouge|    true|70910.0|  S500|\n",
      "|       10 IM 37| 20|Homme|1245|          En Couple|              2|          false|  Jaguar|      197|     longue|       5|       5|   bleu|   false|37100.0|X-Type|\n",
      "|       10 LB 49| 21|Homme| 502|          En Couple|              2|          false|   Volvo|      272|très longue|       5|       5|  rouge|   false|50500.0|   S80|\n",
      "|       10 MF 39| 22|Homme|1072|        Célibataire|              0|          false|    Audi|       75|     courte|       5|       5|   noir|   false|18310.0|    A2|\n",
      "|       10 VE 79| 41|Homme| 507|          En Couple|              1|          false|    Ford|      125|     longue|       5|       5|   bleu|   false|23900.0|Mondeo|\n",
      "|      100 JQ 82| 50|Homme|1213|          En Couple|              1|          false|     BMW|      507|très longue|       5|       5|   noir|   false|94800.0|    M5|\n",
      "|      100 MW 36| 36|Homme| 467|          En Couple|              3|          false| Renault|      245|très longue|       5|       5|  blanc|   false|49200.0|   Vel|\n",
      "|     1000 HF 96| 32|Homme| 245|          En Couple|              0|          false|    Ford|      125|     longue|       5|       5|  blanc|    true|16730.0|Mondeo|\n",
      "|     1001 NX 52| 26|Homme| 459|        Célibataire|              1|          false|   Volvo|      272|très longue|       5|       5|  blanc|   false|50500.0|   S80|\n",
      "|     1001 OW 93| 30|Homme| 451|          En Couple|              0|           true| Peugeot|       75|     courte|       5|       5|   noir|   false|13750.0|  1007|\n",
      "|     1001 QQ 92| 38|Homme| 774|        Célibataire|              0|          false|    Audi|       75|     courte|       5|       5|   gris|   false|18310.0|    A2|\n",
      "|     1001 YO 23| 59|Homme| 525|        Célibataire|              0|          false|    Audi|       75|     courte|       5|       5|  blanc|    true|12817.0|    A2|\n",
      "|     1004 CI 23| 53|Homme|1121|        Célibataire|              0|          false|    Audi|       75|     courte|       5|       5|   bleu|   false|18310.0|    A2|\n",
      "|     1004 OX 22| 41|Femme|1048|        Célibataire|              0|          false|    Audi|       75|     courte|       5|       5|  blanc|   false|18310.0|    A2|\n",
      "|     1005 VI 40| 25|Homme| 458|        Célibataire|              0|          false|     BMW|      150|    moyenne|       5|       5|  blanc|    true|25060.0|  120i|\n",
      "|     1006 GM 33| 59|Homme| 519|          En Couple|              1|          false|   Volvo|      272|très longue|       5|       5|  blanc|   false|50500.0|   S80|\n",
      "|     1006 JH 57| 27|Femme| 522|          En Couple|              1|          false|  Jaguar|      197|     longue|       5|       5|  blanc|    true|25970.0|X-Type|\n",
      "|     1006 JR 31| 41|Homme| 454|          En Couple|              4|          false|     BMW|      507|très longue|       5|       5|   bleu|    true|66360.0|    M5|\n",
      "|     1006 LK 71| 49|Homme| 569|          En Couple|              0|          false| Renault|      245|très longue|       5|       5|   gris|   false|49200.0|   Vel|\n",
      "|     1006 QA 49| 52|Homme| 495|          En Couple|              1|          false|    Fiat|      147|     longue|       5|       5|  blanc|   false|24780.0| Croma|\n",
      "+---------------+---+-----+----+-------------------+---------------+---------------+--------+---------+-----------+--------+--------+-------+--------+-------+------+\n",
      "only showing top 20 rows\n",
      "\n"
     ]
    }
   ],
   "source": [
    "immatriculation_df.show(20)"
   ]
  },
  {
   "cell_type": "code",
   "execution_count": 58,
   "id": "0980a8c3-accd-455f-9658-b03fcc8dfc0d",
   "metadata": {},
   "outputs": [],
   "source": [
    "length_mapping = {\n",
    "    \"courte\": 1.0,\n",
    "    \"moyenne\": 2.0,\n",
    "    \"longue\": 3.0,\n",
    "    \"très longue\": 4.0\n",
    "}\n",
    "\n",
    "situation_mapping = {\n",
    "    \"Célibataire\": 0.0,\n",
    "    \"En Couple\": 1.0\n",
    "}\n",
    "\n",
    "\n",
    "map_length = udf(lambda x: length_mapping.get(x, 0.0), DoubleType())\n",
    "map_situation = udf(lambda x: situation_mapping.get(x, 0.0), DoubleType())\n",
    "\n",
    "immatriculation_df = immatriculation_df.withColumn(\"longueur\", map_length(col(\"longueur\")))\n",
    "immatriculation_df = immatriculation_df.withColumn(\"situationfamilliale\", map_situation(col(\"situationfamilliale\")))\n"
   ]
  },
  {
   "cell_type": "code",
   "execution_count": 59,
   "id": "d38cab8f-140d-4d53-a60c-20d5797e3ce4",
   "metadata": {},
   "outputs": [],
   "source": [
    "immatriculation_df = immatriculation_df.withColumn(\"puissance\", col(\"puissance\").cast(DoubleType()))\n",
    "immatriculation_df = immatriculation_df.withColumn(\"nbPortes\", col(\"nbPortes\").cast(DoubleType()))\n",
    "immatriculation_df = immatriculation_df.withColumn(\"prix\", col(\"prix\").cast(DoubleType()))\n",
    "immatriculation_df = immatriculation_df.withColumn(\"age\", col(\"age\").cast(DoubleType()))\n",
    "immatriculation_df = immatriculation_df.withColumn(\"nbenfantacharge\", col(\"nbenfantacharge\").cast(DoubleType()))\n",
    "immatriculation_df = immatriculation_df.withColumn(\"deuxiemevoiture\",when(col(\"deuxiemevoiture\") == \"true\", 1).when(col(\"deuxiemevoiture\") == \"false\", 0).otherwise(None))"
   ]
  },
  {
   "cell_type": "code",
   "execution_count": 60,
   "id": "76c97298-f20e-4517-bc58-8bd884ac612c",
   "metadata": {},
   "outputs": [
    {
     "name": "stdout",
     "output_type": "stream",
     "text": [
      "+---------------+----+-----+----+-------------------+---------------+---------------+--------+---------+--------+--------+--------+-------+--------+-------+------+\n",
      "|immatriculation| age| sexe|taux|situationfamilliale|nbenfantacharge|deuxiemevoiture|  marque|puissance|longueur|nbplaces|nbPortes|couleur|occasion|   prix|modele|\n",
      "+---------------+----+-----+----+-------------------+---------------+---------------+--------+---------+--------+--------+--------+-------+--------+-------+------+\n",
      "|        0 UI 76|61.0|Homme| 419|                1.0|            4.0|              1|Mercedes|    306.0|     4.0|       5|     5.0|  rouge|    true|70910.0|  S500|\n",
      "|       10 IM 37|20.0|Homme|1245|                1.0|            2.0|              0|  Jaguar|    197.0|     3.0|       5|     5.0|   bleu|   false|37100.0|X-Type|\n",
      "|       10 LB 49|21.0|Homme| 502|                1.0|            2.0|              0|   Volvo|    272.0|     4.0|       5|     5.0|  rouge|   false|50500.0|   S80|\n",
      "|       10 MF 39|22.0|Homme|1072|                0.0|            0.0|              0|    Audi|     75.0|     1.0|       5|     5.0|   noir|   false|18310.0|    A2|\n",
      "|       10 VE 79|41.0|Homme| 507|                1.0|            1.0|              0|    Ford|    125.0|     3.0|       5|     5.0|   bleu|   false|23900.0|Mondeo|\n",
      "|      100 JQ 82|50.0|Homme|1213|                1.0|            1.0|              0|     BMW|    507.0|     4.0|       5|     5.0|   noir|   false|94800.0|    M5|\n",
      "|      100 MW 36|36.0|Homme| 467|                1.0|            3.0|              0| Renault|    245.0|     4.0|       5|     5.0|  blanc|   false|49200.0|   Vel|\n",
      "|     1000 HF 96|32.0|Homme| 245|                1.0|            0.0|              0|    Ford|    125.0|     3.0|       5|     5.0|  blanc|    true|16730.0|Mondeo|\n",
      "|     1001 NX 52|26.0|Homme| 459|                0.0|            1.0|              0|   Volvo|    272.0|     4.0|       5|     5.0|  blanc|   false|50500.0|   S80|\n",
      "|     1001 OW 93|30.0|Homme| 451|                1.0|            0.0|              1| Peugeot|     75.0|     1.0|       5|     5.0|   noir|   false|13750.0|  1007|\n",
      "+---------------+----+-----+----+-------------------+---------------+---------------+--------+---------+--------+--------+--------+-------+--------+-------+------+\n",
      "only showing top 10 rows\n",
      "\n"
     ]
    }
   ],
   "source": [
    "immatriculation_df.show(10)\n"
   ]
  },
  {
   "cell_type": "code",
   "execution_count": 61,
   "id": "43d8a7f0-9597-41b8-b6ef-9320c5b3ec9b",
   "metadata": {},
   "outputs": [],
   "source": [
    "features_df = immatriculation_df.select(\"immatriculation\", \"puissance\", \"longueur\", \"nbPortes\", \"prix\", \"age\", \"nbenfantacharge\", \"situationfamilliale\", \"deuxiemevoiture\")"
   ]
  },
  {
   "cell_type": "code",
   "execution_count": 62,
   "id": "83fa60e0-b5ea-424c-916f-0d0d4ba299c5",
   "metadata": {},
   "outputs": [],
   "source": [
    "assembler = VectorAssembler(inputCols=[\"puissance\", \"longueur\", \"nbPortes\", \"prix\", \"age\", \"nbenfantacharge\", \"situationfamilliale\", \"deuxiemevoiture\"], outputCol=\"features\", handleInvalid=\"skip\")\n",
    "assembled_df = assembler.transform(features_df)"
   ]
  },
  {
   "cell_type": "code",
   "execution_count": 63,
   "id": "55f1fa40-3e8e-47e2-a293-a2f5d4198905",
   "metadata": {},
   "outputs": [
    {
     "name": "stdout",
     "output_type": "stream",
     "text": [
      "+---------+--------+--------+-------+----+---------------+-------------------+---------------+\n",
      "|puissance|longueur|nbPortes|   prix| age|nbenfantacharge|situationfamilliale|deuxiemevoiture|\n",
      "+---------+--------+--------+-------+----+---------------+-------------------+---------------+\n",
      "|    306.0|     4.0|     5.0|70910.0|61.0|            4.0|                1.0|              1|\n",
      "|    197.0|     3.0|     5.0|37100.0|20.0|            2.0|                1.0|              0|\n",
      "|    272.0|     4.0|     5.0|50500.0|21.0|            2.0|                1.0|              0|\n",
      "|     75.0|     1.0|     5.0|18310.0|22.0|            0.0|                0.0|              0|\n",
      "|    125.0|     3.0|     5.0|23900.0|41.0|            1.0|                1.0|              0|\n",
      "|    507.0|     4.0|     5.0|94800.0|50.0|            1.0|                1.0|              0|\n",
      "|    245.0|     4.0|     5.0|49200.0|36.0|            3.0|                1.0|              0|\n",
      "|    125.0|     3.0|     5.0|16730.0|32.0|            0.0|                1.0|              0|\n",
      "|    272.0|     4.0|     5.0|50500.0|26.0|            1.0|                0.0|              0|\n",
      "|     75.0|     1.0|     5.0|13750.0|30.0|            0.0|                1.0|              1|\n",
      "+---------+--------+--------+-------+----+---------------+-------------------+---------------+\n",
      "only showing top 10 rows\n",
      "\n"
     ]
    }
   ],
   "source": [
    "features_df.select(\"puissance\", \"longueur\", \"nbPortes\", \"prix\", \"age\", \"nbenfantacharge\", \"situationfamilliale\", \"deuxiemevoiture\").show(10)\n"
   ]
  },
  {
   "cell_type": "code",
   "execution_count": 13,
   "id": "96d45982-4098-4237-b0d3-130333d10e9c",
   "metadata": {},
   "outputs": [],
   "source": [
    "# Standardiser les caractéristiques pour les ramener à la même échelle\n",
    "scaler = StandardScaler(inputCol=\"features\", outputCol=\"scaled_features\", withMean=True, withStd=True)\n",
    "scaler_model = scaler.fit(assembled_df)\n",
    "scaled_df = scaler_model.transform(assembled_df)"
   ]
  },
  {
   "cell_type": "code",
   "execution_count": 14,
   "id": "be874084-0833-4a23-9707-515f490b7cd0",
   "metadata": {},
   "outputs": [],
   "source": [
    "k = 10\n",
    "kmeans = KMeans(featuresCol=\"scaled_features\", predictionCol=\"category\", k=k)\n",
    "model = kmeans.fit(scaled_df)"
   ]
  },
  {
   "cell_type": "code",
   "execution_count": 15,
   "id": "6277e757-bf0b-4691-b83b-ec66a66ec4fd",
   "metadata": {},
   "outputs": [],
   "source": [
    "clustered_df = model.transform(scaled_df)"
   ]
  },
  {
   "cell_type": "code",
   "execution_count": 24,
   "id": "ae0a5be5-0e06-4e8f-b4ed-c220fd38d053",
   "metadata": {},
   "outputs": [
    {
     "name": "stdout",
     "output_type": "stream",
     "text": [
      "+----+--------+-------+--------+--------------------+\n",
      "| age|longueur|   prix|category|            features|\n",
      "+----+--------+-------+--------+--------------------+\n",
      "|61.0|     4.0|70910.0|       4|[306.0,4.0,5.0,70...|\n",
      "|20.0|     3.0|37100.0|       5|[197.0,3.0,5.0,37...|\n",
      "|21.0|     4.0|50500.0|       6|[272.0,4.0,5.0,50...|\n",
      "|22.0|     1.0|18310.0|       7|[75.0,1.0,5.0,183...|\n",
      "|41.0|     3.0|23900.0|       5|[125.0,3.0,5.0,23...|\n",
      "|50.0|     4.0|94800.0|       9|[507.0,4.0,5.0,94...|\n",
      "|36.0|     4.0|49200.0|       6|[245.0,4.0,5.0,49...|\n",
      "|32.0|     3.0|16730.0|       5|[125.0,3.0,5.0,16...|\n",
      "|26.0|     4.0|50500.0|       6|[272.0,4.0,5.0,50...|\n",
      "|30.0|     1.0|13750.0|       3|[75.0,1.0,5.0,137...|\n",
      "+----+--------+-------+--------+--------------------+\n",
      "only showing top 10 rows\n",
      "\n",
      "+---------------+---------+--------+--------+-------+----+---------------+-------------------+---------------+--------------------+--------------------+--------+\n",
      "|immatriculation|puissance|longueur|nbPortes|   prix| age|nbenfantacharge|situationfamilliale|deuxiemevoiture|            features|     scaled_features|category|\n",
      "+---------------+---------+--------+--------+-------+----+---------------+-------------------+---------------+--------------------+--------------------+--------+\n",
      "|        0 UI 76|    306.0|     4.0|     5.0|70910.0|61.0|            4.0|                1.0|              1|[306.0,4.0,5.0,70...|[0.77059321997906...|       4|\n",
      "|       10 IM 37|    197.0|     3.0|     5.0|37100.0|20.0|            2.0|                1.0|              0|[197.0,3.0,5.0,37...|[-0.0197580780203...|       5|\n",
      "|       10 LB 49|    272.0|     4.0|     5.0|50500.0|21.0|            2.0|                1.0|              0|[272.0,4.0,5.0,50...|[0.52406162243797...|       6|\n",
      "|       10 MF 39|     75.0|     1.0|     5.0|18310.0|22.0|            0.0|                0.0|              0|[75.0,1.0,5.0,183...|[-0.9043714574324...|       7|\n",
      "|       10 VE 79|    125.0|     3.0|     5.0|23900.0|41.0|            1.0|                1.0|              0|[125.0,3.0,5.0,23...|[-0.5418249904602...|       5|\n",
      "|      100 JQ 82|    507.0|     4.0|     5.0|94800.0|50.0|            1.0|                1.0|              0|[507.0,4.0,5.0,94...|[2.22803001720728...|       9|\n",
      "|      100 MW 36|    245.0|     4.0|     5.0|49200.0|36.0|            3.0|                1.0|              0|[245.0,4.0,5.0,49...|[0.32828653027298...|       6|\n",
      "|     1000 HF 96|    125.0|     3.0|     5.0|16730.0|32.0|            0.0|                1.0|              0|[125.0,3.0,5.0,16...|[-0.5418249904602...|       5|\n",
      "|     1001 NX 52|    272.0|     4.0|     5.0|50500.0|26.0|            1.0|                0.0|              0|[272.0,4.0,5.0,50...|[0.52406162243797...|       6|\n",
      "|     1001 OW 93|     75.0|     1.0|     5.0|13750.0|30.0|            0.0|                1.0|              1|[75.0,1.0,5.0,137...|[-0.9043714574324...|       3|\n",
      "+---------------+---------+--------+--------+-------+----+---------------+-------------------+---------------+--------------------+--------------------+--------+\n",
      "only showing top 10 rows\n",
      "\n"
     ]
    }
   ],
   "source": [
    "result_df = clustered_df.select(\"age\", \"longueur\", \"prix\", \"category\", \"features\")\n",
    "result_df.show(10)"
   ]
  },
  {
   "cell_type": "code",
   "execution_count": 25,
   "id": "d08001e5-a365-4335-825c-1831a39bbc81",
   "metadata": {},
   "outputs": [],
   "source": [
    "final_df = clustered_df.select(\n",
    "    \"immatriculation\", \n",
    "    \"puissance\", \n",
    "    \"longueur\", \n",
    "    \"nbPortes\", \n",
    "    \"prix\", \n",
    "    \"age\", \n",
    "    \"nbenfantacharge\", \n",
    "    \"situationfamilliale\", \n",
    "    \"deuxiemevoiture\", \n",
    "    \"category\"\n",
    ")\n",
    "\n",
    "# Save\n",
    "final_df.write.mode(\"overwrite\").saveAsTable(\"client_vehicules_clusters_cleaned\")"
   ]
  },
  {
   "cell_type": "markdown",
   "id": "d60f166a-cc73-4ef2-bd5c-2028fe826da2",
   "metadata": {},
   "source": [
    "# Analyse des clusters"
   ]
  },
  {
   "cell_type": "code",
   "execution_count": 20,
   "id": "8241829b-0fbb-4bea-a8f3-2f0dcda077f8",
   "metadata": {},
   "outputs": [
    {
     "name": "stdout",
     "output_type": "stream",
     "text": [
      "+--------+------------------+------------------+------------+------------------+------------------+--------------------+\n",
      "|category|     moy_puissance|      moy_longueur|moy_nbPortes|          moy_prix|           moy_age| moy_nbenfantacharge|\n",
      "+--------+------------------+------------------+------------+------------------+------------------+--------------------+\n",
      "|       1|58.765386204047914|               1.0|         3.0|10948.616274266831| 43.75051631557208|  0.9913258983890955|\n",
      "|       6|240.23120798533307| 3.909553880627419|         5.0| 42166.39600733347| 36.40649826848645|  3.1459564066001224|\n",
      "|       3| 76.18778105132579|               1.0|         5.0|14901.766940610947|44.406884788339276|  0.9979841835943557|\n",
      "|       5|173.24005075556582|3.1370784788710733|         5.0| 29699.57611412312| 42.32406659745453|  0.9171761448840696|\n",
      "|       9|             507.0|               4.0|         5.0| 84748.16921310607|  36.6975183255321|  2.4109334981895256|\n",
      "|       4|355.44885945548197|               4.0|         5.0| 65395.68555310277|43.609026244787835|   3.506254598969831|\n",
      "|       8|58.942690626517724|               1.0|         3.0|11024.356483729965| 44.27003399708597|7.285089849441476E-4|\n",
      "|       7| 106.5093325092707|1.5401730531520395|         5.0|18721.237639060568|30.314585908529047|  0.1161928306551298|\n",
      "|       2| 279.1532047089601| 3.896337475474166|         5.0|  70123.6674296926|  72.8973185088293|   2.358894702419882|\n",
      "|       0| 111.7325099536849| 1.685544811895669|         5.0| 19113.69911432518| 61.55675631754286| 0.21061184691638904|\n",
      "+--------+------------------+------------------+------------+------------------+------------------+--------------------+\n",
      "\n"
     ]
    }
   ],
   "source": [
    "from pyspark.sql import functions as F\n",
    "\n",
    "cluster_summary = clustered_df.groupBy(\"category\").agg(\n",
    "    F.avg(\"puissance\").alias(\"moy_puissance\"),\n",
    "    F.avg(\"longueur\").alias(\"moy_longueur\"),\n",
    "    F.avg(\"nbPortes\").alias(\"moy_nbPortes\"),\n",
    "    F.avg(\"prix\").alias(\"moy_prix\"),\n",
    "    F.avg(\"age\").alias(\"moy_age\"),\n",
    "    F.avg(\"nbenfantacharge\").alias(\"moy_nbenfantacharge\")\n",
    ")\n",
    "cluster_summary.show()\n"
   ]
  },
  {
   "cell_type": "code",
   "execution_count": 22,
   "id": "eaa12a90-248d-48f9-9c55-68ab19043e67",
   "metadata": {},
   "outputs": [
    {
     "data": {
      "image/png": "[encoded data removed]",
      "text/plain": [
       "<Figure size 1000x600 with 1 Axes>"
      ]
     },
     "metadata": {},
     "output_type": "display_data"
    }
   ],
   "source": [
    "category_counts = result_df.groupBy(\"category\").count().orderBy(\"category\").collect()\n",
    "categories = [row[\"category\"] for row in category_counts]\n",
    "counts = [row[\"count\"] for row in category_counts]\n",
    "\n",
    "plt.figure(figsize=(10, 6))\n",
    "sns.barplot(x=categories, y=counts)\n",
    "plt.xlabel(\"Catégorie\")\n",
    "plt.ylabel(\"Nombre de véhicules\")\n",
    "plt.title(\"Distribution des véhicules par catégorie\")\n",
    "plt.show()"
   ]
  },
  {
   "cell_type": "code",
   "execution_count": null,
   "id": "2aae4e54-9238-4d0c-aa94-48249b917883",
   "metadata": {},
   "outputs": [],
   "source": [
    "client_labeled_df.write.mode(\"overwrite\").saveAsTable(\"client_immatriculation_with_labels\")"
   ]
  }
 ],
 "metadata": {
  "kernelspec": {
   "display_name": "Python 3 (ipykernel)",
   "language": "python",
   "name": "python3"
  },
  "language_info": {
   "codemirror_mode": {
    "name": "ipython",
    "version": 3
   },
   "file_extension": ".py",
   "mimetype": "text/x-python",
   "name": "python",
   "nbconvert_exporter": "python",
   "pygments_lexer": "ipython3",
   "version": "3.11.6"
  }
 },
 "nbformat": 4,
 "nbformat_minor": 5
}
