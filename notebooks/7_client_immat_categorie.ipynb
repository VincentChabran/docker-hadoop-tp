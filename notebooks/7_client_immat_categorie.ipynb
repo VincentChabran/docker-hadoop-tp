{
 "cells": [
  {
   "cell_type": "code",
   "execution_count": 1,
   "id": "59a80022-05fc-4802-bd00-e553fe4a67f1",
   "metadata": {},
   "outputs": [],
   "source": [
    "from pyspark.sql import SparkSession\n",
    "from pyspark.sql.functions import col, when\n",
    "from pyspark.ml.feature import VectorAssembler, StandardScaler\n",
    "from pyspark.ml.clustering import KMeans\n",
    "from pyspark.sql.functions import when"
   ]
  },
  {
   "cell_type": "markdown",
   "id": "f3c236fc-a195-44d0-95fd-7eeef20cdc85",
   "metadata": {},
   "source": [
    "# Utilisation de la base de données Hive, et charge les données de la table"
   ]
  },
  {
   "cell_type": "code",
   "execution_count": 2,
   "id": "e4e4488c-32d2-46dc-a7dd-c4ca99cf591e",
   "metadata": {},
   "outputs": [],
   "source": [
    "spark = SparkSession.builder \\\n",
    "    .appName(\"Categorie\") \\\n",
    "    .config(\"spark.hadoop.hive.metastore.uris\", \"thrift://hive-metastore:9083\") \\\n",
    "    .enableHiveSupport() \\\n",
    "    .getOrCreate()\n"
   ]
  },
  {
   "cell_type": "code",
   "execution_count": 3,
   "id": "da8cacfd-67cb-4f5b-9204-4df1749db565",
   "metadata": {},
   "outputs": [],
   "source": [
    "spark.sql(\"USE concessionnaire\")\n",
    "client_immat_df = spark.sql(\"SELECT * FROM client_immatriculation_merged\")"
   ]
  },
  {
   "cell_type": "code",
   "execution_count": 4,
   "id": "83ca09cf-7f1e-4138-852f-81783adc20b7",
   "metadata": {},
   "outputs": [
    {
     "name": "stdout",
     "output_type": "stream",
     "text": [
      "+---------------+---+-----+----+-------------------+---------------+---------------+-------+---------+-----------+--------+--------+-------+--------+-------+------+\n",
      "|immatriculation|age|sexe |taux|situationfamilliale|nbenfantacharge|deuxiemevoiture|marque |puissance|longueur   |nbplaces|nbportes|couleur|occasion|prix   |modele|\n",
      "+---------------+---+-----+----+-------------------+---------------+---------------+-------+---------+-----------+--------+--------+-------+--------+-------+------+\n",
      "|0 OG 13        |56 |Homme|528 |Célibataire        |0              |false          |Audi   |75       |courte     |5       |5       |blanc  |true    |12817.0|A2    |\n",
      "|0 OZ 65        |32 |Homme|563 |En Couple          |2              |false          |Ford   |125      |longue     |5       |5       |blanc  |false   |23900.0|Mondeo|\n",
      "|1 PD 24        |28 |Homme|230 |En Couple          |2              |false          |Renault|245      |très longue|5       |5       |blanc  |true    |34440.0|Vel   |\n",
      "|10 EW 37       |33 |Femme|954 |En Couple          |1              |false          |Jaguar |197      |longue     |5       |5       |gris   |false   |37100.0|X-Type|\n",
      "|10 IM 37       |20 |Homme|1245|En Couple          |2              |false          |Jaguar |197      |longue     |5       |5       |bleu   |false   |37100.0|X-Type|\n",
      "|10 LB 49       |21 |Homme|502 |En Couple          |2              |false          |Volvo  |272      |très longue|5       |5       |rouge  |false   |50500.0|S80   |\n",
      "|10 MF 39       |22 |Homme|1072|Célibataire        |0              |false          |Audi   |75       |courte     |5       |5       |noir   |false   |18310.0|A2    |\n",
      "|10 PB 84       |29 |Femme|1083|Célibataire        |0              |false          |Mini   |115      |courte     |5       |5       |noir   |false   |18200.0|Copper|\n",
      "|10 VE 79       |41 |Homme|507 |En Couple          |1              |false          |Ford   |125      |longue     |5       |5       |bleu   |false   |23900.0|Mondeo|\n",
      "|100 JQ 82      |50 |Homme|1213|En Couple          |1              |false          |BMW    |507      |très longue|5       |5       |noir   |false   |94800.0|M5    |\n",
      "+---------------+---+-----+----+-------------------+---------------+---------------+-------+---------+-----------+--------+--------+-------+--------+-------+------+\n",
      "only showing top 10 rows\n",
      "\n"
     ]
    }
   ],
   "source": [
    "client_immat_df.show(10, truncate=False)"
   ]
  },
  {
   "cell_type": "markdown",
   "id": "13a408ef-de44-448a-9867-fd621301eddf",
   "metadata": {},
   "source": [
    "# Définis les catégories."
   ]
  },
  {
   "cell_type": "code",
   "execution_count": 5,
   "id": "869530a6-dbc1-4abd-b472-890df4e3c55d",
   "metadata": {},
   "outputs": [],
   "source": [
    "\n",
    "client_immat_df = client_immat_df.withColumn(\n",
    "    \"categorie\",\n",
    "    when((col(\"puissance\") <= 100) & (col(\"longueur\") == \"courte\"), \"citadine\")\n",
    "    .when((col(\"puissance\") > 100) & (col(\"puissance\") <= 200) & (col(\"longueur\") == \"courte\") & (col(\"prix\") < 30000), \"citadine premium\")\n",
    "    .when((col(\"puissance\") > 100) & (col(\"puissance\") <= 200) & (col(\"longueur\").isin(\"moyenne\", \"longue\")), \"familiale\")\n",
    "    .when((col(\"puissance\") > 200) & (col(\"prix\") > 30000), \"sportive\")\n",
    "    .when((col(\"nbplaces\") >= 7), \"monospace\")\n",
    "    .when((col(\"prix\") > 50000) & col(\"marque\").isin(\"BMW\", \"Mercedes\", \"Jaguar\", \"Audi\", \"Porsche\"), \"luxe\")\n",
    "    .otherwise(\"autre\")\n",
    ")\n"
   ]
  },
  {
   "cell_type": "markdown",
   "id": "6d9f8030-d7fc-44c4-850f-ba4084201fe8",
   "metadata": {},
   "source": [
    "# Affiche le resultat "
   ]
  },
  {
   "cell_type": "code",
   "execution_count": 6,
   "id": "d77f7790-aac7-4319-b218-ad5947d4897b",
   "metadata": {},
   "outputs": [
    {
     "name": "stdout",
     "output_type": "stream",
     "text": [
      "+--------+------+----------------+--------+-----------+---------+\n",
      "|marque  |modele|categorie       |prix    |longueur   |puissance|\n",
      "+--------+------+----------------+--------+-----------+---------+\n",
      "|Audi    |A2    |citadine        |12817.0 |courte     |75       |\n",
      "|Ford    |Mondeo|familiale       |23900.0 |longue     |125      |\n",
      "|Renault |Vel   |sportive        |34440.0 |très longue|245      |\n",
      "|Jaguar  |X-Type|familiale       |37100.0 |longue     |197      |\n",
      "|Jaguar  |X-Type|familiale       |37100.0 |longue     |197      |\n",
      "|Volvo   |S80   |sportive        |50500.0 |très longue|272      |\n",
      "|Audi    |A2    |citadine        |18310.0 |courte     |75       |\n",
      "|Mini    |Copper|citadine premium|18200.0 |courte     |115      |\n",
      "|Ford    |Mondeo|familiale       |23900.0 |longue     |125      |\n",
      "|BMW     |M5    |sportive        |94800.0 |très longue|507      |\n",
      "|Renault |Vel   |sportive        |49200.0 |très longue|245      |\n",
      "|Peugeot |1007  |citadine        |13750.0 |courte     |75       |\n",
      "|Audi    |A2    |citadine        |18310.0 |courte     |75       |\n",
      "|Volvo   |S80   |sportive        |50500.0 |très longue|272      |\n",
      "|Peugeot |1007  |citadine        |13750.0 |courte     |75       |\n",
      "|Audi    |A2    |citadine        |18310.0 |courte     |75       |\n",
      "|Audi    |A2    |citadine        |12817.0 |courte     |75       |\n",
      "|BMW     |M5    |sportive        |66360.0 |très longue|507      |\n",
      "|BMW     |120i  |familiale       |25060.0 |moyenne    |150      |\n",
      "|Audi    |A2    |citadine        |12817.0 |courte     |75       |\n",
      "|Fiat    |Croma |familiale       |24780.0 |longue     |147      |\n",
      "|Renault |Vel   |sportive        |49200.0 |très longue|245      |\n",
      "|Audi    |A2    |citadine        |18310.0 |courte     |75       |\n",
      "|Volvo   |S80   |sportive        |50500.0 |très longue|272      |\n",
      "|Audi    |A2    |citadine        |18310.0 |courte     |75       |\n",
      "|Seat    |Toledo|familiale       |18880.0 |longue     |102      |\n",
      "|BMW     |120i  |familiale       |25060.0 |moyenne    |150      |\n",
      "|Mercedes|S500  |sportive        |101300.0|très longue|306      |\n",
      "|Volvo   |S80   |sportive        |50500.0 |très longue|272      |\n",
      "|BMW     |M5    |sportive        |94800.0 |très longue|507      |\n",
      "+--------+------+----------------+--------+-----------+---------+\n",
      "only showing top 30 rows\n",
      "\n"
     ]
    }
   ],
   "source": [
    "client_immat_df.select(\"marque\",\"modele\",\"categorie\",\"prix\",\"longueur\",\"puissance\").show(30, truncate=False)"
   ]
  },
  {
   "cell_type": "markdown",
   "id": "a25a6bb9-ef12-4ecf-b900-d6102785744e",
   "metadata": {},
   "source": [
    "# Enregistre en base de données"
   ]
  },
  {
   "cell_type": "code",
   "execution_count": 7,
   "id": "15059391-625a-40eb-af09-b6f8aca47e5b",
   "metadata": {},
   "outputs": [],
   "source": [
    "client_immat_df.write.mode(\"overwrite\").saveAsTable(\"client_immatriculation_categorie\")"
   ]
  },
  {
   "cell_type": "code",
   "execution_count": 1,
   "id": "37af1c21-c34a-4abd-bb1d-c760bbb8c9ad",
   "metadata": {},
   "outputs": [
    {
     "ename": "NameError",
     "evalue": "name 'client_immat_df' is not defined",
     "output_type": "error",
     "traceback": [
      "\u001b[0;31m---------------------------------------------------------------------------\u001b[0m",
      "\u001b[0;31mNameError\u001b[0m                                 Traceback (most recent call last)",
      "Cell \u001b[0;32mIn[1], line 1\u001b[0m\n\u001b[0;32m----> 1\u001b[0m category_counts \u001b[38;5;241m=\u001b[39m \u001b[43mclient_immat_df\u001b[49m\u001b[38;5;241m.\u001b[39mgroupBy(\u001b[38;5;124m\"\u001b[39m\u001b[38;5;124mcategorie\u001b[39m\u001b[38;5;124m\"\u001b[39m)\u001b[38;5;241m.\u001b[39mcount()\u001b[38;5;241m.\u001b[39morderBy(\u001b[38;5;124m\"\u001b[39m\u001b[38;5;124mcategorie\u001b[39m\u001b[38;5;124m\"\u001b[39m)\u001b[38;5;241m.\u001b[39mcollect()\n\u001b[1;32m      2\u001b[0m categories \u001b[38;5;241m=\u001b[39m [row[\u001b[38;5;124m\"\u001b[39m\u001b[38;5;124mcategorie\u001b[39m\u001b[38;5;124m\"\u001b[39m] \u001b[38;5;28;01mfor\u001b[39;00m row \u001b[38;5;129;01min\u001b[39;00m category_counts]\n\u001b[1;32m      3\u001b[0m counts \u001b[38;5;241m=\u001b[39m [row[\u001b[38;5;124m\"\u001b[39m\u001b[38;5;124mcount\u001b[39m\u001b[38;5;124m\"\u001b[39m] \u001b[38;5;28;01mfor\u001b[39;00m row \u001b[38;5;129;01min\u001b[39;00m category_counts]\n",
      "\u001b[0;31mNameError\u001b[0m: name 'client_immat_df' is not defined"
     ]
    }
   ],
   "source": [
    "category_counts = client_immat_df.groupBy(\"categorie\").count().orderBy(\"categorie\").collect()\n",
    "categories = [row[\"categorie\"] for row in category_counts]\n",
    "counts = [row[\"count\"] for row in category_counts]\n",
    "\n",
    "plt.figure(figsize=(10, 6))\n",
    "sns.barplot(x=categories, y=counts)\n",
    "plt.xlabel(\"Catégorie\")\n",
    "plt.ylabel(\"Nombre de véhicules\")\n",
    "plt.title(\"Distribution des véhicules par catégorie\")\n",
    "plt.show()"
   ]
  }
 ],
 "metadata": {
  "kernelspec": {
   "display_name": "Python 3 (ipykernel)",
   "language": "python",
   "name": "python3"
  },
  "language_info": {
   "codemirror_mode": {
    "name": "ipython",
    "version": 3
   },
   "file_extension": ".py",
   "mimetype": "text/x-python",
   "name": "python",
   "nbconvert_exporter": "python",
   "pygments_lexer": "ipython3",
   "version": "3.11.6"
  }
 },
 "nbformat": 4,
 "nbformat_minor": 5
}
