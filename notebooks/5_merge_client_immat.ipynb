{
 "cells": [
  {
   "cell_type": "code",
   "execution_count": 1,
   "id": "2ebf395b-31a2-4b62-8aaf-017fed658f59",
   "metadata": {},
   "outputs": [],
   "source": [
    "from pyspark.sql import SparkSession\n",
    "from pyspark.sql.functions import regexp_replace\n",
    "from pyspark.sql.functions import regexp_extract, when, trim, col"
   ]
  },
  {
   "cell_type": "markdown",
   "id": "3850a755-7769-4fa8-bd99-c3d53dd16f4f",
   "metadata": {},
   "source": [
    "# Initialisation de la session Spark"
   ]
  },
  {
   "cell_type": "code",
   "execution_count": 2,
   "id": "a30525cc-9f65-484e-8324-3cbba53db0de",
   "metadata": {},
   "outputs": [],
   "source": [
    "spark = SparkSession.builder \\\n",
    "    .appName(\"DataMergingWithHive\") \\\n",
    "    .config(\"spark.hadoop.hive.metastore.uris\", \"thrift://hive-metastore:9083\") \\\n",
    "    .enableHiveSupport() \\\n",
    "    .getOrCreate()"
   ]
  },
  {
   "cell_type": "markdown",
   "id": "f56109d4-f7ad-4906-a1f2-89cbd637e4e1",
   "metadata": {},
   "source": [
    "# Utilisation de la base de données Hive, et charge les données des tables traitées"
   ]
  },
  {
   "cell_type": "code",
   "execution_count": 3,
   "id": "72ca1caf-31e9-4a14-aef8-9f5742d90402",
   "metadata": {},
   "outputs": [],
   "source": [
    "spark.sql(\"USE concessionnaire\")\n",
    "\n",
    "clients_df = spark.sql(\"SELECT * FROM client_processed\")\n",
    "immatriculations_df = spark.sql(\"SELECT * FROM immatriculations_processed\")"
   ]
  },
  {
   "cell_type": "markdown",
   "id": "81d89168-028a-46ed-a2d0-473a3ecda757",
   "metadata": {},
   "source": [
    "# Fusionner les tables sur la colonne 'Immatriculation'"
   ]
  },
  {
   "cell_type": "code",
   "execution_count": 4,
   "id": "060da809-0f5e-41b9-9416-5a4393096ae5",
   "metadata": {},
   "outputs": [],
   "source": [
    "merged_df = clients_df.join(immatriculations_df, \"Immatriculation\", \"inner\")\n"
   ]
  },
  {
   "cell_type": "code",
   "execution_count": 5,
   "id": "7cb35c16-88a6-4eb8-be8c-615185ee2c34",
   "metadata": {},
   "outputs": [
    {
     "name": "stdout",
     "output_type": "stream",
     "text": [
      "+---------------+---+-----+----+-------------------+---------------+---------------+--------+---------+-----------+--------+--------+-------+--------+-------+------+\n",
      "|immatriculation|age|sexe |taux|situationfamilliale|nbenfantacharge|deuxiemevoiture|marque  |puissance|longueur   |nbplaces|nbportes|couleur|occasion|prix   |modele|\n",
      "+---------------+---+-----+----+-------------------+---------------+---------------+--------+---------+-----------+--------+--------+-------+--------+-------+------+\n",
      "|0 UI 76        |61 |Homme|419 |En Couple          |4              |true           |Mercedes|306      |très longue|5       |5       |rouge  |true    |70910.0|S500  |\n",
      "|10 IM 37       |20 |Homme|1245|En Couple          |2              |false          |Jaguar  |197      |longue     |5       |5       |bleu   |false   |37100.0|X-Type|\n",
      "|10 LB 49       |21 |Homme|502 |En Couple          |2              |false          |Volvo   |272      |très longue|5       |5       |rouge  |false   |50500.0|S80   |\n",
      "|10 MF 39       |22 |Homme|1072|Célibataire        |0              |false          |Audi    |75       |courte     |5       |5       |noir   |false   |18310.0|A2    |\n",
      "|10 VE 79       |41 |Homme|507 |En Couple          |1              |false          |Ford    |125      |longue     |5       |5       |bleu   |false   |23900.0|Mondeo|\n",
      "|100 JQ 82      |50 |Homme|1213|En Couple          |1              |false          |BMW     |507      |très longue|5       |5       |noir   |false   |94800.0|M5    |\n",
      "|100 MW 36      |36 |Homme|467 |En Couple          |3              |false          |Renault |245      |très longue|5       |5       |blanc  |false   |49200.0|Vel   |\n",
      "|1000 HF 96     |32 |Homme|245 |En Couple          |0              |false          |Ford    |125      |longue     |5       |5       |blanc  |true    |16730.0|Mondeo|\n",
      "|1001 NX 52     |26 |Homme|459 |Célibataire        |1              |false          |Volvo   |272      |très longue|5       |5       |blanc  |false   |50500.0|S80   |\n",
      "|1001 OW 93     |30 |Homme|451 |En Couple          |0              |true           |Peugeot |75       |courte     |5       |5       |noir   |false   |13750.0|1007  |\n",
      "+---------------+---+-----+----+-------------------+---------------+---------------+--------+---------+-----------+--------+--------+-------+--------+-------+------+\n",
      "only showing top 10 rows\n",
      "\n"
     ]
    }
   ],
   "source": [
    "merged_df.show(n=10, truncate=False)"
   ]
  },
  {
   "cell_type": "markdown",
   "id": "1397a9a7-b8f8-4df2-bcc9-06a464b5694d",
   "metadata": {},
   "source": [
    "# Enregistrer le DataFrame fusionné sous forme de table Hive"
   ]
  },
  {
   "cell_type": "code",
   "execution_count": 6,
   "id": "f5286d67-cc4c-45af-b1b2-e3f00e4e6477",
   "metadata": {},
   "outputs": [
    {
     "data": {
      "text/plain": [
       "DataFrame[]"
      ]
     },
     "execution_count": 6,
     "metadata": {},
     "output_type": "execute_result"
    }
   ],
   "source": [
    "merged_df.createOrReplaceTempView(\"merged_view\")\n",
    "spark.sql(\"DROP TABLE IF EXISTS client_immatriculation_merged\")\n",
    "spark.sql(\"CREATE TABLE client_immatriculation_merged AS SELECT * FROM merged_view\")"
   ]
  }
 ],
 "metadata": {
  "kernelspec": {
   "display_name": "Python 3 (ipykernel)",
   "language": "python",
   "name": "python3"
  },
  "language_info": {
   "codemirror_mode": {
    "name": "ipython",
    "version": 3
   },
   "file_extension": ".py",
   "mimetype": "text/x-python",
   "name": "python",
   "nbconvert_exporter": "python",
   "pygments_lexer": "ipython3",
   "version": "3.11.6"
  }
 },
 "nbformat": 4,
 "nbformat_minor": 5
}
